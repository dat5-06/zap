{
 "cells": [
  {
   "cell_type": "markdown",
   "id": "00beda90-5218-47db-a971-fe824c0b92cc",
   "metadata": {},
   "source": [
    "# GRU model\n",
    "\n",
    "We start by importing the necessary libraries"
   ]
  },
  {
   "cell_type": "code",
   "execution_count": null,
   "id": "b9b125c3-7f05-45ba-8815-cd3ef899ecfd",
   "metadata": {},
   "outputs": [],
   "source": [
    "import torch\n",
    "import matplotlib.pyplot as plt\n",
    "from torch.utils.data import DataLoader\n",
    "from core.util.plot_predictions import plot_predictions\n",
    "from core.util.get_datasets import get_park_datasets\n",
    "from core.util.trefor_dataset import TreforData\n",
    "from core.models import GRU\n",
    "from core.models.model_training import train_model, test_model\n",
    "from core.util.hyperparameter_configuration import get_hyperparameter_configuration\n",
    "from core.util.early_stop import EarlyStop"
   ]
  },
  {
   "cell_type": "markdown",
   "id": "b0385b66-308f-41e6-b9b8-597225348dee",
   "metadata": {},
   "source": [
    "## Setup\n",
    "This section contains the setup for converting our data to something PyTorch can understand.\n",
    "### Set hyperparameters for the model"
   ]
  },
  {
   "cell_type": "code",
   "execution_count": null,
   "id": "d4685e80-cc1d-4e8d-b82d-c8c1454c83ef",
   "metadata": {},
   "outputs": [],
   "source": [
    "# To be modified depending on gridsearch result\n",
    "batch_size = 128\n",
    "learning_rate = 0.001\n",
    "num_layers = 1\n",
    "lookback = 36\n",
    "\n",
    "# Extract hyperparameters configuration that will not be tuned upon\n",
    "hidden_size, EPOCHS, horizon, lookback, loss_function, dropout_rate, folds = (\n",
    "    get_hyperparameter_configuration()\n",
    ")"
   ]
  },
  {
   "cell_type": "markdown",
   "id": "a36cf139-a6d2-477d-b1e0-d056107aa06e",
   "metadata": {},
   "source": [
    "### Get the park datasets and convert them to torch tensors"
   ]
  },
  {
   "cell_type": "code",
   "execution_count": null,
   "id": "d9beea75-0d71-40bf-9e99-dfad13bc0ec0",
   "metadata": {},
   "outputs": [],
   "source": [
    "x_train, y_train, x_val, y_val, x_test, y_test, indicies = get_park_datasets(\n",
    "    lookback=lookback, horizon=horizon, folds=folds\n",
    ")"
   ]
  },
  {
   "cell_type": "markdown",
   "id": "67712300-9f7e-4716-a493-654b4e805f7f",
   "metadata": {},
   "source": [
    "### If the host has CUDA, it will use the GPU for computation"
   ]
  },
  {
   "cell_type": "code",
   "execution_count": null,
   "id": "7ffa0eff-01ad-4f3a-a126-2e2922e2c037",
   "metadata": {},
   "outputs": [],
   "source": [
    "device = \"cuda:0\" if torch.cuda.is_available() else \"cpu\"\n",
    "device"
   ]
  },
  {
   "cell_type": "markdown",
   "id": "145eaf9c-2d01-4722-aaf4-8a066ecdfcbf",
   "metadata": {},
   "source": [
    "### Convert to specific Datasets for conversion to Dataloaders"
   ]
  },
  {
   "cell_type": "code",
   "execution_count": null,
   "id": "d1624503-4387-4cce-8103-36f7a9ed9374",
   "metadata": {},
   "outputs": [],
   "source": [
    "train_dataset = TreforData(x_train, y_train, device)\n",
    "val_dataset = TreforData(x_val, y_val, device)\n",
    "test_dataset = TreforData(x_test, y_test, device)"
   ]
  },
  {
   "cell_type": "markdown",
   "id": "66fa0fcc-ba0c-4c15-90a6-d959d952138a",
   "metadata": {},
   "source": [
    "### Convert to data to dataloaders\n",
    "The DataLoader class helps us split the dataset into batches, and can also shuffle the data in between epochs if desired."
   ]
  },
  {
   "cell_type": "code",
   "execution_count": null,
   "id": "acebb505-ae33-4a10-bd6d-8669a746d7cc",
   "metadata": {},
   "outputs": [],
   "source": [
    "training_loader = DataLoader(train_dataset, batch_size=batch_size, shuffle=False)\n",
    "validation_loader = DataLoader(val_dataset, batch_size=batch_size, shuffle=False)\n",
    "testing_loader = DataLoader(test_dataset, batch_size=batch_size, shuffle=False)"
   ]
  },
  {
   "cell_type": "markdown",
   "id": "549ff68c-2cb3-4c5d-8cd0-adf75327c008",
   "metadata": {},
   "source": [
    "### Creation of our simple GRU model\n",
    "The implementation consist of three layers, defined in the `forward` method.\n",
    "1. GRU\n",
    "2. LeakyReLU\n",
    "3. Linear"
   ]
  },
  {
   "cell_type": "code",
   "execution_count": null,
   "id": "cc0f4b1c-fe92-42a4-9eb6-e5e450e9555f",
   "metadata": {},
   "outputs": [],
   "source": [
    "model = GRU(\n",
    "    input_size=1,\n",
    "    hidden_size=10,\n",
    "    num_layers=num_layers,\n",
    "    dropout_rate=dropout_rate,\n",
    "    horizon=horizon,\n",
    "    lookback=lookback,\n",
    ")\n",
    "model.to(device)"
   ]
  },
  {
   "cell_type": "markdown",
   "id": "0617c025-6834-466c-aa64-f07bf95692ea",
   "metadata": {},
   "source": [
    "### Training loop\n",
    "Iterate the epochs, training and validating the model.\n",
    "\n",
    "We save the model, in case it is better than any of the previous we have seen."
   ]
  },
  {
   "cell_type": "code",
   "execution_count": null,
   "id": "fa5f42b3-d57c-4b85-9b7b-8d687f5b0020",
   "metadata": {},
   "outputs": [],
   "source": [
    "plot_train_loss, plot_val_loss, best_model = train_model(\n",
    "    epochs=EPOCHS,\n",
    "    model=model,\n",
    "    loss_function=loss_function,\n",
    "    training_loader=training_loader,\n",
    "    validation_loader=validation_loader,\n",
    "    learning_rate=learning_rate,\n",
    "    early_stopper=EarlyStop(5, 0.05),\n",
    ")"
   ]
  },
  {
   "cell_type": "markdown",
   "id": "7a21a7e8-4030-4fd2-950b-fa7728d11240",
   "metadata": {},
   "source": [
    "### Use the best model to make predictions on the test set\n",
    "This is very similar to the validation predictions above, only that this is run just once."
   ]
  },
  {
   "cell_type": "code",
   "execution_count": null,
   "id": "381ad36f-b379-43b2-af36-39c57c51c853",
   "metadata": {},
   "outputs": [],
   "source": [
    "t_loss, predicted = test_model(\n",
    "    best_model=best_model, loss_function=loss_function, testing_loader=testing_loader\n",
    ")\n",
    "print(f\"Avg loss: {t_loss:>8f} \\n\")"
   ]
  },
  {
   "cell_type": "markdown",
   "id": "46f2eb43-a6d4-4ca7-a11d-8894dfaa204e",
   "metadata": {},
   "source": [
    "## Plotting\n",
    "Show some nice output :)\n",
    "### Training- and validation loss"
   ]
  },
  {
   "cell_type": "code",
   "execution_count": null,
   "id": "5e8de414-90df-4acd-84a1-bce9ce8b97e4",
   "metadata": {},
   "outputs": [],
   "source": [
    "plt.clf()\n",
    "plt.plot(plot_train_loss, label=\"Training Loss\")\n",
    "plt.plot(plot_val_loss, label=\"Validation Loss\")\n",
    "plt.xlabel(\"Epoch\")\n",
    "plt.ylabel(\"Loss\")\n",
    "plt.legend()\n",
    "plt.show()"
   ]
  },
  {
   "cell_type": "markdown",
   "id": "01ced0b9-627f-42bb-95be-ee368b27ae01",
   "metadata": {},
   "source": [
    "### Predictions- and actual consumption"
   ]
  },
  {
   "cell_type": "code",
   "execution_count": null,
   "id": "a7166c76-0af8-41ff-b48b-460f03f9e01c",
   "metadata": {},
   "outputs": [],
   "source": [
    "plot_predictions(500, 514, y_test, predicted)"
   ]
  }
 ],
 "metadata": {
  "kernelspec": {
   "display_name": "Python 3 (ipykernel)",
   "language": "python",
   "name": "python3"
  },
  "language_info": {
   "codemirror_mode": {
    "name": "ipython",
    "version": 3
   },
   "file_extension": ".py",
   "mimetype": "text/x-python",
   "name": "python",
   "nbconvert_exporter": "python",
   "pygments_lexer": "ipython3",
   "version": "3.11.2"
  }
 },
 "nbformat": 4,
 "nbformat_minor": 5
}
