{
 "cells": [
  {
   "cell_type": "markdown",
   "id": "00beda90-5218-47db-a971-fe824c0b92cc",
   "metadata": {},
   "source": [
    "# 05 GRU trefor park"
   ]
  },
  {
   "cell_type": "code",
   "execution_count": 1,
   "id": "b9b125c3-7f05-45ba-8815-cd3ef899ecfd",
   "metadata": {},
   "outputs": [],
   "source": [
    "import torch\n",
    "import matplotlib.pyplot as plt\n",
    "from torch import nn\n",
    "from torch.utils.data import DataLoader\n",
    "from core.util.plot_predictions import plot_predictions\n",
    "from core.util.save_model import save_model, load_parameters\n",
    "from core.util.get_datasets import split_data, denormalize_data\n",
    "from core.util.trefor_dataset import TreforData\n",
    "from core.models import GRU\n",
    "from core.models.model_training import train_model, test_model\n",
    "from core.util.hyperparameter_configuration import get_hyperparameter_configuration\n",
    "from core.util.metrics import mae, rmse, smape"
   ]
  },
  {
   "cell_type": "markdown",
   "id": "b0385b66-308f-41e6-b9b8-597225348dee",
   "metadata": {},
   "source": [
    "## Configuration\n",
    "Parameters specific to this experiment"
   ]
  },
  {
   "cell_type": "code",
   "execution_count": 2,
   "id": "894f2acc-636d-4e9c-ae2c-e3377eb367b5",
   "metadata": {},
   "outputs": [],
   "source": [
    "experiment_name = \"05_GRU_trefor_park\"\n",
    "features = {\n",
    "    \"Month_x\": True,\n",
    "    \"Month_y\": True,\n",
    "    \"Hour_x\": True,\n",
    "    \"Hour_y\": True,\n",
    "    \"Day_x\": True,\n",
    "    \"Day_y\": True,\n",
    "}\n",
    "model_input_size = len(features) + 1"
   ]
  },
  {
   "cell_type": "markdown",
   "id": "7f6bd7ea",
   "metadata": {},
   "source": [
    "Load in the 3 best hyperparameter configurations found by the grid search"
   ]
  },
  {
   "cell_type": "code",
   "execution_count": 3,
   "id": "b43cf370-75be-4e3a-935d-1fdc8b7af782",
   "metadata": {},
   "outputs": [
    {
     "name": "stdout",
     "output_type": "stream",
     "text": [
      "{'learning_rate': 0.001, 'batch_size': 128, 'lookback': 36, 'num_layers': 1}\n"
     ]
    }
   ],
   "source": [
    "parameters = load_parameters(experiment_name)\n",
    "print(parameters)"
   ]
  },
  {
   "cell_type": "markdown",
   "id": "49ed7f5b",
   "metadata": {},
   "source": [
    "Global hyperparameter configuration"
   ]
  },
  {
   "cell_type": "code",
   "execution_count": 4,
   "id": "c04c6cdc-ddb1-42e2-825b-8ba2c2e5be0d",
   "metadata": {},
   "outputs": [
    {
     "data": {
      "text/plain": [
       "{'hidden_size': 16,\n",
       " 'epochs': 125,\n",
       " 'horizon': 24,\n",
       " 'loss_function': <function core.util.loss_functions.zap_loss(y_pred: torch.Tensor, y_true: torch.Tensor) -> torch.Tensor>,\n",
       " 'dropout_rate': 0.2,\n",
       " 'train_days': 16,\n",
       " 'val_days': 2,\n",
       " 'test_days': 2,\n",
       " 'early_stopper': <core.util.early_stop.EarlyStop at 0x7faee6014260>}"
      ]
     },
     "execution_count": 4,
     "metadata": {},
     "output_type": "execute_result"
    }
   ],
   "source": [
    "hyperparameters = get_hyperparameter_configuration()\n",
    "hidden_size = hyperparameters[\"hidden_size\"]\n",
    "epochs = hyperparameters[\"epochs\"]\n",
    "horizon = hyperparameters[\"horizon\"]\n",
    "loss_function = hyperparameters[\"loss_function\"]\n",
    "dropout_rate = hyperparameters[\"dropout_rate\"]\n",
    "train_days = hyperparameters[\"train_days\"]\n",
    "val_days = hyperparameters[\"val_days\"]\n",
    "test_days = hyperparameters[\"test_days\"]\n",
    "early_stopper = hyperparameters[\"early_stopper\"]\n",
    "\n",
    "hyperparameters"
   ]
  },
  {
   "cell_type": "markdown",
   "id": "67712300-9f7e-4716-a493-654b4e805f7f",
   "metadata": {},
   "source": [
    "If the host has CUDA, it will use the GPU for computation"
   ]
  },
  {
   "cell_type": "code",
   "execution_count": 5,
   "id": "7ffa0eff-01ad-4f3a-a126-2e2922e2c037",
   "metadata": {},
   "outputs": [
    {
     "data": {
      "text/plain": [
       "'cuda:0'"
      ]
     },
     "execution_count": 5,
     "metadata": {},
     "output_type": "execute_result"
    }
   ],
   "source": [
    "device = \"cuda:0\" if torch.cuda.is_available() else \"cpu\"\n",
    "device"
   ]
  },
  {
   "cell_type": "code",
   "execution_count": 6,
   "id": "cc0f4b1c-fe92-42a4-9eb6-e5e450e9555f",
   "metadata": {},
   "outputs": [],
   "source": [
    "def get_model(num_layers: int, lookback: int) -> nn.Module:\n",
    "    \"\"\"Get the model for training folds.\"\"\"\n",
    "    model = GRU(\n",
    "        input_size=model_input_size,\n",
    "        hidden_size=hidden_size,\n",
    "        num_layers=num_layers,\n",
    "        dropout_rate=dropout_rate,\n",
    "        horizon=horizon,\n",
    "        lookback=lookback,\n",
    "    )\n",
    "    model.to(device)\n",
    "    return model"
   ]
  },
  {
   "cell_type": "markdown",
   "id": "0617c025-6834-466c-aa64-f07bf95692ea",
   "metadata": {},
   "source": [
    "### Main loop\n",
    "Iterate all hyperparameter configuration to find the best one.\n",
    "\n",
    "For each of these, we do the full iteration of epochs (unless early stop occurs) with training and validation.\n",
    "Lastly, we run the test set on the given model to see how it performs using the metrics MAE, RMSE, and sMAPE."
   ]
  },
  {
   "cell_type": "code",
   "execution_count": 7,
   "id": "fa5f42b3-d57c-4b85-9b7b-8d687f5b0020",
   "metadata": {},
   "outputs": [
    {
     "name": "stdout",
     "output_type": "stream",
     "text": [
      "x_train: torch.Size([8064, 36, 7])\n",
      "y_train: torch.Size([8064, 24])\n",
      "x_val: torch.Size([1008, 36, 7])\n",
      "y_val: torch.Size([1008, 24])\n",
      "x_test: torch.Size([1008, 36, 7])\n",
      "y_test: torch.Size([1008, 24])\n"
     ]
    },
    {
     "data": {
      "application/vnd.jupyter.widget-view+json": {
       "model_id": "e76aad404d6841c5a4e68436fe67a53a",
       "version_major": 2,
       "version_minor": 0
      },
      "text/plain": [
       "Iterating epochs:   0%|          | 0/125 [00:00<?, ?it/s]"
      ]
     },
     "metadata": {},
     "output_type": "display_data"
    },
    {
     "name": "stdout",
     "output_type": "stream",
     "text": [
      "04_GRU_trefor_park_iteration_0\n",
      "MAE: 25.190961837768555\n",
      "RMSE: 39.57269025317912\n",
      "SMAPE: 99.07501983642578 \n",
      "\n",
      "x_train: torch.Size([8064, 36, 7])\n",
      "y_train: torch.Size([8064, 24])\n",
      "x_val: torch.Size([1008, 36, 7])\n",
      "y_val: torch.Size([1008, 24])\n",
      "x_test: torch.Size([1008, 36, 7])\n",
      "y_test: torch.Size([1008, 24])\n"
     ]
    },
    {
     "data": {
      "application/vnd.jupyter.widget-view+json": {
       "model_id": "24fcfce063ae49f589ffbd9da27da697",
       "version_major": 2,
       "version_minor": 0
      },
      "text/plain": [
       "Iterating epochs:   0%|          | 0/125 [00:00<?, ?it/s]"
      ]
     },
     "metadata": {},
     "output_type": "display_data"
    },
    {
     "name": "stdout",
     "output_type": "stream",
     "text": [
      "04_GRU_trefor_park_iteration_1\n",
      "MAE: 24.564817428588867\n",
      "RMSE: 39.31498775254495\n",
      "SMAPE: 97.83071899414062 \n",
      "\n",
      "x_train: torch.Size([8064, 36, 7])\n",
      "y_train: torch.Size([8064, 24])\n",
      "x_val: torch.Size([1008, 36, 7])\n",
      "y_val: torch.Size([1008, 24])\n",
      "x_test: torch.Size([1008, 36, 7])\n",
      "y_test: torch.Size([1008, 24])\n"
     ]
    },
    {
     "data": {
      "application/vnd.jupyter.widget-view+json": {
       "model_id": "23b487ffbf9b4bedaf26092bfdc79bc2",
       "version_major": 2,
       "version_minor": 0
      },
      "text/plain": [
       "Iterating epochs:   0%|          | 0/125 [00:00<?, ?it/s]"
      ]
     },
     "metadata": {},
     "output_type": "display_data"
    },
    {
     "name": "stdout",
     "output_type": "stream",
     "text": [
      "04_GRU_trefor_park_iteration_2\n",
      "MAE: 24.405832290649414\n",
      "RMSE: 39.32207161967386\n",
      "SMAPE: 96.79664611816406 \n",
      "\n"
     ]
    }
   ],
   "source": [
    "results = []\n",
    "for i in range(3):\n",
    "    # Reset the early stopper\n",
    "    # Otherwise it can carry information from the previous training and stops too early\n",
    "    early_stopper.reset()\n",
    "\n",
    "    # Get parameters for the i'th model\n",
    "    learning_rate = parameters[\"learning_rate\"]\n",
    "    batch_size = parameters[\"batch_size\"]\n",
    "    lookback = parameters[\"lookback\"]\n",
    "    num_layers = parameters[\"num_layers\"]\n",
    "\n",
    "    # Loads in the datasets because they can differ for the models (different lookback)\n",
    "    x_train, y_train, x_val, y_val, x_test, y_test = split_data(\n",
    "        lookback=lookback,\n",
    "        horizon=horizon,\n",
    "        train_days=train_days,\n",
    "        val_days=val_days,\n",
    "        test_days=test_days,\n",
    "        features=features,\n",
    "        park_nums=[4],\n",
    "    )\n",
    "\n",
    "    # Show the shapes of the datasets\n",
    "    # x_train, x_validation, and x_test: [datapoints, lookback, number of features]\n",
    "    # y_train, y_validation, and y_test: [datapoints, horizon]\n",
    "    print(f\"x_train: {x_train.shape}\")\n",
    "    print(f\"y_train: {y_train.shape}\")\n",
    "    print(f\"x_val: {x_val.shape}\")\n",
    "    print(f\"y_val: {y_val.shape}\")\n",
    "    print(f\"x_test: {x_test.shape}\")\n",
    "    print(f\"y_test: {y_test.shape}\")\n",
    "\n",
    "    # convert to dataset that can use dataloaders\n",
    "    train_dataset = TreforData(x_train, y_train, device)\n",
    "    val_dataset = TreforData(x_val, y_val, device)\n",
    "    test_dataset = TreforData(x_test, y_test, device)\n",
    "\n",
    "    # initialize the dataloaders, without shuffeling the data between epochs\n",
    "    training_loader = DataLoader(train_dataset, batch_size=batch_size, shuffle=False)\n",
    "    validation_loader = DataLoader(val_dataset, batch_size=batch_size, shuffle=False)\n",
    "    testing_loader = DataLoader(test_dataset, batch_size=batch_size, shuffle=False)\n",
    "\n",
    "    # Train the i'th model\n",
    "    experiment_iteration_name = f\"04_GRU_trefor_park_iteration_{i}\"\n",
    "    best_train_loss, best_val_loss, best_model = train_model(\n",
    "        epochs=epochs,\n",
    "        model=get_model(num_layers, lookback),\n",
    "        loss_function=loss_function,\n",
    "        training_loader=training_loader,\n",
    "        validation_loader=validation_loader,\n",
    "        learning_rate=learning_rate,\n",
    "        early_stopper=early_stopper,\n",
    "    )\n",
    "\n",
    "    t_loss, predicted = test_model(\n",
    "        best_model=best_model,\n",
    "        loss_function=loss_function,\n",
    "        testing_loader=testing_loader,\n",
    "    )\n",
    "\n",
    "    # Flatten the predictions and test set\n",
    "    # This is done so they can be compared to the tests and calculate the metrics\n",
    "    flattened_predicted = denormalize_data(predicted.cpu()).flatten()\n",
    "    flattened_test = denormalize_data(y_test.cpu()).flatten()\n",
    "\n",
    "    model_mae = mae(flattened_test, flattened_predicted).detach().item()\n",
    "    model_rmse = rmse(flattened_test, flattened_predicted)\n",
    "    model_smape = smape(flattened_test, flattened_predicted).detach().item()\n",
    "\n",
    "    print(experiment_iteration_name)\n",
    "    print(f\"MAE: {model_mae}\")\n",
    "    print(f\"RMSE: {model_rmse}\")\n",
    "    print(f\"SMAPE: {model_smape} \\n\")\n",
    "\n",
    "    # Append the results so we can pick out the second best\n",
    "    results.append(\n",
    "        {\n",
    "            \"sMAPE\": model_smape,\n",
    "            \"MAE\": model_mae,\n",
    "            \"RMSE\": model_rmse,\n",
    "            \"model\": best_model,\n",
    "            \"train loss\": best_train_loss,\n",
    "            \"validation loss\": best_val_loss,\n",
    "            \"y_test\": y_test,\n",
    "            \"predicted\": predicted,\n",
    "        }\n",
    "    )"
   ]
  },
  {
   "cell_type": "markdown",
   "id": "98521cdb",
   "metadata": {},
   "source": [
    "In order to select the second best model we sort the results by lowest sMAPE.\n",
    "\n",
    "sMAPE is the chosen metric as the loss is lower when predictions are larger than the actual value compared to when predictions are lower than the actual value.\n",
    "$$\\hat{y} > y: \\text{lower loss} \\\\ \\hat{y} < y: \\text{greater loss}$$"
   ]
  },
  {
   "cell_type": "code",
   "execution_count": 8,
   "id": "d75f6617",
   "metadata": {},
   "outputs": [
    {
     "name": "stdout",
     "output_type": "stream",
     "text": [
      "sMAPE: 96.79664611816406\n",
      "MAE: 24.405832290649414\n",
      "RMSE: 39.32207161967386\n",
      "Parameters: {'learning_rate': 0.001, 'batch_size': 128, 'lookback': 36, 'num_layers': 1}\n"
     ]
    }
   ],
   "source": [
    "# Sort results and extract second best\n",
    "second_best = sorted(results, key=lambda d: d[\"RMSE\"])[1]\n",
    "print(f\"sMAPE: {second_best[\"sMAPE\"]}\")\n",
    "print(f\"MAE: {second_best[\"MAE\"]}\")\n",
    "print(f\"RMSE: {second_best[\"RMSE\"]}\")\n",
    "print(f\"Parameters: {parameters}\")\n",
    "\n",
    "model_smape = second_best[\"sMAPE\"]\n",
    "model_mae = second_best[\"MAE\"]\n",
    "model_rmse = second_best[\"RMSE\"]\n",
    "best_model = second_best[\"model\"]\n",
    "best_train_loss = second_best[\"train loss\"]\n",
    "best_val_loss = second_best[\"validation loss\"]\n",
    "y_test = denormalize_data(second_best[\"y_test\"].cpu())\n",
    "predicted = denormalize_data(second_best[\"predicted\"].cpu())\n",
    "\n",
    "save_model(\n",
    "    model=best_model,\n",
    "    model_name=experiment_name,\n",
    "    train_loss=best_train_loss,\n",
    "    val_loss=best_val_loss,\n",
    "    mae=model_mae,\n",
    "    rmse=model_rmse,\n",
    "    smape=model_smape,\n",
    "    overwrite=True,\n",
    ")"
   ]
  },
  {
   "cell_type": "markdown",
   "id": "46f2eb43-a6d4-4ca7-a11d-8894dfaa204e",
   "metadata": {},
   "source": [
    "## Plotting\n",
    "### Training- and validation loss\n",
    "Visualize the training and validation loss."
   ]
  },
  {
   "cell_type": "code",
   "execution_count": 9,
   "id": "5e8de414-90df-4acd-84a1-bce9ce8b97e4",
   "metadata": {},
   "outputs": [
    {
     "data": {
      "image/png": "[encoded data removed]",
      "text/plain": [
       "<Figure size 640x480 with 1 Axes>"
      ]
     },
     "metadata": {},
     "output_type": "display_data"
    }
   ],
   "source": [
    "plt.clf()\n",
    "plt.plot(best_train_loss, label=\"Training Loss\")\n",
    "plt.plot(best_val_loss, label=\"Validation Loss\")\n",
    "plt.scatter(\n",
    "    best_val_loss.index(min(best_val_loss)),\n",
    "    min(best_val_loss),\n",
    "    color=\"red\",\n",
    "    marker=\".\",\n",
    "    label=\"Chosen model\",\n",
    "    zorder=10,\n",
    ")\n",
    "plt.xlabel(\"Epoch\")\n",
    "plt.ylabel(\"Loss\")\n",
    "plt.legend()\n",
    "plt.show()"
   ]
  },
  {
   "cell_type": "markdown",
   "id": "01ced0b9-627f-42bb-95be-ee368b27ae01",
   "metadata": {},
   "source": [
    "### Predictions- and actual consumption"
   ]
  },
  {
   "cell_type": "code",
   "execution_count": 10,
   "id": "a7166c76-0af8-41ff-b48b-460f03f9e01c",
   "metadata": {},
   "outputs": [
    {
     "ename": "IndexError",
     "evalue": "index 2640 is out of bounds for dimension 0 with size 1008",
     "output_type": "error",
     "traceback": [
      "\u001b[0;31m---------------------------------------------------------------------------\u001b[0m",
      "\u001b[0;31mIndexError\u001b[0m                                Traceback (most recent call last)",
      "Cell \u001b[0;32mIn[10], line 1\u001b[0m\n\u001b[0;32m----> 1\u001b[0m \u001b[43mplot_predictions\u001b[49m\u001b[43m(\u001b[49m\u001b[38;5;241;43m110\u001b[39;49m\u001b[43m,\u001b[49m\u001b[43m \u001b[49m\u001b[38;5;241;43m124\u001b[39;49m\u001b[43m,\u001b[49m\u001b[43m \u001b[49m\u001b[43my_test\u001b[49m\u001b[43m,\u001b[49m\u001b[43m \u001b[49m\u001b[43mpredicted\u001b[49m\u001b[43m)\u001b[49m\n",
      "File \u001b[0;32m~/zap/core/util/plot_predictions.py:10\u001b[0m, in \u001b[0;36mplot_predictions\u001b[0;34m(start_day, end_day, y_test, predicted)\u001b[0m\n\u001b[1;32m      6\u001b[0m \u001b[38;5;28;01mdef\u001b[39;00m \u001b[38;5;21mplot_predictions\u001b[39m(\n\u001b[1;32m      7\u001b[0m     start_day: \u001b[38;5;28mint\u001b[39m, end_day: \u001b[38;5;28mint\u001b[39m, y_test: \u001b[38;5;28mlist\u001b[39m, predicted: \u001b[38;5;28mlist\u001b[39m\n\u001b[1;32m      8\u001b[0m ) \u001b[38;5;241m-\u001b[39m\u001b[38;5;241m>\u001b[39m \u001b[38;5;28;01mNone\u001b[39;00m:\n\u001b[1;32m      9\u001b[0m \u001b[38;5;250m    \u001b[39m\u001b[38;5;124;03m\"\"\"Plot the model predictions and the actual values from startDay to endDay.\"\"\"\u001b[39;00m\n\u001b[0;32m---> 10\u001b[0m     first_column_actual \u001b[38;5;241m=\u001b[39m \u001b[43my_test\u001b[49m\u001b[43m[\u001b[49m\u001b[43mstart_day\u001b[49m\u001b[43m \u001b[49m\u001b[38;5;241;43m*\u001b[39;49m\u001b[43m \u001b[49m\u001b[38;5;241;43m24\u001b[39;49m\u001b[43m]\u001b[49m\u001b[38;5;241m.\u001b[39mflatten()\u001b[38;5;241m.\u001b[39mto(\u001b[38;5;124m\"\u001b[39m\u001b[38;5;124mcpu\u001b[39m\u001b[38;5;124m\"\u001b[39m)\n\u001b[1;32m     11\u001b[0m     first_column_predicted \u001b[38;5;241m=\u001b[39m predicted[start_day \u001b[38;5;241m*\u001b[39m \u001b[38;5;241m24\u001b[39m]\u001b[38;5;241m.\u001b[39mflatten()\u001b[38;5;241m.\u001b[39mto(\u001b[38;5;124m\"\u001b[39m\u001b[38;5;124mcpu\u001b[39m\u001b[38;5;124m\"\u001b[39m)\n\u001b[1;32m     12\u001b[0m     \u001b[38;5;28;01mfor\u001b[39;00m i \u001b[38;5;129;01min\u001b[39;00m \u001b[38;5;28mrange\u001b[39m(start_day \u001b[38;5;241m+\u001b[39m \u001b[38;5;241m1\u001b[39m, end_day):\n",
      "\u001b[0;31mIndexError\u001b[0m: index 2640 is out of bounds for dimension 0 with size 1008"
     ]
    }
   ],
   "source": [
    "plot_predictions(110, 124, y_test, predicted)"
   ]
  },
  {
   "cell_type": "markdown",
   "id": "b0ba0201-84d1-437d-a34e-097c48b9a482",
   "metadata": {},
   "source": [
    "Plot predictions for the first 7 days, last 7, and a week in the middle of the test set"
   ]
  },
  {
   "cell_type": "code",
   "execution_count": null,
   "id": "e32dca9c-dcb1-48bf-8ac2-3c5d8a412a2e",
   "metadata": {},
   "outputs": [],
   "source": [
    "plot_predictions(0, 6, y_test, predicted)"
   ]
  },
  {
   "cell_type": "markdown",
   "id": "acd93068",
   "metadata": {},
   "source": [
    "Plot predictions for the last 7 days in the test set"
   ]
  },
  {
   "cell_type": "code",
   "execution_count": null,
   "id": "6ce52b82-75a6-4bb4-a24b-539cc76780ba",
   "metadata": {},
   "outputs": [],
   "source": [
    "plot_predictions(-7, -1, y_test, predicted)"
   ]
  },
  {
   "cell_type": "markdown",
   "id": "205ecc53",
   "metadata": {},
   "source": [
    "Plot predictions for 7 days in the in the middle of the test set."
   ]
  },
  {
   "cell_type": "code",
   "execution_count": null,
   "id": "44a188e5-8c19-434a-ac25-368b8a35c6d0",
   "metadata": {},
   "outputs": [],
   "source": [
    "days_count = len(y_test) / 24\n",
    "plot_predictions(int(days_count / 2), int(days_count / 2 + 7), y_test, predicted)"
   ]
  }
 ],
 "metadata": {
  "kernelspec": {
   "display_name": "Python 3 (ipykernel)",
   "language": "python",
   "name": "python3"
  },
  "language_info": {
   "codemirror_mode": {
    "name": "ipython",
    "version": 3
   },
   "file_extension": ".py",
   "mimetype": "text/x-python",
   "name": "python",
   "nbconvert_exporter": "python",
   "pygments_lexer": "ipython3",
   "version": "3.12.7"
  }
 },
 "nbformat": 4,
 "nbformat_minor": 5
}
