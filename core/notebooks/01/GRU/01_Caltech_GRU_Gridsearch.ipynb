{
 "cells": [
  {
   "cell_type": "markdown",
   "id": "50b515ff",
   "metadata": {},
   "source": [
    "# (Gridsearch) 01 GRU Caltech"
   ]
  },
  {
   "cell_type": "code",
   "execution_count": 1,
   "id": "7a53ff3e-2f69-4006-b19c-664cfd80250e",
   "metadata": {
    "scrolled": true
   },
   "outputs": [],
   "source": [
    "import torch\n",
    "from core.util.hyperparameter_configuration import get_hyperparameter_configuration\n",
    "from core.util.get_datasets import split_caltech_data\n",
    "from core.models.model_training import train_model\n",
    "from sklearn.model_selection import ParameterGrid\n",
    "from core.util.save_model import save_parameters\n",
    "from core.util.trefor_dataset import TreforData\n",
    "from torch.utils.data import DataLoader\n",
    "from core.models import GRU"
   ]
  },
  {
   "cell_type": "markdown",
   "id": "2075cc1b",
   "metadata": {},
   "source": [
    "## Configuration\n",
    "Parameters specific to this experiment"
   ]
  },
  {
   "cell_type": "code",
   "execution_count": 2,
   "id": "6a5b6af2-0e3b-4139-a043-50ff64a48252",
   "metadata": {},
   "outputs": [],
   "source": [
    "experiment_name = \"01_GRU_Caltech\"\n",
    "features = {\n",
    "    \"Month_x\": True,\n",
    "    \"Month_y\": True,\n",
    "    \"Hour_x\": True,\n",
    "    \"Hour_y\": True,\n",
    "    \"Day_x\": True,\n",
    "    \"Day_y\": True,\n",
    "}\n",
    "model_input_size = len(features) + 1\n",
    "model_used = GRU"
   ]
  },
  {
   "cell_type": "markdown",
   "id": "ad8a7b4c-5116-49ba-8b00-8cff736e5db6",
   "metadata": {},
   "source": [
    "All the parameters we do grid search on"
   ]
  },
  {
   "cell_type": "code",
   "execution_count": 3,
   "id": "130c37ae-df00-4922-bfda-a9699cbf9558",
   "metadata": {},
   "outputs": [],
   "source": [
    "gridsearch_params = {\n",
    "    \"learning_rate\": [0.001, 0.003, 0.005],\n",
    "    \"batch_size\": [32, 64, 128],\n",
    "    \"lookback\": [36, 48, 96],\n",
    "    \"num_layers\": [1, 2],\n",
    "    \"seed\": [1337, 0xC0FFEE, 0xDEADBEEF],\n",
    "}"
   ]
  },
  {
   "cell_type": "markdown",
   "id": "f166516b",
   "metadata": {},
   "source": [
    "Global hyperparameter configuration"
   ]
  },
  {
   "cell_type": "code",
   "execution_count": 4,
   "id": "fcb569a4-9faf-462b-858e-b9f1a64e4a3d",
   "metadata": {},
   "outputs": [
    {
     "data": {
      "text/plain": [
       "{'hidden_size': 16,\n",
       " 'epochs': 125,\n",
       " 'horizon': 24,\n",
       " 'loss_function': <function core.util.loss_functions.zap_loss(y_pred: torch.Tensor, y_true: torch.Tensor) -> torch.Tensor>,\n",
       " 'dropout_rate': 0.2,\n",
       " 'train_days': 16,\n",
       " 'val_days': 2,\n",
       " 'test_days': 2,\n",
       " 'early_stopper': <core.util.early_stop.EarlyStop at 0x7f8d946665a0>}"
      ]
     },
     "execution_count": 4,
     "metadata": {},
     "output_type": "execute_result"
    }
   ],
   "source": [
    "hyperparameters = get_hyperparameter_configuration()\n",
    "hidden_size = hyperparameters[\"hidden_size\"]\n",
    "epochs = hyperparameters[\"epochs\"]\n",
    "horizon = hyperparameters[\"horizon\"]\n",
    "loss_function = hyperparameters[\"loss_function\"]\n",
    "dropout_rate = hyperparameters[\"dropout_rate\"]\n",
    "train_days = hyperparameters[\"train_days\"]\n",
    "val_days = hyperparameters[\"val_days\"]\n",
    "test_days = hyperparameters[\"test_days\"]\n",
    "early_stopper = hyperparameters[\"early_stopper\"]\n",
    "\n",
    "hyperparameters"
   ]
  },
  {
   "cell_type": "markdown",
   "id": "dbc9a437-5750-4504-a953-fb658163a2b8",
   "metadata": {},
   "source": [
    "If the host has CUDA, it will use the GPU for computation"
   ]
  },
  {
   "cell_type": "code",
   "execution_count": 5,
   "id": "a053ac44-d64a-4c3f-a03f-4a2ffd228494",
   "metadata": {},
   "outputs": [
    {
     "data": {
      "text/plain": [
       "'cuda:0'"
      ]
     },
     "execution_count": 5,
     "metadata": {},
     "output_type": "execute_result"
    }
   ],
   "source": [
    "device = \"cuda:0\" if torch.cuda.is_available() else \"cpu\"\n",
    "device"
   ]
  },
  {
   "cell_type": "markdown",
   "id": "2afd81b2-033b-4e7d-b6fc-8a108bc315cc",
   "metadata": {},
   "source": [
    "## Training\n",
    "Train a model with specified hyperparameters"
   ]
  },
  {
   "cell_type": "code",
   "execution_count": 6,
   "id": "1536bea4-ae30-4bae-abd4-09841edf2d3e",
   "metadata": {},
   "outputs": [],
   "source": [
    "def train_with_params(params: dict) -> tuple[float, model_used]:\n",
    "    \"\"\"Train model with the specified hyperparameters.\"\"\"\n",
    "    # Extract hyperparameters\n",
    "    batch_size = params[\"batch_size\"]\n",
    "    learning_rate = params[\"learning_rate\"]\n",
    "    num_layers = params[\"num_layers\"]\n",
    "    lookback = params[\"lookback\"]\n",
    "    torch.manual_seed(params[\"seed\"])\n",
    "\n",
    "    x_train, y_train, x_val, y_val, x_test, y_test = split_caltech_data(\n",
    "        lookback=lookback,\n",
    "        horizon=horizon,\n",
    "        train_days=train_days,\n",
    "        val_days=val_days,\n",
    "        test_days=test_days,\n",
    "        features=features,\n",
    "    )\n",
    "\n",
    "    # convert to dataset that can use dataloaders\n",
    "    train_dataset = TreforData(x_train, y_train, device)\n",
    "    val_dataset = TreforData(x_val, y_val, device)\n",
    "\n",
    "    # initialize the dataloaders, without shuffeling the data between epochs\n",
    "    training_loader = DataLoader(train_dataset, batch_size=batch_size, shuffle=False)\n",
    "    validation_loader = DataLoader(val_dataset, batch_size=batch_size, shuffle=False)\n",
    "\n",
    "    # Initialize model\n",
    "    model = model_used(\n",
    "        input_size=model_input_size,\n",
    "        hidden_size=hidden_size,\n",
    "        num_layers=num_layers,\n",
    "        dropout_rate=dropout_rate,\n",
    "        horizon=horizon,\n",
    "        lookback=lookback,\n",
    "    ).to(device)\n",
    "\n",
    "    _, val_loss, best_model = train_model(\n",
    "        epochs=epochs,\n",
    "        model=model,\n",
    "        loss_function=loss_function,\n",
    "        training_loader=training_loader,\n",
    "        validation_loader=validation_loader,\n",
    "        learning_rate=learning_rate,\n",
    "        early_stopper=early_stopper,\n",
    "    )\n",
    "\n",
    "    return min(val_loss), best_model"
   ]
  },
  {
   "cell_type": "markdown",
   "id": "7602760f",
   "metadata": {},
   "source": [
    "Iterate over all hyperparameters and train a model for each combination."
   ]
  },
  {
   "cell_type": "code",
   "execution_count": 7,
   "id": "c4816f2d-ce54-4473-9bf9-949552ab0ffb",
   "metadata": {},
   "outputs": [
    {
     "data": {
      "application/vnd.jupyter.widget-view+json": {
       "model_id": "3001e2bd127547718251b2b3a5321242",
       "version_major": 2,
       "version_minor": 0
      },
      "text/plain": [
       "Iterating epochs:   0%|          | 0/125 [00:00<?, ?it/s]"
      ]
     },
     "metadata": {},
     "output_type": "display_data"
    },
    {
     "name": "stdout",
     "output_type": "stream",
     "text": [
      "{'batch_size': 32, 'learning_rate': 0.001, 'lookback': 36, 'num_layers': 1, 'seed': 1337} 0.07620689223210017\n"
     ]
    },
    {
     "data": {
      "application/vnd.jupyter.widget-view+json": {
       "model_id": "d924dccc7fe1485b9ef7621499cbd856",
       "version_major": 2,
       "version_minor": 0
      },
      "text/plain": [
       "Iterating epochs:   0%|          | 0/125 [00:00<?, ?it/s]"
      ]
     },
     "metadata": {},
     "output_type": "display_data"
    },
    {
     "name": "stdout",
     "output_type": "stream",
     "text": [
      "{'batch_size': 32, 'learning_rate': 0.001, 'lookback': 36, 'num_layers': 1, 'seed': 12648430} 0.06337743702655037\n"
     ]
    },
    {
     "data": {
      "application/vnd.jupyter.widget-view+json": {
       "model_id": "9a3f5fcd12524093843622aebcf1646b",
       "version_major": 2,
       "version_minor": 0
      },
      "text/plain": [
       "Iterating epochs:   0%|          | 0/125 [00:00<?, ?it/s]"
      ]
     },
     "metadata": {},
     "output_type": "display_data"
    },
    {
     "name": "stdout",
     "output_type": "stream",
     "text": [
      "{'batch_size': 32, 'learning_rate': 0.001, 'lookback': 36, 'num_layers': 1, 'seed': 3735928559} 0.06285060963903864\n"
     ]
    },
    {
     "data": {
      "application/vnd.jupyter.widget-view+json": {
       "model_id": "a355ab52f0a4417dba4dc7a74a982896",
       "version_major": 2,
       "version_minor": 0
      },
      "text/plain": [
       "Iterating epochs:   0%|          | 0/125 [00:00<?, ?it/s]"
      ]
     },
     "metadata": {},
     "output_type": "display_data"
    },
    {
     "name": "stdout",
     "output_type": "stream",
     "text": [
      "{'batch_size': 32, 'learning_rate': 0.001, 'lookback': 36, 'num_layers': 2, 'seed': 1337} 0.06460945308208466\n"
     ]
    },
    {
     "data": {
      "application/vnd.jupyter.widget-view+json": {
       "model_id": "7e578a4a47be48668d022d77c48c1ae2",
       "version_major": 2,
       "version_minor": 0
      },
      "text/plain": [
       "Iterating epochs:   0%|          | 0/125 [00:00<?, ?it/s]"
      ]
     },
     "metadata": {},
     "output_type": "display_data"
    },
    {
     "name": "stdout",
     "output_type": "stream",
     "text": [
      "{'batch_size': 32, 'learning_rate': 0.001, 'lookback': 36, 'num_layers': 2, 'seed': 12648430} 0.07107041198760271\n"
     ]
    },
    {
     "data": {
      "application/vnd.jupyter.widget-view+json": {
       "model_id": "5b940f59d33849248955ace0ad46b837",
       "version_major": 2,
       "version_minor": 0
      },
      "text/plain": [
       "Iterating epochs:   0%|          | 0/125 [00:00<?, ?it/s]"
      ]
     },
     "metadata": {},
     "output_type": "display_data"
    },
    {
     "name": "stdout",
     "output_type": "stream",
     "text": [
      "{'batch_size': 32, 'learning_rate': 0.001, 'lookback': 36, 'num_layers': 2, 'seed': 3735928559} 0.07770438144604365\n"
     ]
    },
    {
     "data": {
      "application/vnd.jupyter.widget-view+json": {
       "model_id": "cce45bb6c7804c86bd8db820630c3aae",
       "version_major": 2,
       "version_minor": 0
      },
      "text/plain": [
       "Iterating epochs:   0%|          | 0/125 [00:00<?, ?it/s]"
      ]
     },
     "metadata": {},
     "output_type": "display_data"
    },
    {
     "name": "stdout",
     "output_type": "stream",
     "text": [
      "{'batch_size': 32, 'learning_rate': 0.001, 'lookback': 48, 'num_layers': 1, 'seed': 1337} 0.0741100021948417\n"
     ]
    },
    {
     "data": {
      "application/vnd.jupyter.widget-view+json": {
       "model_id": "c0ad51b5d984483f98741ce344e6f2a2",
       "version_major": 2,
       "version_minor": 0
      },
      "text/plain": [
       "Iterating epochs:   0%|          | 0/125 [00:00<?, ?it/s]"
      ]
     },
     "metadata": {},
     "output_type": "display_data"
    },
    {
     "name": "stdout",
     "output_type": "stream",
     "text": [
      "{'batch_size': 32, 'learning_rate': 0.001, 'lookback': 48, 'num_layers': 1, 'seed': 12648430} 0.06295130122452974\n"
     ]
    },
    {
     "data": {
      "application/vnd.jupyter.widget-view+json": {
       "model_id": "4443bb6a715648ec9c2080d538b24688",
       "version_major": 2,
       "version_minor": 0
      },
      "text/plain": [
       "Iterating epochs:   0%|          | 0/125 [00:00<?, ?it/s]"
      ]
     },
     "metadata": {},
     "output_type": "display_data"
    },
    {
     "name": "stdout",
     "output_type": "stream",
     "text": [
      "{'batch_size': 32, 'learning_rate': 0.001, 'lookback': 48, 'num_layers': 1, 'seed': 3735928559} 0.06308251895631353\n"
     ]
    },
    {
     "data": {
      "application/vnd.jupyter.widget-view+json": {
       "model_id": "72a80126530d48bf8a28840f2cb75f85",
       "version_major": 2,
       "version_minor": 0
      },
      "text/plain": [
       "Iterating epochs:   0%|          | 0/125 [00:00<?, ?it/s]"
      ]
     },
     "metadata": {},
     "output_type": "display_data"
    },
    {
     "name": "stdout",
     "output_type": "stream",
     "text": [
      "{'batch_size': 32, 'learning_rate': 0.001, 'lookback': 48, 'num_layers': 2, 'seed': 1337} 0.06311175059527159\n"
     ]
    },
    {
     "data": {
      "application/vnd.jupyter.widget-view+json": {
       "model_id": "de8acec9e6564ca68be1e42ad9d94bf6",
       "version_major": 2,
       "version_minor": 0
      },
      "text/plain": [
       "Iterating epochs:   0%|          | 0/125 [00:00<?, ?it/s]"
      ]
     },
     "metadata": {},
     "output_type": "display_data"
    },
    {
     "name": "stdout",
     "output_type": "stream",
     "text": [
      "{'batch_size': 32, 'learning_rate': 0.001, 'lookback': 48, 'num_layers': 2, 'seed': 12648430} 0.07334393877536058\n"
     ]
    },
    {
     "data": {
      "application/vnd.jupyter.widget-view+json": {
       "model_id": "41400c8eb7764b06b4a7d6e4e9f0262f",
       "version_major": 2,
       "version_minor": 0
      },
      "text/plain": [
       "Iterating epochs:   0%|          | 0/125 [00:00<?, ?it/s]"
      ]
     },
     "metadata": {},
     "output_type": "display_data"
    },
    {
     "name": "stdout",
     "output_type": "stream",
     "text": [
      "{'batch_size': 32, 'learning_rate': 0.001, 'lookback': 48, 'num_layers': 2, 'seed': 3735928559} 0.06581153630589445\n"
     ]
    },
    {
     "data": {
      "application/vnd.jupyter.widget-view+json": {
       "model_id": "2426375adfa54b47be58ac2aca05b942",
       "version_major": 2,
       "version_minor": 0
      },
      "text/plain": [
       "Iterating epochs:   0%|          | 0/125 [00:00<?, ?it/s]"
      ]
     },
     "metadata": {},
     "output_type": "display_data"
    },
    {
     "name": "stdout",
     "output_type": "stream",
     "text": [
      "{'batch_size': 32, 'learning_rate': 0.001, 'lookback': 96, 'num_layers': 1, 'seed': 1337} 0.07618651731560627\n"
     ]
    },
    {
     "data": {
      "application/vnd.jupyter.widget-view+json": {
       "model_id": "b30410f195fd478b84c3d31329fd6359",
       "version_major": 2,
       "version_minor": 0
      },
      "text/plain": [
       "Iterating epochs:   0%|          | 0/125 [00:00<?, ?it/s]"
      ]
     },
     "metadata": {},
     "output_type": "display_data"
    },
    {
     "name": "stdout",
     "output_type": "stream",
     "text": [
      "{'batch_size': 32, 'learning_rate': 0.001, 'lookback': 96, 'num_layers': 1, 'seed': 12648430} 0.06437103698650996\n"
     ]
    },
    {
     "data": {
      "application/vnd.jupyter.widget-view+json": {
       "model_id": "fce2e6b8194444d6a5ea5d5b597a089a",
       "version_major": 2,
       "version_minor": 0
      },
      "text/plain": [
       "Iterating epochs:   0%|          | 0/125 [00:00<?, ?it/s]"
      ]
     },
     "metadata": {},
     "output_type": "display_data"
    },
    {
     "name": "stdout",
     "output_type": "stream",
     "text": [
      "{'batch_size': 32, 'learning_rate': 0.001, 'lookback': 96, 'num_layers': 1, 'seed': 3735928559} 0.0634121727819244\n"
     ]
    },
    {
     "data": {
      "application/vnd.jupyter.widget-view+json": {
       "model_id": "db853340f9be432491bbc993c951229f",
       "version_major": 2,
       "version_minor": 0
      },
      "text/plain": [
       "Iterating epochs:   0%|          | 0/125 [00:00<?, ?it/s]"
      ]
     },
     "metadata": {},
     "output_type": "display_data"
    },
    {
     "name": "stdout",
     "output_type": "stream",
     "text": [
      "{'batch_size': 32, 'learning_rate': 0.001, 'lookback': 96, 'num_layers': 2, 'seed': 1337} 0.06355318299805125\n"
     ]
    },
    {
     "data": {
      "application/vnd.jupyter.widget-view+json": {
       "model_id": "d5f24ad8a0474dbfbddfe84d6ae4a646",
       "version_major": 2,
       "version_minor": 0
      },
      "text/plain": [
       "Iterating epochs:   0%|          | 0/125 [00:00<?, ?it/s]"
      ]
     },
     "metadata": {},
     "output_type": "display_data"
    },
    {
     "name": "stdout",
     "output_type": "stream",
     "text": [
      "{'batch_size': 32, 'learning_rate': 0.001, 'lookback': 96, 'num_layers': 2, 'seed': 12648430} 0.07155319737891357\n"
     ]
    },
    {
     "data": {
      "application/vnd.jupyter.widget-view+json": {
       "model_id": "0628ec3d3f974c7e9b123da40805cefd",
       "version_major": 2,
       "version_minor": 0
      },
      "text/plain": [
       "Iterating epochs:   0%|          | 0/125 [00:00<?, ?it/s]"
      ]
     },
     "metadata": {},
     "output_type": "display_data"
    },
    {
     "name": "stdout",
     "output_type": "stream",
     "text": [
      "{'batch_size': 32, 'learning_rate': 0.001, 'lookback': 96, 'num_layers': 2, 'seed': 3735928559} 0.0790417104959488\n"
     ]
    },
    {
     "data": {
      "application/vnd.jupyter.widget-view+json": {
       "model_id": "9a0a866907a04e41b12623bc33dedd38",
       "version_major": 2,
       "version_minor": 0
      },
      "text/plain": [
       "Iterating epochs:   0%|          | 0/125 [00:00<?, ?it/s]"
      ]
     },
     "metadata": {},
     "output_type": "display_data"
    },
    {
     "name": "stdout",
     "output_type": "stream",
     "text": [
      "{'batch_size': 32, 'learning_rate': 0.003, 'lookback': 36, 'num_layers': 1, 'seed': 1337} 0.07131506955871979\n"
     ]
    },
    {
     "data": {
      "application/vnd.jupyter.widget-view+json": {
       "model_id": "0178cc987cac457c8cedb55db94a0bd1",
       "version_major": 2,
       "version_minor": 0
      },
      "text/plain": [
       "Iterating epochs:   0%|          | 0/125 [00:00<?, ?it/s]"
      ]
     },
     "metadata": {},
     "output_type": "display_data"
    },
    {
     "name": "stdout",
     "output_type": "stream",
     "text": [
      "{'batch_size': 32, 'learning_rate': 0.003, 'lookback': 36, 'num_layers': 1, 'seed': 12648430} 0.06772764145086209\n"
     ]
    },
    {
     "data": {
      "application/vnd.jupyter.widget-view+json": {
       "model_id": "e95d18672d2746fe8a244c0d5b8f2b7b",
       "version_major": 2,
       "version_minor": 0
      },
      "text/plain": [
       "Iterating epochs:   0%|          | 0/125 [00:00<?, ?it/s]"
      ]
     },
     "metadata": {},
     "output_type": "display_data"
    },
    {
     "name": "stdout",
     "output_type": "stream",
     "text": [
      "{'batch_size': 32, 'learning_rate': 0.003, 'lookback': 36, 'num_layers': 1, 'seed': 3735928559} 0.06578016163160404\n"
     ]
    },
    {
     "data": {
      "application/vnd.jupyter.widget-view+json": {
       "model_id": "4f9b54bf116149649e26f11105e3d8be",
       "version_major": 2,
       "version_minor": 0
      },
      "text/plain": [
       "Iterating epochs:   0%|          | 0/125 [00:00<?, ?it/s]"
      ]
     },
     "metadata": {},
     "output_type": "display_data"
    },
    {
     "name": "stdout",
     "output_type": "stream",
     "text": [
      "{'batch_size': 32, 'learning_rate': 0.003, 'lookback': 36, 'num_layers': 2, 'seed': 1337} 0.06749289985746146\n"
     ]
    },
    {
     "data": {
      "application/vnd.jupyter.widget-view+json": {
       "model_id": "604afbfcc007484e84734f4ed2815e2e",
       "version_major": 2,
       "version_minor": 0
      },
      "text/plain": [
       "Iterating epochs:   0%|          | 0/125 [00:00<?, ?it/s]"
      ]
     },
     "metadata": {},
     "output_type": "display_data"
    },
    {
     "name": "stdout",
     "output_type": "stream",
     "text": [
      "{'batch_size': 32, 'learning_rate': 0.003, 'lookback': 36, 'num_layers': 2, 'seed': 12648430} 0.06850190286835035\n"
     ]
    },
    {
     "data": {
      "application/vnd.jupyter.widget-view+json": {
       "model_id": "084f5cf7571647319538f758b78371e4",
       "version_major": 2,
       "version_minor": 0
      },
      "text/plain": [
       "Iterating epochs:   0%|          | 0/125 [00:00<?, ?it/s]"
      ]
     },
     "metadata": {},
     "output_type": "display_data"
    },
    {
     "name": "stdout",
     "output_type": "stream",
     "text": [
      "{'batch_size': 32, 'learning_rate': 0.003, 'lookback': 36, 'num_layers': 2, 'seed': 3735928559} 0.05636093399176995\n"
     ]
    },
    {
     "data": {
      "application/vnd.jupyter.widget-view+json": {
       "model_id": "7d8b3ded22724bd397c777b76467d075",
       "version_major": 2,
       "version_minor": 0
      },
      "text/plain": [
       "Iterating epochs:   0%|          | 0/125 [00:00<?, ?it/s]"
      ]
     },
     "metadata": {},
     "output_type": "display_data"
    },
    {
     "name": "stdout",
     "output_type": "stream",
     "text": [
      "{'batch_size': 32, 'learning_rate': 0.003, 'lookback': 48, 'num_layers': 1, 'seed': 1337} 0.0698535862689217\n"
     ]
    },
    {
     "data": {
      "application/vnd.jupyter.widget-view+json": {
       "model_id": "7bd9fd9fe08343ed9ebb546663850396",
       "version_major": 2,
       "version_minor": 0
      },
      "text/plain": [
       "Iterating epochs:   0%|          | 0/125 [00:00<?, ?it/s]"
      ]
     },
     "metadata": {},
     "output_type": "display_data"
    },
    {
     "name": "stdout",
     "output_type": "stream",
     "text": [
      "{'batch_size': 32, 'learning_rate': 0.003, 'lookback': 48, 'num_layers': 1, 'seed': 12648430} 0.06784333866089583\n"
     ]
    },
    {
     "data": {
      "application/vnd.jupyter.widget-view+json": {
       "model_id": "9f7980c6a6df412c80e66409d27f09eb",
       "version_major": 2,
       "version_minor": 0
      },
      "text/plain": [
       "Iterating epochs:   0%|          | 0/125 [00:00<?, ?it/s]"
      ]
     },
     "metadata": {},
     "output_type": "display_data"
    },
    {
     "name": "stdout",
     "output_type": "stream",
     "text": [
      "{'batch_size': 32, 'learning_rate': 0.003, 'lookback': 48, 'num_layers': 1, 'seed': 3735928559} 0.06359110735356807\n"
     ]
    },
    {
     "data": {
      "application/vnd.jupyter.widget-view+json": {
       "model_id": "9b3a63d63fe84d839d32008d6d696b84",
       "version_major": 2,
       "version_minor": 0
      },
      "text/plain": [
       "Iterating epochs:   0%|          | 0/125 [00:00<?, ?it/s]"
      ]
     },
     "metadata": {},
     "output_type": "display_data"
    },
    {
     "name": "stdout",
     "output_type": "stream",
     "text": [
      "{'batch_size': 32, 'learning_rate': 0.003, 'lookback': 48, 'num_layers': 2, 'seed': 1337} 0.06937997958933313\n"
     ]
    },
    {
     "data": {
      "application/vnd.jupyter.widget-view+json": {
       "model_id": "99ef4bd207814e6ba1c83de58f599ede",
       "version_major": 2,
       "version_minor": 0
      },
      "text/plain": [
       "Iterating epochs:   0%|          | 0/125 [00:00<?, ?it/s]"
      ]
     },
     "metadata": {},
     "output_type": "display_data"
    },
    {
     "name": "stdout",
     "output_type": "stream",
     "text": [
      "{'batch_size': 32, 'learning_rate': 0.003, 'lookback': 48, 'num_layers': 2, 'seed': 12648430} 0.06776227482284108\n"
     ]
    },
    {
     "data": {
      "application/vnd.jupyter.widget-view+json": {
       "model_id": "667bfd1fcf9c4bdf9e174a4822f6227f",
       "version_major": 2,
       "version_minor": 0
      },
      "text/plain": [
       "Iterating epochs:   0%|          | 0/125 [00:00<?, ?it/s]"
      ]
     },
     "metadata": {},
     "output_type": "display_data"
    },
    {
     "name": "stdout",
     "output_type": "stream",
     "text": [
      "{'batch_size': 32, 'learning_rate': 0.003, 'lookback': 48, 'num_layers': 2, 'seed': 3735928559} 0.06154637448489666\n"
     ]
    },
    {
     "data": {
      "application/vnd.jupyter.widget-view+json": {
       "model_id": "c9b11105701e4db9a433d175fd814e69",
       "version_major": 2,
       "version_minor": 0
      },
      "text/plain": [
       "Iterating epochs:   0%|          | 0/125 [00:00<?, ?it/s]"
      ]
     },
     "metadata": {},
     "output_type": "display_data"
    },
    {
     "name": "stdout",
     "output_type": "stream",
     "text": [
      "{'batch_size': 32, 'learning_rate': 0.003, 'lookback': 96, 'num_layers': 1, 'seed': 1337} 0.06937870588153601\n"
     ]
    },
    {
     "data": {
      "application/vnd.jupyter.widget-view+json": {
       "model_id": "98c04539aa8a4cacaa3faca01b82db77",
       "version_major": 2,
       "version_minor": 0
      },
      "text/plain": [
       "Iterating epochs:   0%|          | 0/125 [00:00<?, ?it/s]"
      ]
     },
     "metadata": {},
     "output_type": "display_data"
    },
    {
     "name": "stdout",
     "output_type": "stream",
     "text": [
      "{'batch_size': 32, 'learning_rate': 0.003, 'lookback': 96, 'num_layers': 1, 'seed': 12648430} 0.06747764026125272\n"
     ]
    },
    {
     "data": {
      "application/vnd.jupyter.widget-view+json": {
       "model_id": "fd6c1d5b7e5d4fdbb1cbf6e404d731c7",
       "version_major": 2,
       "version_minor": 0
      },
      "text/plain": [
       "Iterating epochs:   0%|          | 0/125 [00:00<?, ?it/s]"
      ]
     },
     "metadata": {},
     "output_type": "display_data"
    },
    {
     "name": "stdout",
     "output_type": "stream",
     "text": [
      "{'batch_size': 32, 'learning_rate': 0.003, 'lookback': 96, 'num_layers': 1, 'seed': 3735928559} 0.06847328518827757\n"
     ]
    },
    {
     "data": {
      "application/vnd.jupyter.widget-view+json": {
       "model_id": "372978dcad784e02ba029be79db22ad2",
       "version_major": 2,
       "version_minor": 0
      },
      "text/plain": [
       "Iterating epochs:   0%|          | 0/125 [00:00<?, ?it/s]"
      ]
     },
     "metadata": {},
     "output_type": "display_data"
    },
    {
     "name": "stdout",
     "output_type": "stream",
     "text": [
      "{'batch_size': 32, 'learning_rate': 0.003, 'lookback': 96, 'num_layers': 2, 'seed': 1337} 0.06670677525301774\n"
     ]
    },
    {
     "data": {
      "application/vnd.jupyter.widget-view+json": {
       "model_id": "3b4c41646e2f45d7ad77b4e525949eeb",
       "version_major": 2,
       "version_minor": 0
      },
      "text/plain": [
       "Iterating epochs:   0%|          | 0/125 [00:00<?, ?it/s]"
      ]
     },
     "metadata": {},
     "output_type": "display_data"
    },
    {
     "name": "stdout",
     "output_type": "stream",
     "text": [
      "{'batch_size': 32, 'learning_rate': 0.003, 'lookback': 96, 'num_layers': 2, 'seed': 12648430} 0.07357345661148429\n"
     ]
    },
    {
     "data": {
      "application/vnd.jupyter.widget-view+json": {
       "model_id": "99cc567d37b341d8a5698ebb1484f1ac",
       "version_major": 2,
       "version_minor": 0
      },
      "text/plain": [
       "Iterating epochs:   0%|          | 0/125 [00:00<?, ?it/s]"
      ]
     },
     "metadata": {},
     "output_type": "display_data"
    },
    {
     "name": "stdout",
     "output_type": "stream",
     "text": [
      "{'batch_size': 32, 'learning_rate': 0.003, 'lookback': 96, 'num_layers': 2, 'seed': 3735928559} 0.06177046413843831\n"
     ]
    },
    {
     "data": {
      "application/vnd.jupyter.widget-view+json": {
       "model_id": "3e8b8058be074df793abe1b0e5f7f668",
       "version_major": 2,
       "version_minor": 0
      },
      "text/plain": [
       "Iterating epochs:   0%|          | 0/125 [00:00<?, ?it/s]"
      ]
     },
     "metadata": {},
     "output_type": "display_data"
    },
    {
     "name": "stdout",
     "output_type": "stream",
     "text": [
      "{'batch_size': 32, 'learning_rate': 0.005, 'lookback': 36, 'num_layers': 1, 'seed': 1337} 0.06860731864968936\n"
     ]
    },
    {
     "data": {
      "application/vnd.jupyter.widget-view+json": {
       "model_id": "beb8bb0fe23e44e995bfed07c1cd35e7",
       "version_major": 2,
       "version_minor": 0
      },
      "text/plain": [
       "Iterating epochs:   0%|          | 0/125 [00:00<?, ?it/s]"
      ]
     },
     "metadata": {},
     "output_type": "display_data"
    },
    {
     "name": "stdout",
     "output_type": "stream",
     "text": [
      "{'batch_size': 32, 'learning_rate': 0.005, 'lookback': 36, 'num_layers': 1, 'seed': 12648430} 0.07121375041703383\n"
     ]
    },
    {
     "data": {
      "application/vnd.jupyter.widget-view+json": {
       "model_id": "143b2402a706491cac2cb42ae13b9ff4",
       "version_major": 2,
       "version_minor": 0
      },
      "text/plain": [
       "Iterating epochs:   0%|          | 0/125 [00:00<?, ?it/s]"
      ]
     },
     "metadata": {},
     "output_type": "display_data"
    },
    {
     "name": "stdout",
     "output_type": "stream",
     "text": [
      "{'batch_size': 32, 'learning_rate': 0.005, 'lookback': 36, 'num_layers': 1, 'seed': 3735928559} 0.06520807184278965\n"
     ]
    },
    {
     "data": {
      "application/vnd.jupyter.widget-view+json": {
       "model_id": "c182277143d34c92a1de1e07f6884e7d",
       "version_major": 2,
       "version_minor": 0
      },
      "text/plain": [
       "Iterating epochs:   0%|          | 0/125 [00:00<?, ?it/s]"
      ]
     },
     "metadata": {},
     "output_type": "display_data"
    },
    {
     "name": "stdout",
     "output_type": "stream",
     "text": [
      "{'batch_size': 32, 'learning_rate': 0.005, 'lookback': 36, 'num_layers': 2, 'seed': 1337} 0.08175441560645898\n"
     ]
    },
    {
     "data": {
      "application/vnd.jupyter.widget-view+json": {
       "model_id": "dfd0704200fa4688a03554662087d67d",
       "version_major": 2,
       "version_minor": 0
      },
      "text/plain": [
       "Iterating epochs:   0%|          | 0/125 [00:00<?, ?it/s]"
      ]
     },
     "metadata": {},
     "output_type": "display_data"
    },
    {
     "name": "stdout",
     "output_type": "stream",
     "text": [
      "{'batch_size': 32, 'learning_rate': 0.005, 'lookback': 36, 'num_layers': 2, 'seed': 12648430} 0.05471484027802944\n"
     ]
    },
    {
     "data": {
      "application/vnd.jupyter.widget-view+json": {
       "model_id": "b2d2f96d7a434108b3af8637466ffdd7",
       "version_major": 2,
       "version_minor": 0
      },
      "text/plain": [
       "Iterating epochs:   0%|          | 0/125 [00:00<?, ?it/s]"
      ]
     },
     "metadata": {},
     "output_type": "display_data"
    },
    {
     "name": "stdout",
     "output_type": "stream",
     "text": [
      "{'batch_size': 32, 'learning_rate': 0.005, 'lookback': 36, 'num_layers': 2, 'seed': 3735928559} 0.07081721875195703\n"
     ]
    },
    {
     "data": {
      "application/vnd.jupyter.widget-view+json": {
       "model_id": "ab55be6a687f4726b692db0ea6b91f40",
       "version_major": 2,
       "version_minor": 0
      },
      "text/plain": [
       "Iterating epochs:   0%|          | 0/125 [00:00<?, ?it/s]"
      ]
     },
     "metadata": {},
     "output_type": "display_data"
    },
    {
     "name": "stdout",
     "output_type": "stream",
     "text": [
      "{'batch_size': 32, 'learning_rate': 0.005, 'lookback': 48, 'num_layers': 1, 'seed': 1337} 0.06735584071526925\n"
     ]
    },
    {
     "data": {
      "application/vnd.jupyter.widget-view+json": {
       "model_id": "5f5b457cbecf4842bf634ff3f8642af2",
       "version_major": 2,
       "version_minor": 0
      },
      "text/plain": [
       "Iterating epochs:   0%|          | 0/125 [00:00<?, ?it/s]"
      ]
     },
     "metadata": {},
     "output_type": "display_data"
    },
    {
     "name": "stdout",
     "output_type": "stream",
     "text": [
      "{'batch_size': 32, 'learning_rate': 0.005, 'lookback': 48, 'num_layers': 1, 'seed': 12648430} 0.0693487582107385\n"
     ]
    },
    {
     "data": {
      "application/vnd.jupyter.widget-view+json": {
       "model_id": "2b36847aabc0415d832a453247cdec71",
       "version_major": 2,
       "version_minor": 0
      },
      "text/plain": [
       "Iterating epochs:   0%|          | 0/125 [00:00<?, ?it/s]"
      ]
     },
     "metadata": {},
     "output_type": "display_data"
    },
    {
     "name": "stdout",
     "output_type": "stream",
     "text": [
      "{'batch_size': 32, 'learning_rate': 0.005, 'lookback': 48, 'num_layers': 1, 'seed': 3735928559} 0.06693688575178385\n"
     ]
    },
    {
     "data": {
      "application/vnd.jupyter.widget-view+json": {
       "model_id": "6ce0c951b6b94729a1609f4a19906cc3",
       "version_major": 2,
       "version_minor": 0
      },
      "text/plain": [
       "Iterating epochs:   0%|          | 0/125 [00:00<?, ?it/s]"
      ]
     },
     "metadata": {},
     "output_type": "display_data"
    },
    {
     "name": "stdout",
     "output_type": "stream",
     "text": [
      "{'batch_size': 32, 'learning_rate': 0.005, 'lookback': 48, 'num_layers': 2, 'seed': 1337} 0.08411686221758524\n"
     ]
    },
    {
     "data": {
      "application/vnd.jupyter.widget-view+json": {
       "model_id": "fd62411f8a004c0ab2f8a8b1aa550e14",
       "version_major": 2,
       "version_minor": 0
      },
      "text/plain": [
       "Iterating epochs:   0%|          | 0/125 [00:00<?, ?it/s]"
      ]
     },
     "metadata": {},
     "output_type": "display_data"
    },
    {
     "name": "stdout",
     "output_type": "stream",
     "text": [
      "{'batch_size': 32, 'learning_rate': 0.005, 'lookback': 48, 'num_layers': 2, 'seed': 12648430} 0.05922806598246098\n"
     ]
    },
    {
     "data": {
      "application/vnd.jupyter.widget-view+json": {
       "model_id": "172665705c56433f987f8d9cf2677808",
       "version_major": 2,
       "version_minor": 0
      },
      "text/plain": [
       "Iterating epochs:   0%|          | 0/125 [00:00<?, ?it/s]"
      ]
     },
     "metadata": {},
     "output_type": "display_data"
    },
    {
     "name": "stdout",
     "output_type": "stream",
     "text": [
      "{'batch_size': 32, 'learning_rate': 0.005, 'lookback': 48, 'num_layers': 2, 'seed': 3735928559} 0.077948590926826\n"
     ]
    },
    {
     "data": {
      "application/vnd.jupyter.widget-view+json": {
       "model_id": "1a887388d36243c69dc93843e64e246f",
       "version_major": 2,
       "version_minor": 0
      },
      "text/plain": [
       "Iterating epochs:   0%|          | 0/125 [00:00<?, ?it/s]"
      ]
     },
     "metadata": {},
     "output_type": "display_data"
    },
    {
     "name": "stdout",
     "output_type": "stream",
     "text": [
      "{'batch_size': 32, 'learning_rate': 0.005, 'lookback': 96, 'num_layers': 1, 'seed': 1337} 0.06824085252980391\n"
     ]
    },
    {
     "data": {
      "application/vnd.jupyter.widget-view+json": {
       "model_id": "5865fc527fb341179adf6c4ddaea3a0a",
       "version_major": 2,
       "version_minor": 0
      },
      "text/plain": [
       "Iterating epochs:   0%|          | 0/125 [00:00<?, ?it/s]"
      ]
     },
     "metadata": {},
     "output_type": "display_data"
    },
    {
     "name": "stdout",
     "output_type": "stream",
     "text": [
      "{'batch_size': 32, 'learning_rate': 0.005, 'lookback': 96, 'num_layers': 1, 'seed': 12648430} 0.06918254898240168\n"
     ]
    },
    {
     "data": {
      "application/vnd.jupyter.widget-view+json": {
       "model_id": "61b171c522e4478db97a3f4850c2d57a",
       "version_major": 2,
       "version_minor": 0
      },
      "text/plain": [
       "Iterating epochs:   0%|          | 0/125 [00:00<?, ?it/s]"
      ]
     },
     "metadata": {},
     "output_type": "display_data"
    },
    {
     "name": "stdout",
     "output_type": "stream",
     "text": [
      "{'batch_size': 32, 'learning_rate': 0.005, 'lookback': 96, 'num_layers': 1, 'seed': 3735928559} 0.0673296358436346\n"
     ]
    },
    {
     "data": {
      "application/vnd.jupyter.widget-view+json": {
       "model_id": "6f94f81667864355b7c2cbcd823d68ac",
       "version_major": 2,
       "version_minor": 0
      },
      "text/plain": [
       "Iterating epochs:   0%|          | 0/125 [00:00<?, ?it/s]"
      ]
     },
     "metadata": {},
     "output_type": "display_data"
    },
    {
     "name": "stdout",
     "output_type": "stream",
     "text": [
      "{'batch_size': 32, 'learning_rate': 0.005, 'lookback': 96, 'num_layers': 2, 'seed': 1337} 0.08234541565179825\n"
     ]
    },
    {
     "data": {
      "application/vnd.jupyter.widget-view+json": {
       "model_id": "0de038219dfd487290805e8b7be683dd",
       "version_major": 2,
       "version_minor": 0
      },
      "text/plain": [
       "Iterating epochs:   0%|          | 0/125 [00:00<?, ?it/s]"
      ]
     },
     "metadata": {},
     "output_type": "display_data"
    },
    {
     "name": "stdout",
     "output_type": "stream",
     "text": [
      "{'batch_size': 32, 'learning_rate': 0.005, 'lookback': 96, 'num_layers': 2, 'seed': 12648430} 0.055816049501299855\n"
     ]
    },
    {
     "data": {
      "application/vnd.jupyter.widget-view+json": {
       "model_id": "d79059c2087946da8ca39857d16009dc",
       "version_major": 2,
       "version_minor": 0
      },
      "text/plain": [
       "Iterating epochs:   0%|          | 0/125 [00:00<?, ?it/s]"
      ]
     },
     "metadata": {},
     "output_type": "display_data"
    },
    {
     "name": "stdout",
     "output_type": "stream",
     "text": [
      "{'batch_size': 32, 'learning_rate': 0.005, 'lookback': 96, 'num_layers': 2, 'seed': 3735928559} 0.06911707272132238\n"
     ]
    },
    {
     "data": {
      "application/vnd.jupyter.widget-view+json": {
       "model_id": "d24a40ee54fb4488acdc6bae470aeabf",
       "version_major": 2,
       "version_minor": 0
      },
      "text/plain": [
       "Iterating epochs:   0%|          | 0/125 [00:00<?, ?it/s]"
      ]
     },
     "metadata": {},
     "output_type": "display_data"
    },
    {
     "name": "stdout",
     "output_type": "stream",
     "text": [
      "{'batch_size': 64, 'learning_rate': 0.001, 'lookback': 36, 'num_layers': 1, 'seed': 1337} 0.08843704732134938\n"
     ]
    },
    {
     "data": {
      "application/vnd.jupyter.widget-view+json": {
       "model_id": "9d3e62ba01014ef5bf217231a18e7338",
       "version_major": 2,
       "version_minor": 0
      },
      "text/plain": [
       "Iterating epochs:   0%|          | 0/125 [00:00<?, ?it/s]"
      ]
     },
     "metadata": {},
     "output_type": "display_data"
    },
    {
     "name": "stdout",
     "output_type": "stream",
     "text": [
      "{'batch_size': 64, 'learning_rate': 0.001, 'lookback': 36, 'num_layers': 1, 'seed': 12648430} 0.0646705215331167\n"
     ]
    },
    {
     "data": {
      "application/vnd.jupyter.widget-view+json": {
       "model_id": "08eafec32a994be883fbe060ce99ce29",
       "version_major": 2,
       "version_minor": 0
      },
      "text/plain": [
       "Iterating epochs:   0%|          | 0/125 [00:00<?, ?it/s]"
      ]
     },
     "metadata": {},
     "output_type": "display_data"
    },
    {
     "name": "stdout",
     "output_type": "stream",
     "text": [
      "{'batch_size': 64, 'learning_rate': 0.001, 'lookback': 36, 'num_layers': 1, 'seed': 3735928559} 0.06409337418153882\n"
     ]
    },
    {
     "data": {
      "application/vnd.jupyter.widget-view+json": {
       "model_id": "28037730fa934923bb0b47281876cf56",
       "version_major": 2,
       "version_minor": 0
      },
      "text/plain": [
       "Iterating epochs:   0%|          | 0/125 [00:00<?, ?it/s]"
      ]
     },
     "metadata": {},
     "output_type": "display_data"
    },
    {
     "name": "stdout",
     "output_type": "stream",
     "text": [
      "{'batch_size': 64, 'learning_rate': 0.001, 'lookback': 36, 'num_layers': 2, 'seed': 1337} 0.0717387548647821\n"
     ]
    },
    {
     "data": {
      "application/vnd.jupyter.widget-view+json": {
       "model_id": "1af76cfab7364510bc212478443e047b",
       "version_major": 2,
       "version_minor": 0
      },
      "text/plain": [
       "Iterating epochs:   0%|          | 0/125 [00:00<?, ?it/s]"
      ]
     },
     "metadata": {},
     "output_type": "display_data"
    },
    {
     "name": "stdout",
     "output_type": "stream",
     "text": [
      "{'batch_size': 64, 'learning_rate': 0.001, 'lookback': 36, 'num_layers': 2, 'seed': 12648430} 0.06978985201567411\n"
     ]
    },
    {
     "data": {
      "application/vnd.jupyter.widget-view+json": {
       "model_id": "21cc02702b11429ca8b73fceec1ef99c",
       "version_major": 2,
       "version_minor": 0
      },
      "text/plain": [
       "Iterating epochs:   0%|          | 0/125 [00:00<?, ?it/s]"
      ]
     },
     "metadata": {},
     "output_type": "display_data"
    },
    {
     "name": "stdout",
     "output_type": "stream",
     "text": [
      "{'batch_size': 64, 'learning_rate': 0.001, 'lookback': 36, 'num_layers': 2, 'seed': 3735928559} 0.08456026157364249\n"
     ]
    },
    {
     "data": {
      "application/vnd.jupyter.widget-view+json": {
       "model_id": "35ca4806145745368f7a7b35bbb1d5dd",
       "version_major": 2,
       "version_minor": 0
      },
      "text/plain": [
       "Iterating epochs:   0%|          | 0/125 [00:00<?, ?it/s]"
      ]
     },
     "metadata": {},
     "output_type": "display_data"
    },
    {
     "name": "stdout",
     "output_type": "stream",
     "text": [
      "{'batch_size': 64, 'learning_rate': 0.001, 'lookback': 48, 'num_layers': 1, 'seed': 1337} 0.0838831402361393\n"
     ]
    },
    {
     "data": {
      "application/vnd.jupyter.widget-view+json": {
       "model_id": "a0802358e00b450e83f5d815233fc041",
       "version_major": 2,
       "version_minor": 0
      },
      "text/plain": [
       "Iterating epochs:   0%|          | 0/125 [00:00<?, ?it/s]"
      ]
     },
     "metadata": {},
     "output_type": "display_data"
    },
    {
     "name": "stdout",
     "output_type": "stream",
     "text": [
      "{'batch_size': 64, 'learning_rate': 0.001, 'lookback': 48, 'num_layers': 1, 'seed': 12648430} 0.06460984307341278\n"
     ]
    },
    {
     "data": {
      "application/vnd.jupyter.widget-view+json": {
       "model_id": "831e25e6b80a48b7822a0576701d9b0e",
       "version_major": 2,
       "version_minor": 0
      },
      "text/plain": [
       "Iterating epochs:   0%|          | 0/125 [00:00<?, ?it/s]"
      ]
     },
     "metadata": {},
     "output_type": "display_data"
    },
    {
     "name": "stdout",
     "output_type": "stream",
     "text": [
      "{'batch_size': 64, 'learning_rate': 0.001, 'lookback': 48, 'num_layers': 1, 'seed': 3735928559} 0.06329130497761071\n"
     ]
    },
    {
     "data": {
      "application/vnd.jupyter.widget-view+json": {
       "model_id": "df4699b370ec4b15ae17b4962e123d3f",
       "version_major": 2,
       "version_minor": 0
      },
      "text/plain": [
       "Iterating epochs:   0%|          | 0/125 [00:00<?, ?it/s]"
      ]
     },
     "metadata": {},
     "output_type": "display_data"
    },
    {
     "name": "stdout",
     "output_type": "stream",
     "text": [
      "{'batch_size': 64, 'learning_rate': 0.001, 'lookback': 48, 'num_layers': 2, 'seed': 1337} 0.07166039803996682\n"
     ]
    },
    {
     "data": {
      "application/vnd.jupyter.widget-view+json": {
       "model_id": "0ac8da626ea7485cb827d5a9c8c3cb95",
       "version_major": 2,
       "version_minor": 0
      },
      "text/plain": [
       "Iterating epochs:   0%|          | 0/125 [00:00<?, ?it/s]"
      ]
     },
     "metadata": {},
     "output_type": "display_data"
    },
    {
     "name": "stdout",
     "output_type": "stream",
     "text": [
      "{'batch_size': 64, 'learning_rate': 0.001, 'lookback': 48, 'num_layers': 2, 'seed': 12648430} 0.07110987789928913\n"
     ]
    },
    {
     "data": {
      "application/vnd.jupyter.widget-view+json": {
       "model_id": "589877c16dc54fafbad8a6c4ec65ce16",
       "version_major": 2,
       "version_minor": 0
      },
      "text/plain": [
       "Iterating epochs:   0%|          | 0/125 [00:00<?, ?it/s]"
      ]
     },
     "metadata": {},
     "output_type": "display_data"
    },
    {
     "name": "stdout",
     "output_type": "stream",
     "text": [
      "{'batch_size': 64, 'learning_rate': 0.001, 'lookback': 48, 'num_layers': 2, 'seed': 3735928559} 0.07186664512846619\n"
     ]
    },
    {
     "data": {
      "application/vnd.jupyter.widget-view+json": {
       "model_id": "aed1f541d04e4f5cb071fef7193d2677",
       "version_major": 2,
       "version_minor": 0
      },
      "text/plain": [
       "Iterating epochs:   0%|          | 0/125 [00:00<?, ?it/s]"
      ]
     },
     "metadata": {},
     "output_type": "display_data"
    },
    {
     "name": "stdout",
     "output_type": "stream",
     "text": [
      "{'batch_size': 64, 'learning_rate': 0.001, 'lookback': 96, 'num_layers': 1, 'seed': 1337} 0.08764142519794405\n"
     ]
    },
    {
     "data": {
      "application/vnd.jupyter.widget-view+json": {
       "model_id": "a5047ff970ba4d9bbdabd56e8e973618",
       "version_major": 2,
       "version_minor": 0
      },
      "text/plain": [
       "Iterating epochs:   0%|          | 0/125 [00:00<?, ?it/s]"
      ]
     },
     "metadata": {},
     "output_type": "display_data"
    },
    {
     "name": "stdout",
     "output_type": "stream",
     "text": [
      "{'batch_size': 64, 'learning_rate': 0.001, 'lookback': 96, 'num_layers': 1, 'seed': 12648430} 0.06600561970844865\n"
     ]
    },
    {
     "data": {
      "application/vnd.jupyter.widget-view+json": {
       "model_id": "43c7298847c1488385ffdb8718f79b4f",
       "version_major": 2,
       "version_minor": 0
      },
      "text/plain": [
       "Iterating epochs:   0%|          | 0/125 [00:00<?, ?it/s]"
      ]
     },
     "metadata": {},
     "output_type": "display_data"
    },
    {
     "name": "stdout",
     "output_type": "stream",
     "text": [
      "{'batch_size': 64, 'learning_rate': 0.001, 'lookback': 96, 'num_layers': 1, 'seed': 3735928559} 0.06346659688279033\n"
     ]
    },
    {
     "data": {
      "application/vnd.jupyter.widget-view+json": {
       "model_id": "d2bbf6e9a3e948a2b302cf7459e1c300",
       "version_major": 2,
       "version_minor": 0
      },
      "text/plain": [
       "Iterating epochs:   0%|          | 0/125 [00:00<?, ?it/s]"
      ]
     },
     "metadata": {},
     "output_type": "display_data"
    },
    {
     "name": "stdout",
     "output_type": "stream",
     "text": [
      "{'batch_size': 64, 'learning_rate': 0.001, 'lookback': 96, 'num_layers': 2, 'seed': 1337} 0.07056807214394212\n"
     ]
    },
    {
     "data": {
      "application/vnd.jupyter.widget-view+json": {
       "model_id": "2e35cf66b1634a21a8bc293a819c926f",
       "version_major": 2,
       "version_minor": 0
      },
      "text/plain": [
       "Iterating epochs:   0%|          | 0/125 [00:00<?, ?it/s]"
      ]
     },
     "metadata": {},
     "output_type": "display_data"
    },
    {
     "name": "stdout",
     "output_type": "stream",
     "text": [
      "{'batch_size': 64, 'learning_rate': 0.001, 'lookback': 96, 'num_layers': 2, 'seed': 12648430} 0.07199543225578964\n"
     ]
    },
    {
     "data": {
      "application/vnd.jupyter.widget-view+json": {
       "model_id": "2bc0125047bf4319a145048ad84275b8",
       "version_major": 2,
       "version_minor": 0
      },
      "text/plain": [
       "Iterating epochs:   0%|          | 0/125 [00:00<?, ?it/s]"
      ]
     },
     "metadata": {},
     "output_type": "display_data"
    },
    {
     "name": "stdout",
     "output_type": "stream",
     "text": [
      "{'batch_size': 64, 'learning_rate': 0.001, 'lookback': 96, 'num_layers': 2, 'seed': 3735928559} 0.0843759598210454\n"
     ]
    },
    {
     "data": {
      "application/vnd.jupyter.widget-view+json": {
       "model_id": "ddaf64d60aa94efcaf8e538656330c35",
       "version_major": 2,
       "version_minor": 0
      },
      "text/plain": [
       "Iterating epochs:   0%|          | 0/125 [00:00<?, ?it/s]"
      ]
     },
     "metadata": {},
     "output_type": "display_data"
    },
    {
     "name": "stdout",
     "output_type": "stream",
     "text": [
      "{'batch_size': 64, 'learning_rate': 0.003, 'lookback': 36, 'num_layers': 1, 'seed': 1337} 0.06481063249520957\n"
     ]
    },
    {
     "data": {
      "application/vnd.jupyter.widget-view+json": {
       "model_id": "f518d6822c664eb98e4d2068d1333362",
       "version_major": 2,
       "version_minor": 0
      },
      "text/plain": [
       "Iterating epochs:   0%|          | 0/125 [00:00<?, ?it/s]"
      ]
     },
     "metadata": {},
     "output_type": "display_data"
    },
    {
     "name": "stdout",
     "output_type": "stream",
     "text": [
      "{'batch_size': 64, 'learning_rate': 0.003, 'lookback': 36, 'num_layers': 1, 'seed': 12648430} 0.06340870261192322\n"
     ]
    },
    {
     "data": {
      "application/vnd.jupyter.widget-view+json": {
       "model_id": "33c19b929b24473084e618399bbf4061",
       "version_major": 2,
       "version_minor": 0
      },
      "text/plain": [
       "Iterating epochs:   0%|          | 0/125 [00:00<?, ?it/s]"
      ]
     },
     "metadata": {},
     "output_type": "display_data"
    },
    {
     "name": "stdout",
     "output_type": "stream",
     "text": [
      "{'batch_size': 64, 'learning_rate': 0.003, 'lookback': 36, 'num_layers': 1, 'seed': 3735928559} 0.0627788552083075\n"
     ]
    },
    {
     "data": {
      "application/vnd.jupyter.widget-view+json": {
       "model_id": "e34cd45eb98643b2babe3916db6b08c1",
       "version_major": 2,
       "version_minor": 0
      },
      "text/plain": [
       "Iterating epochs:   0%|          | 0/125 [00:00<?, ?it/s]"
      ]
     },
     "metadata": {},
     "output_type": "display_data"
    },
    {
     "name": "stdout",
     "output_type": "stream",
     "text": [
      "{'batch_size': 64, 'learning_rate': 0.003, 'lookback': 36, 'num_layers': 2, 'seed': 1337} 0.06111140921711922\n"
     ]
    },
    {
     "data": {
      "application/vnd.jupyter.widget-view+json": {
       "model_id": "85af799f0b8a4e38acf751e9de0c72e2",
       "version_major": 2,
       "version_minor": 0
      },
      "text/plain": [
       "Iterating epochs:   0%|          | 0/125 [00:00<?, ?it/s]"
      ]
     },
     "metadata": {},
     "output_type": "display_data"
    },
    {
     "name": "stdout",
     "output_type": "stream",
     "text": [
      "{'batch_size': 64, 'learning_rate': 0.003, 'lookback': 36, 'num_layers': 2, 'seed': 12648430} 0.06928798602893949\n"
     ]
    },
    {
     "data": {
      "application/vnd.jupyter.widget-view+json": {
       "model_id": "44db054ea6f34cfc9dba9af0cf9ac63f",
       "version_major": 2,
       "version_minor": 0
      },
      "text/plain": [
       "Iterating epochs:   0%|          | 0/125 [00:00<?, ?it/s]"
      ]
     },
     "metadata": {},
     "output_type": "display_data"
    },
    {
     "name": "stdout",
     "output_type": "stream",
     "text": [
      "{'batch_size': 64, 'learning_rate': 0.003, 'lookback': 36, 'num_layers': 2, 'seed': 3735928559} 0.06427344307303429\n"
     ]
    },
    {
     "data": {
      "application/vnd.jupyter.widget-view+json": {
       "model_id": "0921685b0b1d4248859700489e9c9845",
       "version_major": 2,
       "version_minor": 0
      },
      "text/plain": [
       "Iterating epochs:   0%|          | 0/125 [00:00<?, ?it/s]"
      ]
     },
     "metadata": {},
     "output_type": "display_data"
    },
    {
     "name": "stdout",
     "output_type": "stream",
     "text": [
      "{'batch_size': 64, 'learning_rate': 0.003, 'lookback': 48, 'num_layers': 1, 'seed': 1337} 0.06361118191853166\n"
     ]
    },
    {
     "data": {
      "application/vnd.jupyter.widget-view+json": {
       "model_id": "a88b64ed7ba847a386c3e473b5d7a0bc",
       "version_major": 2,
       "version_minor": 0
      },
      "text/plain": [
       "Iterating epochs:   0%|          | 0/125 [00:00<?, ?it/s]"
      ]
     },
     "metadata": {},
     "output_type": "display_data"
    },
    {
     "name": "stdout",
     "output_type": "stream",
     "text": [
      "{'batch_size': 64, 'learning_rate': 0.003, 'lookback': 48, 'num_layers': 1, 'seed': 12648430} 0.06296426220797002\n"
     ]
    },
    {
     "data": {
      "application/vnd.jupyter.widget-view+json": {
       "model_id": "f0ae5d03fe104cada48d1bd3b5aed56b",
       "version_major": 2,
       "version_minor": 0
      },
      "text/plain": [
       "Iterating epochs:   0%|          | 0/125 [00:00<?, ?it/s]"
      ]
     },
     "metadata": {},
     "output_type": "display_data"
    },
    {
     "name": "stdout",
     "output_type": "stream",
     "text": [
      "{'batch_size': 64, 'learning_rate': 0.003, 'lookback': 48, 'num_layers': 1, 'seed': 3735928559} 0.0637830551713705\n"
     ]
    },
    {
     "data": {
      "application/vnd.jupyter.widget-view+json": {
       "model_id": "83a32445721f4cf2ab3f9cf0267ec69a",
       "version_major": 2,
       "version_minor": 0
      },
      "text/plain": [
       "Iterating epochs:   0%|          | 0/125 [00:00<?, ?it/s]"
      ]
     },
     "metadata": {},
     "output_type": "display_data"
    },
    {
     "name": "stdout",
     "output_type": "stream",
     "text": [
      "{'batch_size': 64, 'learning_rate': 0.003, 'lookback': 48, 'num_layers': 2, 'seed': 1337} 0.06382765714079142\n"
     ]
    },
    {
     "data": {
      "application/vnd.jupyter.widget-view+json": {
       "model_id": "2184ebfdff9c4bccb74082fa055fe9c7",
       "version_major": 2,
       "version_minor": 0
      },
      "text/plain": [
       "Iterating epochs:   0%|          | 0/125 [00:00<?, ?it/s]"
      ]
     },
     "metadata": {},
     "output_type": "display_data"
    },
    {
     "name": "stdout",
     "output_type": "stream",
     "text": [
      "{'batch_size': 64, 'learning_rate': 0.003, 'lookback': 48, 'num_layers': 2, 'seed': 12648430} 0.068691874621436\n"
     ]
    },
    {
     "data": {
      "application/vnd.jupyter.widget-view+json": {
       "model_id": "3a50da24f49d49b394f0151a7f5943e8",
       "version_major": 2,
       "version_minor": 0
      },
      "text/plain": [
       "Iterating epochs:   0%|          | 0/125 [00:00<?, ?it/s]"
      ]
     },
     "metadata": {},
     "output_type": "display_data"
    },
    {
     "name": "stdout",
     "output_type": "stream",
     "text": [
      "{'batch_size': 64, 'learning_rate': 0.003, 'lookback': 48, 'num_layers': 2, 'seed': 3735928559} 0.06847055093385279\n"
     ]
    },
    {
     "data": {
      "application/vnd.jupyter.widget-view+json": {
       "model_id": "1273e98d1e924cfa9b06d2cb80684fe9",
       "version_major": 2,
       "version_minor": 0
      },
      "text/plain": [
       "Iterating epochs:   0%|          | 0/125 [00:00<?, ?it/s]"
      ]
     },
     "metadata": {},
     "output_type": "display_data"
    },
    {
     "name": "stdout",
     "output_type": "stream",
     "text": [
      "{'batch_size': 64, 'learning_rate': 0.003, 'lookback': 96, 'num_layers': 1, 'seed': 1337} 0.06343772495165467\n"
     ]
    },
    {
     "data": {
      "application/vnd.jupyter.widget-view+json": {
       "model_id": "ae2399d9acde4011a37ef3e145e8006f",
       "version_major": 2,
       "version_minor": 0
      },
      "text/plain": [
       "Iterating epochs:   0%|          | 0/125 [00:00<?, ?it/s]"
      ]
     },
     "metadata": {},
     "output_type": "display_data"
    },
    {
     "name": "stdout",
     "output_type": "stream",
     "text": [
      "{'batch_size': 64, 'learning_rate': 0.003, 'lookback': 96, 'num_layers': 1, 'seed': 12648430} 0.06315758684650064\n"
     ]
    },
    {
     "data": {
      "application/vnd.jupyter.widget-view+json": {
       "model_id": "eeba73dd8c374452803ccd24ad81b683",
       "version_major": 2,
       "version_minor": 0
      },
      "text/plain": [
       "Iterating epochs:   0%|          | 0/125 [00:00<?, ?it/s]"
      ]
     },
     "metadata": {},
     "output_type": "display_data"
    },
    {
     "name": "stdout",
     "output_type": "stream",
     "text": [
      "{'batch_size': 64, 'learning_rate': 0.003, 'lookback': 96, 'num_layers': 1, 'seed': 3735928559} 0.0639291403349489\n"
     ]
    },
    {
     "data": {
      "application/vnd.jupyter.widget-view+json": {
       "model_id": "447b88dc06bc4c908856220206972c4f",
       "version_major": 2,
       "version_minor": 0
      },
      "text/plain": [
       "Iterating epochs:   0%|          | 0/125 [00:00<?, ?it/s]"
      ]
     },
     "metadata": {},
     "output_type": "display_data"
    },
    {
     "name": "stdout",
     "output_type": "stream",
     "text": [
      "{'batch_size': 64, 'learning_rate': 0.003, 'lookback': 96, 'num_layers': 2, 'seed': 1337} 0.06311100744642317\n"
     ]
    },
    {
     "data": {
      "application/vnd.jupyter.widget-view+json": {
       "model_id": "e90ad626af484dddbfeac4a26a63106d",
       "version_major": 2,
       "version_minor": 0
      },
      "text/plain": [
       "Iterating epochs:   0%|          | 0/125 [00:00<?, ?it/s]"
      ]
     },
     "metadata": {},
     "output_type": "display_data"
    },
    {
     "name": "stdout",
     "output_type": "stream",
     "text": [
      "{'batch_size': 64, 'learning_rate': 0.003, 'lookback': 96, 'num_layers': 2, 'seed': 12648430} 0.06785985454916954\n"
     ]
    },
    {
     "data": {
      "application/vnd.jupyter.widget-view+json": {
       "model_id": "f6f93b66e436437e9ff0548e8879d2c7",
       "version_major": 2,
       "version_minor": 0
      },
      "text/plain": [
       "Iterating epochs:   0%|          | 0/125 [00:00<?, ?it/s]"
      ]
     },
     "metadata": {},
     "output_type": "display_data"
    },
    {
     "name": "stdout",
     "output_type": "stream",
     "text": [
      "{'batch_size': 64, 'learning_rate': 0.003, 'lookback': 96, 'num_layers': 2, 'seed': 3735928559} 0.06594985106494278\n"
     ]
    },
    {
     "data": {
      "application/vnd.jupyter.widget-view+json": {
       "model_id": "b765cb06d670498b965e55fc9fd0ca7c",
       "version_major": 2,
       "version_minor": 0
      },
      "text/plain": [
       "Iterating epochs:   0%|          | 0/125 [00:00<?, ?it/s]"
      ]
     },
     "metadata": {},
     "output_type": "display_data"
    },
    {
     "name": "stdout",
     "output_type": "stream",
     "text": [
      "{'batch_size': 64, 'learning_rate': 0.005, 'lookback': 36, 'num_layers': 1, 'seed': 1337} 0.0627742053475231\n"
     ]
    },
    {
     "data": {
      "application/vnd.jupyter.widget-view+json": {
       "model_id": "2a63bafee54c49dcb2b781119dd01f03",
       "version_major": 2,
       "version_minor": 0
      },
      "text/plain": [
       "Iterating epochs:   0%|          | 0/125 [00:00<?, ?it/s]"
      ]
     },
     "metadata": {},
     "output_type": "display_data"
    },
    {
     "name": "stdout",
     "output_type": "stream",
     "text": [
      "{'batch_size': 64, 'learning_rate': 0.005, 'lookback': 36, 'num_layers': 1, 'seed': 12648430} 0.06239414936862886\n"
     ]
    },
    {
     "data": {
      "application/vnd.jupyter.widget-view+json": {
       "model_id": "436e68046f224897bf8c81985a8db9f9",
       "version_major": 2,
       "version_minor": 0
      },
      "text/plain": [
       "Iterating epochs:   0%|          | 0/125 [00:00<?, ?it/s]"
      ]
     },
     "metadata": {},
     "output_type": "display_data"
    },
    {
     "name": "stdout",
     "output_type": "stream",
     "text": [
      "{'batch_size': 64, 'learning_rate': 0.005, 'lookback': 36, 'num_layers': 1, 'seed': 3735928559} 0.06265141139738262\n"
     ]
    },
    {
     "data": {
      "application/vnd.jupyter.widget-view+json": {
       "model_id": "423d66b0ee5d42a38885e99c25b98279",
       "version_major": 2,
       "version_minor": 0
      },
      "text/plain": [
       "Iterating epochs:   0%|          | 0/125 [00:00<?, ?it/s]"
      ]
     },
     "metadata": {},
     "output_type": "display_data"
    },
    {
     "name": "stdout",
     "output_type": "stream",
     "text": [
      "{'batch_size': 64, 'learning_rate': 0.005, 'lookback': 36, 'num_layers': 2, 'seed': 1337} 0.06732477946206927\n"
     ]
    },
    {
     "data": {
      "application/vnd.jupyter.widget-view+json": {
       "model_id": "dad0b735b827468f9a65142f7bed29e6",
       "version_major": 2,
       "version_minor": 0
      },
      "text/plain": [
       "Iterating epochs:   0%|          | 0/125 [00:00<?, ?it/s]"
      ]
     },
     "metadata": {},
     "output_type": "display_data"
    },
    {
     "name": "stdout",
     "output_type": "stream",
     "text": [
      "{'batch_size': 64, 'learning_rate': 0.005, 'lookback': 36, 'num_layers': 2, 'seed': 12648430} 0.06797415297478437\n"
     ]
    },
    {
     "data": {
      "application/vnd.jupyter.widget-view+json": {
       "model_id": "4e488e60f0fc4f58aca7260dc54b8510",
       "version_major": 2,
       "version_minor": 0
      },
      "text/plain": [
       "Iterating epochs:   0%|          | 0/125 [00:00<?, ?it/s]"
      ]
     },
     "metadata": {},
     "output_type": "display_data"
    },
    {
     "name": "stdout",
     "output_type": "stream",
     "text": [
      "{'batch_size': 64, 'learning_rate': 0.005, 'lookback': 36, 'num_layers': 2, 'seed': 3735928559} 0.06810571299865842\n"
     ]
    },
    {
     "data": {
      "application/vnd.jupyter.widget-view+json": {
       "model_id": "bfe2a3d3cb8446f8b316898624d00905",
       "version_major": 2,
       "version_minor": 0
      },
      "text/plain": [
       "Iterating epochs:   0%|          | 0/125 [00:00<?, ?it/s]"
      ]
     },
     "metadata": {},
     "output_type": "display_data"
    },
    {
     "name": "stdout",
     "output_type": "stream",
     "text": [
      "{'batch_size': 64, 'learning_rate': 0.005, 'lookback': 48, 'num_layers': 1, 'seed': 1337} 0.06181058054789901\n"
     ]
    },
    {
     "data": {
      "application/vnd.jupyter.widget-view+json": {
       "model_id": "3195028ebf5a42afa9872c9a6fb3630e",
       "version_major": 2,
       "version_minor": 0
      },
      "text/plain": [
       "Iterating epochs:   0%|          | 0/125 [00:00<?, ?it/s]"
      ]
     },
     "metadata": {},
     "output_type": "display_data"
    },
    {
     "name": "stdout",
     "output_type": "stream",
     "text": [
      "{'batch_size': 64, 'learning_rate': 0.005, 'lookback': 48, 'num_layers': 1, 'seed': 12648430} 0.06246562581509352\n"
     ]
    },
    {
     "data": {
      "application/vnd.jupyter.widget-view+json": {
       "model_id": "c8a5c471ac6548eeb768f33f1800430a",
       "version_major": 2,
       "version_minor": 0
      },
      "text/plain": [
       "Iterating epochs:   0%|          | 0/125 [00:00<?, ?it/s]"
      ]
     },
     "metadata": {},
     "output_type": "display_data"
    },
    {
     "name": "stdout",
     "output_type": "stream",
     "text": [
      "{'batch_size': 64, 'learning_rate': 0.005, 'lookback': 48, 'num_layers': 1, 'seed': 3735928559} 0.06375032966025174\n"
     ]
    },
    {
     "data": {
      "application/vnd.jupyter.widget-view+json": {
       "model_id": "628092e26d704db99266f38d4acfefc2",
       "version_major": 2,
       "version_minor": 0
      },
      "text/plain": [
       "Iterating epochs:   0%|          | 0/125 [00:00<?, ?it/s]"
      ]
     },
     "metadata": {},
     "output_type": "display_data"
    },
    {
     "name": "stdout",
     "output_type": "stream",
     "text": [
      "{'batch_size': 64, 'learning_rate': 0.005, 'lookback': 48, 'num_layers': 2, 'seed': 1337} 0.06654313881881535\n"
     ]
    },
    {
     "data": {
      "application/vnd.jupyter.widget-view+json": {
       "model_id": "4886b8051ec24d029fdce565a16275c4",
       "version_major": 2,
       "version_minor": 0
      },
      "text/plain": [
       "Iterating epochs:   0%|          | 0/125 [00:00<?, ?it/s]"
      ]
     },
     "metadata": {},
     "output_type": "display_data"
    },
    {
     "name": "stdout",
     "output_type": "stream",
     "text": [
      "{'batch_size': 64, 'learning_rate': 0.005, 'lookback': 48, 'num_layers': 2, 'seed': 12648430} 0.07197845680639148\n"
     ]
    },
    {
     "data": {
      "application/vnd.jupyter.widget-view+json": {
       "model_id": "4eded74f4bfa40328dbeccf10c42397d",
       "version_major": 2,
       "version_minor": 0
      },
      "text/plain": [
       "Iterating epochs:   0%|          | 0/125 [00:00<?, ?it/s]"
      ]
     },
     "metadata": {},
     "output_type": "display_data"
    },
    {
     "name": "stdout",
     "output_type": "stream",
     "text": [
      "{'batch_size': 64, 'learning_rate': 0.005, 'lookback': 48, 'num_layers': 2, 'seed': 3735928559} 0.06393929955083877\n"
     ]
    },
    {
     "data": {
      "application/vnd.jupyter.widget-view+json": {
       "model_id": "ebf8acc797be4b268cad3a75e6dc1b99",
       "version_major": 2,
       "version_minor": 0
      },
      "text/plain": [
       "Iterating epochs:   0%|          | 0/125 [00:00<?, ?it/s]"
      ]
     },
     "metadata": {},
     "output_type": "display_data"
    },
    {
     "name": "stdout",
     "output_type": "stream",
     "text": [
      "{'batch_size': 64, 'learning_rate': 0.005, 'lookback': 96, 'num_layers': 1, 'seed': 1337} 0.06201640656217933\n"
     ]
    },
    {
     "data": {
      "application/vnd.jupyter.widget-view+json": {
       "model_id": "b11356de17694cc1bb055ee9101e29fe",
       "version_major": 2,
       "version_minor": 0
      },
      "text/plain": [
       "Iterating epochs:   0%|          | 0/125 [00:00<?, ?it/s]"
      ]
     },
     "metadata": {},
     "output_type": "display_data"
    },
    {
     "name": "stdout",
     "output_type": "stream",
     "text": [
      "{'batch_size': 64, 'learning_rate': 0.005, 'lookback': 96, 'num_layers': 1, 'seed': 12648430} 0.06296850787475705\n"
     ]
    },
    {
     "data": {
      "application/vnd.jupyter.widget-view+json": {
       "model_id": "7fc785c9f2d04dbc85323f4345a367e4",
       "version_major": 2,
       "version_minor": 0
      },
      "text/plain": [
       "Iterating epochs:   0%|          | 0/125 [00:00<?, ?it/s]"
      ]
     },
     "metadata": {},
     "output_type": "display_data"
    },
    {
     "name": "stdout",
     "output_type": "stream",
     "text": [
      "{'batch_size': 64, 'learning_rate': 0.005, 'lookback': 96, 'num_layers': 1, 'seed': 3735928559} 0.06289108050987124\n"
     ]
    },
    {
     "data": {
      "application/vnd.jupyter.widget-view+json": {
       "model_id": "f81bac8bc9e942fe97b1101ca48eac3d",
       "version_major": 2,
       "version_minor": 0
      },
      "text/plain": [
       "Iterating epochs:   0%|          | 0/125 [00:00<?, ?it/s]"
      ]
     },
     "metadata": {},
     "output_type": "display_data"
    },
    {
     "name": "stdout",
     "output_type": "stream",
     "text": [
      "{'batch_size': 64, 'learning_rate': 0.005, 'lookback': 96, 'num_layers': 2, 'seed': 1337} 0.06503251986578107\n"
     ]
    },
    {
     "data": {
      "application/vnd.jupyter.widget-view+json": {
       "model_id": "eece9c916e1b408b812c652034bce258",
       "version_major": 2,
       "version_minor": 0
      },
      "text/plain": [
       "Iterating epochs:   0%|          | 0/125 [00:00<?, ?it/s]"
      ]
     },
     "metadata": {},
     "output_type": "display_data"
    },
    {
     "name": "stdout",
     "output_type": "stream",
     "text": [
      "{'batch_size': 64, 'learning_rate': 0.005, 'lookback': 96, 'num_layers': 2, 'seed': 12648430} 0.0673388303257525\n"
     ]
    },
    {
     "data": {
      "application/vnd.jupyter.widget-view+json": {
       "model_id": "6f6a350ca8094ebbb4a20fde49cca158",
       "version_major": 2,
       "version_minor": 0
      },
      "text/plain": [
       "Iterating epochs:   0%|          | 0/125 [00:00<?, ?it/s]"
      ]
     },
     "metadata": {},
     "output_type": "display_data"
    },
    {
     "name": "stdout",
     "output_type": "stream",
     "text": [
      "{'batch_size': 64, 'learning_rate': 0.005, 'lookback': 96, 'num_layers': 2, 'seed': 3735928559} 0.06487371260300279\n"
     ]
    },
    {
     "data": {
      "application/vnd.jupyter.widget-view+json": {
       "model_id": "59411a3045514970a864365503940559",
       "version_major": 2,
       "version_minor": 0
      },
      "text/plain": [
       "Iterating epochs:   0%|          | 0/125 [00:00<?, ?it/s]"
      ]
     },
     "metadata": {},
     "output_type": "display_data"
    },
    {
     "name": "stdout",
     "output_type": "stream",
     "text": [
      "{'batch_size': 128, 'learning_rate': 0.001, 'lookback': 36, 'num_layers': 1, 'seed': 1337} 0.07709404919296503\n"
     ]
    },
    {
     "data": {
      "application/vnd.jupyter.widget-view+json": {
       "model_id": "417dcce88cdc4e2bb4c5752b8418345b",
       "version_major": 2,
       "version_minor": 0
      },
      "text/plain": [
       "Iterating epochs:   0%|          | 0/125 [00:00<?, ?it/s]"
      ]
     },
     "metadata": {},
     "output_type": "display_data"
    },
    {
     "name": "stdout",
     "output_type": "stream",
     "text": [
      "{'batch_size': 128, 'learning_rate': 0.001, 'lookback': 36, 'num_layers': 1, 'seed': 12648430} 0.0691418657079339\n"
     ]
    },
    {
     "data": {
      "application/vnd.jupyter.widget-view+json": {
       "model_id": "2a4e6f5e0dba454eae05746f7cd5d0dc",
       "version_major": 2,
       "version_minor": 0
      },
      "text/plain": [
       "Iterating epochs:   0%|          | 0/125 [00:00<?, ?it/s]"
      ]
     },
     "metadata": {},
     "output_type": "display_data"
    },
    {
     "name": "stdout",
     "output_type": "stream",
     "text": [
      "{'batch_size': 128, 'learning_rate': 0.001, 'lookback': 36, 'num_layers': 1, 'seed': 3735928559} 0.06768565531820059\n"
     ]
    },
    {
     "data": {
      "application/vnd.jupyter.widget-view+json": {
       "model_id": "8f948c9a061e40669dd74c662cffc967",
       "version_major": 2,
       "version_minor": 0
      },
      "text/plain": [
       "Iterating epochs:   0%|          | 0/125 [00:00<?, ?it/s]"
      ]
     },
     "metadata": {},
     "output_type": "display_data"
    },
    {
     "name": "stdout",
     "output_type": "stream",
     "text": [
      "{'batch_size': 128, 'learning_rate': 0.001, 'lookback': 36, 'num_layers': 2, 'seed': 1337} 0.0673767738044262\n"
     ]
    },
    {
     "data": {
      "application/vnd.jupyter.widget-view+json": {
       "model_id": "8e4a84e25e7d4c56bbb23b8d5295450d",
       "version_major": 2,
       "version_minor": 0
      },
      "text/plain": [
       "Iterating epochs:   0%|          | 0/125 [00:00<?, ?it/s]"
      ]
     },
     "metadata": {},
     "output_type": "display_data"
    },
    {
     "name": "stdout",
     "output_type": "stream",
     "text": [
      "{'batch_size': 128, 'learning_rate': 0.001, 'lookback': 36, 'num_layers': 2, 'seed': 12648430} 0.06851191073656082\n"
     ]
    },
    {
     "data": {
      "application/vnd.jupyter.widget-view+json": {
       "model_id": "edad334e0d024d0fb879e05a4812436e",
       "version_major": 2,
       "version_minor": 0
      },
      "text/plain": [
       "Iterating epochs:   0%|          | 0/125 [00:00<?, ?it/s]"
      ]
     },
     "metadata": {},
     "output_type": "display_data"
    },
    {
     "name": "stdout",
     "output_type": "stream",
     "text": [
      "{'batch_size': 128, 'learning_rate': 0.001, 'lookback': 36, 'num_layers': 2, 'seed': 3735928559} 0.0799094308167696\n"
     ]
    },
    {
     "data": {
      "application/vnd.jupyter.widget-view+json": {
       "model_id": "7ea64411cf5f49609439d4489276f5c4",
       "version_major": 2,
       "version_minor": 0
      },
      "text/plain": [
       "Iterating epochs:   0%|          | 0/125 [00:00<?, ?it/s]"
      ]
     },
     "metadata": {},
     "output_type": "display_data"
    },
    {
     "name": "stdout",
     "output_type": "stream",
     "text": [
      "{'batch_size': 128, 'learning_rate': 0.001, 'lookback': 48, 'num_layers': 1, 'seed': 1337} 0.08371692057698965\n"
     ]
    },
    {
     "data": {
      "application/vnd.jupyter.widget-view+json": {
       "model_id": "44faac6003bd46948a0ae53462ea1e01",
       "version_major": 2,
       "version_minor": 0
      },
      "text/plain": [
       "Iterating epochs:   0%|          | 0/125 [00:00<?, ?it/s]"
      ]
     },
     "metadata": {},
     "output_type": "display_data"
    },
    {
     "name": "stdout",
     "output_type": "stream",
     "text": [
      "{'batch_size': 128, 'learning_rate': 0.001, 'lookback': 48, 'num_layers': 1, 'seed': 12648430} 0.06925328727811575\n"
     ]
    },
    {
     "data": {
      "application/vnd.jupyter.widget-view+json": {
       "model_id": "bc23dcaeeb6e4543b540af1c8af52e54",
       "version_major": 2,
       "version_minor": 0
      },
      "text/plain": [
       "Iterating epochs:   0%|          | 0/125 [00:00<?, ?it/s]"
      ]
     },
     "metadata": {},
     "output_type": "display_data"
    },
    {
     "name": "stdout",
     "output_type": "stream",
     "text": [
      "{'batch_size': 128, 'learning_rate': 0.001, 'lookback': 48, 'num_layers': 1, 'seed': 3735928559} 0.06681869737803936\n"
     ]
    },
    {
     "data": {
      "application/vnd.jupyter.widget-view+json": {
       "model_id": "1f928363ed384d68b3c5c7a68330b8fc",
       "version_major": 2,
       "version_minor": 0
      },
      "text/plain": [
       "Iterating epochs:   0%|          | 0/125 [00:00<?, ?it/s]"
      ]
     },
     "metadata": {},
     "output_type": "display_data"
    },
    {
     "name": "stdout",
     "output_type": "stream",
     "text": [
      "{'batch_size': 128, 'learning_rate': 0.001, 'lookback': 48, 'num_layers': 2, 'seed': 1337} 0.06718342658132315\n"
     ]
    },
    {
     "data": {
      "application/vnd.jupyter.widget-view+json": {
       "model_id": "2bdf9304bcca46f89cee3a1c03626658",
       "version_major": 2,
       "version_minor": 0
      },
      "text/plain": [
       "Iterating epochs:   0%|          | 0/125 [00:00<?, ?it/s]"
      ]
     },
     "metadata": {},
     "output_type": "display_data"
    },
    {
     "name": "stdout",
     "output_type": "stream",
     "text": [
      "{'batch_size': 128, 'learning_rate': 0.001, 'lookback': 48, 'num_layers': 2, 'seed': 12648430} 0.06715391762554646\n"
     ]
    },
    {
     "data": {
      "application/vnd.jupyter.widget-view+json": {
       "model_id": "b159cf7e3df048a4842325541c356afe",
       "version_major": 2,
       "version_minor": 0
      },
      "text/plain": [
       "Iterating epochs:   0%|          | 0/125 [00:00<?, ?it/s]"
      ]
     },
     "metadata": {},
     "output_type": "display_data"
    },
    {
     "name": "stdout",
     "output_type": "stream",
     "text": [
      "{'batch_size': 128, 'learning_rate': 0.001, 'lookback': 48, 'num_layers': 2, 'seed': 3735928559} 0.08142674621194601\n"
     ]
    },
    {
     "data": {
      "application/vnd.jupyter.widget-view+json": {
       "model_id": "1f5c46ebd3c54f9aa22f6c1925b4f3e6",
       "version_major": 2,
       "version_minor": 0
      },
      "text/plain": [
       "Iterating epochs:   0%|          | 0/125 [00:00<?, ?it/s]"
      ]
     },
     "metadata": {},
     "output_type": "display_data"
    },
    {
     "name": "stdout",
     "output_type": "stream",
     "text": [
      "{'batch_size': 128, 'learning_rate': 0.001, 'lookback': 96, 'num_layers': 1, 'seed': 1337} 0.06899540964514017\n"
     ]
    },
    {
     "data": {
      "application/vnd.jupyter.widget-view+json": {
       "model_id": "5f2decabc99b4bc1ad7fc4cbe22cef27",
       "version_major": 2,
       "version_minor": 0
      },
      "text/plain": [
       "Iterating epochs:   0%|          | 0/125 [00:00<?, ?it/s]"
      ]
     },
     "metadata": {},
     "output_type": "display_data"
    },
    {
     "name": "stdout",
     "output_type": "stream",
     "text": [
      "{'batch_size': 128, 'learning_rate': 0.001, 'lookback': 96, 'num_layers': 1, 'seed': 12648430} 0.07088200934231281\n"
     ]
    },
    {
     "data": {
      "application/vnd.jupyter.widget-view+json": {
       "model_id": "fc2c9c8dc70f4926ac0e0d8f4c3f543c",
       "version_major": 2,
       "version_minor": 0
      },
      "text/plain": [
       "Iterating epochs:   0%|          | 0/125 [00:00<?, ?it/s]"
      ]
     },
     "metadata": {},
     "output_type": "display_data"
    },
    {
     "name": "stdout",
     "output_type": "stream",
     "text": [
      "{'batch_size': 128, 'learning_rate': 0.001, 'lookback': 96, 'num_layers': 1, 'seed': 3735928559} 0.06725472584366798\n"
     ]
    },
    {
     "data": {
      "application/vnd.jupyter.widget-view+json": {
       "model_id": "9722aaac7a8646b69147836eebb7cbc9",
       "version_major": 2,
       "version_minor": 0
      },
      "text/plain": [
       "Iterating epochs:   0%|          | 0/125 [00:00<?, ?it/s]"
      ]
     },
     "metadata": {},
     "output_type": "display_data"
    },
    {
     "name": "stdout",
     "output_type": "stream",
     "text": [
      "{'batch_size': 128, 'learning_rate': 0.001, 'lookback': 96, 'num_layers': 2, 'seed': 1337} 0.0697645740583539\n"
     ]
    },
    {
     "data": {
      "application/vnd.jupyter.widget-view+json": {
       "model_id": "cc06cde1bb3d4068945cf544476c5e3c",
       "version_major": 2,
       "version_minor": 0
      },
      "text/plain": [
       "Iterating epochs:   0%|          | 0/125 [00:00<?, ?it/s]"
      ]
     },
     "metadata": {},
     "output_type": "display_data"
    },
    {
     "name": "stdout",
     "output_type": "stream",
     "text": [
      "{'batch_size': 128, 'learning_rate': 0.001, 'lookback': 96, 'num_layers': 2, 'seed': 12648430} 0.06826542690396309\n"
     ]
    },
    {
     "data": {
      "application/vnd.jupyter.widget-view+json": {
       "model_id": "bdde0a8bac8f4754b62fb0981e5cc807",
       "version_major": 2,
       "version_minor": 0
      },
      "text/plain": [
       "Iterating epochs:   0%|          | 0/125 [00:00<?, ?it/s]"
      ]
     },
     "metadata": {},
     "output_type": "display_data"
    },
    {
     "name": "stdout",
     "output_type": "stream",
     "text": [
      "{'batch_size': 128, 'learning_rate': 0.001, 'lookback': 96, 'num_layers': 2, 'seed': 3735928559} 0.08297797571867704\n"
     ]
    },
    {
     "data": {
      "application/vnd.jupyter.widget-view+json": {
       "model_id": "519c63f18ba1425c82690189880b0ca0",
       "version_major": 2,
       "version_minor": 0
      },
      "text/plain": [
       "Iterating epochs:   0%|          | 0/125 [00:00<?, ?it/s]"
      ]
     },
     "metadata": {},
     "output_type": "display_data"
    },
    {
     "name": "stdout",
     "output_type": "stream",
     "text": [
      "{'batch_size': 128, 'learning_rate': 0.003, 'lookback': 36, 'num_layers': 1, 'seed': 1337} 0.0619524996727705\n"
     ]
    },
    {
     "data": {
      "application/vnd.jupyter.widget-view+json": {
       "model_id": "678c37e59c1d46fcba07f9149e265f87",
       "version_major": 2,
       "version_minor": 0
      },
      "text/plain": [
       "Iterating epochs:   0%|          | 0/125 [00:00<?, ?it/s]"
      ]
     },
     "metadata": {},
     "output_type": "display_data"
    },
    {
     "name": "stdout",
     "output_type": "stream",
     "text": [
      "{'batch_size': 128, 'learning_rate': 0.003, 'lookback': 36, 'num_layers': 1, 'seed': 12648430} 0.06357977166771889\n"
     ]
    },
    {
     "data": {
      "application/vnd.jupyter.widget-view+json": {
       "model_id": "e7c65ee30a754f68a5a38501bdd1021c",
       "version_major": 2,
       "version_minor": 0
      },
      "text/plain": [
       "Iterating epochs:   0%|          | 0/125 [00:00<?, ?it/s]"
      ]
     },
     "metadata": {},
     "output_type": "display_data"
    },
    {
     "name": "stdout",
     "output_type": "stream",
     "text": [
      "{'batch_size': 128, 'learning_rate': 0.003, 'lookback': 36, 'num_layers': 1, 'seed': 3735928559} 0.05773421563208103\n"
     ]
    },
    {
     "data": {
      "application/vnd.jupyter.widget-view+json": {
       "model_id": "0be10810d3934c09b75de43296332873",
       "version_major": 2,
       "version_minor": 0
      },
      "text/plain": [
       "Iterating epochs:   0%|          | 0/125 [00:00<?, ?it/s]"
      ]
     },
     "metadata": {},
     "output_type": "display_data"
    },
    {
     "name": "stdout",
     "output_type": "stream",
     "text": [
      "{'batch_size': 128, 'learning_rate': 0.003, 'lookback': 36, 'num_layers': 2, 'seed': 1337} 0.06020926311612129\n"
     ]
    },
    {
     "data": {
      "application/vnd.jupyter.widget-view+json": {
       "model_id": "654f15489665466e934039d6f7d89d00",
       "version_major": 2,
       "version_minor": 0
      },
      "text/plain": [
       "Iterating epochs:   0%|          | 0/125 [00:00<?, ?it/s]"
      ]
     },
     "metadata": {},
     "output_type": "display_data"
    },
    {
     "name": "stdout",
     "output_type": "stream",
     "text": [
      "{'batch_size': 128, 'learning_rate': 0.003, 'lookback': 36, 'num_layers': 2, 'seed': 12648430} 0.0598492156714201\n"
     ]
    },
    {
     "data": {
      "application/vnd.jupyter.widget-view+json": {
       "model_id": "01bfb47149954f9a9f7b17fa8c7809b9",
       "version_major": 2,
       "version_minor": 0
      },
      "text/plain": [
       "Iterating epochs:   0%|          | 0/125 [00:00<?, ?it/s]"
      ]
     },
     "metadata": {},
     "output_type": "display_data"
    },
    {
     "name": "stdout",
     "output_type": "stream",
     "text": [
      "{'batch_size': 128, 'learning_rate': 0.003, 'lookback': 36, 'num_layers': 2, 'seed': 3735928559} 0.06623471528291702\n"
     ]
    },
    {
     "data": {
      "application/vnd.jupyter.widget-view+json": {
       "model_id": "2fec458bfe824cb18cf8eecb5e33fa02",
       "version_major": 2,
       "version_minor": 0
      },
      "text/plain": [
       "Iterating epochs:   0%|          | 0/125 [00:00<?, ?it/s]"
      ]
     },
     "metadata": {},
     "output_type": "display_data"
    },
    {
     "name": "stdout",
     "output_type": "stream",
     "text": [
      "{'batch_size': 128, 'learning_rate': 0.003, 'lookback': 48, 'num_layers': 1, 'seed': 1337} 0.06216941215097904\n"
     ]
    },
    {
     "data": {
      "application/vnd.jupyter.widget-view+json": {
       "model_id": "56b555e67da04b4783b92a8ba4c1a788",
       "version_major": 2,
       "version_minor": 0
      },
      "text/plain": [
       "Iterating epochs:   0%|          | 0/125 [00:00<?, ?it/s]"
      ]
     },
     "metadata": {},
     "output_type": "display_data"
    },
    {
     "name": "stdout",
     "output_type": "stream",
     "text": [
      "{'batch_size': 128, 'learning_rate': 0.003, 'lookback': 48, 'num_layers': 1, 'seed': 12648430} 0.06301280297338963\n"
     ]
    },
    {
     "data": {
      "application/vnd.jupyter.widget-view+json": {
       "model_id": "b8708194c432489fa261b91978b4ddce",
       "version_major": 2,
       "version_minor": 0
      },
      "text/plain": [
       "Iterating epochs:   0%|          | 0/125 [00:00<?, ?it/s]"
      ]
     },
     "metadata": {},
     "output_type": "display_data"
    },
    {
     "name": "stdout",
     "output_type": "stream",
     "text": [
      "{'batch_size': 128, 'learning_rate': 0.003, 'lookback': 48, 'num_layers': 1, 'seed': 3735928559} 0.061111172661185265\n"
     ]
    },
    {
     "data": {
      "application/vnd.jupyter.widget-view+json": {
       "model_id": "00606e93704641f0a010b908e24902b4",
       "version_major": 2,
       "version_minor": 0
      },
      "text/plain": [
       "Iterating epochs:   0%|          | 0/125 [00:00<?, ?it/s]"
      ]
     },
     "metadata": {},
     "output_type": "display_data"
    },
    {
     "name": "stdout",
     "output_type": "stream",
     "text": [
      "{'batch_size': 128, 'learning_rate': 0.003, 'lookback': 48, 'num_layers': 2, 'seed': 1337} 0.057708620093762875\n"
     ]
    },
    {
     "data": {
      "application/vnd.jupyter.widget-view+json": {
       "model_id": "022fcdc9e6d64757856b187b053ca77f",
       "version_major": 2,
       "version_minor": 0
      },
      "text/plain": [
       "Iterating epochs:   0%|          | 0/125 [00:00<?, ?it/s]"
      ]
     },
     "metadata": {},
     "output_type": "display_data"
    },
    {
     "name": "stdout",
     "output_type": "stream",
     "text": [
      "{'batch_size': 128, 'learning_rate': 0.003, 'lookback': 48, 'num_layers': 2, 'seed': 12648430} 0.06406255904585123\n"
     ]
    },
    {
     "data": {
      "application/vnd.jupyter.widget-view+json": {
       "model_id": "f8e4ecfeb22c4d2a99905fe68a3fd36c",
       "version_major": 2,
       "version_minor": 0
      },
      "text/plain": [
       "Iterating epochs:   0%|          | 0/125 [00:00<?, ?it/s]"
      ]
     },
     "metadata": {},
     "output_type": "display_data"
    },
    {
     "name": "stdout",
     "output_type": "stream",
     "text": [
      "{'batch_size': 128, 'learning_rate': 0.003, 'lookback': 48, 'num_layers': 2, 'seed': 3735928559} 0.06641458906233311\n"
     ]
    },
    {
     "data": {
      "application/vnd.jupyter.widget-view+json": {
       "model_id": "d53ba52e7f23405bb1a65c0947d0ab95",
       "version_major": 2,
       "version_minor": 0
      },
      "text/plain": [
       "Iterating epochs:   0%|          | 0/125 [00:00<?, ?it/s]"
      ]
     },
     "metadata": {},
     "output_type": "display_data"
    },
    {
     "name": "stdout",
     "output_type": "stream",
     "text": [
      "{'batch_size': 128, 'learning_rate': 0.003, 'lookback': 96, 'num_layers': 1, 'seed': 1337} 0.0622046934440732\n"
     ]
    },
    {
     "data": {
      "application/vnd.jupyter.widget-view+json": {
       "model_id": "d5ed9200679541d7b71c31fa12c12ae3",
       "version_major": 2,
       "version_minor": 0
      },
      "text/plain": [
       "Iterating epochs:   0%|          | 0/125 [00:00<?, ?it/s]"
      ]
     },
     "metadata": {},
     "output_type": "display_data"
    },
    {
     "name": "stdout",
     "output_type": "stream",
     "text": [
      "{'batch_size': 128, 'learning_rate': 0.003, 'lookback': 96, 'num_layers': 1, 'seed': 12648430} 0.06336375884711742\n"
     ]
    },
    {
     "data": {
      "application/vnd.jupyter.widget-view+json": {
       "model_id": "840d2a40ce29413e8f77dd2433d3f821",
       "version_major": 2,
       "version_minor": 0
      },
      "text/plain": [
       "Iterating epochs:   0%|          | 0/125 [00:00<?, ?it/s]"
      ]
     },
     "metadata": {},
     "output_type": "display_data"
    },
    {
     "name": "stdout",
     "output_type": "stream",
     "text": [
      "{'batch_size': 128, 'learning_rate': 0.003, 'lookback': 96, 'num_layers': 1, 'seed': 3735928559} 0.06379985343664885\n"
     ]
    },
    {
     "data": {
      "application/vnd.jupyter.widget-view+json": {
       "model_id": "ab7b0e10b81d4992b49738e09ca3cf60",
       "version_major": 2,
       "version_minor": 0
      },
      "text/plain": [
       "Iterating epochs:   0%|          | 0/125 [00:00<?, ?it/s]"
      ]
     },
     "metadata": {},
     "output_type": "display_data"
    },
    {
     "name": "stdout",
     "output_type": "stream",
     "text": [
      "{'batch_size': 128, 'learning_rate': 0.003, 'lookback': 96, 'num_layers': 2, 'seed': 1337} 0.05863210838288069\n"
     ]
    },
    {
     "data": {
      "application/vnd.jupyter.widget-view+json": {
       "model_id": "936489285d2841548a50d55e8d02e9bc",
       "version_major": 2,
       "version_minor": 0
      },
      "text/plain": [
       "Iterating epochs:   0%|          | 0/125 [00:00<?, ?it/s]"
      ]
     },
     "metadata": {},
     "output_type": "display_data"
    },
    {
     "name": "stdout",
     "output_type": "stream",
     "text": [
      "{'batch_size': 128, 'learning_rate': 0.003, 'lookback': 96, 'num_layers': 2, 'seed': 12648430} 0.06090352311730385\n"
     ]
    },
    {
     "data": {
      "application/vnd.jupyter.widget-view+json": {
       "model_id": "ce6cd5880eb4431e85cb5f0145776ee1",
       "version_major": 2,
       "version_minor": 0
      },
      "text/plain": [
       "Iterating epochs:   0%|          | 0/125 [00:00<?, ?it/s]"
      ]
     },
     "metadata": {},
     "output_type": "display_data"
    },
    {
     "name": "stdout",
     "output_type": "stream",
     "text": [
      "{'batch_size': 128, 'learning_rate': 0.003, 'lookback': 96, 'num_layers': 2, 'seed': 3735928559} 0.06356811989098787\n"
     ]
    },
    {
     "data": {
      "application/vnd.jupyter.widget-view+json": {
       "model_id": "7ba8e93fe30c488fa6b2401236028c7b",
       "version_major": 2,
       "version_minor": 0
      },
      "text/plain": [
       "Iterating epochs:   0%|          | 0/125 [00:00<?, ?it/s]"
      ]
     },
     "metadata": {},
     "output_type": "display_data"
    },
    {
     "name": "stdout",
     "output_type": "stream",
     "text": [
      "{'batch_size': 128, 'learning_rate': 0.005, 'lookback': 36, 'num_layers': 1, 'seed': 1337} 0.052981024608016014\n"
     ]
    },
    {
     "data": {
      "application/vnd.jupyter.widget-view+json": {
       "model_id": "d4f10eea5a7242d7b77016e65dc9e828",
       "version_major": 2,
       "version_minor": 0
      },
      "text/plain": [
       "Iterating epochs:   0%|          | 0/125 [00:00<?, ?it/s]"
      ]
     },
     "metadata": {},
     "output_type": "display_data"
    },
    {
     "name": "stdout",
     "output_type": "stream",
     "text": [
      "{'batch_size': 128, 'learning_rate': 0.005, 'lookback': 36, 'num_layers': 1, 'seed': 12648430} 0.060001738369464874\n"
     ]
    },
    {
     "data": {
      "application/vnd.jupyter.widget-view+json": {
       "model_id": "ce300b27e7a24c7c981b07482f784ab0",
       "version_major": 2,
       "version_minor": 0
      },
      "text/plain": [
       "Iterating epochs:   0%|          | 0/125 [00:00<?, ?it/s]"
      ]
     },
     "metadata": {},
     "output_type": "display_data"
    },
    {
     "name": "stdout",
     "output_type": "stream",
     "text": [
      "{'batch_size': 128, 'learning_rate': 0.005, 'lookback': 36, 'num_layers': 1, 'seed': 3735928559} 0.055900064297020435\n"
     ]
    },
    {
     "data": {
      "application/vnd.jupyter.widget-view+json": {
       "model_id": "f19f5b7062504b729394dd7e8351be76",
       "version_major": 2,
       "version_minor": 0
      },
      "text/plain": [
       "Iterating epochs:   0%|          | 0/125 [00:00<?, ?it/s]"
      ]
     },
     "metadata": {},
     "output_type": "display_data"
    },
    {
     "name": "stdout",
     "output_type": "stream",
     "text": [
      "{'batch_size': 128, 'learning_rate': 0.005, 'lookback': 36, 'num_layers': 2, 'seed': 1337} 0.06353272125124931\n"
     ]
    },
    {
     "data": {
      "application/vnd.jupyter.widget-view+json": {
       "model_id": "3340ab4bc7bc427993dd899c5dd8f76e",
       "version_major": 2,
       "version_minor": 0
      },
      "text/plain": [
       "Iterating epochs:   0%|          | 0/125 [00:00<?, ?it/s]"
      ]
     },
     "metadata": {},
     "output_type": "display_data"
    },
    {
     "name": "stdout",
     "output_type": "stream",
     "text": [
      "{'batch_size': 128, 'learning_rate': 0.005, 'lookback': 36, 'num_layers': 2, 'seed': 12648430} 0.059673333540558815\n"
     ]
    },
    {
     "data": {
      "application/vnd.jupyter.widget-view+json": {
       "model_id": "5bc5968c05d74ccb9645b186214d19cb",
       "version_major": 2,
       "version_minor": 0
      },
      "text/plain": [
       "Iterating epochs:   0%|          | 0/125 [00:00<?, ?it/s]"
      ]
     },
     "metadata": {},
     "output_type": "display_data"
    },
    {
     "name": "stdout",
     "output_type": "stream",
     "text": [
      "{'batch_size': 128, 'learning_rate': 0.005, 'lookback': 36, 'num_layers': 2, 'seed': 3735928559} 0.06378745101392269\n"
     ]
    },
    {
     "data": {
      "application/vnd.jupyter.widget-view+json": {
       "model_id": "6df456959e6945788c84aef498026f46",
       "version_major": 2,
       "version_minor": 0
      },
      "text/plain": [
       "Iterating epochs:   0%|          | 0/125 [00:00<?, ?it/s]"
      ]
     },
     "metadata": {},
     "output_type": "display_data"
    },
    {
     "name": "stdout",
     "output_type": "stream",
     "text": [
      "{'batch_size': 128, 'learning_rate': 0.005, 'lookback': 48, 'num_layers': 1, 'seed': 1337} 0.05297682620584965\n"
     ]
    },
    {
     "data": {
      "application/vnd.jupyter.widget-view+json": {
       "model_id": "4307abb1bb09442ab01128fad91604c4",
       "version_major": 2,
       "version_minor": 0
      },
      "text/plain": [
       "Iterating epochs:   0%|          | 0/125 [00:00<?, ?it/s]"
      ]
     },
     "metadata": {},
     "output_type": "display_data"
    },
    {
     "name": "stdout",
     "output_type": "stream",
     "text": [
      "{'batch_size': 128, 'learning_rate': 0.005, 'lookback': 48, 'num_layers': 1, 'seed': 12648430} 0.06334334891289473\n"
     ]
    },
    {
     "data": {
      "application/vnd.jupyter.widget-view+json": {
       "model_id": "73aa1f4d73494b6d9a27ad22662d8be8",
       "version_major": 2,
       "version_minor": 0
      },
      "text/plain": [
       "Iterating epochs:   0%|          | 0/125 [00:00<?, ?it/s]"
      ]
     },
     "metadata": {},
     "output_type": "display_data"
    },
    {
     "name": "stdout",
     "output_type": "stream",
     "text": [
      "{'batch_size': 128, 'learning_rate': 0.005, 'lookback': 48, 'num_layers': 1, 'seed': 3735928559} 0.054918911308050156\n"
     ]
    },
    {
     "data": {
      "application/vnd.jupyter.widget-view+json": {
       "model_id": "aa12c94ecbd140c7a5b2e5f4117ee55b",
       "version_major": 2,
       "version_minor": 0
      },
      "text/plain": [
       "Iterating epochs:   0%|          | 0/125 [00:00<?, ?it/s]"
      ]
     },
     "metadata": {},
     "output_type": "display_data"
    },
    {
     "name": "stdout",
     "output_type": "stream",
     "text": [
      "{'batch_size': 128, 'learning_rate': 0.005, 'lookback': 48, 'num_layers': 2, 'seed': 1337} 0.05906347464770079\n"
     ]
    },
    {
     "data": {
      "application/vnd.jupyter.widget-view+json": {
       "model_id": "d322f611b7b2475f9198dbfa6a74c08b",
       "version_major": 2,
       "version_minor": 0
      },
      "text/plain": [
       "Iterating epochs:   0%|          | 0/125 [00:00<?, ?it/s]"
      ]
     },
     "metadata": {},
     "output_type": "display_data"
    },
    {
     "name": "stdout",
     "output_type": "stream",
     "text": [
      "{'batch_size': 128, 'learning_rate': 0.005, 'lookback': 48, 'num_layers': 2, 'seed': 12648430} 0.06627688929438591\n"
     ]
    },
    {
     "data": {
      "application/vnd.jupyter.widget-view+json": {
       "model_id": "65f8fcd0273e44f9adeac098b438b315",
       "version_major": 2,
       "version_minor": 0
      },
      "text/plain": [
       "Iterating epochs:   0%|          | 0/125 [00:00<?, ?it/s]"
      ]
     },
     "metadata": {},
     "output_type": "display_data"
    },
    {
     "name": "stdout",
     "output_type": "stream",
     "text": [
      "{'batch_size': 128, 'learning_rate': 0.005, 'lookback': 48, 'num_layers': 2, 'seed': 3735928559} 0.06126847118139267\n"
     ]
    },
    {
     "data": {
      "application/vnd.jupyter.widget-view+json": {
       "model_id": "348c706430cb45409b8e7510c4e135c9",
       "version_major": 2,
       "version_minor": 0
      },
      "text/plain": [
       "Iterating epochs:   0%|          | 0/125 [00:00<?, ?it/s]"
      ]
     },
     "metadata": {},
     "output_type": "display_data"
    },
    {
     "name": "stdout",
     "output_type": "stream",
     "text": [
      "{'batch_size': 128, 'learning_rate': 0.005, 'lookback': 96, 'num_layers': 1, 'seed': 1337} 0.053326843306422234\n"
     ]
    },
    {
     "data": {
      "application/vnd.jupyter.widget-view+json": {
       "model_id": "72c91188c78a46ee8cc1798a5fec6acd",
       "version_major": 2,
       "version_minor": 0
      },
      "text/plain": [
       "Iterating epochs:   0%|          | 0/125 [00:00<?, ?it/s]"
      ]
     },
     "metadata": {},
     "output_type": "display_data"
    },
    {
     "name": "stdout",
     "output_type": "stream",
     "text": [
      "{'batch_size': 128, 'learning_rate': 0.005, 'lookback': 96, 'num_layers': 1, 'seed': 12648430} 0.06327097862958908\n"
     ]
    },
    {
     "data": {
      "application/vnd.jupyter.widget-view+json": {
       "model_id": "b4026376849044979dd6011c3d8438c8",
       "version_major": 2,
       "version_minor": 0
      },
      "text/plain": [
       "Iterating epochs:   0%|          | 0/125 [00:00<?, ?it/s]"
      ]
     },
     "metadata": {},
     "output_type": "display_data"
    },
    {
     "name": "stdout",
     "output_type": "stream",
     "text": [
      "{'batch_size': 128, 'learning_rate': 0.005, 'lookback': 96, 'num_layers': 1, 'seed': 3735928559} 0.05435954965651035\n"
     ]
    },
    {
     "data": {
      "application/vnd.jupyter.widget-view+json": {
       "model_id": "8cd0010869a644dbb9e4880e6ba05de7",
       "version_major": 2,
       "version_minor": 0
      },
      "text/plain": [
       "Iterating epochs:   0%|          | 0/125 [00:00<?, ?it/s]"
      ]
     },
     "metadata": {},
     "output_type": "display_data"
    },
    {
     "name": "stdout",
     "output_type": "stream",
     "text": [
      "{'batch_size': 128, 'learning_rate': 0.005, 'lookback': 96, 'num_layers': 2, 'seed': 1337} 0.05591322109103203\n"
     ]
    },
    {
     "data": {
      "application/vnd.jupyter.widget-view+json": {
       "model_id": "3427eed20dc94641a30b105e8ce3089f",
       "version_major": 2,
       "version_minor": 0
      },
      "text/plain": [
       "Iterating epochs:   0%|          | 0/125 [00:00<?, ?it/s]"
      ]
     },
     "metadata": {},
     "output_type": "display_data"
    },
    {
     "name": "stdout",
     "output_type": "stream",
     "text": [
      "{'batch_size': 128, 'learning_rate': 0.005, 'lookback': 96, 'num_layers': 2, 'seed': 12648430} 0.06685221381485462\n"
     ]
    },
    {
     "data": {
      "application/vnd.jupyter.widget-view+json": {
       "model_id": "4e09e8cb0f2a4befa0cb8f2c676701ac",
       "version_major": 2,
       "version_minor": 0
      },
      "text/plain": [
       "Iterating epochs:   0%|          | 0/125 [00:00<?, ?it/s]"
      ]
     },
     "metadata": {},
     "output_type": "display_data"
    },
    {
     "name": "stdout",
     "output_type": "stream",
     "text": [
      "{'batch_size': 128, 'learning_rate': 0.005, 'lookback': 96, 'num_layers': 2, 'seed': 3735928559} 0.0588801484555006\n"
     ]
    }
   ],
   "source": [
    "results = []\n",
    "seed_counter = 0\n",
    "avg_param_loss = 0\n",
    "for params in ParameterGrid(gridsearch_params):\n",
    "    early_stopper.reset()\n",
    "    v_loss, model = train_with_params(params)\n",
    "    print(params, v_loss)\n",
    "\n",
    "    avg_param_loss += v_loss\n",
    "    seed_counter += 1\n",
    "    # Check if the 3 different seeds have been trained\n",
    "    if seed_counter >= 3:\n",
    "        # Remove the seed as we don't need to keep track of it\n",
    "        parameters_without_seed = params\n",
    "        del parameters_without_seed[\"seed\"]\n",
    "\n",
    "        # Append the average loss with the corresponding parameters\n",
    "        results.append([avg_param_loss / 3, parameters_without_seed])\n",
    "\n",
    "        # Reset counter and loss\n",
    "        seed_counter = 0\n",
    "        avg_param_loss = 0"
   ]
  },
  {
   "cell_type": "markdown",
   "id": "349287a8",
   "metadata": {},
   "source": [
    "Sort the results and save the best 3 parameters"
   ]
  },
  {
   "cell_type": "code",
   "execution_count": 8,
   "id": "9490ffef",
   "metadata": {},
   "outputs": [
    {
     "name": "stdout",
     "output_type": "stream",
     "text": [
      "Best Hyperparameters: {'batch_size': 128, 'learning_rate': 0.005, 'lookback': 36, 'num_layers': 1}\n",
      "Best Validation Loss: 0.05629427575816711\n"
     ]
    }
   ],
   "source": [
    "results = sorted(results)\n",
    "print(\"Best Hyperparameters:\", results[0][1])\n",
    "print(\"Best Validation Loss:\", results[0][0])\n",
    "save_parameters(experiment_name, results[0][1], results[0][0])"
   ]
  }
 ],
 "metadata": {
  "kernelspec": {
   "display_name": "Python 3 (ipykernel)",
   "language": "python",
   "name": "python3"
  },
  "language_info": {
   "codemirror_mode": {
    "name": "ipython",
    "version": 3
   },
   "file_extension": ".py",
   "mimetype": "text/x-python",
   "name": "python",
   "nbconvert_exporter": "python",
   "pygments_lexer": "ipython3",
   "version": "3.12.7"
  }
 },
 "nbformat": 4,
 "nbformat_minor": 5
}
