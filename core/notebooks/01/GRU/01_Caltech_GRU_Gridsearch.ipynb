{
 "cells": [
  {
   "cell_type": "markdown",
   "id": "50b515ff",
   "metadata": {},
   "source": [
    "# (Gridsearch) 01 GRU Caltech"
   ]
  },
  {
   "cell_type": "code",
   "execution_count": 1,
   "id": "7a53ff3e-2f69-4006-b19c-664cfd80250e",
   "metadata": {
    "scrolled": true
   },
   "outputs": [],
   "source": [
    "import torch\n",
    "from core.util.hyperparameter_configuration import get_hyperparameter_configuration\n",
    "from core.util.get_datasets import split_caltech_data\n",
    "from core.models.model_training import train_model\n",
    "from sklearn.model_selection import ParameterGrid\n",
    "from core.util.save_model import save_parameters\n",
    "from core.util.trefor_dataset import TreforData\n",
    "from torch.utils.data import DataLoader\n",
    "from core.models import GRU"
   ]
  },
  {
   "cell_type": "markdown",
   "id": "2075cc1b",
   "metadata": {},
   "source": [
    "## Configuration\n",
    "Parameters specific to this experiment"
   ]
  },
  {
   "cell_type": "code",
   "execution_count": 2,
   "id": "6a5b6af2-0e3b-4139-a043-50ff64a48252",
   "metadata": {},
   "outputs": [],
   "source": [
    "experiment_name = \"01_GRU_Caltech\"\n",
    "features = {\n",
    "    \"Month_x\": True,\n",
    "    \"Month_y\": True,\n",
    "    \"Hour_x\": True,\n",
    "    \"Hour_y\": True,\n",
    "    \"Day_x\": True,\n",
    "    \"Day_y\": True,\n",
    "}\n",
    "model_input_size = len(features) + 1\n",
    "model_used = GRU"
   ]
  },
  {
   "cell_type": "markdown",
   "id": "ad8a7b4c-5116-49ba-8b00-8cff736e5db6",
   "metadata": {},
   "source": [
    "All the parameters we do grid search on"
   ]
  },
  {
   "cell_type": "code",
   "execution_count": 3,
   "id": "130c37ae-df00-4922-bfda-a9699cbf9558",
   "metadata": {},
   "outputs": [],
   "source": [
    "gridsearch_params = {\n",
    "    \"learning_rate\": [0.001, 0.003, 0.005],\n",
    "    \"batch_size\": [32, 64, 128],\n",
    "    \"lookback\": [36, 48, 96],\n",
    "    \"num_layers\": [1, 2],\n",
    "    \"seed\": [1337, 0xC0FFEE, 0xDEADBEEF],\n",
    "}"
   ]
  },
  {
   "cell_type": "markdown",
   "id": "f166516b",
   "metadata": {},
   "source": [
    "Global hyperparameter configuration"
   ]
  },
  {
   "cell_type": "code",
   "execution_count": 4,
   "id": "fcb569a4-9faf-462b-858e-b9f1a64e4a3d",
   "metadata": {},
   "outputs": [
    {
     "data": {
      "text/plain": [
       "{'hidden_size': 16,\n",
       " 'epochs': 125,\n",
       " 'horizon': 24,\n",
       " 'loss_function': <function core.util.loss_functions.zap_loss(y_pred: torch.Tensor, y_true: torch.Tensor) -> torch.Tensor>,\n",
       " 'dropout_rate': 0.2,\n",
       " 'train_days': 16,\n",
       " 'val_days': 2,\n",
       " 'test_days': 2,\n",
       " 'early_stopper': <core.util.early_stop.EarlyStop at 0x7fb175aba3c0>}"
      ]
     },
     "execution_count": 4,
     "metadata": {},
     "output_type": "execute_result"
    }
   ],
   "source": [
    "hyperparameters = get_hyperparameter_configuration()\n",
    "hidden_size = hyperparameters[\"hidden_size\"]\n",
    "epochs = hyperparameters[\"epochs\"]\n",
    "horizon = hyperparameters[\"horizon\"]\n",
    "loss_function = hyperparameters[\"loss_function\"]\n",
    "dropout_rate = hyperparameters[\"dropout_rate\"]\n",
    "train_days = hyperparameters[\"train_days\"]\n",
    "val_days = hyperparameters[\"val_days\"]\n",
    "test_days = hyperparameters[\"test_days\"]\n",
    "early_stopper = hyperparameters[\"early_stopper\"]\n",
    "\n",
    "hyperparameters"
   ]
  },
  {
   "cell_type": "markdown",
   "id": "dbc9a437-5750-4504-a953-fb658163a2b8",
   "metadata": {},
   "source": [
    "If the host has CUDA, it will use the GPU for computation"
   ]
  },
  {
   "cell_type": "code",
   "execution_count": 5,
   "id": "a053ac44-d64a-4c3f-a03f-4a2ffd228494",
   "metadata": {},
   "outputs": [
    {
     "data": {
      "text/plain": [
       "'cuda:0'"
      ]
     },
     "execution_count": 5,
     "metadata": {},
     "output_type": "execute_result"
    }
   ],
   "source": [
    "device = \"cuda:0\" if torch.cuda.is_available() else \"cpu\"\n",
    "device"
   ]
  },
  {
   "cell_type": "markdown",
   "id": "2afd81b2-033b-4e7d-b6fc-8a108bc315cc",
   "metadata": {},
   "source": [
    "## Training\n",
    "Train a model with specified hyperparameters"
   ]
  },
  {
   "cell_type": "code",
   "execution_count": 6,
   "id": "1536bea4-ae30-4bae-abd4-09841edf2d3e",
   "metadata": {},
   "outputs": [],
   "source": [
    "def train_with_params(params: dict) -> tuple[float, model_used]:\n",
    "    \"\"\"Train model with the specified hyperparameters.\"\"\"\n",
    "    # Extract hyperparameters\n",
    "    batch_size = params[\"batch_size\"]\n",
    "    learning_rate = params[\"learning_rate\"]\n",
    "    num_layers = params[\"num_layers\"]\n",
    "    lookback = params[\"lookback\"]\n",
    "    torch.manual_seed(params[\"seed\"])\n",
    "\n",
    "    x_train, y_train, x_val, y_val, x_test, y_test = split_caltech_data(\n",
    "        lookback=lookback,\n",
    "        horizon=horizon,\n",
    "        train_days=train_days,\n",
    "        val_days=val_days,\n",
    "        test_days=test_days,\n",
    "        features=features,\n",
    "    )\n",
    "\n",
    "    # convert to dataset that can use dataloaders\n",
    "    train_dataset = TreforData(x_train, y_train, device)\n",
    "    val_dataset = TreforData(x_val, y_val, device)\n",
    "\n",
    "    # initialize the dataloaders, without shuffeling the data between epochs\n",
    "    training_loader = DataLoader(train_dataset, batch_size=batch_size, shuffle=False)\n",
    "    validation_loader = DataLoader(val_dataset, batch_size=batch_size, shuffle=False)\n",
    "\n",
    "    # Initialize model\n",
    "    model = model_used(\n",
    "        input_size=model_input_size,\n",
    "        hidden_size=hidden_size,\n",
    "        num_layers=num_layers,\n",
    "        dropout_rate=dropout_rate,\n",
    "        horizon=horizon,\n",
    "        lookback=lookback,\n",
    "    ).to(device)\n",
    "\n",
    "    _, val_loss, best_model = train_model(\n",
    "        epochs=epochs,\n",
    "        model=model,\n",
    "        loss_function=loss_function,\n",
    "        training_loader=training_loader,\n",
    "        validation_loader=validation_loader,\n",
    "        learning_rate=learning_rate,\n",
    "        early_stopper=early_stopper,\n",
    "    )\n",
    "\n",
    "    return min(val_loss), best_model"
   ]
  },
  {
   "cell_type": "markdown",
   "id": "7602760f",
   "metadata": {},
   "source": [
    "Iterate over all hyperparameters and train a model for each combination."
   ]
  },
  {
   "cell_type": "code",
   "execution_count": 7,
   "id": "c4816f2d-ce54-4473-9bf9-949552ab0ffb",
   "metadata": {},
   "outputs": [
    {
     "data": {
      "application/vnd.jupyter.widget-view+json": {
       "model_id": "ff996476fb73434485787cb4f2ff89e3",
       "version_major": 2,
       "version_minor": 0
      },
      "text/plain": [
       "Iterating epochs:   0%|          | 0/125 [00:00<?, ?it/s]"
      ]
     },
     "metadata": {},
     "output_type": "display_data"
    },
    {
     "name": "stdout",
     "output_type": "stream",
     "text": [
      "{'batch_size': 32, 'learning_rate': 0.001, 'lookback': 36, 'num_layers': 1, 'seed': 1337} 0.030977887163559596\n"
     ]
    },
    {
     "data": {
      "application/vnd.jupyter.widget-view+json": {
       "model_id": "66b2b7831a314103a01bdce4e8babf97",
       "version_major": 2,
       "version_minor": 0
      },
      "text/plain": [
       "Iterating epochs:   0%|          | 0/125 [00:00<?, ?it/s]"
      ]
     },
     "metadata": {},
     "output_type": "display_data"
    },
    {
     "name": "stdout",
     "output_type": "stream",
     "text": [
      "{'batch_size': 32, 'learning_rate': 0.001, 'lookback': 36, 'num_layers': 1, 'seed': 12648430} 0.03526214441905419\n"
     ]
    },
    {
     "data": {
      "application/vnd.jupyter.widget-view+json": {
       "model_id": "445f1775ac944464aa1747a616d0fb54",
       "version_major": 2,
       "version_minor": 0
      },
      "text/plain": [
       "Iterating epochs:   0%|          | 0/125 [00:00<?, ?it/s]"
      ]
     },
     "metadata": {},
     "output_type": "display_data"
    },
    {
     "name": "stdout",
     "output_type": "stream",
     "text": [
      "{'batch_size': 32, 'learning_rate': 0.001, 'lookback': 36, 'num_layers': 1, 'seed': 3735928559} 0.032681392257412276\n"
     ]
    },
    {
     "data": {
      "application/vnd.jupyter.widget-view+json": {
       "model_id": "3216f881b425449b9cae865925099c01",
       "version_major": 2,
       "version_minor": 0
      },
      "text/plain": [
       "Iterating epochs:   0%|          | 0/125 [00:00<?, ?it/s]"
      ]
     },
     "metadata": {},
     "output_type": "display_data"
    },
    {
     "name": "stdout",
     "output_type": "stream",
     "text": [
      "{'batch_size': 32, 'learning_rate': 0.001, 'lookback': 36, 'num_layers': 2, 'seed': 1337} 0.03442872023830811\n"
     ]
    },
    {
     "data": {
      "application/vnd.jupyter.widget-view+json": {
       "model_id": "9c53402032a44f23ae5c50add8e4760f",
       "version_major": 2,
       "version_minor": 0
      },
      "text/plain": [
       "Iterating epochs:   0%|          | 0/125 [00:00<?, ?it/s]"
      ]
     },
     "metadata": {},
     "output_type": "display_data"
    },
    {
     "name": "stdout",
     "output_type": "stream",
     "text": [
      "{'batch_size': 32, 'learning_rate': 0.001, 'lookback': 36, 'num_layers': 2, 'seed': 12648430} 0.033445550284037985\n"
     ]
    },
    {
     "data": {
      "application/vnd.jupyter.widget-view+json": {
       "model_id": "bbd930e1eece43cfbbcefec9e49f24b1",
       "version_major": 2,
       "version_minor": 0
      },
      "text/plain": [
       "Iterating epochs:   0%|          | 0/125 [00:00<?, ?it/s]"
      ]
     },
     "metadata": {},
     "output_type": "display_data"
    },
    {
     "name": "stdout",
     "output_type": "stream",
     "text": [
      "{'batch_size': 32, 'learning_rate': 0.001, 'lookback': 36, 'num_layers': 2, 'seed': 3735928559} 0.02810355486969153\n"
     ]
    },
    {
     "data": {
      "application/vnd.jupyter.widget-view+json": {
       "model_id": "1ce52a4188a349bbbb895c87bda8c55f",
       "version_major": 2,
       "version_minor": 0
      },
      "text/plain": [
       "Iterating epochs:   0%|          | 0/125 [00:00<?, ?it/s]"
      ]
     },
     "metadata": {},
     "output_type": "display_data"
    },
    {
     "name": "stdout",
     "output_type": "stream",
     "text": [
      "{'batch_size': 32, 'learning_rate': 0.001, 'lookback': 48, 'num_layers': 1, 'seed': 1337} 0.031326988525688645\n"
     ]
    },
    {
     "data": {
      "application/vnd.jupyter.widget-view+json": {
       "model_id": "68a1820161bb465e97f9a795ea893a60",
       "version_major": 2,
       "version_minor": 0
      },
      "text/plain": [
       "Iterating epochs:   0%|          | 0/125 [00:00<?, ?it/s]"
      ]
     },
     "metadata": {},
     "output_type": "display_data"
    },
    {
     "name": "stdout",
     "output_type": "stream",
     "text": [
      "{'batch_size': 32, 'learning_rate': 0.001, 'lookback': 48, 'num_layers': 1, 'seed': 12648430} 0.03184551885351539\n"
     ]
    },
    {
     "data": {
      "application/vnd.jupyter.widget-view+json": {
       "model_id": "b48bb983d0614df4bb5904212c316882",
       "version_major": 2,
       "version_minor": 0
      },
      "text/plain": [
       "Iterating epochs:   0%|          | 0/125 [00:00<?, ?it/s]"
      ]
     },
     "metadata": {},
     "output_type": "display_data"
    },
    {
     "name": "stdout",
     "output_type": "stream",
     "text": [
      "{'batch_size': 32, 'learning_rate': 0.001, 'lookback': 48, 'num_layers': 1, 'seed': 3735928559} 0.031781503837555646\n"
     ]
    },
    {
     "data": {
      "application/vnd.jupyter.widget-view+json": {
       "model_id": "f1a7157d18814faf909cbe83352bd9c8",
       "version_major": 2,
       "version_minor": 0
      },
      "text/plain": [
       "Iterating epochs:   0%|          | 0/125 [00:00<?, ?it/s]"
      ]
     },
     "metadata": {},
     "output_type": "display_data"
    },
    {
     "name": "stdout",
     "output_type": "stream",
     "text": [
      "{'batch_size': 32, 'learning_rate': 0.001, 'lookback': 48, 'num_layers': 2, 'seed': 1337} 0.034268742861847085\n"
     ]
    },
    {
     "data": {
      "application/vnd.jupyter.widget-view+json": {
       "model_id": "cdb12055418a4783998ca4716d711a8b",
       "version_major": 2,
       "version_minor": 0
      },
      "text/plain": [
       "Iterating epochs:   0%|          | 0/125 [00:00<?, ?it/s]"
      ]
     },
     "metadata": {},
     "output_type": "display_data"
    },
    {
     "name": "stdout",
     "output_type": "stream",
     "text": [
      "{'batch_size': 32, 'learning_rate': 0.001, 'lookback': 48, 'num_layers': 2, 'seed': 12648430} 0.03262505978345871\n"
     ]
    },
    {
     "data": {
      "application/vnd.jupyter.widget-view+json": {
       "model_id": "37bbff6adf994d6697d749da545718b9",
       "version_major": 2,
       "version_minor": 0
      },
      "text/plain": [
       "Iterating epochs:   0%|          | 0/125 [00:00<?, ?it/s]"
      ]
     },
     "metadata": {},
     "output_type": "display_data"
    },
    {
     "name": "stdout",
     "output_type": "stream",
     "text": [
      "{'batch_size': 32, 'learning_rate': 0.001, 'lookback': 48, 'num_layers': 2, 'seed': 3735928559} 0.02726481355105837\n"
     ]
    },
    {
     "data": {
      "application/vnd.jupyter.widget-view+json": {
       "model_id": "4d81687794ab4240b4aa2f518fafd92e",
       "version_major": 2,
       "version_minor": 0
      },
      "text/plain": [
       "Iterating epochs:   0%|          | 0/125 [00:00<?, ?it/s]"
      ]
     },
     "metadata": {},
     "output_type": "display_data"
    },
    {
     "name": "stdout",
     "output_type": "stream",
     "text": [
      "{'batch_size': 32, 'learning_rate': 0.001, 'lookback': 96, 'num_layers': 1, 'seed': 1337} 0.030869636281083027\n"
     ]
    },
    {
     "data": {
      "application/vnd.jupyter.widget-view+json": {
       "model_id": "d9ccac8c1963469993269cbf19c6a4a7",
       "version_major": 2,
       "version_minor": 0
      },
      "text/plain": [
       "Iterating epochs:   0%|          | 0/125 [00:00<?, ?it/s]"
      ]
     },
     "metadata": {},
     "output_type": "display_data"
    },
    {
     "name": "stdout",
     "output_type": "stream",
     "text": [
      "{'batch_size': 32, 'learning_rate': 0.001, 'lookback': 96, 'num_layers': 1, 'seed': 12648430} 0.033457327137390774\n"
     ]
    },
    {
     "data": {
      "application/vnd.jupyter.widget-view+json": {
       "model_id": "c981ab6efe394c99b271434b8b8cb66b",
       "version_major": 2,
       "version_minor": 0
      },
      "text/plain": [
       "Iterating epochs:   0%|          | 0/125 [00:00<?, ?it/s]"
      ]
     },
     "metadata": {},
     "output_type": "display_data"
    },
    {
     "name": "stdout",
     "output_type": "stream",
     "text": [
      "{'batch_size': 32, 'learning_rate': 0.001, 'lookback': 96, 'num_layers': 1, 'seed': 3735928559} 0.030137736164033414\n"
     ]
    },
    {
     "data": {
      "application/vnd.jupyter.widget-view+json": {
       "model_id": "a317adfddfc14e539a818992ca3716ea",
       "version_major": 2,
       "version_minor": 0
      },
      "text/plain": [
       "Iterating epochs:   0%|          | 0/125 [00:00<?, ?it/s]"
      ]
     },
     "metadata": {},
     "output_type": "display_data"
    },
    {
     "name": "stdout",
     "output_type": "stream",
     "text": [
      "{'batch_size': 32, 'learning_rate': 0.001, 'lookback': 96, 'num_layers': 2, 'seed': 1337} 0.034342513668040434\n"
     ]
    },
    {
     "data": {
      "application/vnd.jupyter.widget-view+json": {
       "model_id": "0709cb83c61242e5be903359c7e2861d",
       "version_major": 2,
       "version_minor": 0
      },
      "text/plain": [
       "Iterating epochs:   0%|          | 0/125 [00:00<?, ?it/s]"
      ]
     },
     "metadata": {},
     "output_type": "display_data"
    },
    {
     "name": "stdout",
     "output_type": "stream",
     "text": [
      "{'batch_size': 32, 'learning_rate': 0.001, 'lookback': 96, 'num_layers': 2, 'seed': 12648430} 0.032737716628859444\n"
     ]
    },
    {
     "data": {
      "application/vnd.jupyter.widget-view+json": {
       "model_id": "76b1dffd97ae47a6bd543ca63b810785",
       "version_major": 2,
       "version_minor": 0
      },
      "text/plain": [
       "Iterating epochs:   0%|          | 0/125 [00:00<?, ?it/s]"
      ]
     },
     "metadata": {},
     "output_type": "display_data"
    },
    {
     "name": "stdout",
     "output_type": "stream",
     "text": [
      "{'batch_size': 32, 'learning_rate': 0.001, 'lookback': 96, 'num_layers': 2, 'seed': 3735928559} 0.029355047519008318\n"
     ]
    },
    {
     "data": {
      "application/vnd.jupyter.widget-view+json": {
       "model_id": "1d851abd203d467c9adf32b89dc1cb7c",
       "version_major": 2,
       "version_minor": 0
      },
      "text/plain": [
       "Iterating epochs:   0%|          | 0/125 [00:00<?, ?it/s]"
      ]
     },
     "metadata": {},
     "output_type": "display_data"
    },
    {
     "name": "stdout",
     "output_type": "stream",
     "text": [
      "{'batch_size': 32, 'learning_rate': 0.003, 'lookback': 36, 'num_layers': 1, 'seed': 1337} 0.024716262767712275\n"
     ]
    },
    {
     "data": {
      "application/vnd.jupyter.widget-view+json": {
       "model_id": "10a1395148c44d688be0b04bcefcc929",
       "version_major": 2,
       "version_minor": 0
      },
      "text/plain": [
       "Iterating epochs:   0%|          | 0/125 [00:00<?, ?it/s]"
      ]
     },
     "metadata": {},
     "output_type": "display_data"
    },
    {
     "name": "stdout",
     "output_type": "stream",
     "text": [
      "{'batch_size': 32, 'learning_rate': 0.003, 'lookback': 36, 'num_layers': 1, 'seed': 12648430} 0.029950256738811732\n"
     ]
    },
    {
     "data": {
      "application/vnd.jupyter.widget-view+json": {
       "model_id": "304612c82a88440b860f8b6bcd77494e",
       "version_major": 2,
       "version_minor": 0
      },
      "text/plain": [
       "Iterating epochs:   0%|          | 0/125 [00:00<?, ?it/s]"
      ]
     },
     "metadata": {},
     "output_type": "display_data"
    },
    {
     "name": "stdout",
     "output_type": "stream",
     "text": [
      "{'batch_size': 32, 'learning_rate': 0.003, 'lookback': 36, 'num_layers': 1, 'seed': 3735928559} 0.027611788113911948\n"
     ]
    },
    {
     "data": {
      "application/vnd.jupyter.widget-view+json": {
       "model_id": "cf0bf0b836604e5eb739bf24a63e4887",
       "version_major": 2,
       "version_minor": 0
      },
      "text/plain": [
       "Iterating epochs:   0%|          | 0/125 [00:00<?, ?it/s]"
      ]
     },
     "metadata": {},
     "output_type": "display_data"
    },
    {
     "name": "stdout",
     "output_type": "stream",
     "text": [
      "{'batch_size': 32, 'learning_rate': 0.003, 'lookback': 36, 'num_layers': 2, 'seed': 1337} 0.03056589268768827\n"
     ]
    },
    {
     "data": {
      "application/vnd.jupyter.widget-view+json": {
       "model_id": "2a2093c5a564460fb508ebd114c00ccc",
       "version_major": 2,
       "version_minor": 0
      },
      "text/plain": [
       "Iterating epochs:   0%|          | 0/125 [00:00<?, ?it/s]"
      ]
     },
     "metadata": {},
     "output_type": "display_data"
    },
    {
     "name": "stdout",
     "output_type": "stream",
     "text": [
      "{'batch_size': 32, 'learning_rate': 0.003, 'lookback': 36, 'num_layers': 2, 'seed': 12648430} 0.03126042624935508\n"
     ]
    },
    {
     "data": {
      "application/vnd.jupyter.widget-view+json": {
       "model_id": "daf3c260c73d45ab9fd3a649df52dafb",
       "version_major": 2,
       "version_minor": 0
      },
      "text/plain": [
       "Iterating epochs:   0%|          | 0/125 [00:00<?, ?it/s]"
      ]
     },
     "metadata": {},
     "output_type": "display_data"
    },
    {
     "name": "stdout",
     "output_type": "stream",
     "text": [
      "{'batch_size': 32, 'learning_rate': 0.003, 'lookback': 36, 'num_layers': 2, 'seed': 3735928559} 0.030362875573337077\n"
     ]
    },
    {
     "data": {
      "application/vnd.jupyter.widget-view+json": {
       "model_id": "b77955358e784b809a42a250c4e8e259",
       "version_major": 2,
       "version_minor": 0
      },
      "text/plain": [
       "Iterating epochs:   0%|          | 0/125 [00:00<?, ?it/s]"
      ]
     },
     "metadata": {},
     "output_type": "display_data"
    },
    {
     "name": "stdout",
     "output_type": "stream",
     "text": [
      "{'batch_size': 32, 'learning_rate': 0.003, 'lookback': 48, 'num_layers': 1, 'seed': 1337} 0.02755870521068573\n"
     ]
    },
    {
     "data": {
      "application/vnd.jupyter.widget-view+json": {
       "model_id": "81c89a65c5924908b8c9265074ecd874",
       "version_major": 2,
       "version_minor": 0
      },
      "text/plain": [
       "Iterating epochs:   0%|          | 0/125 [00:00<?, ?it/s]"
      ]
     },
     "metadata": {},
     "output_type": "display_data"
    },
    {
     "name": "stdout",
     "output_type": "stream",
     "text": [
      "{'batch_size': 32, 'learning_rate': 0.003, 'lookback': 48, 'num_layers': 1, 'seed': 12648430} 0.02756913925210635\n"
     ]
    },
    {
     "data": {
      "application/vnd.jupyter.widget-view+json": {
       "model_id": "ef19d18c6795417fa2732772e5c9b35f",
       "version_major": 2,
       "version_minor": 0
      },
      "text/plain": [
       "Iterating epochs:   0%|          | 0/125 [00:00<?, ?it/s]"
      ]
     },
     "metadata": {},
     "output_type": "display_data"
    },
    {
     "name": "stdout",
     "output_type": "stream",
     "text": [
      "{'batch_size': 32, 'learning_rate': 0.003, 'lookback': 48, 'num_layers': 1, 'seed': 3735928559} 0.026537077128887178\n"
     ]
    },
    {
     "data": {
      "application/vnd.jupyter.widget-view+json": {
       "model_id": "bc71782284424e3eac2338c1ae6081ab",
       "version_major": 2,
       "version_minor": 0
      },
      "text/plain": [
       "Iterating epochs:   0%|          | 0/125 [00:00<?, ?it/s]"
      ]
     },
     "metadata": {},
     "output_type": "display_data"
    },
    {
     "name": "stdout",
     "output_type": "stream",
     "text": [
      "{'batch_size': 32, 'learning_rate': 0.003, 'lookback': 48, 'num_layers': 2, 'seed': 1337} 0.02702376606563727\n"
     ]
    },
    {
     "data": {
      "application/vnd.jupyter.widget-view+json": {
       "model_id": "2760d5aef4c84744919ce158a455582b",
       "version_major": 2,
       "version_minor": 0
      },
      "text/plain": [
       "Iterating epochs:   0%|          | 0/125 [00:00<?, ?it/s]"
      ]
     },
     "metadata": {},
     "output_type": "display_data"
    },
    {
     "name": "stdout",
     "output_type": "stream",
     "text": [
      "{'batch_size': 32, 'learning_rate': 0.003, 'lookback': 48, 'num_layers': 2, 'seed': 12648430} 0.02980662016198039\n"
     ]
    },
    {
     "data": {
      "application/vnd.jupyter.widget-view+json": {
       "model_id": "335e066ce5804d33be21dfd726a9784f",
       "version_major": 2,
       "version_minor": 0
      },
      "text/plain": [
       "Iterating epochs:   0%|          | 0/125 [00:00<?, ?it/s]"
      ]
     },
     "metadata": {},
     "output_type": "display_data"
    },
    {
     "name": "stdout",
     "output_type": "stream",
     "text": [
      "{'batch_size': 32, 'learning_rate': 0.003, 'lookback': 48, 'num_layers': 2, 'seed': 3735928559} 0.02630213280208409\n"
     ]
    },
    {
     "data": {
      "application/vnd.jupyter.widget-view+json": {
       "model_id": "a20b1fd619714eebb29a04df97ea299a",
       "version_major": 2,
       "version_minor": 0
      },
      "text/plain": [
       "Iterating epochs:   0%|          | 0/125 [00:00<?, ?it/s]"
      ]
     },
     "metadata": {},
     "output_type": "display_data"
    },
    {
     "name": "stdout",
     "output_type": "stream",
     "text": [
      "{'batch_size': 32, 'learning_rate': 0.003, 'lookback': 96, 'num_layers': 1, 'seed': 1337} 0.026458463072776793\n"
     ]
    },
    {
     "data": {
      "application/vnd.jupyter.widget-view+json": {
       "model_id": "6573484b78084117ac99f153737585b0",
       "version_major": 2,
       "version_minor": 0
      },
      "text/plain": [
       "Iterating epochs:   0%|          | 0/125 [00:00<?, ?it/s]"
      ]
     },
     "metadata": {},
     "output_type": "display_data"
    },
    {
     "name": "stdout",
     "output_type": "stream",
     "text": [
      "{'batch_size': 32, 'learning_rate': 0.003, 'lookback': 96, 'num_layers': 1, 'seed': 12648430} 0.03162787370383739\n"
     ]
    },
    {
     "data": {
      "application/vnd.jupyter.widget-view+json": {
       "model_id": "5b1e3c9a8e6b4b91b459959e87d1e4d9",
       "version_major": 2,
       "version_minor": 0
      },
      "text/plain": [
       "Iterating epochs:   0%|          | 0/125 [00:00<?, ?it/s]"
      ]
     },
     "metadata": {},
     "output_type": "display_data"
    },
    {
     "name": "stdout",
     "output_type": "stream",
     "text": [
      "{'batch_size': 32, 'learning_rate': 0.003, 'lookback': 96, 'num_layers': 1, 'seed': 3735928559} 0.02664779865493377\n"
     ]
    },
    {
     "data": {
      "application/vnd.jupyter.widget-view+json": {
       "model_id": "4f38d2c03cc24606b033ffa359ede23b",
       "version_major": 2,
       "version_minor": 0
      },
      "text/plain": [
       "Iterating epochs:   0%|          | 0/125 [00:00<?, ?it/s]"
      ]
     },
     "metadata": {},
     "output_type": "display_data"
    },
    {
     "name": "stdout",
     "output_type": "stream",
     "text": [
      "{'batch_size': 32, 'learning_rate': 0.003, 'lookback': 96, 'num_layers': 2, 'seed': 1337} 0.03097291328012943\n"
     ]
    },
    {
     "data": {
      "application/vnd.jupyter.widget-view+json": {
       "model_id": "6865193e14684b999c5c5259267c8f5f",
       "version_major": 2,
       "version_minor": 0
      },
      "text/plain": [
       "Iterating epochs:   0%|          | 0/125 [00:00<?, ?it/s]"
      ]
     },
     "metadata": {},
     "output_type": "display_data"
    },
    {
     "name": "stdout",
     "output_type": "stream",
     "text": [
      "{'batch_size': 32, 'learning_rate': 0.003, 'lookback': 96, 'num_layers': 2, 'seed': 12648430} 0.03156267683953047\n"
     ]
    },
    {
     "data": {
      "application/vnd.jupyter.widget-view+json": {
       "model_id": "73b4039ae6a64f06a3fa38885317678e",
       "version_major": 2,
       "version_minor": 0
      },
      "text/plain": [
       "Iterating epochs:   0%|          | 0/125 [00:00<?, ?it/s]"
      ]
     },
     "metadata": {},
     "output_type": "display_data"
    },
    {
     "name": "stdout",
     "output_type": "stream",
     "text": [
      "{'batch_size': 32, 'learning_rate': 0.003, 'lookback': 96, 'num_layers': 2, 'seed': 3735928559} 0.025360345809410014\n"
     ]
    },
    {
     "data": {
      "application/vnd.jupyter.widget-view+json": {
       "model_id": "aa98f2ea5187471581d27cd4b56da5a4",
       "version_major": 2,
       "version_minor": 0
      },
      "text/plain": [
       "Iterating epochs:   0%|          | 0/125 [00:00<?, ?it/s]"
      ]
     },
     "metadata": {},
     "output_type": "display_data"
    },
    {
     "name": "stdout",
     "output_type": "stream",
     "text": [
      "{'batch_size': 32, 'learning_rate': 0.005, 'lookback': 36, 'num_layers': 1, 'seed': 1337} 0.027242159377783536\n"
     ]
    },
    {
     "data": {
      "application/vnd.jupyter.widget-view+json": {
       "model_id": "a738f3f934d3454d91099a9afe1ac8eb",
       "version_major": 2,
       "version_minor": 0
      },
      "text/plain": [
       "Iterating epochs:   0%|          | 0/125 [00:00<?, ?it/s]"
      ]
     },
     "metadata": {},
     "output_type": "display_data"
    },
    {
     "name": "stdout",
     "output_type": "stream",
     "text": [
      "{'batch_size': 32, 'learning_rate': 0.005, 'lookback': 36, 'num_layers': 1, 'seed': 12648430} 0.03042000544567903\n"
     ]
    },
    {
     "data": {
      "application/vnd.jupyter.widget-view+json": {
       "model_id": "95638e4e69fc42c58df900d0426be6ab",
       "version_major": 2,
       "version_minor": 0
      },
      "text/plain": [
       "Iterating epochs:   0%|          | 0/125 [00:00<?, ?it/s]"
      ]
     },
     "metadata": {},
     "output_type": "display_data"
    },
    {
     "name": "stdout",
     "output_type": "stream",
     "text": [
      "{'batch_size': 32, 'learning_rate': 0.005, 'lookback': 36, 'num_layers': 1, 'seed': 3735928559} 0.02606917954981327\n"
     ]
    },
    {
     "data": {
      "application/vnd.jupyter.widget-view+json": {
       "model_id": "e02a77c6a01a4825a22454f87e57c2d8",
       "version_major": 2,
       "version_minor": 0
      },
      "text/plain": [
       "Iterating epochs:   0%|          | 0/125 [00:00<?, ?it/s]"
      ]
     },
     "metadata": {},
     "output_type": "display_data"
    },
    {
     "name": "stdout",
     "output_type": "stream",
     "text": [
      "{'batch_size': 32, 'learning_rate': 0.005, 'lookback': 36, 'num_layers': 2, 'seed': 1337} 0.026774725411087275\n"
     ]
    },
    {
     "data": {
      "application/vnd.jupyter.widget-view+json": {
       "model_id": "69f44633e2bb4b899dfd0d1592e85db3",
       "version_major": 2,
       "version_minor": 0
      },
      "text/plain": [
       "Iterating epochs:   0%|          | 0/125 [00:00<?, ?it/s]"
      ]
     },
     "metadata": {},
     "output_type": "display_data"
    },
    {
     "name": "stdout",
     "output_type": "stream",
     "text": [
      "{'batch_size': 32, 'learning_rate': 0.005, 'lookback': 36, 'num_layers': 2, 'seed': 12648430} 0.025010697109003863\n"
     ]
    },
    {
     "data": {
      "application/vnd.jupyter.widget-view+json": {
       "model_id": "c022606e03a94f488e4f479242650a18",
       "version_major": 2,
       "version_minor": 0
      },
      "text/plain": [
       "Iterating epochs:   0%|          | 0/125 [00:00<?, ?it/s]"
      ]
     },
     "metadata": {},
     "output_type": "display_data"
    },
    {
     "name": "stdout",
     "output_type": "stream",
     "text": [
      "{'batch_size': 32, 'learning_rate': 0.005, 'lookback': 36, 'num_layers': 2, 'seed': 3735928559} 0.030444508946190278\n"
     ]
    },
    {
     "data": {
      "application/vnd.jupyter.widget-view+json": {
       "model_id": "8aa0b66912f140a68c2640dcef71aa1c",
       "version_major": 2,
       "version_minor": 0
      },
      "text/plain": [
       "Iterating epochs:   0%|          | 0/125 [00:00<?, ?it/s]"
      ]
     },
     "metadata": {},
     "output_type": "display_data"
    },
    {
     "name": "stdout",
     "output_type": "stream",
     "text": [
      "{'batch_size': 32, 'learning_rate': 0.005, 'lookback': 48, 'num_layers': 1, 'seed': 1337} 0.027979318331927062\n"
     ]
    },
    {
     "data": {
      "application/vnd.jupyter.widget-view+json": {
       "model_id": "4069eeb2a6e04baba00813eba17d882c",
       "version_major": 2,
       "version_minor": 0
      },
      "text/plain": [
       "Iterating epochs:   0%|          | 0/125 [00:00<?, ?it/s]"
      ]
     },
     "metadata": {},
     "output_type": "display_data"
    },
    {
     "name": "stdout",
     "output_type": "stream",
     "text": [
      "{'batch_size': 32, 'learning_rate': 0.005, 'lookback': 48, 'num_layers': 1, 'seed': 12648430} 0.028505288437008856\n"
     ]
    },
    {
     "data": {
      "application/vnd.jupyter.widget-view+json": {
       "model_id": "b23a098c804e4adf9e7c8cad86d3194f",
       "version_major": 2,
       "version_minor": 0
      },
      "text/plain": [
       "Iterating epochs:   0%|          | 0/125 [00:00<?, ?it/s]"
      ]
     },
     "metadata": {},
     "output_type": "display_data"
    },
    {
     "name": "stdout",
     "output_type": "stream",
     "text": [
      "{'batch_size': 32, 'learning_rate': 0.005, 'lookback': 48, 'num_layers': 1, 'seed': 3735928559} 0.027211601628611484\n"
     ]
    },
    {
     "data": {
      "application/vnd.jupyter.widget-view+json": {
       "model_id": "e6e001aeff0d47518a7ff5af5aab0ca1",
       "version_major": 2,
       "version_minor": 0
      },
      "text/plain": [
       "Iterating epochs:   0%|          | 0/125 [00:00<?, ?it/s]"
      ]
     },
     "metadata": {},
     "output_type": "display_data"
    },
    {
     "name": "stdout",
     "output_type": "stream",
     "text": [
      "{'batch_size': 32, 'learning_rate': 0.005, 'lookback': 48, 'num_layers': 2, 'seed': 1337} 0.02951984517276287\n"
     ]
    },
    {
     "data": {
      "application/vnd.jupyter.widget-view+json": {
       "model_id": "dfc49d6dbb2040c99f7f2e06df4b7e28",
       "version_major": 2,
       "version_minor": 0
      },
      "text/plain": [
       "Iterating epochs:   0%|          | 0/125 [00:00<?, ?it/s]"
      ]
     },
     "metadata": {},
     "output_type": "display_data"
    },
    {
     "name": "stdout",
     "output_type": "stream",
     "text": [
      "{'batch_size': 32, 'learning_rate': 0.005, 'lookback': 48, 'num_layers': 2, 'seed': 12648430} 0.027228936770310005\n"
     ]
    },
    {
     "data": {
      "application/vnd.jupyter.widget-view+json": {
       "model_id": "61b01564c37a41b8b372697875cbf544",
       "version_major": 2,
       "version_minor": 0
      },
      "text/plain": [
       "Iterating epochs:   0%|          | 0/125 [00:00<?, ?it/s]"
      ]
     },
     "metadata": {},
     "output_type": "display_data"
    },
    {
     "name": "stdout",
     "output_type": "stream",
     "text": [
      "{'batch_size': 32, 'learning_rate': 0.005, 'lookback': 48, 'num_layers': 2, 'seed': 3735928559} 0.024540762541194756\n"
     ]
    },
    {
     "data": {
      "application/vnd.jupyter.widget-view+json": {
       "model_id": "58d57113cc794d30854e0b08b1b286a0",
       "version_major": 2,
       "version_minor": 0
      },
      "text/plain": [
       "Iterating epochs:   0%|          | 0/125 [00:00<?, ?it/s]"
      ]
     },
     "metadata": {},
     "output_type": "display_data"
    },
    {
     "name": "stdout",
     "output_type": "stream",
     "text": [
      "{'batch_size': 32, 'learning_rate': 0.005, 'lookback': 96, 'num_layers': 1, 'seed': 1337} 0.027308040981491408\n"
     ]
    },
    {
     "data": {
      "application/vnd.jupyter.widget-view+json": {
       "model_id": "e2d4c7e1e9974369a1395cf5b783e335",
       "version_major": 2,
       "version_minor": 0
      },
      "text/plain": [
       "Iterating epochs:   0%|          | 0/125 [00:00<?, ?it/s]"
      ]
     },
     "metadata": {},
     "output_type": "display_data"
    },
    {
     "name": "stdout",
     "output_type": "stream",
     "text": [
      "{'batch_size': 32, 'learning_rate': 0.005, 'lookback': 96, 'num_layers': 1, 'seed': 12648430} 0.025615530895690124\n"
     ]
    },
    {
     "data": {
      "application/vnd.jupyter.widget-view+json": {
       "model_id": "cc15a0375ce64a3cb30f658cf68faa27",
       "version_major": 2,
       "version_minor": 0
      },
      "text/plain": [
       "Iterating epochs:   0%|          | 0/125 [00:00<?, ?it/s]"
      ]
     },
     "metadata": {},
     "output_type": "display_data"
    },
    {
     "name": "stdout",
     "output_type": "stream",
     "text": [
      "{'batch_size': 32, 'learning_rate': 0.005, 'lookback': 96, 'num_layers': 1, 'seed': 3735928559} 0.025849546088526645\n"
     ]
    },
    {
     "data": {
      "application/vnd.jupyter.widget-view+json": {
       "model_id": "f75afea850c7476993dee28b22b94499",
       "version_major": 2,
       "version_minor": 0
      },
      "text/plain": [
       "Iterating epochs:   0%|          | 0/125 [00:00<?, ?it/s]"
      ]
     },
     "metadata": {},
     "output_type": "display_data"
    },
    {
     "name": "stdout",
     "output_type": "stream",
     "text": [
      "{'batch_size': 32, 'learning_rate': 0.005, 'lookback': 96, 'num_layers': 2, 'seed': 1337} 0.02723557179172834\n"
     ]
    },
    {
     "data": {
      "application/vnd.jupyter.widget-view+json": {
       "model_id": "d97a264d79c14aacaf0d1abf403ba211",
       "version_major": 2,
       "version_minor": 0
      },
      "text/plain": [
       "Iterating epochs:   0%|          | 0/125 [00:00<?, ?it/s]"
      ]
     },
     "metadata": {},
     "output_type": "display_data"
    },
    {
     "name": "stdout",
     "output_type": "stream",
     "text": [
      "{'batch_size': 32, 'learning_rate': 0.005, 'lookback': 96, 'num_layers': 2, 'seed': 12648430} 0.029646921685586372\n"
     ]
    },
    {
     "data": {
      "application/vnd.jupyter.widget-view+json": {
       "model_id": "f3053fa56375448298ff258cfd27ceb8",
       "version_major": 2,
       "version_minor": 0
      },
      "text/plain": [
       "Iterating epochs:   0%|          | 0/125 [00:00<?, ?it/s]"
      ]
     },
     "metadata": {},
     "output_type": "display_data"
    },
    {
     "name": "stdout",
     "output_type": "stream",
     "text": [
      "{'batch_size': 32, 'learning_rate': 0.005, 'lookback': 96, 'num_layers': 2, 'seed': 3735928559} 0.02892175658295552\n"
     ]
    },
    {
     "data": {
      "application/vnd.jupyter.widget-view+json": {
       "model_id": "bc216c6ed5e44fd18797739d2f58905b",
       "version_major": 2,
       "version_minor": 0
      },
      "text/plain": [
       "Iterating epochs:   0%|          | 0/125 [00:00<?, ?it/s]"
      ]
     },
     "metadata": {},
     "output_type": "display_data"
    },
    {
     "name": "stdout",
     "output_type": "stream",
     "text": [
      "{'batch_size': 64, 'learning_rate': 0.001, 'lookback': 36, 'num_layers': 1, 'seed': 1337} 0.029182722559198737\n"
     ]
    },
    {
     "data": {
      "application/vnd.jupyter.widget-view+json": {
       "model_id": "d85f275c9da647628c99a86bc86f580a",
       "version_major": 2,
       "version_minor": 0
      },
      "text/plain": [
       "Iterating epochs:   0%|          | 0/125 [00:00<?, ?it/s]"
      ]
     },
     "metadata": {},
     "output_type": "display_data"
    },
    {
     "name": "stdout",
     "output_type": "stream",
     "text": [
      "{'batch_size': 64, 'learning_rate': 0.001, 'lookback': 36, 'num_layers': 1, 'seed': 12648430} 0.03752902115229517\n"
     ]
    },
    {
     "data": {
      "application/vnd.jupyter.widget-view+json": {
       "model_id": "772579e9ebba460986c3a2e1f78c973d",
       "version_major": 2,
       "version_minor": 0
      },
      "text/plain": [
       "Iterating epochs:   0%|          | 0/125 [00:00<?, ?it/s]"
      ]
     },
     "metadata": {},
     "output_type": "display_data"
    },
    {
     "name": "stdout",
     "output_type": "stream",
     "text": [
      "{'batch_size': 64, 'learning_rate': 0.001, 'lookback': 36, 'num_layers': 1, 'seed': 3735928559} 0.03498416510410607\n"
     ]
    },
    {
     "data": {
      "application/vnd.jupyter.widget-view+json": {
       "model_id": "642c56a4baa14d27b3440bb87dd0caf9",
       "version_major": 2,
       "version_minor": 0
      },
      "text/plain": [
       "Iterating epochs:   0%|          | 0/125 [00:00<?, ?it/s]"
      ]
     },
     "metadata": {},
     "output_type": "display_data"
    },
    {
     "name": "stdout",
     "output_type": "stream",
     "text": [
      "{'batch_size': 64, 'learning_rate': 0.001, 'lookback': 36, 'num_layers': 2, 'seed': 1337} 0.03673665807582438\n"
     ]
    },
    {
     "data": {
      "application/vnd.jupyter.widget-view+json": {
       "model_id": "c1fd79067b2841f4b6912874f454c4eb",
       "version_major": 2,
       "version_minor": 0
      },
      "text/plain": [
       "Iterating epochs:   0%|          | 0/125 [00:00<?, ?it/s]"
      ]
     },
     "metadata": {},
     "output_type": "display_data"
    },
    {
     "name": "stdout",
     "output_type": "stream",
     "text": [
      "{'batch_size': 64, 'learning_rate': 0.001, 'lookback': 36, 'num_layers': 2, 'seed': 12648430} 0.034030309645459056\n"
     ]
    },
    {
     "data": {
      "application/vnd.jupyter.widget-view+json": {
       "model_id": "eb710d2e311e4559847d460bcc6be6c9",
       "version_major": 2,
       "version_minor": 0
      },
      "text/plain": [
       "Iterating epochs:   0%|          | 0/125 [00:00<?, ?it/s]"
      ]
     },
     "metadata": {},
     "output_type": "display_data"
    },
    {
     "name": "stdout",
     "output_type": "stream",
     "text": [
      "{'batch_size': 64, 'learning_rate': 0.001, 'lookback': 36, 'num_layers': 2, 'seed': 3735928559} 0.029231075663119555\n"
     ]
    },
    {
     "data": {
      "application/vnd.jupyter.widget-view+json": {
       "model_id": "6cc3c3d71a1147efbc8ecc085dcb7db5",
       "version_major": 2,
       "version_minor": 0
      },
      "text/plain": [
       "Iterating epochs:   0%|          | 0/125 [00:00<?, ?it/s]"
      ]
     },
     "metadata": {},
     "output_type": "display_data"
    },
    {
     "name": "stdout",
     "output_type": "stream",
     "text": [
      "{'batch_size': 64, 'learning_rate': 0.001, 'lookback': 48, 'num_layers': 1, 'seed': 1337} 0.029003653675317764\n"
     ]
    },
    {
     "data": {
      "application/vnd.jupyter.widget-view+json": {
       "model_id": "008da6f2c37f43b8907ac988f5b7110a",
       "version_major": 2,
       "version_minor": 0
      },
      "text/plain": [
       "Iterating epochs:   0%|          | 0/125 [00:00<?, ?it/s]"
      ]
     },
     "metadata": {},
     "output_type": "display_data"
    },
    {
     "name": "stdout",
     "output_type": "stream",
     "text": [
      "{'batch_size': 64, 'learning_rate': 0.001, 'lookback': 48, 'num_layers': 1, 'seed': 12648430} 0.03401362570002675\n"
     ]
    },
    {
     "data": {
      "application/vnd.jupyter.widget-view+json": {
       "model_id": "7cb9105a80b94785933e9188804953da",
       "version_major": 2,
       "version_minor": 0
      },
      "text/plain": [
       "Iterating epochs:   0%|          | 0/125 [00:00<?, ?it/s]"
      ]
     },
     "metadata": {},
     "output_type": "display_data"
    },
    {
     "name": "stdout",
     "output_type": "stream",
     "text": [
      "{'batch_size': 64, 'learning_rate': 0.001, 'lookback': 48, 'num_layers': 1, 'seed': 3735928559} 0.0351037154905498\n"
     ]
    },
    {
     "data": {
      "application/vnd.jupyter.widget-view+json": {
       "model_id": "7563c11a912f4c6fbf8c3f0de5c1f80e",
       "version_major": 2,
       "version_minor": 0
      },
      "text/plain": [
       "Iterating epochs:   0%|          | 0/125 [00:00<?, ?it/s]"
      ]
     },
     "metadata": {},
     "output_type": "display_data"
    },
    {
     "name": "stdout",
     "output_type": "stream",
     "text": [
      "{'batch_size': 64, 'learning_rate': 0.001, 'lookback': 48, 'num_layers': 2, 'seed': 1337} 0.03543783305212855\n"
     ]
    },
    {
     "data": {
      "application/vnd.jupyter.widget-view+json": {
       "model_id": "75376204bba148d0938ffe688ddd2320",
       "version_major": 2,
       "version_minor": 0
      },
      "text/plain": [
       "Iterating epochs:   0%|          | 0/125 [00:00<?, ?it/s]"
      ]
     },
     "metadata": {},
     "output_type": "display_data"
    },
    {
     "name": "stdout",
     "output_type": "stream",
     "text": [
      "{'batch_size': 64, 'learning_rate': 0.001, 'lookback': 48, 'num_layers': 2, 'seed': 12648430} 0.03475907945539802\n"
     ]
    },
    {
     "data": {
      "application/vnd.jupyter.widget-view+json": {
       "model_id": "4d5623dcc2b942dfa508f2707dd9ff96",
       "version_major": 2,
       "version_minor": 0
      },
      "text/plain": [
       "Iterating epochs:   0%|          | 0/125 [00:00<?, ?it/s]"
      ]
     },
     "metadata": {},
     "output_type": "display_data"
    },
    {
     "name": "stdout",
     "output_type": "stream",
     "text": [
      "{'batch_size': 64, 'learning_rate': 0.001, 'lookback': 48, 'num_layers': 2, 'seed': 3735928559} 0.030766890849918127\n"
     ]
    },
    {
     "data": {
      "application/vnd.jupyter.widget-view+json": {
       "model_id": "42ffab880a414275b60b6beca8d79b17",
       "version_major": 2,
       "version_minor": 0
      },
      "text/plain": [
       "Iterating epochs:   0%|          | 0/125 [00:00<?, ?it/s]"
      ]
     },
     "metadata": {},
     "output_type": "display_data"
    },
    {
     "name": "stdout",
     "output_type": "stream",
     "text": [
      "{'batch_size': 64, 'learning_rate': 0.001, 'lookback': 96, 'num_layers': 1, 'seed': 1337} 0.029052263824269176\n"
     ]
    },
    {
     "data": {
      "application/vnd.jupyter.widget-view+json": {
       "model_id": "e4170086180e4bb8bc34054a9b444798",
       "version_major": 2,
       "version_minor": 0
      },
      "text/plain": [
       "Iterating epochs:   0%|          | 0/125 [00:00<?, ?it/s]"
      ]
     },
     "metadata": {},
     "output_type": "display_data"
    },
    {
     "name": "stdout",
     "output_type": "stream",
     "text": [
      "{'batch_size': 64, 'learning_rate': 0.001, 'lookback': 96, 'num_layers': 1, 'seed': 12648430} 0.03588614868931472\n"
     ]
    },
    {
     "data": {
      "application/vnd.jupyter.widget-view+json": {
       "model_id": "48ec8b877bda4fea91d86b6679759f49",
       "version_major": 2,
       "version_minor": 0
      },
      "text/plain": [
       "Iterating epochs:   0%|          | 0/125 [00:00<?, ?it/s]"
      ]
     },
     "metadata": {},
     "output_type": "display_data"
    },
    {
     "name": "stdout",
     "output_type": "stream",
     "text": [
      "{'batch_size': 64, 'learning_rate': 0.001, 'lookback': 96, 'num_layers': 1, 'seed': 3735928559} 0.03340837161522359\n"
     ]
    },
    {
     "data": {
      "application/vnd.jupyter.widget-view+json": {
       "model_id": "05465de04e5f42b58949306102b2a2ca",
       "version_major": 2,
       "version_minor": 0
      },
      "text/plain": [
       "Iterating epochs:   0%|          | 0/125 [00:00<?, ?it/s]"
      ]
     },
     "metadata": {},
     "output_type": "display_data"
    },
    {
     "name": "stdout",
     "output_type": "stream",
     "text": [
      "{'batch_size': 64, 'learning_rate': 0.001, 'lookback': 96, 'num_layers': 2, 'seed': 1337} 0.03469499107450247\n"
     ]
    },
    {
     "data": {
      "application/vnd.jupyter.widget-view+json": {
       "model_id": "8a67f960ae7f40a1af535ee4b9f27e50",
       "version_major": 2,
       "version_minor": 0
      },
      "text/plain": [
       "Iterating epochs:   0%|          | 0/125 [00:00<?, ?it/s]"
      ]
     },
     "metadata": {},
     "output_type": "display_data"
    },
    {
     "name": "stdout",
     "output_type": "stream",
     "text": [
      "{'batch_size': 64, 'learning_rate': 0.001, 'lookback': 96, 'num_layers': 2, 'seed': 12648430} 0.03566485887859017\n"
     ]
    },
    {
     "data": {
      "application/vnd.jupyter.widget-view+json": {
       "model_id": "937cd08b01ff45f696a31708938cab4d",
       "version_major": 2,
       "version_minor": 0
      },
      "text/plain": [
       "Iterating epochs:   0%|          | 0/125 [00:00<?, ?it/s]"
      ]
     },
     "metadata": {},
     "output_type": "display_data"
    },
    {
     "name": "stdout",
     "output_type": "stream",
     "text": [
      "{'batch_size': 64, 'learning_rate': 0.001, 'lookback': 96, 'num_layers': 2, 'seed': 3735928559} 0.02878126804716885\n"
     ]
    },
    {
     "data": {
      "application/vnd.jupyter.widget-view+json": {
       "model_id": "ec337326ac6349b9b55d25e9da899d14",
       "version_major": 2,
       "version_minor": 0
      },
      "text/plain": [
       "Iterating epochs:   0%|          | 0/125 [00:00<?, ?it/s]"
      ]
     },
     "metadata": {},
     "output_type": "display_data"
    },
    {
     "name": "stdout",
     "output_type": "stream",
     "text": [
      "{'batch_size': 64, 'learning_rate': 0.003, 'lookback': 36, 'num_layers': 1, 'seed': 1337} 0.03034863341599703\n"
     ]
    },
    {
     "data": {
      "application/vnd.jupyter.widget-view+json": {
       "model_id": "ba9120c116f14b02957b707031508971",
       "version_major": 2,
       "version_minor": 0
      },
      "text/plain": [
       "Iterating epochs:   0%|          | 0/125 [00:00<?, ?it/s]"
      ]
     },
     "metadata": {},
     "output_type": "display_data"
    },
    {
     "name": "stdout",
     "output_type": "stream",
     "text": [
      "{'batch_size': 64, 'learning_rate': 0.003, 'lookback': 36, 'num_layers': 1, 'seed': 12648430} 0.029993396252393723\n"
     ]
    },
    {
     "data": {
      "application/vnd.jupyter.widget-view+json": {
       "model_id": "310383bd5b66463fbe90ccc7d9cc122a",
       "version_major": 2,
       "version_minor": 0
      },
      "text/plain": [
       "Iterating epochs:   0%|          | 0/125 [00:00<?, ?it/s]"
      ]
     },
     "metadata": {},
     "output_type": "display_data"
    },
    {
     "name": "stdout",
     "output_type": "stream",
     "text": [
      "{'batch_size': 64, 'learning_rate': 0.003, 'lookback': 36, 'num_layers': 1, 'seed': 3735928559} 0.0259426380507648\n"
     ]
    },
    {
     "data": {
      "application/vnd.jupyter.widget-view+json": {
       "model_id": "a2fe43b5acd04f55bd8e75e728b42499",
       "version_major": 2,
       "version_minor": 0
      },
      "text/plain": [
       "Iterating epochs:   0%|          | 0/125 [00:00<?, ?it/s]"
      ]
     },
     "metadata": {},
     "output_type": "display_data"
    },
    {
     "name": "stdout",
     "output_type": "stream",
     "text": [
      "{'batch_size': 64, 'learning_rate': 0.003, 'lookback': 36, 'num_layers': 2, 'seed': 1337} 0.033960912958718836\n"
     ]
    },
    {
     "data": {
      "application/vnd.jupyter.widget-view+json": {
       "model_id": "0929478eb74a4dd186110ff6ed539020",
       "version_major": 2,
       "version_minor": 0
      },
      "text/plain": [
       "Iterating epochs:   0%|          | 0/125 [00:00<?, ?it/s]"
      ]
     },
     "metadata": {},
     "output_type": "display_data"
    },
    {
     "name": "stdout",
     "output_type": "stream",
     "text": [
      "{'batch_size': 64, 'learning_rate': 0.003, 'lookback': 36, 'num_layers': 2, 'seed': 12648430} 0.03332158562261611\n"
     ]
    },
    {
     "data": {
      "application/vnd.jupyter.widget-view+json": {
       "model_id": "3d78fae6ac7c485799bfa0bf4f81f211",
       "version_major": 2,
       "version_minor": 0
      },
      "text/plain": [
       "Iterating epochs:   0%|          | 0/125 [00:00<?, ?it/s]"
      ]
     },
     "metadata": {},
     "output_type": "display_data"
    },
    {
     "name": "stdout",
     "output_type": "stream",
     "text": [
      "{'batch_size': 64, 'learning_rate': 0.003, 'lookback': 36, 'num_layers': 2, 'seed': 3735928559} 0.029296520282514393\n"
     ]
    },
    {
     "data": {
      "application/vnd.jupyter.widget-view+json": {
       "model_id": "db96c6f9d3514c9a98b55440d797e6e0",
       "version_major": 2,
       "version_minor": 0
      },
      "text/plain": [
       "Iterating epochs:   0%|          | 0/125 [00:00<?, ?it/s]"
      ]
     },
     "metadata": {},
     "output_type": "display_data"
    },
    {
     "name": "stdout",
     "output_type": "stream",
     "text": [
      "{'batch_size': 64, 'learning_rate': 0.003, 'lookback': 48, 'num_layers': 1, 'seed': 1337} 0.03006102843210101\n"
     ]
    },
    {
     "data": {
      "application/vnd.jupyter.widget-view+json": {
       "model_id": "3163c72c39a14c4da9e371a798331057",
       "version_major": 2,
       "version_minor": 0
      },
      "text/plain": [
       "Iterating epochs:   0%|          | 0/125 [00:00<?, ?it/s]"
      ]
     },
     "metadata": {},
     "output_type": "display_data"
    },
    {
     "name": "stdout",
     "output_type": "stream",
     "text": [
      "{'batch_size': 64, 'learning_rate': 0.003, 'lookback': 48, 'num_layers': 1, 'seed': 12648430} 0.0297978853341192\n"
     ]
    },
    {
     "data": {
      "application/vnd.jupyter.widget-view+json": {
       "model_id": "ce3e42d92c8a425989af8cc97f37358b",
       "version_major": 2,
       "version_minor": 0
      },
      "text/plain": [
       "Iterating epochs:   0%|          | 0/125 [00:00<?, ?it/s]"
      ]
     },
     "metadata": {},
     "output_type": "display_data"
    },
    {
     "name": "stdout",
     "output_type": "stream",
     "text": [
      "{'batch_size': 64, 'learning_rate': 0.003, 'lookback': 48, 'num_layers': 1, 'seed': 3735928559} 0.028580199577845633\n"
     ]
    },
    {
     "data": {
      "application/vnd.jupyter.widget-view+json": {
       "model_id": "c20ae808266d4035b9746c18fd84c9e6",
       "version_major": 2,
       "version_minor": 0
      },
      "text/plain": [
       "Iterating epochs:   0%|          | 0/125 [00:00<?, ?it/s]"
      ]
     },
     "metadata": {},
     "output_type": "display_data"
    },
    {
     "name": "stdout",
     "output_type": "stream",
     "text": [
      "{'batch_size': 64, 'learning_rate': 0.003, 'lookback': 48, 'num_layers': 2, 'seed': 1337} 0.03299043816514313\n"
     ]
    },
    {
     "data": {
      "application/vnd.jupyter.widget-view+json": {
       "model_id": "eb64e73cf5ff4b3fb2fd4678fda25802",
       "version_major": 2,
       "version_minor": 0
      },
      "text/plain": [
       "Iterating epochs:   0%|          | 0/125 [00:00<?, ?it/s]"
      ]
     },
     "metadata": {},
     "output_type": "display_data"
    },
    {
     "name": "stdout",
     "output_type": "stream",
     "text": [
      "{'batch_size': 64, 'learning_rate': 0.003, 'lookback': 48, 'num_layers': 2, 'seed': 12648430} 0.03256180160678923\n"
     ]
    },
    {
     "data": {
      "application/vnd.jupyter.widget-view+json": {
       "model_id": "47549fc50802417f9019b46634ef1a3f",
       "version_major": 2,
       "version_minor": 0
      },
      "text/plain": [
       "Iterating epochs:   0%|          | 0/125 [00:00<?, ?it/s]"
      ]
     },
     "metadata": {},
     "output_type": "display_data"
    },
    {
     "name": "stdout",
     "output_type": "stream",
     "text": [
      "{'batch_size': 64, 'learning_rate': 0.003, 'lookback': 48, 'num_layers': 2, 'seed': 3735928559} 0.027985539752990007\n"
     ]
    },
    {
     "data": {
      "application/vnd.jupyter.widget-view+json": {
       "model_id": "8195a92534c14e6cbe31465bf1952294",
       "version_major": 2,
       "version_minor": 0
      },
      "text/plain": [
       "Iterating epochs:   0%|          | 0/125 [00:00<?, ?it/s]"
      ]
     },
     "metadata": {},
     "output_type": "display_data"
    },
    {
     "name": "stdout",
     "output_type": "stream",
     "text": [
      "{'batch_size': 64, 'learning_rate': 0.003, 'lookback': 96, 'num_layers': 1, 'seed': 1337} 0.029610710102133453\n"
     ]
    },
    {
     "data": {
      "application/vnd.jupyter.widget-view+json": {
       "model_id": "6711a2481bce4bc193d1f9bcd21aa854",
       "version_major": 2,
       "version_minor": 0
      },
      "text/plain": [
       "Iterating epochs:   0%|          | 0/125 [00:00<?, ?it/s]"
      ]
     },
     "metadata": {},
     "output_type": "display_data"
    },
    {
     "name": "stdout",
     "output_type": "stream",
     "text": [
      "{'batch_size': 64, 'learning_rate': 0.003, 'lookback': 96, 'num_layers': 1, 'seed': 12648430} 0.028705540113151073\n"
     ]
    },
    {
     "data": {
      "application/vnd.jupyter.widget-view+json": {
       "model_id": "e19833619d7c4503ae012a20b8c3d8d6",
       "version_major": 2,
       "version_minor": 0
      },
      "text/plain": [
       "Iterating epochs:   0%|          | 0/125 [00:00<?, ?it/s]"
      ]
     },
     "metadata": {},
     "output_type": "display_data"
    },
    {
     "name": "stdout",
     "output_type": "stream",
     "text": [
      "{'batch_size': 64, 'learning_rate': 0.003, 'lookback': 96, 'num_layers': 1, 'seed': 3735928559} 0.02602957480121404\n"
     ]
    },
    {
     "data": {
      "application/vnd.jupyter.widget-view+json": {
       "model_id": "51afd2c696374a28a4f68b3814380d50",
       "version_major": 2,
       "version_minor": 0
      },
      "text/plain": [
       "Iterating epochs:   0%|          | 0/125 [00:00<?, ?it/s]"
      ]
     },
     "metadata": {},
     "output_type": "display_data"
    },
    {
     "name": "stdout",
     "output_type": "stream",
     "text": [
      "{'batch_size': 64, 'learning_rate': 0.003, 'lookback': 96, 'num_layers': 2, 'seed': 1337} 0.03399517957586795\n"
     ]
    },
    {
     "data": {
      "application/vnd.jupyter.widget-view+json": {
       "model_id": "8f7f26e56abd4256af157dffbb47076c",
       "version_major": 2,
       "version_minor": 0
      },
      "text/plain": [
       "Iterating epochs:   0%|          | 0/125 [00:00<?, ?it/s]"
      ]
     },
     "metadata": {},
     "output_type": "display_data"
    },
    {
     "name": "stdout",
     "output_type": "stream",
     "text": [
      "{'batch_size': 64, 'learning_rate': 0.003, 'lookback': 96, 'num_layers': 2, 'seed': 12648430} 0.03277640894521028\n"
     ]
    },
    {
     "data": {
      "application/vnd.jupyter.widget-view+json": {
       "model_id": "9da5d85baadc4b41a24481d3a5ffecc9",
       "version_major": 2,
       "version_minor": 0
      },
      "text/plain": [
       "Iterating epochs:   0%|          | 0/125 [00:00<?, ?it/s]"
      ]
     },
     "metadata": {},
     "output_type": "display_data"
    },
    {
     "name": "stdout",
     "output_type": "stream",
     "text": [
      "{'batch_size': 64, 'learning_rate': 0.003, 'lookback': 96, 'num_layers': 2, 'seed': 3735928559} 0.029030624078586698\n"
     ]
    },
    {
     "data": {
      "application/vnd.jupyter.widget-view+json": {
       "model_id": "d0e5e828a7cc4e22bb32c2d0ea8cd03d",
       "version_major": 2,
       "version_minor": 0
      },
      "text/plain": [
       "Iterating epochs:   0%|          | 0/125 [00:00<?, ?it/s]"
      ]
     },
     "metadata": {},
     "output_type": "display_data"
    },
    {
     "name": "stdout",
     "output_type": "stream",
     "text": [
      "{'batch_size': 64, 'learning_rate': 0.005, 'lookback': 36, 'num_layers': 1, 'seed': 1337} 0.03409714251756668\n"
     ]
    },
    {
     "data": {
      "application/vnd.jupyter.widget-view+json": {
       "model_id": "4ff58f11cc28475bb2fa65f503d43f3d",
       "version_major": 2,
       "version_minor": 0
      },
      "text/plain": [
       "Iterating epochs:   0%|          | 0/125 [00:00<?, ?it/s]"
      ]
     },
     "metadata": {},
     "output_type": "display_data"
    },
    {
     "name": "stdout",
     "output_type": "stream",
     "text": [
      "{'batch_size': 64, 'learning_rate': 0.005, 'lookback': 36, 'num_layers': 1, 'seed': 12648430} 0.027940311934798956\n"
     ]
    },
    {
     "data": {
      "application/vnd.jupyter.widget-view+json": {
       "model_id": "b7ea63efed474b68b8fe2ab50a4b8ba7",
       "version_major": 2,
       "version_minor": 0
      },
      "text/plain": [
       "Iterating epochs:   0%|          | 0/125 [00:00<?, ?it/s]"
      ]
     },
     "metadata": {},
     "output_type": "display_data"
    },
    {
     "name": "stdout",
     "output_type": "stream",
     "text": [
      "{'batch_size': 64, 'learning_rate': 0.005, 'lookback': 36, 'num_layers': 1, 'seed': 3735928559} 0.027041751658543944\n"
     ]
    },
    {
     "data": {
      "application/vnd.jupyter.widget-view+json": {
       "model_id": "07f7db4b47af4f01b1aedb83fafa5f00",
       "version_major": 2,
       "version_minor": 0
      },
      "text/plain": [
       "Iterating epochs:   0%|          | 0/125 [00:00<?, ?it/s]"
      ]
     },
     "metadata": {},
     "output_type": "display_data"
    },
    {
     "name": "stdout",
     "output_type": "stream",
     "text": [
      "{'batch_size': 64, 'learning_rate': 0.005, 'lookback': 36, 'num_layers': 2, 'seed': 1337} 0.029917171224951744\n"
     ]
    },
    {
     "data": {
      "application/vnd.jupyter.widget-view+json": {
       "model_id": "bd1f2b7700174056a9f3910ed8bdd1b8",
       "version_major": 2,
       "version_minor": 0
      },
      "text/plain": [
       "Iterating epochs:   0%|          | 0/125 [00:00<?, ?it/s]"
      ]
     },
     "metadata": {},
     "output_type": "display_data"
    },
    {
     "name": "stdout",
     "output_type": "stream",
     "text": [
      "{'batch_size': 64, 'learning_rate': 0.005, 'lookback': 36, 'num_layers': 2, 'seed': 12648430} 0.031245715683326125\n"
     ]
    },
    {
     "data": {
      "application/vnd.jupyter.widget-view+json": {
       "model_id": "2ed14545374b4cfc8847facd7fbd9458",
       "version_major": 2,
       "version_minor": 0
      },
      "text/plain": [
       "Iterating epochs:   0%|          | 0/125 [00:00<?, ?it/s]"
      ]
     },
     "metadata": {},
     "output_type": "display_data"
    },
    {
     "name": "stdout",
     "output_type": "stream",
     "text": [
      "{'batch_size': 64, 'learning_rate': 0.005, 'lookback': 36, 'num_layers': 2, 'seed': 3735928559} 0.029948333743959665\n"
     ]
    },
    {
     "data": {
      "application/vnd.jupyter.widget-view+json": {
       "model_id": "a4579f4e4cb64863b4b6d2951d5bc9c1",
       "version_major": 2,
       "version_minor": 0
      },
      "text/plain": [
       "Iterating epochs:   0%|          | 0/125 [00:00<?, ?it/s]"
      ]
     },
     "metadata": {},
     "output_type": "display_data"
    },
    {
     "name": "stdout",
     "output_type": "stream",
     "text": [
      "{'batch_size': 64, 'learning_rate': 0.005, 'lookback': 48, 'num_layers': 1, 'seed': 1337} 0.0333401735406369\n"
     ]
    },
    {
     "data": {
      "application/vnd.jupyter.widget-view+json": {
       "model_id": "24798bcdd9e04d2e9cc4f2ce6900f543",
       "version_major": 2,
       "version_minor": 0
      },
      "text/plain": [
       "Iterating epochs:   0%|          | 0/125 [00:00<?, ?it/s]"
      ]
     },
     "metadata": {},
     "output_type": "display_data"
    },
    {
     "name": "stdout",
     "output_type": "stream",
     "text": [
      "{'batch_size': 64, 'learning_rate': 0.005, 'lookback': 48, 'num_layers': 1, 'seed': 12648430} 0.032472952851094306\n"
     ]
    },
    {
     "data": {
      "application/vnd.jupyter.widget-view+json": {
       "model_id": "35dcdaff442541e6b9b21b13c8ccbaed",
       "version_major": 2,
       "version_minor": 0
      },
      "text/plain": [
       "Iterating epochs:   0%|          | 0/125 [00:00<?, ?it/s]"
      ]
     },
     "metadata": {},
     "output_type": "display_data"
    },
    {
     "name": "stdout",
     "output_type": "stream",
     "text": [
      "{'batch_size': 64, 'learning_rate': 0.005, 'lookback': 48, 'num_layers': 1, 'seed': 3735928559} 0.0296378661878407\n"
     ]
    },
    {
     "data": {
      "application/vnd.jupyter.widget-view+json": {
       "model_id": "a35cbe7be1454d76859ebfefcf626374",
       "version_major": 2,
       "version_minor": 0
      },
      "text/plain": [
       "Iterating epochs:   0%|          | 0/125 [00:00<?, ?it/s]"
      ]
     },
     "metadata": {},
     "output_type": "display_data"
    },
    {
     "name": "stdout",
     "output_type": "stream",
     "text": [
      "{'batch_size': 64, 'learning_rate': 0.005, 'lookback': 48, 'num_layers': 2, 'seed': 1337} 0.03494054079055786\n"
     ]
    },
    {
     "data": {
      "application/vnd.jupyter.widget-view+json": {
       "model_id": "4778ebcb97ad4d02b1ad84cd2a702330",
       "version_major": 2,
       "version_minor": 0
      },
      "text/plain": [
       "Iterating epochs:   0%|          | 0/125 [00:00<?, ?it/s]"
      ]
     },
     "metadata": {},
     "output_type": "display_data"
    },
    {
     "name": "stdout",
     "output_type": "stream",
     "text": [
      "{'batch_size': 64, 'learning_rate': 0.005, 'lookback': 48, 'num_layers': 2, 'seed': 12648430} 0.031114208279177547\n"
     ]
    },
    {
     "data": {
      "application/vnd.jupyter.widget-view+json": {
       "model_id": "8cc534572e02498bb678ff0d518c97d8",
       "version_major": 2,
       "version_minor": 0
      },
      "text/plain": [
       "Iterating epochs:   0%|          | 0/125 [00:00<?, ?it/s]"
      ]
     },
     "metadata": {},
     "output_type": "display_data"
    },
    {
     "name": "stdout",
     "output_type": "stream",
     "text": [
      "{'batch_size': 64, 'learning_rate': 0.005, 'lookback': 48, 'num_layers': 2, 'seed': 3735928559} 0.03142418072093278\n"
     ]
    },
    {
     "data": {
      "application/vnd.jupyter.widget-view+json": {
       "model_id": "4a556ea428d74307a62ea6028951cb4c",
       "version_major": 2,
       "version_minor": 0
      },
      "text/plain": [
       "Iterating epochs:   0%|          | 0/125 [00:00<?, ?it/s]"
      ]
     },
     "metadata": {},
     "output_type": "display_data"
    },
    {
     "name": "stdout",
     "output_type": "stream",
     "text": [
      "{'batch_size': 64, 'learning_rate': 0.005, 'lookback': 96, 'num_layers': 1, 'seed': 1337} 0.033941366942599416\n"
     ]
    },
    {
     "data": {
      "application/vnd.jupyter.widget-view+json": {
       "model_id": "dcc2b6a2e7104a0aa719d7e2320ca4f8",
       "version_major": 2,
       "version_minor": 0
      },
      "text/plain": [
       "Iterating epochs:   0%|          | 0/125 [00:00<?, ?it/s]"
      ]
     },
     "metadata": {},
     "output_type": "display_data"
    },
    {
     "name": "stdout",
     "output_type": "stream",
     "text": [
      "{'batch_size': 64, 'learning_rate': 0.005, 'lookback': 96, 'num_layers': 1, 'seed': 12648430} 0.02554463199339807\n"
     ]
    },
    {
     "data": {
      "application/vnd.jupyter.widget-view+json": {
       "model_id": "be799be0cb7f432a8ffea0c102221f6c",
       "version_major": 2,
       "version_minor": 0
      },
      "text/plain": [
       "Iterating epochs:   0%|          | 0/125 [00:00<?, ?it/s]"
      ]
     },
     "metadata": {},
     "output_type": "display_data"
    },
    {
     "name": "stdout",
     "output_type": "stream",
     "text": [
      "{'batch_size': 64, 'learning_rate': 0.005, 'lookback': 96, 'num_layers': 1, 'seed': 3735928559} 0.026676704292185605\n"
     ]
    },
    {
     "data": {
      "application/vnd.jupyter.widget-view+json": {
       "model_id": "282a032289fb4c14a0f9f2e6a1502430",
       "version_major": 2,
       "version_minor": 0
      },
      "text/plain": [
       "Iterating epochs:   0%|          | 0/125 [00:00<?, ?it/s]"
      ]
     },
     "metadata": {},
     "output_type": "display_data"
    },
    {
     "name": "stdout",
     "output_type": "stream",
     "text": [
      "{'batch_size': 64, 'learning_rate': 0.005, 'lookback': 96, 'num_layers': 2, 'seed': 1337} 0.02858508436474949\n"
     ]
    },
    {
     "data": {
      "application/vnd.jupyter.widget-view+json": {
       "model_id": "5b4c1b4eb2b2486583374af440c83962",
       "version_major": 2,
       "version_minor": 0
      },
      "text/plain": [
       "Iterating epochs:   0%|          | 0/125 [00:00<?, ?it/s]"
      ]
     },
     "metadata": {},
     "output_type": "display_data"
    },
    {
     "name": "stdout",
     "output_type": "stream",
     "text": [
      "{'batch_size': 64, 'learning_rate': 0.005, 'lookback': 96, 'num_layers': 2, 'seed': 12648430} 0.028928573126904666\n"
     ]
    },
    {
     "data": {
      "application/vnd.jupyter.widget-view+json": {
       "model_id": "a0ff7e6d9db44b89b2e55bb75d0891f1",
       "version_major": 2,
       "version_minor": 0
      },
      "text/plain": [
       "Iterating epochs:   0%|          | 0/125 [00:00<?, ?it/s]"
      ]
     },
     "metadata": {},
     "output_type": "display_data"
    },
    {
     "name": "stdout",
     "output_type": "stream",
     "text": [
      "{'batch_size': 64, 'learning_rate': 0.005, 'lookback': 96, 'num_layers': 2, 'seed': 3735928559} 0.027664337190799415\n"
     ]
    },
    {
     "data": {
      "application/vnd.jupyter.widget-view+json": {
       "model_id": "1734ea6ff33440bd86079c27509c8c63",
       "version_major": 2,
       "version_minor": 0
      },
      "text/plain": [
       "Iterating epochs:   0%|          | 0/125 [00:00<?, ?it/s]"
      ]
     },
     "metadata": {},
     "output_type": "display_data"
    },
    {
     "name": "stdout",
     "output_type": "stream",
     "text": [
      "{'batch_size': 128, 'learning_rate': 0.001, 'lookback': 36, 'num_layers': 1, 'seed': 1337} 0.029683434404432774\n"
     ]
    },
    {
     "data": {
      "application/vnd.jupyter.widget-view+json": {
       "model_id": "57d8b2e4095e40878fb2168a73f69500",
       "version_major": 2,
       "version_minor": 0
      },
      "text/plain": [
       "Iterating epochs:   0%|          | 0/125 [00:00<?, ?it/s]"
      ]
     },
     "metadata": {},
     "output_type": "display_data"
    },
    {
     "name": "stdout",
     "output_type": "stream",
     "text": [
      "{'batch_size': 128, 'learning_rate': 0.001, 'lookback': 36, 'num_layers': 1, 'seed': 12648430} 0.03846326330676675\n"
     ]
    },
    {
     "data": {
      "application/vnd.jupyter.widget-view+json": {
       "model_id": "27442de829644107ad6536e1f1e6835b",
       "version_major": 2,
       "version_minor": 0
      },
      "text/plain": [
       "Iterating epochs:   0%|          | 0/125 [00:00<?, ?it/s]"
      ]
     },
     "metadata": {},
     "output_type": "display_data"
    },
    {
     "name": "stdout",
     "output_type": "stream",
     "text": [
      "{'batch_size': 128, 'learning_rate': 0.001, 'lookback': 36, 'num_layers': 1, 'seed': 3735928559} 0.04392008436843753\n"
     ]
    },
    {
     "data": {
      "application/vnd.jupyter.widget-view+json": {
       "model_id": "a5a120f3a7614fb095d662db351e08c9",
       "version_major": 2,
       "version_minor": 0
      },
      "text/plain": [
       "Iterating epochs:   0%|          | 0/125 [00:00<?, ?it/s]"
      ]
     },
     "metadata": {},
     "output_type": "display_data"
    },
    {
     "name": "stdout",
     "output_type": "stream",
     "text": [
      "{'batch_size': 128, 'learning_rate': 0.001, 'lookback': 36, 'num_layers': 2, 'seed': 1337} 0.0363213699311018\n"
     ]
    },
    {
     "data": {
      "application/vnd.jupyter.widget-view+json": {
       "model_id": "5c7bd5b47559485599f2923c2e8644a7",
       "version_major": 2,
       "version_minor": 0
      },
      "text/plain": [
       "Iterating epochs:   0%|          | 0/125 [00:00<?, ?it/s]"
      ]
     },
     "metadata": {},
     "output_type": "display_data"
    },
    {
     "name": "stdout",
     "output_type": "stream",
     "text": [
      "{'batch_size': 128, 'learning_rate': 0.001, 'lookback': 36, 'num_layers': 2, 'seed': 12648430} 0.033842107746750116\n"
     ]
    },
    {
     "data": {
      "application/vnd.jupyter.widget-view+json": {
       "model_id": "2afb9ba19cb141fa9c7488f1e25aaa01",
       "version_major": 2,
       "version_minor": 0
      },
      "text/plain": [
       "Iterating epochs:   0%|          | 0/125 [00:00<?, ?it/s]"
      ]
     },
     "metadata": {},
     "output_type": "display_data"
    },
    {
     "name": "stdout",
     "output_type": "stream",
     "text": [
      "{'batch_size': 128, 'learning_rate': 0.001, 'lookback': 36, 'num_layers': 2, 'seed': 3735928559} 0.03384882165119052\n"
     ]
    },
    {
     "data": {
      "application/vnd.jupyter.widget-view+json": {
       "model_id": "5bc62b3aefd943728a6d7a58f188abdf",
       "version_major": 2,
       "version_minor": 0
      },
      "text/plain": [
       "Iterating epochs:   0%|          | 0/125 [00:00<?, ?it/s]"
      ]
     },
     "metadata": {},
     "output_type": "display_data"
    },
    {
     "name": "stdout",
     "output_type": "stream",
     "text": [
      "{'batch_size': 128, 'learning_rate': 0.001, 'lookback': 48, 'num_layers': 1, 'seed': 1337} 0.02951282961294055\n"
     ]
    },
    {
     "data": {
      "application/vnd.jupyter.widget-view+json": {
       "model_id": "495050db85514eecaa54b7cf2225d4d9",
       "version_major": 2,
       "version_minor": 0
      },
      "text/plain": [
       "Iterating epochs:   0%|          | 0/125 [00:00<?, ?it/s]"
      ]
     },
     "metadata": {},
     "output_type": "display_data"
    },
    {
     "name": "stdout",
     "output_type": "stream",
     "text": [
      "{'batch_size': 128, 'learning_rate': 0.001, 'lookback': 48, 'num_layers': 1, 'seed': 12648430} 0.03695052536204457\n"
     ]
    },
    {
     "data": {
      "application/vnd.jupyter.widget-view+json": {
       "model_id": "492ba81ff3a640d0a7aa18b635549bb9",
       "version_major": 2,
       "version_minor": 0
      },
      "text/plain": [
       "Iterating epochs:   0%|          | 0/125 [00:00<?, ?it/s]"
      ]
     },
     "metadata": {},
     "output_type": "display_data"
    },
    {
     "name": "stdout",
     "output_type": "stream",
     "text": [
      "{'batch_size': 128, 'learning_rate': 0.001, 'lookback': 48, 'num_layers': 1, 'seed': 3735928559} 0.042187913320958614\n"
     ]
    },
    {
     "data": {
      "application/vnd.jupyter.widget-view+json": {
       "model_id": "1bb3404d7de44dc8be1194a32aefae23",
       "version_major": 2,
       "version_minor": 0
      },
      "text/plain": [
       "Iterating epochs:   0%|          | 0/125 [00:00<?, ?it/s]"
      ]
     },
     "metadata": {},
     "output_type": "display_data"
    },
    {
     "name": "stdout",
     "output_type": "stream",
     "text": [
      "{'batch_size': 128, 'learning_rate': 0.001, 'lookback': 48, 'num_layers': 2, 'seed': 1337} 0.034690134692937136\n"
     ]
    },
    {
     "data": {
      "application/vnd.jupyter.widget-view+json": {
       "model_id": "483e7a3813014c0ba67bac1aaec14fb8",
       "version_major": 2,
       "version_minor": 0
      },
      "text/plain": [
       "Iterating epochs:   0%|          | 0/125 [00:00<?, ?it/s]"
      ]
     },
     "metadata": {},
     "output_type": "display_data"
    },
    {
     "name": "stdout",
     "output_type": "stream",
     "text": [
      "{'batch_size': 128, 'learning_rate': 0.001, 'lookback': 48, 'num_layers': 2, 'seed': 12648430} 0.03326012892648578\n"
     ]
    },
    {
     "data": {
      "application/vnd.jupyter.widget-view+json": {
       "model_id": "0dd08efa3d1d49a18af522a1441c9cb3",
       "version_major": 2,
       "version_minor": 0
      },
      "text/plain": [
       "Iterating epochs:   0%|          | 0/125 [00:00<?, ?it/s]"
      ]
     },
     "metadata": {},
     "output_type": "display_data"
    },
    {
     "name": "stdout",
     "output_type": "stream",
     "text": [
      "{'batch_size': 128, 'learning_rate': 0.001, 'lookback': 48, 'num_layers': 2, 'seed': 3735928559} 0.03323864098638296\n"
     ]
    },
    {
     "data": {
      "application/vnd.jupyter.widget-view+json": {
       "model_id": "4a9ed6f0157d4589bec65929da9a3df6",
       "version_major": 2,
       "version_minor": 0
      },
      "text/plain": [
       "Iterating epochs:   0%|          | 0/125 [00:00<?, ?it/s]"
      ]
     },
     "metadata": {},
     "output_type": "display_data"
    },
    {
     "name": "stdout",
     "output_type": "stream",
     "text": [
      "{'batch_size': 128, 'learning_rate': 0.001, 'lookback': 96, 'num_layers': 1, 'seed': 1337} 0.029770132154226303\n"
     ]
    },
    {
     "data": {
      "application/vnd.jupyter.widget-view+json": {
       "model_id": "70b6a762657a4366ab02f10d335c8fe8",
       "version_major": 2,
       "version_minor": 0
      },
      "text/plain": [
       "Iterating epochs:   0%|          | 0/125 [00:00<?, ?it/s]"
      ]
     },
     "metadata": {},
     "output_type": "display_data"
    },
    {
     "name": "stdout",
     "output_type": "stream",
     "text": [
      "{'batch_size': 128, 'learning_rate': 0.001, 'lookback': 96, 'num_layers': 1, 'seed': 12648430} 0.03756476333364844\n"
     ]
    },
    {
     "data": {
      "application/vnd.jupyter.widget-view+json": {
       "model_id": "3a3e30fa78d54b0fae2110375b9ee005",
       "version_major": 2,
       "version_minor": 0
      },
      "text/plain": [
       "Iterating epochs:   0%|          | 0/125 [00:00<?, ?it/s]"
      ]
     },
     "metadata": {},
     "output_type": "display_data"
    },
    {
     "name": "stdout",
     "output_type": "stream",
     "text": [
      "{'batch_size': 128, 'learning_rate': 0.001, 'lookback': 96, 'num_layers': 1, 'seed': 3735928559} 0.04374135797843337\n"
     ]
    },
    {
     "data": {
      "application/vnd.jupyter.widget-view+json": {
       "model_id": "6348c32890364629b94ea10eb898bb76",
       "version_major": 2,
       "version_minor": 0
      },
      "text/plain": [
       "Iterating epochs:   0%|          | 0/125 [00:00<?, ?it/s]"
      ]
     },
     "metadata": {},
     "output_type": "display_data"
    },
    {
     "name": "stdout",
     "output_type": "stream",
     "text": [
      "{'batch_size': 128, 'learning_rate': 0.001, 'lookback': 96, 'num_layers': 2, 'seed': 1337} 0.03373883478343487\n"
     ]
    },
    {
     "data": {
      "application/vnd.jupyter.widget-view+json": {
       "model_id": "0a9952e8570a4fe4b3bcb81b1d9d2ee7",
       "version_major": 2,
       "version_minor": 0
      },
      "text/plain": [
       "Iterating epochs:   0%|          | 0/125 [00:00<?, ?it/s]"
      ]
     },
     "metadata": {},
     "output_type": "display_data"
    },
    {
     "name": "stdout",
     "output_type": "stream",
     "text": [
      "{'batch_size': 128, 'learning_rate': 0.001, 'lookback': 96, 'num_layers': 2, 'seed': 12648430} 0.03400167031213641\n"
     ]
    },
    {
     "data": {
      "application/vnd.jupyter.widget-view+json": {
       "model_id": "05dcede0156945c2a41bc757784c983f",
       "version_major": 2,
       "version_minor": 0
      },
      "text/plain": [
       "Iterating epochs:   0%|          | 0/125 [00:00<?, ?it/s]"
      ]
     },
     "metadata": {},
     "output_type": "display_data"
    },
    {
     "name": "stdout",
     "output_type": "stream",
     "text": [
      "{'batch_size': 128, 'learning_rate': 0.001, 'lookback': 96, 'num_layers': 2, 'seed': 3735928559} 0.03297208482399583\n"
     ]
    },
    {
     "data": {
      "application/vnd.jupyter.widget-view+json": {
       "model_id": "2eef0997208f4e28b03595ccca3f00fa",
       "version_major": 2,
       "version_minor": 0
      },
      "text/plain": [
       "Iterating epochs:   0%|          | 0/125 [00:00<?, ?it/s]"
      ]
     },
     "metadata": {},
     "output_type": "display_data"
    },
    {
     "name": "stdout",
     "output_type": "stream",
     "text": [
      "{'batch_size': 128, 'learning_rate': 0.003, 'lookback': 36, 'num_layers': 1, 'seed': 1337} 0.02755621401593089\n"
     ]
    },
    {
     "data": {
      "application/vnd.jupyter.widget-view+json": {
       "model_id": "e258da432b7f42ca866a4e2160a1967c",
       "version_major": 2,
       "version_minor": 0
      },
      "text/plain": [
       "Iterating epochs:   0%|          | 0/125 [00:00<?, ?it/s]"
      ]
     },
     "metadata": {},
     "output_type": "display_data"
    },
    {
     "name": "stdout",
     "output_type": "stream",
     "text": [
      "{'batch_size': 128, 'learning_rate': 0.003, 'lookback': 36, 'num_layers': 1, 'seed': 12648430} 0.029387569520622492\n"
     ]
    },
    {
     "data": {
      "application/vnd.jupyter.widget-view+json": {
       "model_id": "16906db699914d4db27a17974098e85a",
       "version_major": 2,
       "version_minor": 0
      },
      "text/plain": [
       "Iterating epochs:   0%|          | 0/125 [00:00<?, ?it/s]"
      ]
     },
     "metadata": {},
     "output_type": "display_data"
    },
    {
     "name": "stdout",
     "output_type": "stream",
     "text": [
      "{'batch_size': 128, 'learning_rate': 0.003, 'lookback': 36, 'num_layers': 1, 'seed': 3735928559} 0.02797941491007805\n"
     ]
    },
    {
     "data": {
      "application/vnd.jupyter.widget-view+json": {
       "model_id": "6dc5f70146b04b8683b97837989d5ac2",
       "version_major": 2,
       "version_minor": 0
      },
      "text/plain": [
       "Iterating epochs:   0%|          | 0/125 [00:00<?, ?it/s]"
      ]
     },
     "metadata": {},
     "output_type": "display_data"
    },
    {
     "name": "stdout",
     "output_type": "stream",
     "text": [
      "{'batch_size': 128, 'learning_rate': 0.003, 'lookback': 36, 'num_layers': 2, 'seed': 1337} 0.034270497504621744\n"
     ]
    },
    {
     "data": {
      "application/vnd.jupyter.widget-view+json": {
       "model_id": "e669c0d623334fafbe4ebf8461c099fc",
       "version_major": 2,
       "version_minor": 0
      },
      "text/plain": [
       "Iterating epochs:   0%|          | 0/125 [00:00<?, ?it/s]"
      ]
     },
     "metadata": {},
     "output_type": "display_data"
    },
    {
     "name": "stdout",
     "output_type": "stream",
     "text": [
      "{'batch_size': 128, 'learning_rate': 0.003, 'lookback': 36, 'num_layers': 2, 'seed': 12648430} 0.030438117682933807\n"
     ]
    },
    {
     "data": {
      "application/vnd.jupyter.widget-view+json": {
       "model_id": "4379396540fe44c79dc7426ac3823e54",
       "version_major": 2,
       "version_minor": 0
      },
      "text/plain": [
       "Iterating epochs:   0%|          | 0/125 [00:00<?, ?it/s]"
      ]
     },
     "metadata": {},
     "output_type": "display_data"
    },
    {
     "name": "stdout",
     "output_type": "stream",
     "text": [
      "{'batch_size': 128, 'learning_rate': 0.003, 'lookback': 36, 'num_layers': 2, 'seed': 3735928559} 0.02779133664444089\n"
     ]
    },
    {
     "data": {
      "application/vnd.jupyter.widget-view+json": {
       "model_id": "221f758ab6d24b6faf5cbd81062c0c46",
       "version_major": 2,
       "version_minor": 0
      },
      "text/plain": [
       "Iterating epochs:   0%|          | 0/125 [00:00<?, ?it/s]"
      ]
     },
     "metadata": {},
     "output_type": "display_data"
    },
    {
     "name": "stdout",
     "output_type": "stream",
     "text": [
      "{'batch_size': 128, 'learning_rate': 0.003, 'lookback': 48, 'num_layers': 1, 'seed': 1337} 0.028312804643064737\n"
     ]
    },
    {
     "data": {
      "application/vnd.jupyter.widget-view+json": {
       "model_id": "c5df381c25c74ea4965f5562bfba4e3f",
       "version_major": 2,
       "version_minor": 0
      },
      "text/plain": [
       "Iterating epochs:   0%|          | 0/125 [00:00<?, ?it/s]"
      ]
     },
     "metadata": {},
     "output_type": "display_data"
    },
    {
     "name": "stdout",
     "output_type": "stream",
     "text": [
      "{'batch_size': 128, 'learning_rate': 0.003, 'lookback': 48, 'num_layers': 1, 'seed': 12648430} 0.030377359595149755\n"
     ]
    },
    {
     "data": {
      "application/vnd.jupyter.widget-view+json": {
       "model_id": "5b4c4735c0354f5c8065f40be3bec52a",
       "version_major": 2,
       "version_minor": 0
      },
      "text/plain": [
       "Iterating epochs:   0%|          | 0/125 [00:00<?, ?it/s]"
      ]
     },
     "metadata": {},
     "output_type": "display_data"
    },
    {
     "name": "stdout",
     "output_type": "stream",
     "text": [
      "{'batch_size': 128, 'learning_rate': 0.003, 'lookback': 48, 'num_layers': 1, 'seed': 3735928559} 0.028501310385763645\n"
     ]
    },
    {
     "data": {
      "application/vnd.jupyter.widget-view+json": {
       "model_id": "273ae7812dfb41c593a4b722d2469165",
       "version_major": 2,
       "version_minor": 0
      },
      "text/plain": [
       "Iterating epochs:   0%|          | 0/125 [00:00<?, ?it/s]"
      ]
     },
     "metadata": {},
     "output_type": "display_data"
    },
    {
     "name": "stdout",
     "output_type": "stream",
     "text": [
      "{'batch_size': 128, 'learning_rate': 0.003, 'lookback': 48, 'num_layers': 2, 'seed': 1337} 0.03333936212584376\n"
     ]
    },
    {
     "data": {
      "application/vnd.jupyter.widget-view+json": {
       "model_id": "b39e346cd72d473bb079cc03e7c40f4f",
       "version_major": 2,
       "version_minor": 0
      },
      "text/plain": [
       "Iterating epochs:   0%|          | 0/125 [00:00<?, ?it/s]"
      ]
     },
     "metadata": {},
     "output_type": "display_data"
    },
    {
     "name": "stdout",
     "output_type": "stream",
     "text": [
      "{'batch_size': 128, 'learning_rate': 0.003, 'lookback': 48, 'num_layers': 2, 'seed': 12648430} 0.03210587985813618\n"
     ]
    },
    {
     "data": {
      "application/vnd.jupyter.widget-view+json": {
       "model_id": "5adc7ce91beb493c868063f57850f73a",
       "version_major": 2,
       "version_minor": 0
      },
      "text/plain": [
       "Iterating epochs:   0%|          | 0/125 [00:00<?, ?it/s]"
      ]
     },
     "metadata": {},
     "output_type": "display_data"
    },
    {
     "name": "stdout",
     "output_type": "stream",
     "text": [
      "{'batch_size': 128, 'learning_rate': 0.003, 'lookback': 48, 'num_layers': 2, 'seed': 3735928559} 0.029386839363723993\n"
     ]
    },
    {
     "data": {
      "application/vnd.jupyter.widget-view+json": {
       "model_id": "c563ceb024024ed9be3438adb9a26394",
       "version_major": 2,
       "version_minor": 0
      },
      "text/plain": [
       "Iterating epochs:   0%|          | 0/125 [00:00<?, ?it/s]"
      ]
     },
     "metadata": {},
     "output_type": "display_data"
    },
    {
     "name": "stdout",
     "output_type": "stream",
     "text": [
      "{'batch_size': 128, 'learning_rate': 0.003, 'lookback': 96, 'num_layers': 1, 'seed': 1337} 0.027802498545497656\n"
     ]
    },
    {
     "data": {
      "application/vnd.jupyter.widget-view+json": {
       "model_id": "f59c554193b14760803b96b1f2fb12e7",
       "version_major": 2,
       "version_minor": 0
      },
      "text/plain": [
       "Iterating epochs:   0%|          | 0/125 [00:00<?, ?it/s]"
      ]
     },
     "metadata": {},
     "output_type": "display_data"
    },
    {
     "name": "stdout",
     "output_type": "stream",
     "text": [
      "{'batch_size': 128, 'learning_rate': 0.003, 'lookback': 96, 'num_layers': 1, 'seed': 12648430} 0.031902093440294266\n"
     ]
    },
    {
     "data": {
      "application/vnd.jupyter.widget-view+json": {
       "model_id": "bdcb9c5160f145179afbf065b71bf1e9",
       "version_major": 2,
       "version_minor": 0
      },
      "text/plain": [
       "Iterating epochs:   0%|          | 0/125 [00:00<?, ?it/s]"
      ]
     },
     "metadata": {},
     "output_type": "display_data"
    },
    {
     "name": "stdout",
     "output_type": "stream",
     "text": [
      "{'batch_size': 128, 'learning_rate': 0.003, 'lookback': 96, 'num_layers': 1, 'seed': 3735928559} 0.026833282317966223\n"
     ]
    },
    {
     "data": {
      "application/vnd.jupyter.widget-view+json": {
       "model_id": "fd66ade41ab449f881aa85946d3e485f",
       "version_major": 2,
       "version_minor": 0
      },
      "text/plain": [
       "Iterating epochs:   0%|          | 0/125 [00:00<?, ?it/s]"
      ]
     },
     "metadata": {},
     "output_type": "display_data"
    },
    {
     "name": "stdout",
     "output_type": "stream",
     "text": [
      "{'batch_size': 128, 'learning_rate': 0.003, 'lookback': 96, 'num_layers': 2, 'seed': 1337} 0.032238529063761234\n"
     ]
    },
    {
     "data": {
      "application/vnd.jupyter.widget-view+json": {
       "model_id": "069534d8ad5a4181a5e87931f64fd77a",
       "version_major": 2,
       "version_minor": 0
      },
      "text/plain": [
       "Iterating epochs:   0%|          | 0/125 [00:00<?, ?it/s]"
      ]
     },
     "metadata": {},
     "output_type": "display_data"
    },
    {
     "name": "stdout",
     "output_type": "stream",
     "text": [
      "{'batch_size': 128, 'learning_rate': 0.003, 'lookback': 96, 'num_layers': 2, 'seed': 12648430} 0.030405051074922085\n"
     ]
    },
    {
     "data": {
      "application/vnd.jupyter.widget-view+json": {
       "model_id": "e59f361b348d424784cf05c466180270",
       "version_major": 2,
       "version_minor": 0
      },
      "text/plain": [
       "Iterating epochs:   0%|          | 0/125 [00:00<?, ?it/s]"
      ]
     },
     "metadata": {},
     "output_type": "display_data"
    },
    {
     "name": "stdout",
     "output_type": "stream",
     "text": [
      "{'batch_size': 128, 'learning_rate': 0.003, 'lookback': 96, 'num_layers': 2, 'seed': 3735928559} 0.029377234634011984\n"
     ]
    },
    {
     "data": {
      "application/vnd.jupyter.widget-view+json": {
       "model_id": "62592f69d1c44cba913a1669edeae65e",
       "version_major": 2,
       "version_minor": 0
      },
      "text/plain": [
       "Iterating epochs:   0%|          | 0/125 [00:00<?, ?it/s]"
      ]
     },
     "metadata": {},
     "output_type": "display_data"
    },
    {
     "name": "stdout",
     "output_type": "stream",
     "text": [
      "{'batch_size': 128, 'learning_rate': 0.005, 'lookback': 36, 'num_layers': 1, 'seed': 1337} 0.027959730941802263\n"
     ]
    },
    {
     "data": {
      "application/vnd.jupyter.widget-view+json": {
       "model_id": "1deea8cb03fc457a87f1313f0f89b40c",
       "version_major": 2,
       "version_minor": 0
      },
      "text/plain": [
       "Iterating epochs:   0%|          | 0/125 [00:00<?, ?it/s]"
      ]
     },
     "metadata": {},
     "output_type": "display_data"
    },
    {
     "name": "stdout",
     "output_type": "stream",
     "text": [
      "{'batch_size': 128, 'learning_rate': 0.005, 'lookback': 36, 'num_layers': 1, 'seed': 12648430} 0.031762669794261456\n"
     ]
    },
    {
     "data": {
      "application/vnd.jupyter.widget-view+json": {
       "model_id": "995255794bf54aeaaa05e2f431a29b46",
       "version_major": 2,
       "version_minor": 0
      },
      "text/plain": [
       "Iterating epochs:   0%|          | 0/125 [00:00<?, ?it/s]"
      ]
     },
     "metadata": {},
     "output_type": "display_data"
    },
    {
     "name": "stdout",
     "output_type": "stream",
     "text": [
      "{'batch_size': 128, 'learning_rate': 0.005, 'lookback': 36, 'num_layers': 1, 'seed': 3735928559} 0.028035887982696295\n"
     ]
    },
    {
     "data": {
      "application/vnd.jupyter.widget-view+json": {
       "model_id": "8240670d297a43458f21bfb648b8b7f4",
       "version_major": 2,
       "version_minor": 0
      },
      "text/plain": [
       "Iterating epochs:   0%|          | 0/125 [00:00<?, ?it/s]"
      ]
     },
     "metadata": {},
     "output_type": "display_data"
    },
    {
     "name": "stdout",
     "output_type": "stream",
     "text": [
      "{'batch_size': 128, 'learning_rate': 0.005, 'lookback': 36, 'num_layers': 2, 'seed': 1337} 0.03107347385957837\n"
     ]
    },
    {
     "data": {
      "application/vnd.jupyter.widget-view+json": {
       "model_id": "c3ff00d542994b61baefba9cf0d61c4c",
       "version_major": 2,
       "version_minor": 0
      },
      "text/plain": [
       "Iterating epochs:   0%|          | 0/125 [00:00<?, ?it/s]"
      ]
     },
     "metadata": {},
     "output_type": "display_data"
    },
    {
     "name": "stdout",
     "output_type": "stream",
     "text": [
      "{'batch_size': 128, 'learning_rate': 0.005, 'lookback': 36, 'num_layers': 2, 'seed': 12648430} 0.03162652300670743\n"
     ]
    },
    {
     "data": {
      "application/vnd.jupyter.widget-view+json": {
       "model_id": "234bbf3c49eb47e09383956ddf03343f",
       "version_major": 2,
       "version_minor": 0
      },
      "text/plain": [
       "Iterating epochs:   0%|          | 0/125 [00:00<?, ?it/s]"
      ]
     },
     "metadata": {},
     "output_type": "display_data"
    },
    {
     "name": "stdout",
     "output_type": "stream",
     "text": [
      "{'batch_size': 128, 'learning_rate': 0.005, 'lookback': 36, 'num_layers': 2, 'seed': 3735928559} 0.02865927293896675\n"
     ]
    },
    {
     "data": {
      "application/vnd.jupyter.widget-view+json": {
       "model_id": "c684002131454f4aa7f29d46aa7237b4",
       "version_major": 2,
       "version_minor": 0
      },
      "text/plain": [
       "Iterating epochs:   0%|          | 0/125 [00:00<?, ?it/s]"
      ]
     },
     "metadata": {},
     "output_type": "display_data"
    },
    {
     "name": "stdout",
     "output_type": "stream",
     "text": [
      "{'batch_size': 128, 'learning_rate': 0.005, 'lookback': 48, 'num_layers': 1, 'seed': 1337} 0.027669974137097597\n"
     ]
    },
    {
     "data": {
      "application/vnd.jupyter.widget-view+json": {
       "model_id": "d76df4da1637454680b51918842d582e",
       "version_major": 2,
       "version_minor": 0
      },
      "text/plain": [
       "Iterating epochs:   0%|          | 0/125 [00:00<?, ?it/s]"
      ]
     },
     "metadata": {},
     "output_type": "display_data"
    },
    {
     "name": "stdout",
     "output_type": "stream",
     "text": [
      "{'batch_size': 128, 'learning_rate': 0.005, 'lookback': 48, 'num_layers': 1, 'seed': 12648430} 0.02995271049439907\n"
     ]
    },
    {
     "data": {
      "application/vnd.jupyter.widget-view+json": {
       "model_id": "58db92bc289b4b1b8e34e8b6b5f14994",
       "version_major": 2,
       "version_minor": 0
      },
      "text/plain": [
       "Iterating epochs:   0%|          | 0/125 [00:00<?, ?it/s]"
      ]
     },
     "metadata": {},
     "output_type": "display_data"
    },
    {
     "name": "stdout",
     "output_type": "stream",
     "text": [
      "{'batch_size': 128, 'learning_rate': 0.005, 'lookback': 48, 'num_layers': 1, 'seed': 3735928559} 0.03001895733177662\n"
     ]
    },
    {
     "data": {
      "application/vnd.jupyter.widget-view+json": {
       "model_id": "36e872ecf6304ae1a1ff43b26e2590d9",
       "version_major": 2,
       "version_minor": 0
      },
      "text/plain": [
       "Iterating epochs:   0%|          | 0/125 [00:00<?, ?it/s]"
      ]
     },
     "metadata": {},
     "output_type": "display_data"
    },
    {
     "name": "stdout",
     "output_type": "stream",
     "text": [
      "{'batch_size': 128, 'learning_rate': 0.005, 'lookback': 48, 'num_layers': 2, 'seed': 1337} 0.03075901372358203\n"
     ]
    },
    {
     "data": {
      "application/vnd.jupyter.widget-view+json": {
       "model_id": "1849c8c2f02941f899146b7e9d3d5a0c",
       "version_major": 2,
       "version_minor": 0
      },
      "text/plain": [
       "Iterating epochs:   0%|          | 0/125 [00:00<?, ?it/s]"
      ]
     },
     "metadata": {},
     "output_type": "display_data"
    },
    {
     "name": "stdout",
     "output_type": "stream",
     "text": [
      "{'batch_size': 128, 'learning_rate': 0.005, 'lookback': 48, 'num_layers': 2, 'seed': 12648430} 0.030708538368344307\n"
     ]
    },
    {
     "data": {
      "application/vnd.jupyter.widget-view+json": {
       "model_id": "aa72f623725f49d2899c6484299b1720",
       "version_major": 2,
       "version_minor": 0
      },
      "text/plain": [
       "Iterating epochs:   0%|          | 0/125 [00:00<?, ?it/s]"
      ]
     },
     "metadata": {},
     "output_type": "display_data"
    },
    {
     "name": "stdout",
     "output_type": "stream",
     "text": [
      "{'batch_size': 128, 'learning_rate': 0.005, 'lookback': 48, 'num_layers': 2, 'seed': 3735928559} 0.03061070665717125\n"
     ]
    },
    {
     "data": {
      "application/vnd.jupyter.widget-view+json": {
       "model_id": "3669910b409545bfb106c83e3e066e97",
       "version_major": 2,
       "version_minor": 0
      },
      "text/plain": [
       "Iterating epochs:   0%|          | 0/125 [00:00<?, ?it/s]"
      ]
     },
     "metadata": {},
     "output_type": "display_data"
    },
    {
     "name": "stdout",
     "output_type": "stream",
     "text": [
      "{'batch_size': 128, 'learning_rate': 0.005, 'lookback': 96, 'num_layers': 1, 'seed': 1337} 0.028325079940259457\n"
     ]
    },
    {
     "data": {
      "application/vnd.jupyter.widget-view+json": {
       "model_id": "23fe46ee530643329845619b6148c449",
       "version_major": 2,
       "version_minor": 0
      },
      "text/plain": [
       "Iterating epochs:   0%|          | 0/125 [00:00<?, ?it/s]"
      ]
     },
     "metadata": {},
     "output_type": "display_data"
    },
    {
     "name": "stdout",
     "output_type": "stream",
     "text": [
      "{'batch_size': 128, 'learning_rate': 0.005, 'lookback': 96, 'num_layers': 1, 'seed': 12648430} 0.03398322453722358\n"
     ]
    },
    {
     "data": {
      "application/vnd.jupyter.widget-view+json": {
       "model_id": "eb6354e3a7c4421ba836a8542dc85c4a",
       "version_major": 2,
       "version_minor": 0
      },
      "text/plain": [
       "Iterating epochs:   0%|          | 0/125 [00:00<?, ?it/s]"
      ]
     },
     "metadata": {},
     "output_type": "display_data"
    },
    {
     "name": "stdout",
     "output_type": "stream",
     "text": [
      "{'batch_size': 128, 'learning_rate': 0.005, 'lookback': 96, 'num_layers': 1, 'seed': 3735928559} 0.02842102339491248\n"
     ]
    },
    {
     "data": {
      "application/vnd.jupyter.widget-view+json": {
       "model_id": "f910c191aae04e9a8cb3cf115634364c",
       "version_major": 2,
       "version_minor": 0
      },
      "text/plain": [
       "Iterating epochs:   0%|          | 0/125 [00:00<?, ?it/s]"
      ]
     },
     "metadata": {},
     "output_type": "display_data"
    },
    {
     "name": "stdout",
     "output_type": "stream",
     "text": [
      "{'batch_size': 128, 'learning_rate': 0.005, 'lookback': 96, 'num_layers': 2, 'seed': 1337} 0.028771467972546816\n"
     ]
    },
    {
     "data": {
      "application/vnd.jupyter.widget-view+json": {
       "model_id": "dbf219ee31f5403c85ebe8b954b94604",
       "version_major": 2,
       "version_minor": 0
      },
      "text/plain": [
       "Iterating epochs:   0%|          | 0/125 [00:00<?, ?it/s]"
      ]
     },
     "metadata": {},
     "output_type": "display_data"
    },
    {
     "name": "stdout",
     "output_type": "stream",
     "text": [
      "{'batch_size': 128, 'learning_rate': 0.005, 'lookback': 96, 'num_layers': 2, 'seed': 12648430} 0.03174535045400262\n"
     ]
    },
    {
     "data": {
      "application/vnd.jupyter.widget-view+json": {
       "model_id": "91b353451a1b48329ec9dbcaa212a30c",
       "version_major": 2,
       "version_minor": 0
      },
      "text/plain": [
       "Iterating epochs:   0%|          | 0/125 [00:00<?, ?it/s]"
      ]
     },
     "metadata": {},
     "output_type": "display_data"
    },
    {
     "name": "stdout",
     "output_type": "stream",
     "text": [
      "{'batch_size': 128, 'learning_rate': 0.005, 'lookback': 96, 'num_layers': 2, 'seed': 3735928559} 0.029222261626273394\n"
     ]
    }
   ],
   "source": [
    "results = []\n",
    "seed_counter = 0\n",
    "avg_param_loss = 0\n",
    "for params in ParameterGrid(gridsearch_params):\n",
    "    early_stopper.reset()\n",
    "    v_loss, model = train_with_params(params)\n",
    "    print(params, v_loss)\n",
    "\n",
    "    avg_param_loss += v_loss\n",
    "    seed_counter += 1\n",
    "    # Check if the 3 different seeds have been trained\n",
    "    if seed_counter >= 3:\n",
    "        # Remove the seed as we don't need to keep track of it\n",
    "        parameters_without_seed = params\n",
    "        del parameters_without_seed[\"seed\"]\n",
    "\n",
    "        # Append the average loss with the corresponding parameters\n",
    "        results.append([avg_param_loss / 3, parameters_without_seed])\n",
    "\n",
    "        # Reset counter and loss\n",
    "        seed_counter = 0\n",
    "        avg_param_loss = 0"
   ]
  },
  {
   "cell_type": "markdown",
   "id": "349287a8",
   "metadata": {},
   "source": [
    "Sort the results and save the best 3 parameters"
   ]
  },
  {
   "cell_type": "code",
   "execution_count": 8,
   "id": "9490ffef",
   "metadata": {},
   "outputs": [
    {
     "name": "stdout",
     "output_type": "stream",
     "text": [
      "Best Hyperparameters: {'batch_size': 32, 'learning_rate': 0.005, 'lookback': 96, 'num_layers': 1}\n",
      "Best Validation Loss: 0.026257705988569396\n"
     ]
    }
   ],
   "source": [
    "results = sorted(results)\n",
    "print(\"Best Hyperparameters:\", results[0][1])\n",
    "print(\"Best Validation Loss:\", results[0][0])\n",
    "save_parameters(experiment_name, results[0][1], results[0][0])"
   ]
  }
 ],
 "metadata": {
  "kernelspec": {
   "display_name": "Python 3 (ipykernel)",
   "language": "python",
   "name": "python3"
  },
  "language_info": {
   "codemirror_mode": {
    "name": "ipython",
    "version": 3
   },
   "file_extension": ".py",
   "mimetype": "text/x-python",
   "name": "python",
   "nbconvert_exporter": "python",
   "pygments_lexer": "ipython3",
   "version": "3.12.7"
  }
 },
 "nbformat": 4,
 "nbformat_minor": 5
}
