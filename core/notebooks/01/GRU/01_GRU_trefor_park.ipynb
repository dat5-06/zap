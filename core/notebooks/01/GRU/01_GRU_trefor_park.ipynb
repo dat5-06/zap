{
 "cells": [
  {
   "cell_type": "markdown",
   "id": "00beda90-5218-47db-a971-fe824c0b92cc",
   "metadata": {},
   "source": [
    "# GRU model\n",
    "\n",
    "We start by importing the necessary libraries"
   ]
  },
  {
   "cell_type": "code",
   "execution_count": null,
   "id": "b9b125c3-7f05-45ba-8815-cd3ef899ecfd",
   "metadata": {},
   "outputs": [],
   "source": [
    "import torch\n",
    "import matplotlib.pyplot as plt\n",
    "from torch import nn\n",
    "from torch.utils.data import DataLoader\n",
    "from core.util.plot_predictions import plot_predictions\n",
    "from core.util.save_model import save_model, load_parameters\n",
    "from core.util.get_datasets import cross_validation\n",
    "from core.util.trefor_dataset import TreforData\n",
    "from core.models import GRU\n",
    "from core.models.model_training import train_model, test_model\n",
    "from core.util.hyperparameter_configuration import get_hyperparameter_configuration\n",
    "from core.util.metrics import mae, rmse, smape"
   ]
  },
  {
   "cell_type": "markdown",
   "id": "b0385b66-308f-41e6-b9b8-597225348dee",
   "metadata": {},
   "source": [
    "## Setup\n",
    "This section contains the setup for converting our data to something PyTorch can understand.\n",
    "### Set hyperparameters for the model"
   ]
  },
  {
   "cell_type": "code",
   "execution_count": null,
   "id": "894f2acc-636d-4e9c-ae2c-e3377eb367b5",
   "metadata": {},
   "outputs": [],
   "source": [
    "experiment_name = \"01_GRU_trefor_park\"\n",
    "features = {}\n",
    "model_input_size = len(features) + 1"
   ]
  },
  {
   "cell_type": "code",
   "execution_count": null,
   "id": "b43cf370-75be-4e3a-935d-1fdc8b7af782",
   "metadata": {},
   "outputs": [],
   "source": [
    "experiment_parameters = load_parameters(experiment_name)\n",
    "learning_rate = experiment_parameters[\"learning_rate\"]\n",
    "batch_size = experiment_parameters[\"batch_size\"]\n",
    "lookback = experiment_parameters[\"lookback\"]\n",
    "num_layers = experiment_parameters[\"num_layers\"]\n",
    "# torch.manual_seed(experiment_parameters[\"seed\"])\n",
    "\n",
    "experiment_parameters"
   ]
  },
  {
   "cell_type": "code",
   "execution_count": null,
   "id": "c04c6cdc-ddb1-42e2-825b-8ba2c2e5be0d",
   "metadata": {},
   "outputs": [],
   "source": [
    "hyperparameters = get_hyperparameter_configuration()\n",
    "hidden_size = hyperparameters[\"hidden_size\"]\n",
    "epochs = hyperparameters[\"epochs\"]\n",
    "horizon = hyperparameters[\"horizon\"]\n",
    "loss_function = hyperparameters[\"loss_function\"]\n",
    "dropout_rate = hyperparameters[\"dropout_rate\"]\n",
    "train_days = hyperparameters[\"train_days\"]\n",
    "val_days = hyperparameters[\"val_days\"]\n",
    "test_days = hyperparameters[\"test_days\"]\n",
    "early_stopper = hyperparameters[\"early_stopper\"]\n",
    "\n",
    "hyperparameters"
   ]
  },
  {
   "cell_type": "code",
   "execution_count": null,
   "id": "d4685e80-cc1d-4e8d-b82d-c8c1454c83ef",
   "metadata": {},
   "outputs": [],
   "source": [
    "features = {\n",
    "    \"Month_x\": True,\n",
    "    \"Month_y\": True,\n",
    "    \"Hour_x\": True,\n",
    "    \"Hour_y\": True,\n",
    "    \"Day_x\": True,\n",
    "    \"Day_y\": True,\n",
    "}"
   ]
  },
  {
   "cell_type": "markdown",
   "id": "67712300-9f7e-4716-a493-654b4e805f7f",
   "metadata": {},
   "source": [
    "### If the host has CUDA, it will use the GPU for computation"
   ]
  },
  {
   "cell_type": "code",
   "execution_count": null,
   "id": "7ffa0eff-01ad-4f3a-a126-2e2922e2c037",
   "metadata": {},
   "outputs": [],
   "source": [
    "device = \"cuda:0\" if torch.cuda.is_available() else \"cpu\"\n",
    "device"
   ]
  },
  {
   "cell_type": "markdown",
   "id": "549ff68c-2cb3-4c5d-8cd0-adf75327c008",
   "metadata": {},
   "source": [
    "### Creation of our simple GRU model\n",
    "The implementation consist of three layers, defined in the `forward` method.\n",
    "1. GRU\n",
    "2. LeakyReLU\n",
    "3. Linear"
   ]
  },
  {
   "cell_type": "code",
   "execution_count": null,
   "id": "cc0f4b1c-fe92-42a4-9eb6-e5e450e9555f",
   "metadata": {},
   "outputs": [],
   "source": [
    "def get_model() -> nn.Module:\n",
    "    \"\"\"Get the model for training folds.\"\"\"\n",
    "    model = GRU(\n",
    "        input_size=model_input_size,\n",
    "        hidden_size=hidden_size,\n",
    "        num_layers=num_layers,\n",
    "        dropout_rate=dropout_rate,\n",
    "        horizon=horizon,\n",
    "        lookback=lookback,\n",
    "    )\n",
    "    model.to(device)\n",
    "    return model"
   ]
  },
  {
   "cell_type": "code",
   "execution_count": null,
   "id": "1a13aeaa-a800-4259-b308-519b92e3c151",
   "metadata": {},
   "outputs": [],
   "source": [
    "x_train, y_train, x_val, y_val, x_test, y_test = cross_validation(\n",
    "    lookback=lookback,\n",
    "    horizon=horizon,\n",
    "    train_days=train_days,\n",
    "    val_days=val_days,\n",
    "    test_days=test_days,\n",
    "    features=features,\n",
    ")"
   ]
  },
  {
   "cell_type": "markdown",
   "id": "0617c025-6834-466c-aa64-f07bf95692ea",
   "metadata": {},
   "source": [
    "## Main loop\n",
    "Iterate all the cross validation folds to find the best one.\n",
    "\n",
    "For each of these, we do the full iteration of epochs with training and validation.\n",
    "Lastly, we run the test set on the given fold to see how it performs."
   ]
  },
  {
   "cell_type": "code",
   "execution_count": null,
   "id": "977444d3-5c48-47bc-b566-ec77cac83ca0",
   "metadata": {},
   "outputs": [],
   "source": [
    "# convert to dataset that can use dataloaders\n",
    "train_dataset = TreforData(x_train, y_train, device)\n",
    "val_dataset = TreforData(x_val, y_val, device)\n",
    "test_dataset = TreforData(x_test, y_test, device)\n",
    "\n",
    "# initialize the dataloaders, without shuffeling the data between epochs\n",
    "training_loader = DataLoader(train_dataset, batch_size=batch_size, shuffle=False)\n",
    "validation_loader = DataLoader(val_dataset, batch_size=batch_size, shuffle=False)\n",
    "testing_loader = DataLoader(test_dataset, batch_size=batch_size, shuffle=False)"
   ]
  },
  {
   "cell_type": "code",
   "execution_count": null,
   "id": "fa5f42b3-d57c-4b85-9b7b-8d687f5b0020",
   "metadata": {},
   "outputs": [],
   "source": [
    "for i in range(3):\n",
    "    early_stopper.reset()\n",
    "    experiment_iteration_name = \"00_LSTM_trefor_park_iteration_\" + str(i)\n",
    "    best_train_loss, best_val_loss, best_model = train_model(\n",
    "        model=get_model(),\n",
    "        training_loader=training_loader,\n",
    "        validation_loader=validation_loader,\n",
    "        learning_rate=learning_rate,\n",
    "        early_stopper=early_stopper,\n",
    "    )\n",
    "\n",
    "    t_loss, predicted = test_model(\n",
    "        best_model=best_model,\n",
    "        loss_function=loss_function,\n",
    "        testing_loader=testing_loader,\n",
    "    )\n",
    "\n",
    "    model_mae = mae(y_test.tolist(), predicted)\n",
    "    model_rmse = rmse(y_test.tolist(), predicted)\n",
    "    model_smape = smape(y_test.tolist(), predicted)\n",
    "\n",
    "    print(experiment_name)\n",
    "    print(f\"MAE: {model_mae}\")\n",
    "    print(f\"RMSE: {model_rmse}\")\n",
    "    print(f\"SMAPE: {model_smape}\")\n",
    "\n",
    "    save_model(\n",
    "        model=best_model,\n",
    "        model_name=experiment_name,\n",
    "        train_loss=best_train_loss,\n",
    "        val_loss=best_val_loss,\n",
    "        mae=model_mae,\n",
    "        rmse=model_rmse,\n",
    "        smape=model_smape,\n",
    "        overwrite=True,\n",
    "    )"
   ]
  },
  {
   "cell_type": "markdown",
   "id": "46f2eb43-a6d4-4ca7-a11d-8894dfaa204e",
   "metadata": {},
   "source": [
    "## Plotting\n",
    "### Training- and validation loss"
   ]
  },
  {
   "cell_type": "code",
   "execution_count": null,
   "id": "5e8de414-90df-4acd-84a1-bce9ce8b97e4",
   "metadata": {},
   "outputs": [],
   "source": [
    "plt.clf()\n",
    "plt.plot(best_train_loss, label=\"Training Loss\")\n",
    "plt.plot(best_val_loss, label=\"Validation Loss\")\n",
    "plt.xlabel(\"Epoch\")\n",
    "plt.ylabel(\"Loss\")\n",
    "plt.legend()\n",
    "plt.show()"
   ]
  },
  {
   "cell_type": "markdown",
   "id": "01ced0b9-627f-42bb-95be-ee368b27ae01",
   "metadata": {},
   "source": [
    "### Predictions- and actual consumption"
   ]
  },
  {
   "cell_type": "code",
   "execution_count": null,
   "id": "a7166c76-0af8-41ff-b48b-460f03f9e01c",
   "metadata": {},
   "outputs": [],
   "source": [
    "plot_predictions(110, 124, y_test, predicted)"
   ]
  },
  {
   "cell_type": "markdown",
   "id": "b0ba0201-84d1-437d-a34e-097c48b9a482",
   "metadata": {},
   "source": [
    "Plot predictions for the first 7 days, last 7, and a week in the middle of the test set"
   ]
  },
  {
   "cell_type": "code",
   "execution_count": null,
   "id": "e32dca9c-dcb1-48bf-8ac2-3c5d8a412a2e",
   "metadata": {},
   "outputs": [],
   "source": [
    "plot_predictions(0, 6, y_test, predicted)"
   ]
  },
  {
   "cell_type": "markdown",
   "id": "acd93068",
   "metadata": {},
   "source": [
    "Plot predictions for the last 7 days in the test set"
   ]
  },
  {
   "cell_type": "code",
   "execution_count": null,
   "id": "6ce52b82-75a6-4bb4-a24b-539cc76780ba",
   "metadata": {},
   "outputs": [],
   "source": [
    "plot_predictions(-7, -1, y_test, predicted)"
   ]
  },
  {
   "cell_type": "markdown",
   "id": "205ecc53",
   "metadata": {},
   "source": [
    "Plot predictions for 7 days in the in the middle of the test set."
   ]
  },
  {
   "cell_type": "code",
   "execution_count": null,
   "id": "44a188e5-8c19-434a-ac25-368b8a35c6d0",
   "metadata": {},
   "outputs": [],
   "source": [
    "days_count = len(y_test) / 24\n",
    "plot_predictions(int(days_count / 2), int(days_count / 2 + 7), y_test, predicted)"
   ]
  }
 ],
 "metadata": {
  "kernelspec": {
   "display_name": "Python 3 (ipykernel)",
   "language": "python",
   "name": "python3"
  },
  "language_info": {
   "codemirror_mode": {
    "name": "ipython",
    "version": 3
   },
   "file_extension": ".py",
   "mimetype": "text/x-python",
   "name": "python",
   "nbconvert_exporter": "python",
   "pygments_lexer": "ipython3",
   "version": "3.12.4"
  }
 },
 "nbformat": 4,
 "nbformat_minor": 5
}
