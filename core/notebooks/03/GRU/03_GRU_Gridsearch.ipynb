{
 "cells": [
  {
   "cell_type": "markdown",
   "id": "50b515ff",
   "metadata": {},
   "source": [
    "# (Gridsearch) 03 GRU trefor park"
   ]
  },
  {
   "cell_type": "code",
   "execution_count": 1,
   "id": "7a53ff3e-2f69-4006-b19c-664cfd80250e",
   "metadata": {
    "scrolled": true
   },
   "outputs": [],
   "source": [
    "import torch\n",
    "from core.util.hyperparameter_configuration import get_hyperparameter_configuration\n",
    "from core.util.get_datasets import split_data\n",
    "from core.models.model_training import train_model\n",
    "from sklearn.model_selection import ParameterGrid\n",
    "from core.util.save_model import save_parameters\n",
    "from core.util.trefor_dataset import TreforData\n",
    "from torch.utils.data import DataLoader\n",
    "from core.models import GRU"
   ]
  },
  {
   "cell_type": "markdown",
   "id": "2075cc1b",
   "metadata": {},
   "source": [
    "## Configuration\n",
    "Parameters specific to this experiment"
   ]
  },
  {
   "cell_type": "code",
   "execution_count": 2,
   "id": "6a5b6af2-0e3b-4139-a043-50ff64a48252",
   "metadata": {},
   "outputs": [],
   "source": [
    "experiment_name = \"03_GRU_trefor_park\"\n",
    "features = {\n",
    "    \"Month_x\": True,\n",
    "    \"Month_y\": True,\n",
    "    \"Hour_x\": True,\n",
    "    \"Hour_y\": True,\n",
    "    \"Day_x\": True,\n",
    "    \"Day_y\": True,\n",
    "}\n",
    "model_input_size = len(features) + 1\n",
    "model_used = GRU"
   ]
  },
  {
   "cell_type": "markdown",
   "id": "ad8a7b4c-5116-49ba-8b00-8cff736e5db6",
   "metadata": {},
   "source": [
    "All the parameters we do grid search on"
   ]
  },
  {
   "cell_type": "code",
   "execution_count": 3,
   "id": "130c37ae-df00-4922-bfda-a9699cbf9558",
   "metadata": {},
   "outputs": [],
   "source": [
    "gridsearch_params = {\n",
    "    \"learning_rate\": [0.001, 0.003, 0.005],\n",
    "    \"batch_size\": [32, 64, 128],\n",
    "    \"lookback\": [36, 48, 96],\n",
    "    \"num_layers\": [1, 2],\n",
    "    \"seed\": [1337, 0xC0FFEE, 0xDEADBEEF],\n",
    "}"
   ]
  },
  {
   "cell_type": "markdown",
   "id": "f166516b",
   "metadata": {},
   "source": [
    "Global hyperparameter configuration"
   ]
  },
  {
   "cell_type": "code",
   "execution_count": 4,
   "id": "fcb569a4-9faf-462b-858e-b9f1a64e4a3d",
   "metadata": {},
   "outputs": [
    {
     "data": {
      "text/plain": [
       "{'hidden_size': 16,\n",
       " 'epochs': 125,\n",
       " 'horizon': 24,\n",
       " 'loss_function': <function core.util.loss_functions.zap_loss(y_pred: torch.Tensor, y_true: torch.Tensor) -> torch.Tensor>,\n",
       " 'dropout_rate': 0.2,\n",
       " 'train_days': 16,\n",
       " 'val_days': 2,\n",
       " 'test_days': 2,\n",
       " 'early_stopper': <core.util.early_stop.EarlyStop at 0x7f51d50e6720>}"
      ]
     },
     "execution_count": 4,
     "metadata": {},
     "output_type": "execute_result"
    }
   ],
   "source": [
    "hyperparameters = get_hyperparameter_configuration()\n",
    "hidden_size = hyperparameters[\"hidden_size\"]\n",
    "epochs = hyperparameters[\"epochs\"]\n",
    "horizon = hyperparameters[\"horizon\"]\n",
    "loss_function = hyperparameters[\"loss_function\"]\n",
    "dropout_rate = hyperparameters[\"dropout_rate\"]\n",
    "train_days = hyperparameters[\"train_days\"]\n",
    "val_days = hyperparameters[\"val_days\"]\n",
    "test_days = hyperparameters[\"test_days\"]\n",
    "early_stopper = hyperparameters[\"early_stopper\"]\n",
    "\n",
    "hyperparameters"
   ]
  },
  {
   "cell_type": "markdown",
   "id": "dbc9a437-5750-4504-a953-fb658163a2b8",
   "metadata": {},
   "source": [
    "If the host has CUDA, it will use the GPU for computation"
   ]
  },
  {
   "cell_type": "code",
   "execution_count": 5,
   "id": "a053ac44-d64a-4c3f-a03f-4a2ffd228494",
   "metadata": {},
   "outputs": [
    {
     "data": {
      "text/plain": [
       "'cuda:0'"
      ]
     },
     "execution_count": 5,
     "metadata": {},
     "output_type": "execute_result"
    }
   ],
   "source": [
    "device = \"cuda:0\" if torch.cuda.is_available() else \"cpu\"\n",
    "device"
   ]
  },
  {
   "cell_type": "markdown",
   "id": "2afd81b2-033b-4e7d-b6fc-8a108bc315cc",
   "metadata": {},
   "source": [
    "## Training\n",
    "Train a model with specified hyperparameters"
   ]
  },
  {
   "cell_type": "code",
   "execution_count": 6,
   "id": "1536bea4-ae30-4bae-abd4-09841edf2d3e",
   "metadata": {},
   "outputs": [],
   "source": [
    "def train_with_params(params: dict) -> tuple[float, model_used]:\n",
    "    \"\"\"Train model with the specified hyperparameters.\"\"\"\n",
    "    # Extract hyperparameters\n",
    "    batch_size = params[\"batch_size\"]\n",
    "    learning_rate = params[\"learning_rate\"]\n",
    "    num_layers = params[\"num_layers\"]\n",
    "    lookback = params[\"lookback\"]\n",
    "    torch.manual_seed(params[\"seed\"])\n",
    "\n",
    "    x_train, y_train, x_val, y_val, x_test, y_test = split_data(\n",
    "        lookback=lookback,\n",
    "        horizon=horizon,\n",
    "        train_days=train_days,\n",
    "        val_days=val_days,\n",
    "        test_days=test_days,\n",
    "        features=features,\n",
    "        park_nums=[2, 3, 5],\n",
    "    )\n",
    "\n",
    "    # convert to dataset that can use dataloaders\n",
    "    train_dataset = TreforData(x_train, y_train, device)\n",
    "    val_dataset = TreforData(x_val, y_val, device)\n",
    "\n",
    "    # initialize the dataloaders, without shuffeling the data between epochs\n",
    "    training_loader = DataLoader(train_dataset, batch_size=batch_size, shuffle=False)\n",
    "    validation_loader = DataLoader(val_dataset, batch_size=batch_size, shuffle=False)\n",
    "\n",
    "    # Initialize model\n",
    "    model = model_used(\n",
    "        input_size=model_input_size,\n",
    "        hidden_size=hidden_size,\n",
    "        num_layers=num_layers,\n",
    "        dropout_rate=dropout_rate,\n",
    "        horizon=horizon,\n",
    "        lookback=lookback,\n",
    "    ).to(device)\n",
    "\n",
    "    _, val_loss, best_model = train_model(\n",
    "        epochs=epochs,\n",
    "        model=model,\n",
    "        loss_function=loss_function,\n",
    "        training_loader=training_loader,\n",
    "        validation_loader=validation_loader,\n",
    "        learning_rate=learning_rate,\n",
    "        early_stopper=early_stopper,\n",
    "    )\n",
    "\n",
    "    return min(val_loss), best_model"
   ]
  },
  {
   "cell_type": "markdown",
   "id": "7602760f",
   "metadata": {},
   "source": [
    "Iterate over all hyperparameters and train a model for each combination."
   ]
  },
  {
   "cell_type": "code",
   "execution_count": 7,
   "id": "c4816f2d-ce54-4473-9bf9-949552ab0ffb",
   "metadata": {},
   "outputs": [
    {
     "data": {
      "application/vnd.jupyter.widget-view+json": {
       "model_id": "77dfd42a68e54263bae14fbee64c9593",
       "version_major": 2,
       "version_minor": 0
      },
      "text/plain": [
       "Iterating epochs:   0%|          | 0/125 [00:00<?, ?it/s]"
      ]
     },
     "metadata": {},
     "output_type": "display_data"
    },
    {
     "name": "stdout",
     "output_type": "stream",
     "text": [
      "{'batch_size': 32, 'learning_rate': 0.001, 'lookback': 36, 'num_layers': 1, 'seed': 1337} 0.0532312406710564\n"
     ]
    },
    {
     "data": {
      "application/vnd.jupyter.widget-view+json": {
       "model_id": "bc823baee3824feba23b62fdc0b1ee34",
       "version_major": 2,
       "version_minor": 0
      },
      "text/plain": [
       "Iterating epochs:   0%|          | 0/125 [00:00<?, ?it/s]"
      ]
     },
     "metadata": {},
     "output_type": "display_data"
    },
    {
     "name": "stdout",
     "output_type": "stream",
     "text": [
      "{'batch_size': 32, 'learning_rate': 0.001, 'lookback': 36, 'num_layers': 1, 'seed': 12648430} 0.05322202543119112\n"
     ]
    },
    {
     "data": {
      "application/vnd.jupyter.widget-view+json": {
       "model_id": "60deef32c7b8493d99f9738a072e0cbf",
       "version_major": 2,
       "version_minor": 0
      },
      "text/plain": [
       "Iterating epochs:   0%|          | 0/125 [00:00<?, ?it/s]"
      ]
     },
     "metadata": {},
     "output_type": "display_data"
    },
    {
     "name": "stdout",
     "output_type": "stream",
     "text": [
      "{'batch_size': 32, 'learning_rate': 0.001, 'lookback': 36, 'num_layers': 1, 'seed': 3735928559} 0.053351839064047314\n"
     ]
    },
    {
     "data": {
      "application/vnd.jupyter.widget-view+json": {
       "model_id": "9c065f2a36db4034a8f434201af05cd9",
       "version_major": 2,
       "version_minor": 0
      },
      "text/plain": [
       "Iterating epochs:   0%|          | 0/125 [00:00<?, ?it/s]"
      ]
     },
     "metadata": {},
     "output_type": "display_data"
    },
    {
     "name": "stdout",
     "output_type": "stream",
     "text": [
      "{'batch_size': 32, 'learning_rate': 0.001, 'lookback': 36, 'num_layers': 2, 'seed': 1337} 0.053541155433497176\n"
     ]
    },
    {
     "data": {
      "application/vnd.jupyter.widget-view+json": {
       "model_id": "d6b4f2f369a941cb8fd3c9c067fef457",
       "version_major": 2,
       "version_minor": 0
      },
      "text/plain": [
       "Iterating epochs:   0%|          | 0/125 [00:00<?, ?it/s]"
      ]
     },
     "metadata": {},
     "output_type": "display_data"
    },
    {
     "name": "stdout",
     "output_type": "stream",
     "text": [
      "{'batch_size': 32, 'learning_rate': 0.001, 'lookback': 36, 'num_layers': 2, 'seed': 12648430} 0.05228128210784724\n"
     ]
    },
    {
     "data": {
      "application/vnd.jupyter.widget-view+json": {
       "model_id": "c8b186513c5143db96f0ce9b74eb4106",
       "version_major": 2,
       "version_minor": 0
      },
      "text/plain": [
       "Iterating epochs:   0%|          | 0/125 [00:00<?, ?it/s]"
      ]
     },
     "metadata": {},
     "output_type": "display_data"
    },
    {
     "name": "stdout",
     "output_type": "stream",
     "text": [
      "{'batch_size': 32, 'learning_rate': 0.001, 'lookback': 36, 'num_layers': 2, 'seed': 3735928559} 0.05252022876475866\n"
     ]
    },
    {
     "data": {
      "application/vnd.jupyter.widget-view+json": {
       "model_id": "65244e3750f443aab3a7f06cd176a2ce",
       "version_major": 2,
       "version_minor": 0
      },
      "text/plain": [
       "Iterating epochs:   0%|          | 0/125 [00:00<?, ?it/s]"
      ]
     },
     "metadata": {},
     "output_type": "display_data"
    },
    {
     "name": "stdout",
     "output_type": "stream",
     "text": [
      "{'batch_size': 32, 'learning_rate': 0.001, 'lookback': 48, 'num_layers': 1, 'seed': 1337} 0.0524621914463261\n"
     ]
    },
    {
     "data": {
      "application/vnd.jupyter.widget-view+json": {
       "model_id": "263713902caa403c9621ff3258c88ee8",
       "version_major": 2,
       "version_minor": 0
      },
      "text/plain": [
       "Iterating epochs:   0%|          | 0/125 [00:00<?, ?it/s]"
      ]
     },
     "metadata": {},
     "output_type": "display_data"
    },
    {
     "name": "stdout",
     "output_type": "stream",
     "text": [
      "{'batch_size': 32, 'learning_rate': 0.001, 'lookback': 48, 'num_layers': 1, 'seed': 12648430} 0.05223129394177634\n"
     ]
    },
    {
     "data": {
      "application/vnd.jupyter.widget-view+json": {
       "model_id": "b702cdc230c44b03bdd9d78805669a7d",
       "version_major": 2,
       "version_minor": 0
      },
      "text/plain": [
       "Iterating epochs:   0%|          | 0/125 [00:00<?, ?it/s]"
      ]
     },
     "metadata": {},
     "output_type": "display_data"
    },
    {
     "name": "stdout",
     "output_type": "stream",
     "text": [
      "{'batch_size': 32, 'learning_rate': 0.001, 'lookback': 48, 'num_layers': 1, 'seed': 3735928559} 0.05210683533312896\n"
     ]
    },
    {
     "data": {
      "application/vnd.jupyter.widget-view+json": {
       "model_id": "cbac14ae51434de6a015d5600db0ad9e",
       "version_major": 2,
       "version_minor": 0
      },
      "text/plain": [
       "Iterating epochs:   0%|          | 0/125 [00:00<?, ?it/s]"
      ]
     },
     "metadata": {},
     "output_type": "display_data"
    },
    {
     "name": "stdout",
     "output_type": "stream",
     "text": [
      "{'batch_size': 32, 'learning_rate': 0.001, 'lookback': 48, 'num_layers': 2, 'seed': 1337} 0.051353201359653704\n"
     ]
    },
    {
     "data": {
      "application/vnd.jupyter.widget-view+json": {
       "model_id": "bc568cff49854e7a86d0d5ad0f8b3e4d",
       "version_major": 2,
       "version_minor": 0
      },
      "text/plain": [
       "Iterating epochs:   0%|          | 0/125 [00:00<?, ?it/s]"
      ]
     },
     "metadata": {},
     "output_type": "display_data"
    },
    {
     "name": "stdout",
     "output_type": "stream",
     "text": [
      "{'batch_size': 32, 'learning_rate': 0.001, 'lookback': 48, 'num_layers': 2, 'seed': 12648430} 0.05399420029985217\n"
     ]
    },
    {
     "data": {
      "application/vnd.jupyter.widget-view+json": {
       "model_id": "f08126165ec3471e8252ac4cdb36b90a",
       "version_major": 2,
       "version_minor": 0
      },
      "text/plain": [
       "Iterating epochs:   0%|          | 0/125 [00:00<?, ?it/s]"
      ]
     },
     "metadata": {},
     "output_type": "display_data"
    },
    {
     "name": "stdout",
     "output_type": "stream",
     "text": [
      "{'batch_size': 32, 'learning_rate': 0.001, 'lookback': 48, 'num_layers': 2, 'seed': 3735928559} 0.054987378597546085\n"
     ]
    },
    {
     "data": {
      "application/vnd.jupyter.widget-view+json": {
       "model_id": "d6691055034b4967bce2d7f062d16a4d",
       "version_major": 2,
       "version_minor": 0
      },
      "text/plain": [
       "Iterating epochs:   0%|          | 0/125 [00:00<?, ?it/s]"
      ]
     },
     "metadata": {},
     "output_type": "display_data"
    },
    {
     "name": "stdout",
     "output_type": "stream",
     "text": [
      "{'batch_size': 32, 'learning_rate': 0.001, 'lookback': 96, 'num_layers': 1, 'seed': 1337} 0.05368258490657004\n"
     ]
    },
    {
     "data": {
      "application/vnd.jupyter.widget-view+json": {
       "model_id": "fb3247aaaf70432398b406c23d246576",
       "version_major": 2,
       "version_minor": 0
      },
      "text/plain": [
       "Iterating epochs:   0%|          | 0/125 [00:00<?, ?it/s]"
      ]
     },
     "metadata": {},
     "output_type": "display_data"
    },
    {
     "name": "stdout",
     "output_type": "stream",
     "text": [
      "{'batch_size': 32, 'learning_rate': 0.001, 'lookback': 96, 'num_layers': 1, 'seed': 12648430} 0.052309578123430796\n"
     ]
    },
    {
     "data": {
      "application/vnd.jupyter.widget-view+json": {
       "model_id": "7bff6e1c695a4f3da88cb980756b368a",
       "version_major": 2,
       "version_minor": 0
      },
      "text/plain": [
       "Iterating epochs:   0%|          | 0/125 [00:00<?, ?it/s]"
      ]
     },
     "metadata": {},
     "output_type": "display_data"
    },
    {
     "name": "stdout",
     "output_type": "stream",
     "text": [
      "{'batch_size': 32, 'learning_rate': 0.001, 'lookback': 96, 'num_layers': 1, 'seed': 3735928559} 0.04957034291986089\n"
     ]
    },
    {
     "data": {
      "application/vnd.jupyter.widget-view+json": {
       "model_id": "72cf6f7b763f4dbe834f60c2c58e7885",
       "version_major": 2,
       "version_minor": 0
      },
      "text/plain": [
       "Iterating epochs:   0%|          | 0/125 [00:00<?, ?it/s]"
      ]
     },
     "metadata": {},
     "output_type": "display_data"
    },
    {
     "name": "stdout",
     "output_type": "stream",
     "text": [
      "{'batch_size': 32, 'learning_rate': 0.001, 'lookback': 96, 'num_layers': 2, 'seed': 1337} 0.047807271198297925\n"
     ]
    },
    {
     "data": {
      "application/vnd.jupyter.widget-view+json": {
       "model_id": "88654bf248464a5e9f3e7a9f63fd0d61",
       "version_major": 2,
       "version_minor": 0
      },
      "text/plain": [
       "Iterating epochs:   0%|          | 0/125 [00:00<?, ?it/s]"
      ]
     },
     "metadata": {},
     "output_type": "display_data"
    },
    {
     "name": "stdout",
     "output_type": "stream",
     "text": [
      "{'batch_size': 32, 'learning_rate': 0.001, 'lookback': 96, 'num_layers': 2, 'seed': 12648430} 0.04979729119580812\n"
     ]
    },
    {
     "data": {
      "application/vnd.jupyter.widget-view+json": {
       "model_id": "908b27638a3f459392db4aa5eaa68535",
       "version_major": 2,
       "version_minor": 0
      },
      "text/plain": [
       "Iterating epochs:   0%|          | 0/125 [00:00<?, ?it/s]"
      ]
     },
     "metadata": {},
     "output_type": "display_data"
    },
    {
     "name": "stdout",
     "output_type": "stream",
     "text": [
      "{'batch_size': 32, 'learning_rate': 0.001, 'lookback': 96, 'num_layers': 2, 'seed': 3735928559} 0.048116976431069464\n"
     ]
    },
    {
     "data": {
      "application/vnd.jupyter.widget-view+json": {
       "model_id": "1455678585a743f189d9ca26c83f41f9",
       "version_major": 2,
       "version_minor": 0
      },
      "text/plain": [
       "Iterating epochs:   0%|          | 0/125 [00:00<?, ?it/s]"
      ]
     },
     "metadata": {},
     "output_type": "display_data"
    },
    {
     "name": "stdout",
     "output_type": "stream",
     "text": [
      "{'batch_size': 32, 'learning_rate': 0.003, 'lookback': 36, 'num_layers': 1, 'seed': 1337} 0.0589945711231289\n"
     ]
    },
    {
     "data": {
      "application/vnd.jupyter.widget-view+json": {
       "model_id": "88a661bf684c4daf8aa4ee36d04fbcbc",
       "version_major": 2,
       "version_minor": 0
      },
      "text/plain": [
       "Iterating epochs:   0%|          | 0/125 [00:00<?, ?it/s]"
      ]
     },
     "metadata": {},
     "output_type": "display_data"
    },
    {
     "name": "stdout",
     "output_type": "stream",
     "text": [
      "{'batch_size': 32, 'learning_rate': 0.003, 'lookback': 36, 'num_layers': 1, 'seed': 12648430} 0.057115896694505446\n"
     ]
    },
    {
     "data": {
      "application/vnd.jupyter.widget-view+json": {
       "model_id": "80a510fdbb5444aba1f60e7e71290c41",
       "version_major": 2,
       "version_minor": 0
      },
      "text/plain": [
       "Iterating epochs:   0%|          | 0/125 [00:00<?, ?it/s]"
      ]
     },
     "metadata": {},
     "output_type": "display_data"
    },
    {
     "name": "stdout",
     "output_type": "stream",
     "text": [
      "{'batch_size': 32, 'learning_rate': 0.003, 'lookback': 36, 'num_layers': 1, 'seed': 3735928559} 0.06165872055750627\n"
     ]
    },
    {
     "data": {
      "application/vnd.jupyter.widget-view+json": {
       "model_id": "a01d429eb0f84c96b7a15b56306ce735",
       "version_major": 2,
       "version_minor": 0
      },
      "text/plain": [
       "Iterating epochs:   0%|          | 0/125 [00:00<?, ?it/s]"
      ]
     },
     "metadata": {},
     "output_type": "display_data"
    },
    {
     "name": "stdout",
     "output_type": "stream",
     "text": [
      "{'batch_size': 32, 'learning_rate': 0.003, 'lookback': 36, 'num_layers': 2, 'seed': 1337} 0.05518722993572457\n"
     ]
    },
    {
     "data": {
      "application/vnd.jupyter.widget-view+json": {
       "model_id": "870272b6c53e49b5b12b4695b45eb9df",
       "version_major": 2,
       "version_minor": 0
      },
      "text/plain": [
       "Iterating epochs:   0%|          | 0/125 [00:00<?, ?it/s]"
      ]
     },
     "metadata": {},
     "output_type": "display_data"
    },
    {
     "name": "stdout",
     "output_type": "stream",
     "text": [
      "{'batch_size': 32, 'learning_rate': 0.003, 'lookback': 36, 'num_layers': 2, 'seed': 12648430} 0.05348655123424788\n"
     ]
    },
    {
     "data": {
      "application/vnd.jupyter.widget-view+json": {
       "model_id": "2daea5da238c455384addaa261aad61e",
       "version_major": 2,
       "version_minor": 0
      },
      "text/plain": [
       "Iterating epochs:   0%|          | 0/125 [00:00<?, ?it/s]"
      ]
     },
     "metadata": {},
     "output_type": "display_data"
    },
    {
     "name": "stdout",
     "output_type": "stream",
     "text": [
      "{'batch_size': 32, 'learning_rate': 0.003, 'lookback': 36, 'num_layers': 2, 'seed': 3735928559} 0.05717416284068559\n"
     ]
    },
    {
     "data": {
      "application/vnd.jupyter.widget-view+json": {
       "model_id": "7eae17693fcc4af89260e1d0742e9db7",
       "version_major": 2,
       "version_minor": 0
      },
      "text/plain": [
       "Iterating epochs:   0%|          | 0/125 [00:00<?, ?it/s]"
      ]
     },
     "metadata": {},
     "output_type": "display_data"
    },
    {
     "name": "stdout",
     "output_type": "stream",
     "text": [
      "{'batch_size': 32, 'learning_rate': 0.003, 'lookback': 48, 'num_layers': 1, 'seed': 1337} 0.056606985467414446\n"
     ]
    },
    {
     "data": {
      "application/vnd.jupyter.widget-view+json": {
       "model_id": "45e4a249cdf74a2ebac857da4fda418f",
       "version_major": 2,
       "version_minor": 0
      },
      "text/plain": [
       "Iterating epochs:   0%|          | 0/125 [00:00<?, ?it/s]"
      ]
     },
     "metadata": {},
     "output_type": "display_data"
    },
    {
     "name": "stdout",
     "output_type": "stream",
     "text": [
      "{'batch_size': 32, 'learning_rate': 0.003, 'lookback': 48, 'num_layers': 1, 'seed': 12648430} 0.05486131886629245\n"
     ]
    },
    {
     "data": {
      "application/vnd.jupyter.widget-view+json": {
       "model_id": "2f19b23b5c5d4964ac620c6c290bf048",
       "version_major": 2,
       "version_minor": 0
      },
      "text/plain": [
       "Iterating epochs:   0%|          | 0/125 [00:00<?, ?it/s]"
      ]
     },
     "metadata": {},
     "output_type": "display_data"
    },
    {
     "name": "stdout",
     "output_type": "stream",
     "text": [
      "{'batch_size': 32, 'learning_rate': 0.003, 'lookback': 48, 'num_layers': 1, 'seed': 3735928559} 0.05494241058253325\n"
     ]
    },
    {
     "data": {
      "application/vnd.jupyter.widget-view+json": {
       "model_id": "68071f544c534df4b58fc9a40c977be0",
       "version_major": 2,
       "version_minor": 0
      },
      "text/plain": [
       "Iterating epochs:   0%|          | 0/125 [00:00<?, ?it/s]"
      ]
     },
     "metadata": {},
     "output_type": "display_data"
    },
    {
     "name": "stdout",
     "output_type": "stream",
     "text": [
      "{'batch_size': 32, 'learning_rate': 0.003, 'lookback': 48, 'num_layers': 2, 'seed': 1337} 0.05466227637281498\n"
     ]
    },
    {
     "data": {
      "application/vnd.jupyter.widget-view+json": {
       "model_id": "c3b045b8a5234b4f8aa7bb465832a032",
       "version_major": 2,
       "version_minor": 0
      },
      "text/plain": [
       "Iterating epochs:   0%|          | 0/125 [00:00<?, ?it/s]"
      ]
     },
     "metadata": {},
     "output_type": "display_data"
    },
    {
     "name": "stdout",
     "output_type": "stream",
     "text": [
      "{'batch_size': 32, 'learning_rate': 0.003, 'lookback': 48, 'num_layers': 2, 'seed': 12648430} 0.051954625478874035\n"
     ]
    },
    {
     "data": {
      "application/vnd.jupyter.widget-view+json": {
       "model_id": "a9283504396d4549b2735d25563210ab",
       "version_major": 2,
       "version_minor": 0
      },
      "text/plain": [
       "Iterating epochs:   0%|          | 0/125 [00:00<?, ?it/s]"
      ]
     },
     "metadata": {},
     "output_type": "display_data"
    },
    {
     "name": "stdout",
     "output_type": "stream",
     "text": [
      "{'batch_size': 32, 'learning_rate': 0.003, 'lookback': 48, 'num_layers': 2, 'seed': 3735928559} 0.055538399933049314\n"
     ]
    },
    {
     "data": {
      "application/vnd.jupyter.widget-view+json": {
       "model_id": "e3bc841afc1843e1af1c1648a2a9b835",
       "version_major": 2,
       "version_minor": 0
      },
      "text/plain": [
       "Iterating epochs:   0%|          | 0/125 [00:00<?, ?it/s]"
      ]
     },
     "metadata": {},
     "output_type": "display_data"
    },
    {
     "name": "stdout",
     "output_type": "stream",
     "text": [
      "{'batch_size': 32, 'learning_rate': 0.003, 'lookback': 96, 'num_layers': 1, 'seed': 1337} 0.05687236614847699\n"
     ]
    },
    {
     "data": {
      "application/vnd.jupyter.widget-view+json": {
       "model_id": "009a531b46284aa5a009931efde01e69",
       "version_major": 2,
       "version_minor": 0
      },
      "text/plain": [
       "Iterating epochs:   0%|          | 0/125 [00:00<?, ?it/s]"
      ]
     },
     "metadata": {},
     "output_type": "display_data"
    },
    {
     "name": "stdout",
     "output_type": "stream",
     "text": [
      "{'batch_size': 32, 'learning_rate': 0.003, 'lookback': 96, 'num_layers': 1, 'seed': 12648430} 0.05412435188638763\n"
     ]
    },
    {
     "data": {
      "application/vnd.jupyter.widget-view+json": {
       "model_id": "0b65de4906394afcabdc091b2157bdaf",
       "version_major": 2,
       "version_minor": 0
      },
      "text/plain": [
       "Iterating epochs:   0%|          | 0/125 [00:00<?, ?it/s]"
      ]
     },
     "metadata": {},
     "output_type": "display_data"
    },
    {
     "name": "stdout",
     "output_type": "stream",
     "text": [
      "{'batch_size': 32, 'learning_rate': 0.003, 'lookback': 96, 'num_layers': 1, 'seed': 3735928559} 0.05353256863935922\n"
     ]
    },
    {
     "data": {
      "application/vnd.jupyter.widget-view+json": {
       "model_id": "e75b21c0547a447580d3aee640d13c96",
       "version_major": 2,
       "version_minor": 0
      },
      "text/plain": [
       "Iterating epochs:   0%|          | 0/125 [00:00<?, ?it/s]"
      ]
     },
     "metadata": {},
     "output_type": "display_data"
    },
    {
     "name": "stdout",
     "output_type": "stream",
     "text": [
      "{'batch_size': 32, 'learning_rate': 0.003, 'lookback': 96, 'num_layers': 2, 'seed': 1337} 0.05454305652529001\n"
     ]
    },
    {
     "data": {
      "application/vnd.jupyter.widget-view+json": {
       "model_id": "4db61ec94eb243328f6de48c39740bd6",
       "version_major": 2,
       "version_minor": 0
      },
      "text/plain": [
       "Iterating epochs:   0%|          | 0/125 [00:00<?, ?it/s]"
      ]
     },
     "metadata": {},
     "output_type": "display_data"
    },
    {
     "name": "stdout",
     "output_type": "stream",
     "text": [
      "{'batch_size': 32, 'learning_rate': 0.003, 'lookback': 96, 'num_layers': 2, 'seed': 12648430} 0.04885307615264677\n"
     ]
    },
    {
     "data": {
      "application/vnd.jupyter.widget-view+json": {
       "model_id": "d583343243454510a718df1300760281",
       "version_major": 2,
       "version_minor": 0
      },
      "text/plain": [
       "Iterating epochs:   0%|          | 0/125 [00:00<?, ?it/s]"
      ]
     },
     "metadata": {},
     "output_type": "display_data"
    },
    {
     "name": "stdout",
     "output_type": "stream",
     "text": [
      "{'batch_size': 32, 'learning_rate': 0.003, 'lookback': 96, 'num_layers': 2, 'seed': 3735928559} 0.058037855823595934\n"
     ]
    },
    {
     "data": {
      "application/vnd.jupyter.widget-view+json": {
       "model_id": "676d9c563dcd4eec88c6d32b469803de",
       "version_major": 2,
       "version_minor": 0
      },
      "text/plain": [
       "Iterating epochs:   0%|          | 0/125 [00:00<?, ?it/s]"
      ]
     },
     "metadata": {},
     "output_type": "display_data"
    },
    {
     "name": "stdout",
     "output_type": "stream",
     "text": [
      "{'batch_size': 32, 'learning_rate': 0.005, 'lookback': 36, 'num_layers': 1, 'seed': 1337} 0.06469450702962394\n"
     ]
    },
    {
     "data": {
      "application/vnd.jupyter.widget-view+json": {
       "model_id": "6dfa86a93cbd4d24bebfa687aa1920b0",
       "version_major": 2,
       "version_minor": 0
      },
      "text/plain": [
       "Iterating epochs:   0%|          | 0/125 [00:00<?, ?it/s]"
      ]
     },
     "metadata": {},
     "output_type": "display_data"
    },
    {
     "name": "stdout",
     "output_type": "stream",
     "text": [
      "{'batch_size': 32, 'learning_rate': 0.005, 'lookback': 36, 'num_layers': 1, 'seed': 12648430} 0.06333124241791666\n"
     ]
    },
    {
     "data": {
      "application/vnd.jupyter.widget-view+json": {
       "model_id": "74839feb065245bd98cc3176d61f4be4",
       "version_major": 2,
       "version_minor": 0
      },
      "text/plain": [
       "Iterating epochs:   0%|          | 0/125 [00:00<?, ?it/s]"
      ]
     },
     "metadata": {},
     "output_type": "display_data"
    },
    {
     "name": "stdout",
     "output_type": "stream",
     "text": [
      "{'batch_size': 32, 'learning_rate': 0.005, 'lookback': 36, 'num_layers': 1, 'seed': 3735928559} 0.06064132999521322\n"
     ]
    },
    {
     "data": {
      "application/vnd.jupyter.widget-view+json": {
       "model_id": "b2e749e7c1404b51856c3543e08eda88",
       "version_major": 2,
       "version_minor": 0
      },
      "text/plain": [
       "Iterating epochs:   0%|          | 0/125 [00:00<?, ?it/s]"
      ]
     },
     "metadata": {},
     "output_type": "display_data"
    },
    {
     "name": "stdout",
     "output_type": "stream",
     "text": [
      "{'batch_size': 32, 'learning_rate': 0.005, 'lookback': 36, 'num_layers': 2, 'seed': 1337} 0.06105877351588928\n"
     ]
    },
    {
     "data": {
      "application/vnd.jupyter.widget-view+json": {
       "model_id": "5a4ea6f4fe3749d28735edc63fd64a64",
       "version_major": 2,
       "version_minor": 0
      },
      "text/plain": [
       "Iterating epochs:   0%|          | 0/125 [00:00<?, ?it/s]"
      ]
     },
     "metadata": {},
     "output_type": "display_data"
    },
    {
     "name": "stdout",
     "output_type": "stream",
     "text": [
      "{'batch_size': 32, 'learning_rate': 0.005, 'lookback': 36, 'num_layers': 2, 'seed': 12648430} 0.06106577612137279\n"
     ]
    },
    {
     "data": {
      "application/vnd.jupyter.widget-view+json": {
       "model_id": "2459509fd7534adf8bf32398719ebe25",
       "version_major": 2,
       "version_minor": 0
      },
      "text/plain": [
       "Iterating epochs:   0%|          | 0/125 [00:00<?, ?it/s]"
      ]
     },
     "metadata": {},
     "output_type": "display_data"
    },
    {
     "name": "stdout",
     "output_type": "stream",
     "text": [
      "{'batch_size': 32, 'learning_rate': 0.005, 'lookback': 36, 'num_layers': 2, 'seed': 3735928559} 0.060155574295025036\n"
     ]
    },
    {
     "data": {
      "application/vnd.jupyter.widget-view+json": {
       "model_id": "b1cb808aa47c4add8b3a6bff021116d0",
       "version_major": 2,
       "version_minor": 0
      },
      "text/plain": [
       "Iterating epochs:   0%|          | 0/125 [00:00<?, ?it/s]"
      ]
     },
     "metadata": {},
     "output_type": "display_data"
    },
    {
     "name": "stdout",
     "output_type": "stream",
     "text": [
      "{'batch_size': 32, 'learning_rate': 0.005, 'lookback': 48, 'num_layers': 1, 'seed': 1337} 0.05661049117155086\n"
     ]
    },
    {
     "data": {
      "application/vnd.jupyter.widget-view+json": {
       "model_id": "b2420137b53d4a7185bd99b01b37c807",
       "version_major": 2,
       "version_minor": 0
      },
      "text/plain": [
       "Iterating epochs:   0%|          | 0/125 [00:00<?, ?it/s]"
      ]
     },
     "metadata": {},
     "output_type": "display_data"
    },
    {
     "name": "stdout",
     "output_type": "stream",
     "text": [
      "{'batch_size': 32, 'learning_rate': 0.005, 'lookback': 48, 'num_layers': 1, 'seed': 12648430} 0.059525432280049875\n"
     ]
    },
    {
     "data": {
      "application/vnd.jupyter.widget-view+json": {
       "model_id": "db25b44064bf4722a8ff515c1433125f",
       "version_major": 2,
       "version_minor": 0
      },
      "text/plain": [
       "Iterating epochs:   0%|          | 0/125 [00:00<?, ?it/s]"
      ]
     },
     "metadata": {},
     "output_type": "display_data"
    },
    {
     "name": "stdout",
     "output_type": "stream",
     "text": [
      "{'batch_size': 32, 'learning_rate': 0.005, 'lookback': 48, 'num_layers': 1, 'seed': 3735928559} 0.05783836029541607\n"
     ]
    },
    {
     "data": {
      "application/vnd.jupyter.widget-view+json": {
       "model_id": "6d91740d3bc0423895013dac67eb5868",
       "version_major": 2,
       "version_minor": 0
      },
      "text/plain": [
       "Iterating epochs:   0%|          | 0/125 [00:00<?, ?it/s]"
      ]
     },
     "metadata": {},
     "output_type": "display_data"
    },
    {
     "name": "stdout",
     "output_type": "stream",
     "text": [
      "{'batch_size': 32, 'learning_rate': 0.005, 'lookback': 48, 'num_layers': 2, 'seed': 1337} 0.06087189235796149\n"
     ]
    },
    {
     "data": {
      "application/vnd.jupyter.widget-view+json": {
       "model_id": "cd77077c6c7a47c4807e369da249ad89",
       "version_major": 2,
       "version_minor": 0
      },
      "text/plain": [
       "Iterating epochs:   0%|          | 0/125 [00:00<?, ?it/s]"
      ]
     },
     "metadata": {},
     "output_type": "display_data"
    },
    {
     "name": "stdout",
     "output_type": "stream",
     "text": [
      "{'batch_size': 32, 'learning_rate': 0.005, 'lookback': 48, 'num_layers': 2, 'seed': 12648430} 0.06144406693951728\n"
     ]
    },
    {
     "data": {
      "application/vnd.jupyter.widget-view+json": {
       "model_id": "56458e84fd3e4a269215f695cb676419",
       "version_major": 2,
       "version_minor": 0
      },
      "text/plain": [
       "Iterating epochs:   0%|          | 0/125 [00:00<?, ?it/s]"
      ]
     },
     "metadata": {},
     "output_type": "display_data"
    },
    {
     "name": "stdout",
     "output_type": "stream",
     "text": [
      "{'batch_size': 32, 'learning_rate': 0.005, 'lookback': 48, 'num_layers': 2, 'seed': 3735928559} 0.05932224595632691\n"
     ]
    },
    {
     "data": {
      "application/vnd.jupyter.widget-view+json": {
       "model_id": "cef3dda5e7fe47ff8711d905c5f1e57c",
       "version_major": 2,
       "version_minor": 0
      },
      "text/plain": [
       "Iterating epochs:   0%|          | 0/125 [00:00<?, ?it/s]"
      ]
     },
     "metadata": {},
     "output_type": "display_data"
    },
    {
     "name": "stdout",
     "output_type": "stream",
     "text": [
      "{'batch_size': 32, 'learning_rate': 0.005, 'lookback': 96, 'num_layers': 1, 'seed': 1337} 0.0593059106837385\n"
     ]
    },
    {
     "data": {
      "application/vnd.jupyter.widget-view+json": {
       "model_id": "bfca6138990e41ca8ae2ab61e72b906d",
       "version_major": 2,
       "version_minor": 0
      },
      "text/plain": [
       "Iterating epochs:   0%|          | 0/125 [00:00<?, ?it/s]"
      ]
     },
     "metadata": {},
     "output_type": "display_data"
    },
    {
     "name": "stdout",
     "output_type": "stream",
     "text": [
      "{'batch_size': 32, 'learning_rate': 0.005, 'lookback': 96, 'num_layers': 1, 'seed': 12648430} 0.05939732338839139\n"
     ]
    },
    {
     "data": {
      "application/vnd.jupyter.widget-view+json": {
       "model_id": "d882974e6e4549e99f90c8eb20a98353",
       "version_major": 2,
       "version_minor": 0
      },
      "text/plain": [
       "Iterating epochs:   0%|          | 0/125 [00:00<?, ?it/s]"
      ]
     },
     "metadata": {},
     "output_type": "display_data"
    },
    {
     "name": "stdout",
     "output_type": "stream",
     "text": [
      "{'batch_size': 32, 'learning_rate': 0.005, 'lookback': 96, 'num_layers': 1, 'seed': 3735928559} 0.06288673560349987\n"
     ]
    },
    {
     "data": {
      "application/vnd.jupyter.widget-view+json": {
       "model_id": "2046fe1c69e74ffab958e3ab9ec1df6a",
       "version_major": 2,
       "version_minor": 0
      },
      "text/plain": [
       "Iterating epochs:   0%|          | 0/125 [00:00<?, ?it/s]"
      ]
     },
     "metadata": {},
     "output_type": "display_data"
    },
    {
     "name": "stdout",
     "output_type": "stream",
     "text": [
      "{'batch_size': 32, 'learning_rate': 0.005, 'lookback': 96, 'num_layers': 2, 'seed': 1337} 0.06677027376225361\n"
     ]
    },
    {
     "data": {
      "application/vnd.jupyter.widget-view+json": {
       "model_id": "92d697a234ce43eb8703944bd65d4a6c",
       "version_major": 2,
       "version_minor": 0
      },
      "text/plain": [
       "Iterating epochs:   0%|          | 0/125 [00:00<?, ?it/s]"
      ]
     },
     "metadata": {},
     "output_type": "display_data"
    },
    {
     "name": "stdout",
     "output_type": "stream",
     "text": [
      "{'batch_size': 32, 'learning_rate': 0.005, 'lookback': 96, 'num_layers': 2, 'seed': 12648430} 0.06418994359242228\n"
     ]
    },
    {
     "data": {
      "application/vnd.jupyter.widget-view+json": {
       "model_id": "b34bcce9b0dd45d694d1e3b843b47c0e",
       "version_major": 2,
       "version_minor": 0
      },
      "text/plain": [
       "Iterating epochs:   0%|          | 0/125 [00:00<?, ?it/s]"
      ]
     },
     "metadata": {},
     "output_type": "display_data"
    },
    {
     "name": "stdout",
     "output_type": "stream",
     "text": [
      "{'batch_size': 32, 'learning_rate': 0.005, 'lookback': 96, 'num_layers': 2, 'seed': 3735928559} 0.06608664085909438\n"
     ]
    },
    {
     "data": {
      "application/vnd.jupyter.widget-view+json": {
       "model_id": "10b046a124924947b8c629f41fdbee9e",
       "version_major": 2,
       "version_minor": 0
      },
      "text/plain": [
       "Iterating epochs:   0%|          | 0/125 [00:00<?, ?it/s]"
      ]
     },
     "metadata": {},
     "output_type": "display_data"
    },
    {
     "name": "stdout",
     "output_type": "stream",
     "text": [
      "{'batch_size': 64, 'learning_rate': 0.001, 'lookback': 36, 'num_layers': 1, 'seed': 1337} 0.051749933940859943\n"
     ]
    },
    {
     "data": {
      "application/vnd.jupyter.widget-view+json": {
       "model_id": "784d07784d404e04a35bbf21ed0c0869",
       "version_major": 2,
       "version_minor": 0
      },
      "text/plain": [
       "Iterating epochs:   0%|          | 0/125 [00:00<?, ?it/s]"
      ]
     },
     "metadata": {},
     "output_type": "display_data"
    },
    {
     "name": "stdout",
     "output_type": "stream",
     "text": [
      "{'batch_size': 64, 'learning_rate': 0.001, 'lookback': 36, 'num_layers': 1, 'seed': 12648430} 0.05151622341229366\n"
     ]
    },
    {
     "data": {
      "application/vnd.jupyter.widget-view+json": {
       "model_id": "dd00872b7bd8437c99319ceebaf14e65",
       "version_major": 2,
       "version_minor": 0
      },
      "text/plain": [
       "Iterating epochs:   0%|          | 0/125 [00:00<?, ?it/s]"
      ]
     },
     "metadata": {},
     "output_type": "display_data"
    },
    {
     "name": "stdout",
     "output_type": "stream",
     "text": [
      "{'batch_size': 64, 'learning_rate': 0.001, 'lookback': 36, 'num_layers': 1, 'seed': 3735928559} 0.051807770917478665\n"
     ]
    },
    {
     "data": {
      "application/vnd.jupyter.widget-view+json": {
       "model_id": "625f4af64cb949afa29175a8e5213535",
       "version_major": 2,
       "version_minor": 0
      },
      "text/plain": [
       "Iterating epochs:   0%|          | 0/125 [00:00<?, ?it/s]"
      ]
     },
     "metadata": {},
     "output_type": "display_data"
    },
    {
     "name": "stdout",
     "output_type": "stream",
     "text": [
      "{'batch_size': 64, 'learning_rate': 0.001, 'lookback': 36, 'num_layers': 2, 'seed': 1337} 0.05327935642204606\n"
     ]
    },
    {
     "data": {
      "application/vnd.jupyter.widget-view+json": {
       "model_id": "8e878e963a3a4afa9fc2d37b0d2887d2",
       "version_major": 2,
       "version_minor": 0
      },
      "text/plain": [
       "Iterating epochs:   0%|          | 0/125 [00:00<?, ?it/s]"
      ]
     },
     "metadata": {},
     "output_type": "display_data"
    },
    {
     "name": "stdout",
     "output_type": "stream",
     "text": [
      "{'batch_size': 64, 'learning_rate': 0.001, 'lookback': 36, 'num_layers': 2, 'seed': 12648430} 0.053878359424953275\n"
     ]
    },
    {
     "data": {
      "application/vnd.jupyter.widget-view+json": {
       "model_id": "a9b9ffe91eb1495180cd29605c37a29b",
       "version_major": 2,
       "version_minor": 0
      },
      "text/plain": [
       "Iterating epochs:   0%|          | 0/125 [00:00<?, ?it/s]"
      ]
     },
     "metadata": {},
     "output_type": "display_data"
    },
    {
     "name": "stdout",
     "output_type": "stream",
     "text": [
      "{'batch_size': 64, 'learning_rate': 0.001, 'lookback': 36, 'num_layers': 2, 'seed': 3735928559} 0.04986181668937206\n"
     ]
    },
    {
     "data": {
      "application/vnd.jupyter.widget-view+json": {
       "model_id": "ca5cb14f557a44149a84f50115812aa6",
       "version_major": 2,
       "version_minor": 0
      },
      "text/plain": [
       "Iterating epochs:   0%|          | 0/125 [00:00<?, ?it/s]"
      ]
     },
     "metadata": {},
     "output_type": "display_data"
    },
    {
     "name": "stdout",
     "output_type": "stream",
     "text": [
      "{'batch_size': 64, 'learning_rate': 0.001, 'lookback': 48, 'num_layers': 1, 'seed': 1337} 0.052267615038615\n"
     ]
    },
    {
     "data": {
      "application/vnd.jupyter.widget-view+json": {
       "model_id": "ad11db60df3243e19191763bb1e6e329",
       "version_major": 2,
       "version_minor": 0
      },
      "text/plain": [
       "Iterating epochs:   0%|          | 0/125 [00:00<?, ?it/s]"
      ]
     },
     "metadata": {},
     "output_type": "display_data"
    },
    {
     "name": "stdout",
     "output_type": "stream",
     "text": [
      "{'batch_size': 64, 'learning_rate': 0.001, 'lookback': 48, 'num_layers': 1, 'seed': 12648430} 0.051647737658081144\n"
     ]
    },
    {
     "data": {
      "application/vnd.jupyter.widget-view+json": {
       "model_id": "868fe94d396b478386fc85a287da3b9f",
       "version_major": 2,
       "version_minor": 0
      },
      "text/plain": [
       "Iterating epochs:   0%|          | 0/125 [00:00<?, ?it/s]"
      ]
     },
     "metadata": {},
     "output_type": "display_data"
    },
    {
     "name": "stdout",
     "output_type": "stream",
     "text": [
      "{'batch_size': 64, 'learning_rate': 0.001, 'lookback': 48, 'num_layers': 1, 'seed': 3735928559} 0.05141282439804994\n"
     ]
    },
    {
     "data": {
      "application/vnd.jupyter.widget-view+json": {
       "model_id": "4b1fa8eff39647abb406b287bbac9238",
       "version_major": 2,
       "version_minor": 0
      },
      "text/plain": [
       "Iterating epochs:   0%|          | 0/125 [00:00<?, ?it/s]"
      ]
     },
     "metadata": {},
     "output_type": "display_data"
    },
    {
     "name": "stdout",
     "output_type": "stream",
     "text": [
      "{'batch_size': 64, 'learning_rate': 0.001, 'lookback': 48, 'num_layers': 2, 'seed': 1337} 0.05018365712693104\n"
     ]
    },
    {
     "data": {
      "application/vnd.jupyter.widget-view+json": {
       "model_id": "0b3eaa7abb024fee80a1b66da79606c1",
       "version_major": 2,
       "version_minor": 0
      },
      "text/plain": [
       "Iterating epochs:   0%|          | 0/125 [00:00<?, ?it/s]"
      ]
     },
     "metadata": {},
     "output_type": "display_data"
    },
    {
     "name": "stdout",
     "output_type": "stream",
     "text": [
      "{'batch_size': 64, 'learning_rate': 0.001, 'lookback': 48, 'num_layers': 2, 'seed': 12648430} 0.051969009021726936\n"
     ]
    },
    {
     "data": {
      "application/vnd.jupyter.widget-view+json": {
       "model_id": "0a234a8cb88a4214bfec87d1b166838b",
       "version_major": 2,
       "version_minor": 0
      },
      "text/plain": [
       "Iterating epochs:   0%|          | 0/125 [00:00<?, ?it/s]"
      ]
     },
     "metadata": {},
     "output_type": "display_data"
    },
    {
     "name": "stdout",
     "output_type": "stream",
     "text": [
      "{'batch_size': 64, 'learning_rate': 0.001, 'lookback': 48, 'num_layers': 2, 'seed': 3735928559} 0.050926027103112295\n"
     ]
    },
    {
     "data": {
      "application/vnd.jupyter.widget-view+json": {
       "model_id": "ae0097d8adcd42cb96d71e5fe2d5e8ca",
       "version_major": 2,
       "version_minor": 0
      },
      "text/plain": [
       "Iterating epochs:   0%|          | 0/125 [00:00<?, ?it/s]"
      ]
     },
     "metadata": {},
     "output_type": "display_data"
    },
    {
     "name": "stdout",
     "output_type": "stream",
     "text": [
      "{'batch_size': 64, 'learning_rate': 0.001, 'lookback': 96, 'num_layers': 1, 'seed': 1337} 0.051271456938523516\n"
     ]
    },
    {
     "data": {
      "application/vnd.jupyter.widget-view+json": {
       "model_id": "dd8475b230cc482a950e4e987768003a",
       "version_major": 2,
       "version_minor": 0
      },
      "text/plain": [
       "Iterating epochs:   0%|          | 0/125 [00:00<?, ?it/s]"
      ]
     },
     "metadata": {},
     "output_type": "display_data"
    },
    {
     "name": "stdout",
     "output_type": "stream",
     "text": [
      "{'batch_size': 64, 'learning_rate': 0.001, 'lookback': 96, 'num_layers': 1, 'seed': 12648430} 0.05200244077982811\n"
     ]
    },
    {
     "data": {
      "application/vnd.jupyter.widget-view+json": {
       "model_id": "a78b629a618f4bbf8295b7634df351e9",
       "version_major": 2,
       "version_minor": 0
      },
      "text/plain": [
       "Iterating epochs:   0%|          | 0/125 [00:00<?, ?it/s]"
      ]
     },
     "metadata": {},
     "output_type": "display_data"
    },
    {
     "name": "stdout",
     "output_type": "stream",
     "text": [
      "{'batch_size': 64, 'learning_rate': 0.001, 'lookback': 96, 'num_layers': 1, 'seed': 3735928559} 0.05026467332544808\n"
     ]
    },
    {
     "data": {
      "application/vnd.jupyter.widget-view+json": {
       "model_id": "41f164f133d44760b9257e7b4da278d2",
       "version_major": 2,
       "version_minor": 0
      },
      "text/plain": [
       "Iterating epochs:   0%|          | 0/125 [00:00<?, ?it/s]"
      ]
     },
     "metadata": {},
     "output_type": "display_data"
    },
    {
     "name": "stdout",
     "output_type": "stream",
     "text": [
      "{'batch_size': 64, 'learning_rate': 0.001, 'lookback': 96, 'num_layers': 2, 'seed': 1337} 0.04910610216813019\n"
     ]
    },
    {
     "data": {
      "application/vnd.jupyter.widget-view+json": {
       "model_id": "a5d797eefd214dd89ffb17b64461032d",
       "version_major": 2,
       "version_minor": 0
      },
      "text/plain": [
       "Iterating epochs:   0%|          | 0/125 [00:00<?, ?it/s]"
      ]
     },
     "metadata": {},
     "output_type": "display_data"
    },
    {
     "name": "stdout",
     "output_type": "stream",
     "text": [
      "{'batch_size': 64, 'learning_rate': 0.001, 'lookback': 96, 'num_layers': 2, 'seed': 12648430} 0.04971644816060479\n"
     ]
    },
    {
     "data": {
      "application/vnd.jupyter.widget-view+json": {
       "model_id": "05dc6821f3ae4755a282a0b130cb8998",
       "version_major": 2,
       "version_minor": 0
      },
      "text/plain": [
       "Iterating epochs:   0%|          | 0/125 [00:00<?, ?it/s]"
      ]
     },
     "metadata": {},
     "output_type": "display_data"
    },
    {
     "name": "stdout",
     "output_type": "stream",
     "text": [
      "{'batch_size': 64, 'learning_rate': 0.001, 'lookback': 96, 'num_layers': 2, 'seed': 3735928559} 0.05137473446890139\n"
     ]
    },
    {
     "data": {
      "application/vnd.jupyter.widget-view+json": {
       "model_id": "e1c4f103475c4a0dbf9b4e8addf2fb38",
       "version_major": 2,
       "version_minor": 0
      },
      "text/plain": [
       "Iterating epochs:   0%|          | 0/125 [00:00<?, ?it/s]"
      ]
     },
     "metadata": {},
     "output_type": "display_data"
    },
    {
     "name": "stdout",
     "output_type": "stream",
     "text": [
      "{'batch_size': 64, 'learning_rate': 0.003, 'lookback': 36, 'num_layers': 1, 'seed': 1337} 0.054917433084203646\n"
     ]
    },
    {
     "data": {
      "application/vnd.jupyter.widget-view+json": {
       "model_id": "9b5aabd97a5149689b3f43cab4527fc3",
       "version_major": 2,
       "version_minor": 0
      },
      "text/plain": [
       "Iterating epochs:   0%|          | 0/125 [00:00<?, ?it/s]"
      ]
     },
     "metadata": {},
     "output_type": "display_data"
    },
    {
     "name": "stdout",
     "output_type": "stream",
     "text": [
      "{'batch_size': 64, 'learning_rate': 0.003, 'lookback': 36, 'num_layers': 1, 'seed': 12648430} 0.054849605881967224\n"
     ]
    },
    {
     "data": {
      "application/vnd.jupyter.widget-view+json": {
       "model_id": "abeeb39e075f42d5a7d25b8c9e72ff0f",
       "version_major": 2,
       "version_minor": 0
      },
      "text/plain": [
       "Iterating epochs:   0%|          | 0/125 [00:00<?, ?it/s]"
      ]
     },
     "metadata": {},
     "output_type": "display_data"
    },
    {
     "name": "stdout",
     "output_type": "stream",
     "text": [
      "{'batch_size': 64, 'learning_rate': 0.003, 'lookback': 36, 'num_layers': 1, 'seed': 3735928559} 0.05766406529941238\n"
     ]
    },
    {
     "data": {
      "application/vnd.jupyter.widget-view+json": {
       "model_id": "68af8ac81ca541949b9d89f805db6502",
       "version_major": 2,
       "version_minor": 0
      },
      "text/plain": [
       "Iterating epochs:   0%|          | 0/125 [00:00<?, ?it/s]"
      ]
     },
     "metadata": {},
     "output_type": "display_data"
    },
    {
     "name": "stdout",
     "output_type": "stream",
     "text": [
      "{'batch_size': 64, 'learning_rate': 0.003, 'lookback': 36, 'num_layers': 2, 'seed': 1337} 0.051747721512443744\n"
     ]
    },
    {
     "data": {
      "application/vnd.jupyter.widget-view+json": {
       "model_id": "cda34c1f30c54acba8f554f6f747a459",
       "version_major": 2,
       "version_minor": 0
      },
      "text/plain": [
       "Iterating epochs:   0%|          | 0/125 [00:00<?, ?it/s]"
      ]
     },
     "metadata": {},
     "output_type": "display_data"
    },
    {
     "name": "stdout",
     "output_type": "stream",
     "text": [
      "{'batch_size': 64, 'learning_rate': 0.003, 'lookback': 36, 'num_layers': 2, 'seed': 12648430} 0.05320705899682183\n"
     ]
    },
    {
     "data": {
      "application/vnd.jupyter.widget-view+json": {
       "model_id": "bb9e03b20f0a4f4baee4e953480ce166",
       "version_major": 2,
       "version_minor": 0
      },
      "text/plain": [
       "Iterating epochs:   0%|          | 0/125 [00:00<?, ?it/s]"
      ]
     },
     "metadata": {},
     "output_type": "display_data"
    },
    {
     "name": "stdout",
     "output_type": "stream",
     "text": [
      "{'batch_size': 64, 'learning_rate': 0.003, 'lookback': 36, 'num_layers': 2, 'seed': 3735928559} 0.05564623290243057\n"
     ]
    },
    {
     "data": {
      "application/vnd.jupyter.widget-view+json": {
       "model_id": "32dfaa4443ee4564b09377145b30d145",
       "version_major": 2,
       "version_minor": 0
      },
      "text/plain": [
       "Iterating epochs:   0%|          | 0/125 [00:00<?, ?it/s]"
      ]
     },
     "metadata": {},
     "output_type": "display_data"
    },
    {
     "name": "stdout",
     "output_type": "stream",
     "text": [
      "{'batch_size': 64, 'learning_rate': 0.003, 'lookback': 48, 'num_layers': 1, 'seed': 1337} 0.055350999509056024\n"
     ]
    },
    {
     "data": {
      "application/vnd.jupyter.widget-view+json": {
       "model_id": "c04f3b76f6fb4af79e69561ab7b794fd",
       "version_major": 2,
       "version_minor": 0
      },
      "text/plain": [
       "Iterating epochs:   0%|          | 0/125 [00:00<?, ?it/s]"
      ]
     },
     "metadata": {},
     "output_type": "display_data"
    },
    {
     "name": "stdout",
     "output_type": "stream",
     "text": [
      "{'batch_size': 64, 'learning_rate': 0.003, 'lookback': 48, 'num_layers': 1, 'seed': 12648430} 0.05393292292809257\n"
     ]
    },
    {
     "data": {
      "application/vnd.jupyter.widget-view+json": {
       "model_id": "1f0284b1fc944efb8f3cfc454d336f1d",
       "version_major": 2,
       "version_minor": 0
      },
      "text/plain": [
       "Iterating epochs:   0%|          | 0/125 [00:00<?, ?it/s]"
      ]
     },
     "metadata": {},
     "output_type": "display_data"
    },
    {
     "name": "stdout",
     "output_type": "stream",
     "text": [
      "{'batch_size': 64, 'learning_rate': 0.003, 'lookback': 48, 'num_layers': 1, 'seed': 3735928559} 0.057434993473669656\n"
     ]
    },
    {
     "data": {
      "application/vnd.jupyter.widget-view+json": {
       "model_id": "d005110266d44cdf88ec32b089984bd4",
       "version_major": 2,
       "version_minor": 0
      },
      "text/plain": [
       "Iterating epochs:   0%|          | 0/125 [00:00<?, ?it/s]"
      ]
     },
     "metadata": {},
     "output_type": "display_data"
    },
    {
     "name": "stdout",
     "output_type": "stream",
     "text": [
      "{'batch_size': 64, 'learning_rate': 0.003, 'lookback': 48, 'num_layers': 2, 'seed': 1337} 0.05302103358105971\n"
     ]
    },
    {
     "data": {
      "application/vnd.jupyter.widget-view+json": {
       "model_id": "b0d0596f9ad14c89a2f73dec8a74a230",
       "version_major": 2,
       "version_minor": 0
      },
      "text/plain": [
       "Iterating epochs:   0%|          | 0/125 [00:00<?, ?it/s]"
      ]
     },
     "metadata": {},
     "output_type": "display_data"
    },
    {
     "name": "stdout",
     "output_type": "stream",
     "text": [
      "{'batch_size': 64, 'learning_rate': 0.003, 'lookback': 48, 'num_layers': 2, 'seed': 12648430} 0.058076320216059685\n"
     ]
    },
    {
     "data": {
      "application/vnd.jupyter.widget-view+json": {
       "model_id": "301eb112f2ca4705a82347810922f654",
       "version_major": 2,
       "version_minor": 0
      },
      "text/plain": [
       "Iterating epochs:   0%|          | 0/125 [00:00<?, ?it/s]"
      ]
     },
     "metadata": {},
     "output_type": "display_data"
    },
    {
     "name": "stdout",
     "output_type": "stream",
     "text": [
      "{'batch_size': 64, 'learning_rate': 0.003, 'lookback': 48, 'num_layers': 2, 'seed': 3735928559} 0.05213233658399146\n"
     ]
    },
    {
     "data": {
      "application/vnd.jupyter.widget-view+json": {
       "model_id": "d0033c9f525943e599cdce1ecc96a638",
       "version_major": 2,
       "version_minor": 0
      },
      "text/plain": [
       "Iterating epochs:   0%|          | 0/125 [00:00<?, ?it/s]"
      ]
     },
     "metadata": {},
     "output_type": "display_data"
    },
    {
     "name": "stdout",
     "output_type": "stream",
     "text": [
      "{'batch_size': 64, 'learning_rate': 0.003, 'lookback': 96, 'num_layers': 1, 'seed': 1337} 0.04717515579138238\n"
     ]
    },
    {
     "data": {
      "application/vnd.jupyter.widget-view+json": {
       "model_id": "de52ed0f86a44494ad9a2cd58f9c6648",
       "version_major": 2,
       "version_minor": 0
      },
      "text/plain": [
       "Iterating epochs:   0%|          | 0/125 [00:00<?, ?it/s]"
      ]
     },
     "metadata": {},
     "output_type": "display_data"
    },
    {
     "name": "stdout",
     "output_type": "stream",
     "text": [
      "{'batch_size': 64, 'learning_rate': 0.003, 'lookback': 96, 'num_layers': 1, 'seed': 12648430} 0.048823957331478596\n"
     ]
    },
    {
     "data": {
      "application/vnd.jupyter.widget-view+json": {
       "model_id": "18cd3e14aa814bba895dd83fa305a5ce",
       "version_major": 2,
       "version_minor": 0
      },
      "text/plain": [
       "Iterating epochs:   0%|          | 0/125 [00:00<?, ?it/s]"
      ]
     },
     "metadata": {},
     "output_type": "display_data"
    },
    {
     "name": "stdout",
     "output_type": "stream",
     "text": [
      "{'batch_size': 64, 'learning_rate': 0.003, 'lookback': 96, 'num_layers': 1, 'seed': 3735928559} 0.05245621559711603\n"
     ]
    },
    {
     "data": {
      "application/vnd.jupyter.widget-view+json": {
       "model_id": "2e0b6862d9154915b7d81ff0e257b15c",
       "version_major": 2,
       "version_minor": 0
      },
      "text/plain": [
       "Iterating epochs:   0%|          | 0/125 [00:00<?, ?it/s]"
      ]
     },
     "metadata": {},
     "output_type": "display_data"
    },
    {
     "name": "stdout",
     "output_type": "stream",
     "text": [
      "{'batch_size': 64, 'learning_rate': 0.003, 'lookback': 96, 'num_layers': 2, 'seed': 1337} 0.053687567715174876\n"
     ]
    },
    {
     "data": {
      "application/vnd.jupyter.widget-view+json": {
       "model_id": "d09b6be5be7c4baf8cecd768d11e5fc0",
       "version_major": 2,
       "version_minor": 0
      },
      "text/plain": [
       "Iterating epochs:   0%|          | 0/125 [00:00<?, ?it/s]"
      ]
     },
     "metadata": {},
     "output_type": "display_data"
    },
    {
     "name": "stdout",
     "output_type": "stream",
     "text": [
      "{'batch_size': 64, 'learning_rate': 0.003, 'lookback': 96, 'num_layers': 2, 'seed': 12648430} 0.04918175989475388\n"
     ]
    },
    {
     "data": {
      "application/vnd.jupyter.widget-view+json": {
       "model_id": "eedbad916d904b47a1b2c877891d3194",
       "version_major": 2,
       "version_minor": 0
      },
      "text/plain": [
       "Iterating epochs:   0%|          | 0/125 [00:00<?, ?it/s]"
      ]
     },
     "metadata": {},
     "output_type": "display_data"
    },
    {
     "name": "stdout",
     "output_type": "stream",
     "text": [
      "{'batch_size': 64, 'learning_rate': 0.003, 'lookback': 96, 'num_layers': 2, 'seed': 3735928559} 0.0473081784394498\n"
     ]
    },
    {
     "data": {
      "application/vnd.jupyter.widget-view+json": {
       "model_id": "9db9cee6b3e94101a8ff05133287541f",
       "version_major": 2,
       "version_minor": 0
      },
      "text/plain": [
       "Iterating epochs:   0%|          | 0/125 [00:00<?, ?it/s]"
      ]
     },
     "metadata": {},
     "output_type": "display_data"
    },
    {
     "name": "stdout",
     "output_type": "stream",
     "text": [
      "{'batch_size': 64, 'learning_rate': 0.005, 'lookback': 36, 'num_layers': 1, 'seed': 1337} 0.05788019389057389\n"
     ]
    },
    {
     "data": {
      "application/vnd.jupyter.widget-view+json": {
       "model_id": "725391220ee744f596d481459ba7422f",
       "version_major": 2,
       "version_minor": 0
      },
      "text/plain": [
       "Iterating epochs:   0%|          | 0/125 [00:00<?, ?it/s]"
      ]
     },
     "metadata": {},
     "output_type": "display_data"
    },
    {
     "name": "stdout",
     "output_type": "stream",
     "text": [
      "{'batch_size': 64, 'learning_rate': 0.005, 'lookback': 36, 'num_layers': 1, 'seed': 12648430} 0.0567531451726189\n"
     ]
    },
    {
     "data": {
      "application/vnd.jupyter.widget-view+json": {
       "model_id": "030d9919218949a4b2c21841b51c859d",
       "version_major": 2,
       "version_minor": 0
      },
      "text/plain": [
       "Iterating epochs:   0%|          | 0/125 [00:00<?, ?it/s]"
      ]
     },
     "metadata": {},
     "output_type": "display_data"
    },
    {
     "name": "stdout",
     "output_type": "stream",
     "text": [
      "{'batch_size': 64, 'learning_rate': 0.005, 'lookback': 36, 'num_layers': 1, 'seed': 3735928559} 0.0581163433022224\n"
     ]
    },
    {
     "data": {
      "application/vnd.jupyter.widget-view+json": {
       "model_id": "521921cad4de44289b8938e1e6e9d186",
       "version_major": 2,
       "version_minor": 0
      },
      "text/plain": [
       "Iterating epochs:   0%|          | 0/125 [00:00<?, ?it/s]"
      ]
     },
     "metadata": {},
     "output_type": "display_data"
    },
    {
     "name": "stdout",
     "output_type": "stream",
     "text": [
      "{'batch_size': 64, 'learning_rate': 0.005, 'lookback': 36, 'num_layers': 2, 'seed': 1337} 0.05528141233998422\n"
     ]
    },
    {
     "data": {
      "application/vnd.jupyter.widget-view+json": {
       "model_id": "a7fa1b9425574cedbe54bce2650cfc71",
       "version_major": 2,
       "version_minor": 0
      },
      "text/plain": [
       "Iterating epochs:   0%|          | 0/125 [00:00<?, ?it/s]"
      ]
     },
     "metadata": {},
     "output_type": "display_data"
    },
    {
     "name": "stdout",
     "output_type": "stream",
     "text": [
      "{'batch_size': 64, 'learning_rate': 0.005, 'lookback': 36, 'num_layers': 2, 'seed': 12648430} 0.051588219518844895\n"
     ]
    },
    {
     "data": {
      "application/vnd.jupyter.widget-view+json": {
       "model_id": "7a9547334a254e829dae4d595cba93d9",
       "version_major": 2,
       "version_minor": 0
      },
      "text/plain": [
       "Iterating epochs:   0%|          | 0/125 [00:00<?, ?it/s]"
      ]
     },
     "metadata": {},
     "output_type": "display_data"
    },
    {
     "name": "stdout",
     "output_type": "stream",
     "text": [
      "{'batch_size': 64, 'learning_rate': 0.005, 'lookback': 36, 'num_layers': 2, 'seed': 3735928559} 0.05817213736904355\n"
     ]
    },
    {
     "data": {
      "application/vnd.jupyter.widget-view+json": {
       "model_id": "939271ea88114f48b08f0acdb9640531",
       "version_major": 2,
       "version_minor": 0
      },
      "text/plain": [
       "Iterating epochs:   0%|          | 0/125 [00:00<?, ?it/s]"
      ]
     },
     "metadata": {},
     "output_type": "display_data"
    },
    {
     "name": "stdout",
     "output_type": "stream",
     "text": [
      "{'batch_size': 64, 'learning_rate': 0.005, 'lookback': 48, 'num_layers': 1, 'seed': 1337} 0.05809666030108929\n"
     ]
    },
    {
     "data": {
      "application/vnd.jupyter.widget-view+json": {
       "model_id": "597d15a6c5bf495fa78d00d9b3a431d4",
       "version_major": 2,
       "version_minor": 0
      },
      "text/plain": [
       "Iterating epochs:   0%|          | 0/125 [00:00<?, ?it/s]"
      ]
     },
     "metadata": {},
     "output_type": "display_data"
    },
    {
     "name": "stdout",
     "output_type": "stream",
     "text": [
      "{'batch_size': 64, 'learning_rate': 0.005, 'lookback': 48, 'num_layers': 1, 'seed': 12648430} 0.05764727437725434\n"
     ]
    },
    {
     "data": {
      "application/vnd.jupyter.widget-view+json": {
       "model_id": "09bfc88c5a2d4fa0a27557c081eb0c02",
       "version_major": 2,
       "version_minor": 0
      },
      "text/plain": [
       "Iterating epochs:   0%|          | 0/125 [00:00<?, ?it/s]"
      ]
     },
     "metadata": {},
     "output_type": "display_data"
    },
    {
     "name": "stdout",
     "output_type": "stream",
     "text": [
      "{'batch_size': 64, 'learning_rate': 0.005, 'lookback': 48, 'num_layers': 1, 'seed': 3735928559} 0.05721453043560569\n"
     ]
    },
    {
     "data": {
      "application/vnd.jupyter.widget-view+json": {
       "model_id": "eb10dc41c1414b0e9eaecaa59a139a73",
       "version_major": 2,
       "version_minor": 0
      },
      "text/plain": [
       "Iterating epochs:   0%|          | 0/125 [00:00<?, ?it/s]"
      ]
     },
     "metadata": {},
     "output_type": "display_data"
    },
    {
     "name": "stdout",
     "output_type": "stream",
     "text": [
      "{'batch_size': 64, 'learning_rate': 0.005, 'lookback': 48, 'num_layers': 2, 'seed': 1337} 0.06340680719138338\n"
     ]
    },
    {
     "data": {
      "application/vnd.jupyter.widget-view+json": {
       "model_id": "3a074084ddfd4377bf454692a815c0af",
       "version_major": 2,
       "version_minor": 0
      },
      "text/plain": [
       "Iterating epochs:   0%|          | 0/125 [00:00<?, ?it/s]"
      ]
     },
     "metadata": {},
     "output_type": "display_data"
    },
    {
     "name": "stdout",
     "output_type": "stream",
     "text": [
      "{'batch_size': 64, 'learning_rate': 0.005, 'lookback': 48, 'num_layers': 2, 'seed': 12648430} 0.052468671660440475\n"
     ]
    },
    {
     "data": {
      "application/vnd.jupyter.widget-view+json": {
       "model_id": "0fab9d6d76fa4aee84eedc312c46560e",
       "version_major": 2,
       "version_minor": 0
      },
      "text/plain": [
       "Iterating epochs:   0%|          | 0/125 [00:00<?, ?it/s]"
      ]
     },
     "metadata": {},
     "output_type": "display_data"
    },
    {
     "name": "stdout",
     "output_type": "stream",
     "text": [
      "{'batch_size': 64, 'learning_rate': 0.005, 'lookback': 48, 'num_layers': 2, 'seed': 3735928559} 0.06003523442464379\n"
     ]
    },
    {
     "data": {
      "application/vnd.jupyter.widget-view+json": {
       "model_id": "7488f35e228c45b3a13f244a509093e9",
       "version_major": 2,
       "version_minor": 0
      },
      "text/plain": [
       "Iterating epochs:   0%|          | 0/125 [00:00<?, ?it/s]"
      ]
     },
     "metadata": {},
     "output_type": "display_data"
    },
    {
     "name": "stdout",
     "output_type": "stream",
     "text": [
      "{'batch_size': 64, 'learning_rate': 0.005, 'lookback': 96, 'num_layers': 1, 'seed': 1337} 0.05488923109638003\n"
     ]
    },
    {
     "data": {
      "application/vnd.jupyter.widget-view+json": {
       "model_id": "32f8e4c574c942eb8670bc9a99900a73",
       "version_major": 2,
       "version_minor": 0
      },
      "text/plain": [
       "Iterating epochs:   0%|          | 0/125 [00:00<?, ?it/s]"
      ]
     },
     "metadata": {},
     "output_type": "display_data"
    },
    {
     "name": "stdout",
     "output_type": "stream",
     "text": [
      "{'batch_size': 64, 'learning_rate': 0.005, 'lookback': 96, 'num_layers': 1, 'seed': 12648430} 0.0551686508115381\n"
     ]
    },
    {
     "data": {
      "application/vnd.jupyter.widget-view+json": {
       "model_id": "adb22d115a7e4c1f9b8a0bb1ef8e6848",
       "version_major": 2,
       "version_minor": 0
      },
      "text/plain": [
       "Iterating epochs:   0%|          | 0/125 [00:00<?, ?it/s]"
      ]
     },
     "metadata": {},
     "output_type": "display_data"
    },
    {
     "name": "stdout",
     "output_type": "stream",
     "text": [
      "{'batch_size': 64, 'learning_rate': 0.005, 'lookback': 96, 'num_layers': 1, 'seed': 3735928559} 0.051951039009369336\n"
     ]
    },
    {
     "data": {
      "application/vnd.jupyter.widget-view+json": {
       "model_id": "cb74ae91753b41d59c3a0699180843b6",
       "version_major": 2,
       "version_minor": 0
      },
      "text/plain": [
       "Iterating epochs:   0%|          | 0/125 [00:00<?, ?it/s]"
      ]
     },
     "metadata": {},
     "output_type": "display_data"
    },
    {
     "name": "stdout",
     "output_type": "stream",
     "text": [
      "{'batch_size': 64, 'learning_rate': 0.005, 'lookback': 96, 'num_layers': 2, 'seed': 1337} 0.05608263393290914\n"
     ]
    },
    {
     "data": {
      "application/vnd.jupyter.widget-view+json": {
       "model_id": "42651eddb72e403c8027a33fafa00df0",
       "version_major": 2,
       "version_minor": 0
      },
      "text/plain": [
       "Iterating epochs:   0%|          | 0/125 [00:00<?, ?it/s]"
      ]
     },
     "metadata": {},
     "output_type": "display_data"
    },
    {
     "name": "stdout",
     "output_type": "stream",
     "text": [
      "{'batch_size': 64, 'learning_rate': 0.005, 'lookback': 96, 'num_layers': 2, 'seed': 12648430} 0.052485259608007394\n"
     ]
    },
    {
     "data": {
      "application/vnd.jupyter.widget-view+json": {
       "model_id": "9f3898fbcf464691b4ee499806b3fa52",
       "version_major": 2,
       "version_minor": 0
      },
      "text/plain": [
       "Iterating epochs:   0%|          | 0/125 [00:00<?, ?it/s]"
      ]
     },
     "metadata": {},
     "output_type": "display_data"
    },
    {
     "name": "stdout",
     "output_type": "stream",
     "text": [
      "{'batch_size': 64, 'learning_rate': 0.005, 'lookback': 96, 'num_layers': 2, 'seed': 3735928559} 0.05459847688101805\n"
     ]
    },
    {
     "data": {
      "application/vnd.jupyter.widget-view+json": {
       "model_id": "c25cf45542a74b9894fc65b1705a065c",
       "version_major": 2,
       "version_minor": 0
      },
      "text/plain": [
       "Iterating epochs:   0%|          | 0/125 [00:00<?, ?it/s]"
      ]
     },
     "metadata": {},
     "output_type": "display_data"
    },
    {
     "name": "stdout",
     "output_type": "stream",
     "text": [
      "{'batch_size': 128, 'learning_rate': 0.001, 'lookback': 36, 'num_layers': 1, 'seed': 1337} 0.050930142151908234\n"
     ]
    },
    {
     "data": {
      "application/vnd.jupyter.widget-view+json": {
       "model_id": "0d1b50e49d8440b78b7fefccbdd78774",
       "version_major": 2,
       "version_minor": 0
      },
      "text/plain": [
       "Iterating epochs:   0%|          | 0/125 [00:00<?, ?it/s]"
      ]
     },
     "metadata": {},
     "output_type": "display_data"
    },
    {
     "name": "stdout",
     "output_type": "stream",
     "text": [
      "{'batch_size': 128, 'learning_rate': 0.001, 'lookback': 36, 'num_layers': 1, 'seed': 12648430} 0.05036338995425747\n"
     ]
    },
    {
     "data": {
      "application/vnd.jupyter.widget-view+json": {
       "model_id": "5d4c56f9a44f465d83de3ddb6c8a448b",
       "version_major": 2,
       "version_minor": 0
      },
      "text/plain": [
       "Iterating epochs:   0%|          | 0/125 [00:00<?, ?it/s]"
      ]
     },
     "metadata": {},
     "output_type": "display_data"
    },
    {
     "name": "stdout",
     "output_type": "stream",
     "text": [
      "{'batch_size': 128, 'learning_rate': 0.001, 'lookback': 36, 'num_layers': 1, 'seed': 3735928559} 0.051010355460815705\n"
     ]
    },
    {
     "data": {
      "application/vnd.jupyter.widget-view+json": {
       "model_id": "d50683379f7f4e1b9e6149f6a1615d6d",
       "version_major": 2,
       "version_minor": 0
      },
      "text/plain": [
       "Iterating epochs:   0%|          | 0/125 [00:00<?, ?it/s]"
      ]
     },
     "metadata": {},
     "output_type": "display_data"
    },
    {
     "name": "stdout",
     "output_type": "stream",
     "text": [
      "{'batch_size': 128, 'learning_rate': 0.001, 'lookback': 36, 'num_layers': 2, 'seed': 1337} 0.048739729735713735\n"
     ]
    },
    {
     "data": {
      "application/vnd.jupyter.widget-view+json": {
       "model_id": "2b6da63a78aa45e3aa667f6f8ebd0f83",
       "version_major": 2,
       "version_minor": 0
      },
      "text/plain": [
       "Iterating epochs:   0%|          | 0/125 [00:00<?, ?it/s]"
      ]
     },
     "metadata": {},
     "output_type": "display_data"
    },
    {
     "name": "stdout",
     "output_type": "stream",
     "text": [
      "{'batch_size': 128, 'learning_rate': 0.001, 'lookback': 36, 'num_layers': 2, 'seed': 12648430} 0.04925784439994739\n"
     ]
    },
    {
     "data": {
      "application/vnd.jupyter.widget-view+json": {
       "model_id": "5e7f76fee80647d5aad5dc2279077360",
       "version_major": 2,
       "version_minor": 0
      },
      "text/plain": [
       "Iterating epochs:   0%|          | 0/125 [00:00<?, ?it/s]"
      ]
     },
     "metadata": {},
     "output_type": "display_data"
    },
    {
     "name": "stdout",
     "output_type": "stream",
     "text": [
      "{'batch_size': 128, 'learning_rate': 0.001, 'lookback': 36, 'num_layers': 2, 'seed': 3735928559} 0.04658907916969978\n"
     ]
    },
    {
     "data": {
      "application/vnd.jupyter.widget-view+json": {
       "model_id": "904d7d655c1f4289b96e88f29a6a9079",
       "version_major": 2,
       "version_minor": 0
      },
      "text/plain": [
       "Iterating epochs:   0%|          | 0/125 [00:00<?, ?it/s]"
      ]
     },
     "metadata": {},
     "output_type": "display_data"
    },
    {
     "name": "stdout",
     "output_type": "stream",
     "text": [
      "{'batch_size': 128, 'learning_rate': 0.001, 'lookback': 48, 'num_layers': 1, 'seed': 1337} 0.050378296022804886\n"
     ]
    },
    {
     "data": {
      "application/vnd.jupyter.widget-view+json": {
       "model_id": "626df1cd455444fabec2b9da867bba7e",
       "version_major": 2,
       "version_minor": 0
      },
      "text/plain": [
       "Iterating epochs:   0%|          | 0/125 [00:00<?, ?it/s]"
      ]
     },
     "metadata": {},
     "output_type": "display_data"
    },
    {
     "name": "stdout",
     "output_type": "stream",
     "text": [
      "{'batch_size': 128, 'learning_rate': 0.001, 'lookback': 48, 'num_layers': 1, 'seed': 12648430} 0.04929804773284839\n"
     ]
    },
    {
     "data": {
      "application/vnd.jupyter.widget-view+json": {
       "model_id": "b10d697f47194141a19eaa016e863f64",
       "version_major": 2,
       "version_minor": 0
      },
      "text/plain": [
       "Iterating epochs:   0%|          | 0/125 [00:00<?, ?it/s]"
      ]
     },
     "metadata": {},
     "output_type": "display_data"
    },
    {
     "name": "stdout",
     "output_type": "stream",
     "text": [
      "{'batch_size': 128, 'learning_rate': 0.001, 'lookback': 48, 'num_layers': 1, 'seed': 3735928559} 0.05001280771998259\n"
     ]
    },
    {
     "data": {
      "application/vnd.jupyter.widget-view+json": {
       "model_id": "ded47b14c55345e18dca827ef4884d78",
       "version_major": 2,
       "version_minor": 0
      },
      "text/plain": [
       "Iterating epochs:   0%|          | 0/125 [00:00<?, ?it/s]"
      ]
     },
     "metadata": {},
     "output_type": "display_data"
    },
    {
     "name": "stdout",
     "output_type": "stream",
     "text": [
      "{'batch_size': 128, 'learning_rate': 0.001, 'lookback': 48, 'num_layers': 2, 'seed': 1337} 0.04805495711759879\n"
     ]
    },
    {
     "data": {
      "application/vnd.jupyter.widget-view+json": {
       "model_id": "eb04d819076d4510ad38a078ddeb5eb3",
       "version_major": 2,
       "version_minor": 0
      },
      "text/plain": [
       "Iterating epochs:   0%|          | 0/125 [00:00<?, ?it/s]"
      ]
     },
     "metadata": {},
     "output_type": "display_data"
    },
    {
     "name": "stdout",
     "output_type": "stream",
     "text": [
      "{'batch_size': 128, 'learning_rate': 0.001, 'lookback': 48, 'num_layers': 2, 'seed': 12648430} 0.04873647354543209\n"
     ]
    },
    {
     "data": {
      "application/vnd.jupyter.widget-view+json": {
       "model_id": "bf5c58e7f07141b6b08d319540fadd5d",
       "version_major": 2,
       "version_minor": 0
      },
      "text/plain": [
       "Iterating epochs:   0%|          | 0/125 [00:00<?, ?it/s]"
      ]
     },
     "metadata": {},
     "output_type": "display_data"
    },
    {
     "name": "stdout",
     "output_type": "stream",
     "text": [
      "{'batch_size': 128, 'learning_rate': 0.001, 'lookback': 48, 'num_layers': 2, 'seed': 3735928559} 0.04904494029827989\n"
     ]
    },
    {
     "data": {
      "application/vnd.jupyter.widget-view+json": {
       "model_id": "41cc4f1acaf44d7ea728e13d03cf2949",
       "version_major": 2,
       "version_minor": 0
      },
      "text/plain": [
       "Iterating epochs:   0%|          | 0/125 [00:00<?, ?it/s]"
      ]
     },
     "metadata": {},
     "output_type": "display_data"
    },
    {
     "name": "stdout",
     "output_type": "stream",
     "text": [
      "{'batch_size': 128, 'learning_rate': 0.001, 'lookback': 96, 'num_layers': 1, 'seed': 1337} 0.04751696279988839\n"
     ]
    },
    {
     "data": {
      "application/vnd.jupyter.widget-view+json": {
       "model_id": "38080624c1354609a71cd6f78bed83c0",
       "version_major": 2,
       "version_minor": 0
      },
      "text/plain": [
       "Iterating epochs:   0%|          | 0/125 [00:00<?, ?it/s]"
      ]
     },
     "metadata": {},
     "output_type": "display_data"
    },
    {
     "name": "stdout",
     "output_type": "stream",
     "text": [
      "{'batch_size': 128, 'learning_rate': 0.001, 'lookback': 96, 'num_layers': 1, 'seed': 12648430} 0.048213737801863596\n"
     ]
    },
    {
     "data": {
      "application/vnd.jupyter.widget-view+json": {
       "model_id": "a94ea88d00f34686a0df3a0cb992d97e",
       "version_major": 2,
       "version_minor": 0
      },
      "text/plain": [
       "Iterating epochs:   0%|          | 0/125 [00:00<?, ?it/s]"
      ]
     },
     "metadata": {},
     "output_type": "display_data"
    },
    {
     "name": "stdout",
     "output_type": "stream",
     "text": [
      "{'batch_size': 128, 'learning_rate': 0.001, 'lookback': 96, 'num_layers': 1, 'seed': 3735928559} 0.04867304653788988\n"
     ]
    },
    {
     "data": {
      "application/vnd.jupyter.widget-view+json": {
       "model_id": "5bed63ebf91a4ac39bb998ea498a8f01",
       "version_major": 2,
       "version_minor": 0
      },
      "text/plain": [
       "Iterating epochs:   0%|          | 0/125 [00:00<?, ?it/s]"
      ]
     },
     "metadata": {},
     "output_type": "display_data"
    },
    {
     "name": "stdout",
     "output_type": "stream",
     "text": [
      "{'batch_size': 128, 'learning_rate': 0.001, 'lookback': 96, 'num_layers': 2, 'seed': 1337} 0.049565674557995335\n"
     ]
    },
    {
     "data": {
      "application/vnd.jupyter.widget-view+json": {
       "model_id": "e2365adefaae463d8fb884bf780882e6",
       "version_major": 2,
       "version_minor": 0
      },
      "text/plain": [
       "Iterating epochs:   0%|          | 0/125 [00:00<?, ?it/s]"
      ]
     },
     "metadata": {},
     "output_type": "display_data"
    },
    {
     "name": "stdout",
     "output_type": "stream",
     "text": [
      "{'batch_size': 128, 'learning_rate': 0.001, 'lookback': 96, 'num_layers': 2, 'seed': 12648430} 0.04665909335017204\n"
     ]
    },
    {
     "data": {
      "application/vnd.jupyter.widget-view+json": {
       "model_id": "481d65f642a34be5a1d6250a73a85d8c",
       "version_major": 2,
       "version_minor": 0
      },
      "text/plain": [
       "Iterating epochs:   0%|          | 0/125 [00:00<?, ?it/s]"
      ]
     },
     "metadata": {},
     "output_type": "display_data"
    },
    {
     "name": "stdout",
     "output_type": "stream",
     "text": [
      "{'batch_size': 128, 'learning_rate': 0.001, 'lookback': 96, 'num_layers': 2, 'seed': 3735928559} 0.04728570236609532\n"
     ]
    },
    {
     "data": {
      "application/vnd.jupyter.widget-view+json": {
       "model_id": "f1a7edbf06774d319a6f9648765906ed",
       "version_major": 2,
       "version_minor": 0
      },
      "text/plain": [
       "Iterating epochs:   0%|          | 0/125 [00:00<?, ?it/s]"
      ]
     },
     "metadata": {},
     "output_type": "display_data"
    },
    {
     "name": "stdout",
     "output_type": "stream",
     "text": [
      "{'batch_size': 128, 'learning_rate': 0.003, 'lookback': 36, 'num_layers': 1, 'seed': 1337} 0.051913465767239146\n"
     ]
    },
    {
     "data": {
      "application/vnd.jupyter.widget-view+json": {
       "model_id": "f1ae4c4322c048b38b28545aec613462",
       "version_major": 2,
       "version_minor": 0
      },
      "text/plain": [
       "Iterating epochs:   0%|          | 0/125 [00:00<?, ?it/s]"
      ]
     },
     "metadata": {},
     "output_type": "display_data"
    },
    {
     "name": "stdout",
     "output_type": "stream",
     "text": [
      "{'batch_size': 128, 'learning_rate': 0.003, 'lookback': 36, 'num_layers': 1, 'seed': 12648430} 0.051594010482613854\n"
     ]
    },
    {
     "data": {
      "application/vnd.jupyter.widget-view+json": {
       "model_id": "6582f58c725541f2aae5e584752854d4",
       "version_major": 2,
       "version_minor": 0
      },
      "text/plain": [
       "Iterating epochs:   0%|          | 0/125 [00:00<?, ?it/s]"
      ]
     },
     "metadata": {},
     "output_type": "display_data"
    },
    {
     "name": "stdout",
     "output_type": "stream",
     "text": [
      "{'batch_size': 128, 'learning_rate': 0.003, 'lookback': 36, 'num_layers': 1, 'seed': 3735928559} 0.053704795284340016\n"
     ]
    },
    {
     "data": {
      "application/vnd.jupyter.widget-view+json": {
       "model_id": "72017913e57c4fadac0ec570b54f035e",
       "version_major": 2,
       "version_minor": 0
      },
      "text/plain": [
       "Iterating epochs:   0%|          | 0/125 [00:00<?, ?it/s]"
      ]
     },
     "metadata": {},
     "output_type": "display_data"
    },
    {
     "name": "stdout",
     "output_type": "stream",
     "text": [
      "{'batch_size': 128, 'learning_rate': 0.003, 'lookback': 36, 'num_layers': 2, 'seed': 1337} 0.0549122139524955\n"
     ]
    },
    {
     "data": {
      "application/vnd.jupyter.widget-view+json": {
       "model_id": "edcac2477b3c45b89ece67b86a38a932",
       "version_major": 2,
       "version_minor": 0
      },
      "text/plain": [
       "Iterating epochs:   0%|          | 0/125 [00:00<?, ?it/s]"
      ]
     },
     "metadata": {},
     "output_type": "display_data"
    },
    {
     "name": "stdout",
     "output_type": "stream",
     "text": [
      "{'batch_size': 128, 'learning_rate': 0.003, 'lookback': 36, 'num_layers': 2, 'seed': 12648430} 0.05456137893578181\n"
     ]
    },
    {
     "data": {
      "application/vnd.jupyter.widget-view+json": {
       "model_id": "844c04a176c0444a9ee82fba34e85c6b",
       "version_major": 2,
       "version_minor": 0
      },
      "text/plain": [
       "Iterating epochs:   0%|          | 0/125 [00:00<?, ?it/s]"
      ]
     },
     "metadata": {},
     "output_type": "display_data"
    },
    {
     "name": "stdout",
     "output_type": "stream",
     "text": [
      "{'batch_size': 128, 'learning_rate': 0.003, 'lookback': 36, 'num_layers': 2, 'seed': 3735928559} 0.05045174155384302\n"
     ]
    },
    {
     "data": {
      "application/vnd.jupyter.widget-view+json": {
       "model_id": "fd3a661cfb8d46049bd8ce8ab5170c06",
       "version_major": 2,
       "version_minor": 0
      },
      "text/plain": [
       "Iterating epochs:   0%|          | 0/125 [00:00<?, ?it/s]"
      ]
     },
     "metadata": {},
     "output_type": "display_data"
    },
    {
     "name": "stdout",
     "output_type": "stream",
     "text": [
      "{'batch_size': 128, 'learning_rate': 0.003, 'lookback': 48, 'num_layers': 1, 'seed': 1337} 0.053834124468266964\n"
     ]
    },
    {
     "data": {
      "application/vnd.jupyter.widget-view+json": {
       "model_id": "821a485b2a8743dd9f1e271f4d32290c",
       "version_major": 2,
       "version_minor": 0
      },
      "text/plain": [
       "Iterating epochs:   0%|          | 0/125 [00:00<?, ?it/s]"
      ]
     },
     "metadata": {},
     "output_type": "display_data"
    },
    {
     "name": "stdout",
     "output_type": "stream",
     "text": [
      "{'batch_size': 128, 'learning_rate': 0.003, 'lookback': 48, 'num_layers': 1, 'seed': 12648430} 0.05242620501667261\n"
     ]
    },
    {
     "data": {
      "application/vnd.jupyter.widget-view+json": {
       "model_id": "d55c7bf9631747f9a0a0512dcccf13c6",
       "version_major": 2,
       "version_minor": 0
      },
      "text/plain": [
       "Iterating epochs:   0%|          | 0/125 [00:00<?, ?it/s]"
      ]
     },
     "metadata": {},
     "output_type": "display_data"
    },
    {
     "name": "stdout",
     "output_type": "stream",
     "text": [
      "{'batch_size': 128, 'learning_rate': 0.003, 'lookback': 48, 'num_layers': 1, 'seed': 3735928559} 0.050936733945631064\n"
     ]
    },
    {
     "data": {
      "application/vnd.jupyter.widget-view+json": {
       "model_id": "e64ab1feb9df4d06a72be5b6e362a958",
       "version_major": 2,
       "version_minor": 0
      },
      "text/plain": [
       "Iterating epochs:   0%|          | 0/125 [00:00<?, ?it/s]"
      ]
     },
     "metadata": {},
     "output_type": "display_data"
    },
    {
     "name": "stdout",
     "output_type": "stream",
     "text": [
      "{'batch_size': 128, 'learning_rate': 0.003, 'lookback': 48, 'num_layers': 2, 'seed': 1337} 0.053324379528371185\n"
     ]
    },
    {
     "data": {
      "application/vnd.jupyter.widget-view+json": {
       "model_id": "ebe0eb004c2e4d0d84efbedd9e790be3",
       "version_major": 2,
       "version_minor": 0
      },
      "text/plain": [
       "Iterating epochs:   0%|          | 0/125 [00:00<?, ?it/s]"
      ]
     },
     "metadata": {},
     "output_type": "display_data"
    },
    {
     "name": "stdout",
     "output_type": "stream",
     "text": [
      "{'batch_size': 128, 'learning_rate': 0.003, 'lookback': 48, 'num_layers': 2, 'seed': 12648430} 0.04710176404422292\n"
     ]
    },
    {
     "data": {
      "application/vnd.jupyter.widget-view+json": {
       "model_id": "95ccf3627dba40e8ad17d046658d3334",
       "version_major": 2,
       "version_minor": 0
      },
      "text/plain": [
       "Iterating epochs:   0%|          | 0/125 [00:00<?, ?it/s]"
      ]
     },
     "metadata": {},
     "output_type": "display_data"
    },
    {
     "name": "stdout",
     "output_type": "stream",
     "text": [
      "{'batch_size': 128, 'learning_rate': 0.003, 'lookback': 48, 'num_layers': 2, 'seed': 3735928559} 0.050702145538077906\n"
     ]
    },
    {
     "data": {
      "application/vnd.jupyter.widget-view+json": {
       "model_id": "e81be3847e974a709b0d1c8d556c63a0",
       "version_major": 2,
       "version_minor": 0
      },
      "text/plain": [
       "Iterating epochs:   0%|          | 0/125 [00:00<?, ?it/s]"
      ]
     },
     "metadata": {},
     "output_type": "display_data"
    },
    {
     "name": "stdout",
     "output_type": "stream",
     "text": [
      "{'batch_size': 128, 'learning_rate': 0.003, 'lookback': 96, 'num_layers': 1, 'seed': 1337} 0.05016067129774736\n"
     ]
    },
    {
     "data": {
      "application/vnd.jupyter.widget-view+json": {
       "model_id": "ca530d4a2879494992762a59a226a95f",
       "version_major": 2,
       "version_minor": 0
      },
      "text/plain": [
       "Iterating epochs:   0%|          | 0/125 [00:00<?, ?it/s]"
      ]
     },
     "metadata": {},
     "output_type": "display_data"
    },
    {
     "name": "stdout",
     "output_type": "stream",
     "text": [
      "{'batch_size': 128, 'learning_rate': 0.003, 'lookback': 96, 'num_layers': 1, 'seed': 12648430} 0.05074012659203548\n"
     ]
    },
    {
     "data": {
      "application/vnd.jupyter.widget-view+json": {
       "model_id": "75b68f9a90f04538abbc008c1e07ab4a",
       "version_major": 2,
       "version_minor": 0
      },
      "text/plain": [
       "Iterating epochs:   0%|          | 0/125 [00:00<?, ?it/s]"
      ]
     },
     "metadata": {},
     "output_type": "display_data"
    },
    {
     "name": "stdout",
     "output_type": "stream",
     "text": [
      "{'batch_size': 128, 'learning_rate': 0.003, 'lookback': 96, 'num_layers': 1, 'seed': 3735928559} 0.0533373704395042\n"
     ]
    },
    {
     "data": {
      "application/vnd.jupyter.widget-view+json": {
       "model_id": "c70cec9d955d4e968c7a2b7dbb4e02fa",
       "version_major": 2,
       "version_minor": 0
      },
      "text/plain": [
       "Iterating epochs:   0%|          | 0/125 [00:00<?, ?it/s]"
      ]
     },
     "metadata": {},
     "output_type": "display_data"
    },
    {
     "name": "stdout",
     "output_type": "stream",
     "text": [
      "{'batch_size': 128, 'learning_rate': 0.003, 'lookback': 96, 'num_layers': 2, 'seed': 1337} 0.052611712008141555\n"
     ]
    },
    {
     "data": {
      "application/vnd.jupyter.widget-view+json": {
       "model_id": "56231d9229804ee18e0bc476202af290",
       "version_major": 2,
       "version_minor": 0
      },
      "text/plain": [
       "Iterating epochs:   0%|          | 0/125 [00:00<?, ?it/s]"
      ]
     },
     "metadata": {},
     "output_type": "display_data"
    },
    {
     "name": "stdout",
     "output_type": "stream",
     "text": [
      "{'batch_size': 128, 'learning_rate': 0.003, 'lookback': 96, 'num_layers': 2, 'seed': 12648430} 0.05276555016350288\n"
     ]
    },
    {
     "data": {
      "application/vnd.jupyter.widget-view+json": {
       "model_id": "50f0e3fc33ae410c9db9b3ff6d31189c",
       "version_major": 2,
       "version_minor": 0
      },
      "text/plain": [
       "Iterating epochs:   0%|          | 0/125 [00:00<?, ?it/s]"
      ]
     },
     "metadata": {},
     "output_type": "display_data"
    },
    {
     "name": "stdout",
     "output_type": "stream",
     "text": [
      "{'batch_size': 128, 'learning_rate': 0.003, 'lookback': 96, 'num_layers': 2, 'seed': 3735928559} 0.04713253984944178\n"
     ]
    },
    {
     "data": {
      "application/vnd.jupyter.widget-view+json": {
       "model_id": "04ae99330806485a89694cce940023e5",
       "version_major": 2,
       "version_minor": 0
      },
      "text/plain": [
       "Iterating epochs:   0%|          | 0/125 [00:00<?, ?it/s]"
      ]
     },
     "metadata": {},
     "output_type": "display_data"
    },
    {
     "name": "stdout",
     "output_type": "stream",
     "text": [
      "{'batch_size': 128, 'learning_rate': 0.005, 'lookback': 36, 'num_layers': 1, 'seed': 1337} 0.05400381645617577\n"
     ]
    },
    {
     "data": {
      "application/vnd.jupyter.widget-view+json": {
       "model_id": "70825eebaa0b45f9b49848f8e2fb1443",
       "version_major": 2,
       "version_minor": 0
      },
      "text/plain": [
       "Iterating epochs:   0%|          | 0/125 [00:00<?, ?it/s]"
      ]
     },
     "metadata": {},
     "output_type": "display_data"
    },
    {
     "name": "stdout",
     "output_type": "stream",
     "text": [
      "{'batch_size': 128, 'learning_rate': 0.005, 'lookback': 36, 'num_layers': 1, 'seed': 12648430} 0.0568970781034575\n"
     ]
    },
    {
     "data": {
      "application/vnd.jupyter.widget-view+json": {
       "model_id": "7d6ec7ca4a9d4714931a1a7a51b76b7e",
       "version_major": 2,
       "version_minor": 0
      },
      "text/plain": [
       "Iterating epochs:   0%|          | 0/125 [00:00<?, ?it/s]"
      ]
     },
     "metadata": {},
     "output_type": "display_data"
    },
    {
     "name": "stdout",
     "output_type": "stream",
     "text": [
      "{'batch_size': 128, 'learning_rate': 0.005, 'lookback': 36, 'num_layers': 1, 'seed': 3735928559} 0.05545127062270275\n"
     ]
    },
    {
     "data": {
      "application/vnd.jupyter.widget-view+json": {
       "model_id": "bb6bdd9bf4d94c2fb2924c98be997a45",
       "version_major": 2,
       "version_minor": 0
      },
      "text/plain": [
       "Iterating epochs:   0%|          | 0/125 [00:00<?, ?it/s]"
      ]
     },
     "metadata": {},
     "output_type": "display_data"
    },
    {
     "name": "stdout",
     "output_type": "stream",
     "text": [
      "{'batch_size': 128, 'learning_rate': 0.005, 'lookback': 36, 'num_layers': 2, 'seed': 1337} 0.05651981913699554\n"
     ]
    },
    {
     "data": {
      "application/vnd.jupyter.widget-view+json": {
       "model_id": "66d312fab1ac4a6f9e223ada46d6a9f4",
       "version_major": 2,
       "version_minor": 0
      },
      "text/plain": [
       "Iterating epochs:   0%|          | 0/125 [00:00<?, ?it/s]"
      ]
     },
     "metadata": {},
     "output_type": "display_data"
    },
    {
     "name": "stdout",
     "output_type": "stream",
     "text": [
      "{'batch_size': 128, 'learning_rate': 0.005, 'lookback': 36, 'num_layers': 2, 'seed': 12648430} 0.05280975603426878\n"
     ]
    },
    {
     "data": {
      "application/vnd.jupyter.widget-view+json": {
       "model_id": "b387fc8c4e444d39af73264c296a9b51",
       "version_major": 2,
       "version_minor": 0
      },
      "text/plain": [
       "Iterating epochs:   0%|          | 0/125 [00:00<?, ?it/s]"
      ]
     },
     "metadata": {},
     "output_type": "display_data"
    },
    {
     "name": "stdout",
     "output_type": "stream",
     "text": [
      "{'batch_size': 128, 'learning_rate': 0.005, 'lookback': 36, 'num_layers': 2, 'seed': 3735928559} 0.05657770570654135\n"
     ]
    },
    {
     "data": {
      "application/vnd.jupyter.widget-view+json": {
       "model_id": "5806bea9c0b74d2b986a38400fde6856",
       "version_major": 2,
       "version_minor": 0
      },
      "text/plain": [
       "Iterating epochs:   0%|          | 0/125 [00:00<?, ?it/s]"
      ]
     },
     "metadata": {},
     "output_type": "display_data"
    },
    {
     "name": "stdout",
     "output_type": "stream",
     "text": [
      "{'batch_size': 128, 'learning_rate': 0.005, 'lookback': 48, 'num_layers': 1, 'seed': 1337} 0.05434361544366066\n"
     ]
    },
    {
     "data": {
      "application/vnd.jupyter.widget-view+json": {
       "model_id": "fc3e99e8737542bc94b31a4154b05707",
       "version_major": 2,
       "version_minor": 0
      },
      "text/plain": [
       "Iterating epochs:   0%|          | 0/125 [00:00<?, ?it/s]"
      ]
     },
     "metadata": {},
     "output_type": "display_data"
    },
    {
     "name": "stdout",
     "output_type": "stream",
     "text": [
      "{'batch_size': 128, 'learning_rate': 0.005, 'lookback': 48, 'num_layers': 1, 'seed': 12648430} 0.05513187798743065\n"
     ]
    },
    {
     "data": {
      "application/vnd.jupyter.widget-view+json": {
       "model_id": "78c862cb5a724cd7858fd84e59430741",
       "version_major": 2,
       "version_minor": 0
      },
      "text/plain": [
       "Iterating epochs:   0%|          | 0/125 [00:00<?, ?it/s]"
      ]
     },
     "metadata": {},
     "output_type": "display_data"
    },
    {
     "name": "stdout",
     "output_type": "stream",
     "text": [
      "{'batch_size': 128, 'learning_rate': 0.005, 'lookback': 48, 'num_layers': 1, 'seed': 3735928559} 0.05392408686188551\n"
     ]
    },
    {
     "data": {
      "application/vnd.jupyter.widget-view+json": {
       "model_id": "0fca0a33361342cf80c3ae2d945bec3e",
       "version_major": 2,
       "version_minor": 0
      },
      "text/plain": [
       "Iterating epochs:   0%|          | 0/125 [00:00<?, ?it/s]"
      ]
     },
     "metadata": {},
     "output_type": "display_data"
    },
    {
     "name": "stdout",
     "output_type": "stream",
     "text": [
      "{'batch_size': 128, 'learning_rate': 0.005, 'lookback': 48, 'num_layers': 2, 'seed': 1337} 0.05173720774025871\n"
     ]
    },
    {
     "data": {
      "application/vnd.jupyter.widget-view+json": {
       "model_id": "d5f95bd5eafa436b9005485ac2381e76",
       "version_major": 2,
       "version_minor": 0
      },
      "text/plain": [
       "Iterating epochs:   0%|          | 0/125 [00:00<?, ?it/s]"
      ]
     },
     "metadata": {},
     "output_type": "display_data"
    },
    {
     "name": "stdout",
     "output_type": "stream",
     "text": [
      "{'batch_size': 128, 'learning_rate': 0.005, 'lookback': 48, 'num_layers': 2, 'seed': 12648430} 0.05621886804986458\n"
     ]
    },
    {
     "data": {
      "application/vnd.jupyter.widget-view+json": {
       "model_id": "55fa74b1820e4db49512dc0b6031bdeb",
       "version_major": 2,
       "version_minor": 0
      },
      "text/plain": [
       "Iterating epochs:   0%|          | 0/125 [00:00<?, ?it/s]"
      ]
     },
     "metadata": {},
     "output_type": "display_data"
    },
    {
     "name": "stdout",
     "output_type": "stream",
     "text": [
      "{'batch_size': 128, 'learning_rate': 0.005, 'lookback': 48, 'num_layers': 2, 'seed': 3735928559} 0.05675097626562302\n"
     ]
    },
    {
     "data": {
      "application/vnd.jupyter.widget-view+json": {
       "model_id": "0b6c6913d5934a2f8f891d344a2adddc",
       "version_major": 2,
       "version_minor": 0
      },
      "text/plain": [
       "Iterating epochs:   0%|          | 0/125 [00:00<?, ?it/s]"
      ]
     },
     "metadata": {},
     "output_type": "display_data"
    },
    {
     "name": "stdout",
     "output_type": "stream",
     "text": [
      "{'batch_size': 128, 'learning_rate': 0.005, 'lookback': 96, 'num_layers': 1, 'seed': 1337} 0.05044728338431854\n"
     ]
    },
    {
     "data": {
      "application/vnd.jupyter.widget-view+json": {
       "model_id": "6ad2ecae8f094326ae5c31ecacbcea68",
       "version_major": 2,
       "version_minor": 0
      },
      "text/plain": [
       "Iterating epochs:   0%|          | 0/125 [00:00<?, ?it/s]"
      ]
     },
     "metadata": {},
     "output_type": "display_data"
    },
    {
     "name": "stdout",
     "output_type": "stream",
     "text": [
      "{'batch_size': 128, 'learning_rate': 0.005, 'lookback': 96, 'num_layers': 1, 'seed': 12648430} 0.05121356033934997\n"
     ]
    },
    {
     "data": {
      "application/vnd.jupyter.widget-view+json": {
       "model_id": "643883d383aa4cc19d9e78add77ed52b",
       "version_major": 2,
       "version_minor": 0
      },
      "text/plain": [
       "Iterating epochs:   0%|          | 0/125 [00:00<?, ?it/s]"
      ]
     },
     "metadata": {},
     "output_type": "display_data"
    },
    {
     "name": "stdout",
     "output_type": "stream",
     "text": [
      "{'batch_size': 128, 'learning_rate': 0.005, 'lookback': 96, 'num_layers': 1, 'seed': 3735928559} 0.055491806545223184\n"
     ]
    },
    {
     "data": {
      "application/vnd.jupyter.widget-view+json": {
       "model_id": "6f34048a27214bffbdcb1c9440eb1cd2",
       "version_major": 2,
       "version_minor": 0
      },
      "text/plain": [
       "Iterating epochs:   0%|          | 0/125 [00:00<?, ?it/s]"
      ]
     },
     "metadata": {},
     "output_type": "display_data"
    },
    {
     "name": "stdout",
     "output_type": "stream",
     "text": [
      "{'batch_size': 128, 'learning_rate': 0.005, 'lookback': 96, 'num_layers': 2, 'seed': 1337} 0.053170280244487986\n"
     ]
    },
    {
     "data": {
      "application/vnd.jupyter.widget-view+json": {
       "model_id": "ae77512c20aa4cc5bce5cee6585ab5fe",
       "version_major": 2,
       "version_minor": 0
      },
      "text/plain": [
       "Iterating epochs:   0%|          | 0/125 [00:00<?, ?it/s]"
      ]
     },
     "metadata": {},
     "output_type": "display_data"
    },
    {
     "name": "stdout",
     "output_type": "stream",
     "text": [
      "{'batch_size': 128, 'learning_rate': 0.005, 'lookback': 96, 'num_layers': 2, 'seed': 12648430} 0.05489314433473807\n"
     ]
    },
    {
     "data": {
      "application/vnd.jupyter.widget-view+json": {
       "model_id": "f98c2b5e20604e959d3777e5be857fd4",
       "version_major": 2,
       "version_minor": 0
      },
      "text/plain": [
       "Iterating epochs:   0%|          | 0/125 [00:00<?, ?it/s]"
      ]
     },
     "metadata": {},
     "output_type": "display_data"
    },
    {
     "name": "stdout",
     "output_type": "stream",
     "text": [
      "{'batch_size': 128, 'learning_rate': 0.005, 'lookback': 96, 'num_layers': 2, 'seed': 3735928559} 0.05312621274676461\n"
     ]
    }
   ],
   "source": [
    "results = []\n",
    "seed_counter = 0\n",
    "avg_param_loss = 0\n",
    "for params in ParameterGrid(gridsearch_params):\n",
    "    early_stopper.reset()\n",
    "    v_loss, model = train_with_params(params)\n",
    "    print(params, v_loss)\n",
    "\n",
    "    avg_param_loss += v_loss\n",
    "    seed_counter += 1\n",
    "    # Check if the 3 different seeds have been trained\n",
    "    if seed_counter >= 3:\n",
    "        # Remove the seed as we don't need to keep track of it\n",
    "        parameters_without_seed = params\n",
    "        del parameters_without_seed[\"seed\"]\n",
    "\n",
    "        # Append the average loss with the corresponding parameters\n",
    "        results.append([avg_param_loss / 3, parameters_without_seed])\n",
    "\n",
    "        # Reset counter and loss\n",
    "        seed_counter = 0\n",
    "        avg_param_loss = 0"
   ]
  },
  {
   "cell_type": "markdown",
   "id": "349287a8",
   "metadata": {},
   "source": [
    "Sort the results and save the best 3 parameters"
   ]
  },
  {
   "cell_type": "code",
   "execution_count": 8,
   "id": "9490ffef",
   "metadata": {},
   "outputs": [
    {
     "name": "stdout",
     "output_type": "stream",
     "text": [
      "Best Hyperparameters: {'batch_size': 128, 'learning_rate': 0.001, 'lookback': 96, 'num_layers': 2}\n",
      "Best Validation Loss: 0.04783682342475423\n"
     ]
    }
   ],
   "source": [
    "results = sorted(results)\n",
    "print(\"Best Hyperparameters:\", results[0][1])\n",
    "print(\"Best Validation Loss:\", results[0][0])\n",
    "save_parameters(experiment_name, results[0][1], results[0][0])"
   ]
  }
 ],
 "metadata": {
  "kernelspec": {
   "display_name": "Python 3 (ipykernel)",
   "language": "python",
   "name": "python3"
  },
  "language_info": {
   "codemirror_mode": {
    "name": "ipython",
    "version": 3
   },
   "file_extension": ".py",
   "mimetype": "text/x-python",
   "name": "python",
   "nbconvert_exporter": "python",
   "pygments_lexer": "ipython3",
   "version": "3.12.7"
  }
 },
 "nbformat": 4,
 "nbformat_minor": 5
}
