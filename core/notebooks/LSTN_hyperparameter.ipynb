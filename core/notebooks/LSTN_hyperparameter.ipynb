{
 "cells": [
  {
   "cell_type": "code",
   "execution_count": 8,
   "id": "7a53ff3e-2f69-4006-b19c-664cfd80250e",
   "metadata": {
    "scrolled": true
   },
   "outputs": [],
   "source": [
    "import torch\n",
    "import torch.nn as nn\n",
    "import copy\n",
    "from torch.utils.data import Dataset, DataLoader\n",
    "from core.util.get_datasets import get_park_dataset\n",
    "from sklearn.model_selection import ParameterGrid"
   ]
  },
  {
   "cell_type": "markdown",
   "id": "ad8a7b4c-5116-49ba-8b00-8cff736e5db6",
   "metadata": {},
   "source": [
    "Set global parameters."
   ]
  },
  {
   "cell_type": "code",
   "execution_count": 9,
   "id": "fcb569a4-9faf-462b-858e-b9f1a64e4a3d",
   "metadata": {},
   "outputs": [],
   "source": [
    "param_grid = {\n",
    "    \"learning_rate\": [0.001, 0.01],\n",
    "    \"batch_size\": [16],\n",
    "    \"hidden_size\": [32, 64],\n",
    "    \"num_stacked_layers\": [1, 2],\n",
    "    \"epochs\": [3, 10],\n",
    "    \"lookback\": [6, 24, 168],\n",
    "}\n",
    "\n",
    "loss_function = nn.HuberLoss()"
   ]
  },
  {
   "cell_type": "markdown",
   "id": "dbc9a437-5750-4504-a953-fb658163a2b8",
   "metadata": {},
   "source": [
    "Use CUDA (GPU) if available."
   ]
  },
  {
   "cell_type": "code",
   "execution_count": null,
   "id": "a053ac44-d64a-4c3f-a03f-4a2ffd228494",
   "metadata": {},
   "outputs": [],
   "source": [
    "device = \"cuda:0\" if torch.cuda.is_available() else \"cpu\"\n",
    "device"
   ]
  },
  {
   "cell_type": "markdown",
   "id": "7e021e31-6f02-4023-9ccb-486d46edce4a",
   "metadata": {},
   "source": [
    "Split data into a training, validation, and test set. Output of the get_timeserie_dataset are tensors."
   ]
  },
  {
   "cell_type": "code",
   "execution_count": null,
   "id": "414d37c9-84ef-4812-8665-e5de40b15c23",
   "metadata": {},
   "outputs": [],
   "source": []
  },
  {
   "cell_type": "markdown",
   "id": "fb888824-b5ef-45d6-a5dd-dd679f79d913",
   "metadata": {},
   "source": [
    "Create the datasets for train, validation and test."
   ]
  },
  {
   "cell_type": "code",
   "execution_count": 11,
   "id": "484026da-9e17-4d8f-a210-555b275b6574",
   "metadata": {},
   "outputs": [],
   "source": [
    "class TreforData(Dataset):\n",
    "    \"\"\"Initialize Trefor dataset.\"\"\"\n",
    "\n",
    "    def __init__(self, x: torch.tensor, y: torch.tensor) -> None:\n",
    "        \"\"\"Initialize dataset.\n",
    "\n",
    "        Arguments:\n",
    "            x: feature as torch\n",
    "            y: target as torch\n",
    "\n",
    "        \"\"\"\n",
    "        self.x = x.to(device)\n",
    "        self.y = y.to(device)\n",
    "\n",
    "    def __len__(self) -> int:\n",
    "        \"\"\"Return length of dataset.\"\"\"\n",
    "        return len(self.x)\n",
    "\n",
    "    def __getitem__(self, i: int) -> tuple:\n",
    "        \"\"\"Return tuple from dataset.\"\"\"\n",
    "        return self.x[i], self.y[i]"
   ]
  },
  {
   "cell_type": "markdown",
   "id": "11056a11-a755-48ce-ade3-fe2ca4fae3ce",
   "metadata": {},
   "source": [
    "Initialize a very basic LSTM."
   ]
  },
  {
   "cell_type": "code",
   "execution_count": null,
   "id": "bf1a163b-50cb-4c18-b85a-009fe7c7c4bf",
   "metadata": {},
   "outputs": [],
   "source": [
    "class LSTM(nn.Module):\n",
    "    \"\"\"Super scuffed LSTM.\"\"\"\n",
    "\n",
    "    def __init__(\n",
    "        self,\n",
    "        input_size: int,\n",
    "        hidden_size: int,\n",
    "        num_stacked_layers: int,\n",
    "    ) -> None:\n",
    "        \"\"\"Initialize the LSTM and its layers.\"\"\"\n",
    "        super().__init__()\n",
    "        self.hidden_size = hidden_size\n",
    "        self.num_stacked_layers = num_stacked_layers\n",
    "\n",
    "        self.lstm = nn.LSTM(\n",
    "            input_size, hidden_size, num_stacked_layers, batch_first=True\n",
    "        )\n",
    "\n",
    "        # self.fc1 = nn.Linear((input_size * hidden_size), hidden_size)\n",
    "        self.fc1 = nn.Linear(hidden_size, hidden_size)\n",
    "        self.relu = nn.ReLU()\n",
    "        self.fc2 = nn.Linear(hidden_size, 24)\n",
    "\n",
    "    def forward(self, x: torch.tensor) -> torch.tensor:\n",
    "        \"\"\"Define the forward pass.\"\"\"\n",
    "        batch_size = x.size(0)\n",
    "\n",
    "        h0 = torch.zeros(self.num_stacked_layers, batch_size, self.hidden_size).to(\n",
    "            device\n",
    "        )\n",
    "        c0 = torch.zeros(self.num_stacked_layers, batch_size, self.hidden_size).to(\n",
    "            device\n",
    "        )\n",
    "        self.lstm.flatten_parameters()\n",
    "\n",
    "        x, _ = self.lstm(x, (h0, c0))\n",
    "        x = self.fc1(x)\n",
    "        x = self.relu(x)\n",
    "        x = self.fc2(x[:, -1, :])\n",
    "\n",
    "        return x\n",
    "\n",
    "\n",
    "# model"
   ]
  },
  {
   "cell_type": "markdown",
   "id": "2afd81b2-033b-4e7d-b6fc-8a108bc315cc",
   "metadata": {},
   "source": [
    "Function for training one epoch."
   ]
  },
  {
   "cell_type": "code",
   "execution_count": 13,
   "id": "1536bea4-ae30-4bae-abd4-09841edf2d3e",
   "metadata": {},
   "outputs": [],
   "source": [
    "def train_one_epoch(\n",
    "    training_loader: torch.utils.data.Dataset, optimizer: torch.optim.Adam, model: LSTM\n",
    ") -> float:\n",
    "    \"\"\"Train one epoch.\"\"\"\n",
    "    running_loss = 0.0\n",
    "    last_loss = 0.0\n",
    "\n",
    "    for i, data in enumerate(training_loader):\n",
    "        # Every data instance is an input + target\n",
    "        inputs, target = data\n",
    "\n",
    "        # Zero your gradients for every batch!\n",
    "        optimizer.zero_grad()\n",
    "\n",
    "        # Make predictions for this batch\n",
    "        predictions = model(inputs)\n",
    "\n",
    "        # Compute the loss and its gradients\n",
    "        loss = loss_function(predictions, target)\n",
    "        loss.backward()\n",
    "\n",
    "        # Adjust learning weights\n",
    "        optimizer.step()\n",
    "\n",
    "        # Gather data and report\n",
    "        running_loss += loss.item()\n",
    "        if i % 100 == 99:\n",
    "            last_loss = running_loss / 100  # loss per 100 batch\n",
    "            # print(f'  batch {i+1} loss: {last_loss}')\n",
    "            running_loss = 0.0\n",
    "    return last_loss"
   ]
  },
  {
   "cell_type": "markdown",
   "id": "855b7097-b2c0-4704-a557-e556d23e43e3",
   "metadata": {},
   "source": [
    "Train a model with specified hyperparameters"
   ]
  },
  {
   "cell_type": "code",
   "execution_count": 14,
   "id": "461439fa-36e1-4f9f-8fc6-9d0460e93a17",
   "metadata": {},
   "outputs": [],
   "source": [
    "def train_with_params(params: dict) -> (float, LSTM):\n",
    "    \"\"\"Train model with the specified hyperparameters.\"\"\"\n",
    "    # Extract hyperparameters\n",
    "    learning_rate = params[\"learning_rate\"]\n",
    "    batch_size = params[\"batch_size\"]\n",
    "    hidden_size = params[\"hidden_size\"]\n",
    "    num_stacked_layers = params[\"num_stacked_layers\"]\n",
    "    epochs = params[\"epochs\"]\n",
    "    lookback = params[\"lookback\"]\n",
    "\n",
    "    x_train, y_train, x_val, y_val, x_test, y_test = get_park_dataset(lookback, 24)\n",
    "    x_train = torch.tensor(x_train).float()\n",
    "    y_train = torch.tensor(y_train).float()\n",
    "    x_val = torch.tensor(x_val).float()\n",
    "    y_val = torch.tensor(y_val).float()\n",
    "    x_test = torch.tensor(x_test).float()\n",
    "    y_test = torch.tensor(y_test).float()\n",
    "    # Split the data into training and validation\n",
    "    train_dataset = TreforData(x_train, y_train)\n",
    "    val_dataset = TreforData(x_val, y_val)\n",
    "\n",
    "    training_loader = DataLoader(train_dataset, batch_size=batch_size, shuffle=False)\n",
    "    validation_loader = DataLoader(val_dataset, batch_size=batch_size, shuffle=False)\n",
    "\n",
    "    # Initialize model\n",
    "    model = LSTM(\n",
    "        input_size=x_train.shape[-1],\n",
    "        hidden_size=hidden_size,\n",
    "        num_stacked_layers=num_stacked_layers,\n",
    "    ).to(device)\n",
    "    optimizer = torch.optim.Adam(model.parameters(), lr=learning_rate)\n",
    "    loss_function = nn.HuberLoss()\n",
    "\n",
    "    best_v_loss = float(\"inf\")\n",
    "    best_model = None\n",
    "\n",
    "    # Train the model\n",
    "    for epoch in range(epochs):\n",
    "        model.train(True)\n",
    "        train_one_epoch(training_loader, optimizer, model)\n",
    "\n",
    "        # Evaluate on validation set\n",
    "        model.eval()\n",
    "        running_v_loss = 0.0\n",
    "        with torch.no_grad():\n",
    "            for i, v_data in enumerate(validation_loader):\n",
    "                v_inputs, v_target = v_data\n",
    "                v_predictions = model(v_inputs)\n",
    "                v_loss = loss_function(v_predictions, v_target)\n",
    "                running_v_loss += v_loss.item()\n",
    "\n",
    "        avg_v_loss = running_v_loss / (i + 1)\n",
    "\n",
    "        # Save the best model based on validation loss\n",
    "        if avg_v_loss < best_v_loss:\n",
    "            best_v_loss = avg_v_loss\n",
    "            best_model = copy.deepcopy(model)\n",
    "\n",
    "    return best_v_loss, best_model"
   ]
  },
  {
   "cell_type": "code",
   "execution_count": null,
   "id": "c4816f2d-ce54-4473-9bf9-949552ab0ffb",
   "metadata": {},
   "outputs": [],
   "source": [
    "best_loss = float(\"inf\")\n",
    "best_params = None\n",
    "best_model = None\n",
    "\n",
    "for params in ParameterGrid(param_grid):\n",
    "    v_loss, model = train_with_params(params)\n",
    "    print(params, v_loss)\n",
    "    if v_loss < best_loss:\n",
    "        best_loss = v_loss\n",
    "        best_params = params\n",
    "        best_model = model\n",
    "\n",
    "print(\"Best Hyperparameters:\", best_params)\n",
    "print(\"Best Validation Loss:\", best_loss)"
   ]
  }
 ],
 "metadata": {
  "kernelspec": {
   "display_name": "venv",
   "language": "python",
   "name": "venv"
  },
  "language_info": {
   "codemirror_mode": {
    "name": "ipython",
    "version": 3
   },
   "file_extension": ".py",
   "mimetype": "text/x-python",
   "name": "python",
   "nbconvert_exporter": "python",
   "pygments_lexer": "ipython3",
   "version": "3.10.12"
  }
 },
 "nbformat": 4,
 "nbformat_minor": 5
}
