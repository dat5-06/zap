{
 "cells": [
  {
   "cell_type": "markdown",
   "id": "50b515ff",
   "metadata": {},
   "source": [
    "### Hyperparameter tuning with grid search"
   ]
  },
  {
   "cell_type": "code",
   "execution_count": 1,
   "id": "7a53ff3e-2f69-4006-b19c-664cfd80250e",
   "metadata": {
    "scrolled": true
   },
   "outputs": [],
   "source": [
    "import torch\n",
    "from core.util.save_model import save_model\n",
    "from sklearn.model_selection import ParameterGrid\n",
    "from core.models import LSTM\n",
    "from core.models.model_training import blocked_training\n",
    "from core.util.hyperparameter_configuration import get_hyperparameter_configuration\n",
    "from core.util.early_stop import EarlyStop"
   ]
  },
  {
   "cell_type": "markdown",
   "id": "ad8a7b4c-5116-49ba-8b00-8cff736e5db6",
   "metadata": {},
   "source": [
    "Set ML model, loss function and hyperparameters that that will be tested."
   ]
  },
  {
   "cell_type": "code",
   "execution_count": 2,
   "id": "fcb569a4-9faf-462b-858e-b9f1a64e4a3d",
   "metadata": {},
   "outputs": [],
   "source": [
    "gridsearch_params = {\n",
    "    \"learning_rate\": [0.001, 0.003, 0.005],\n",
    "    \"batch_size\": [32, 64, 128],\n",
    "    \"lookback\": [36, 48, 96],\n",
    "    \"num_layers\": [1, 2],\n",
    "}\n",
    "\n",
    "# Extract hyperparameters configuration that will not be tuned upon\n",
    "hidden_size, EPOCHS, horizon, lookback, loss_function, dropout_rate, folds = (\n",
    "    get_hyperparameter_configuration()\n",
    ")\n",
    "\n",
    "# Specific to experiment\n",
    "features = {\"Consumption\": True}\n",
    "experiment_name = \"0_LSTM_trefor_park\"\n",
    "model_used = LSTM"
   ]
  },
  {
   "cell_type": "markdown",
   "id": "dbc9a437-5750-4504-a953-fb658163a2b8",
   "metadata": {},
   "source": [
    "Use CUDA (GPU) if available."
   ]
  },
  {
   "cell_type": "code",
   "execution_count": 3,
   "id": "a053ac44-d64a-4c3f-a03f-4a2ffd228494",
   "metadata": {},
   "outputs": [
    {
     "data": {
      "text/plain": [
       "'cpu'"
      ]
     },
     "execution_count": 3,
     "metadata": {},
     "output_type": "execute_result"
    }
   ],
   "source": [
    "device = \"cuda:0\" if torch.cuda.is_available() else \"cpu\"\n",
    "device"
   ]
  },
  {
   "cell_type": "markdown",
   "id": "2afd81b2-033b-4e7d-b6fc-8a108bc315cc",
   "metadata": {},
   "source": [
    "Train a model with specified hyperparameters"
   ]
  },
  {
   "cell_type": "code",
   "execution_count": 4,
   "id": "1536bea4-ae30-4bae-abd4-09841edf2d3e",
   "metadata": {},
   "outputs": [],
   "source": [
    "def train_with_params(params: dict) -> tuple[float, LSTM]:\n",
    "    \"\"\"Train model with the specified hyperparameters.\"\"\"\n",
    "    # Extract hyperparameters\n",
    "    batch_size = params[\"batch_size\"]\n",
    "    learning_rate = params[\"learning_rate\"]\n",
    "    num_layers = params[\"num_layers\"]\n",
    "    lookback = params[\"lookback\"]\n",
    "\n",
    "    # Initialize model\n",
    "    model = model_used(\n",
    "        input_size=len(features),\n",
    "        hidden_size=hidden_size,\n",
    "        num_layers=num_layers,\n",
    "        dropout_rate=dropout_rate,\n",
    "        horizon=horizon,\n",
    "        lookback=lookback,\n",
    "    ).to(device)\n",
    "\n",
    "    _, val_loss, best_model = blocked_training(\n",
    "        model=model,\n",
    "        learning_rate=learning_rate,\n",
    "        device=device,\n",
    "        batch_size=batch_size,\n",
    "        early_stopper=EarlyStop(5, 0.05),\n",
    "    )\n",
    "\n",
    "    return min(val_loss), best_model"
   ]
  },
  {
   "cell_type": "markdown",
   "id": "7602760f",
   "metadata": {},
   "source": [
    "Iterate over all hyperparameters and train a model for each combination."
   ]
  },
  {
   "cell_type": "code",
   "execution_count": 5,
   "id": "c4816f2d-ce54-4473-9bf9-949552ab0ffb",
   "metadata": {},
   "outputs": [
    {
     "data": {
      "application/vnd.jupyter.widget-view+json": {
       "model_id": "01aa2f3246e04c30ab4f5305e8e25541",
       "version_major": 2,
       "version_minor": 0
      },
      "text/plain": [
       "Iterating epochs:   0%|          | 0/10 [00:00<?, ?it/s]"
      ]
     },
     "metadata": {},
     "output_type": "display_data"
    },
    {
     "ename": "KeyboardInterrupt",
     "evalue": "",
     "output_type": "error",
     "traceback": [
      "\u001b[0;31m---------------------------------------------------------------------------\u001b[0m",
      "\u001b[0;31mKeyboardInterrupt\u001b[0m                         Traceback (most recent call last)",
      "Cell \u001b[0;32mIn[5], line 6\u001b[0m\n\u001b[1;32m      3\u001b[0m best_model \u001b[38;5;241m=\u001b[39m \u001b[38;5;28;01mNone\u001b[39;00m\n\u001b[1;32m      5\u001b[0m \u001b[38;5;28;01mfor\u001b[39;00m params \u001b[38;5;129;01min\u001b[39;00m ParameterGrid(gridsearch_params):\n\u001b[0;32m----> 6\u001b[0m     v_loss, model \u001b[38;5;241m=\u001b[39m \u001b[43mtrain_with_params\u001b[49m\u001b[43m(\u001b[49m\u001b[43mparams\u001b[49m\u001b[43m)\u001b[49m\n\u001b[1;32m      7\u001b[0m     \u001b[38;5;28mprint\u001b[39m(params, v_loss)\n\u001b[1;32m      8\u001b[0m     \u001b[38;5;28;01mif\u001b[39;00m v_loss \u001b[38;5;241m<\u001b[39m best_loss:\n",
      "Cell \u001b[0;32mIn[4], line 19\u001b[0m, in \u001b[0;36mtrain_with_params\u001b[0;34m(params)\u001b[0m\n\u001b[1;32m      9\u001b[0m \u001b[38;5;66;03m# Initialize model\u001b[39;00m\n\u001b[1;32m     10\u001b[0m model \u001b[38;5;241m=\u001b[39m model_used(\n\u001b[1;32m     11\u001b[0m     input_size\u001b[38;5;241m=\u001b[39m\u001b[38;5;28mlen\u001b[39m(features),\n\u001b[1;32m     12\u001b[0m     hidden_size\u001b[38;5;241m=\u001b[39mhidden_size,\n\u001b[0;32m   (...)\u001b[0m\n\u001b[1;32m     16\u001b[0m     lookback\u001b[38;5;241m=\u001b[39mlookback,\n\u001b[1;32m     17\u001b[0m )\u001b[38;5;241m.\u001b[39mto(device)\n\u001b[0;32m---> 19\u001b[0m _, val_loss, best_model \u001b[38;5;241m=\u001b[39m \u001b[43mblocked_training\u001b[49m\u001b[43m(\u001b[49m\n\u001b[1;32m     20\u001b[0m \u001b[43m    \u001b[49m\u001b[43mmodel\u001b[49m\u001b[38;5;241;43m=\u001b[39;49m\u001b[43mmodel\u001b[49m\u001b[43m,\u001b[49m\n\u001b[1;32m     21\u001b[0m \u001b[43m    \u001b[49m\u001b[43mlearning_rate\u001b[49m\u001b[38;5;241;43m=\u001b[39;49m\u001b[43mlearning_rate\u001b[49m\u001b[43m,\u001b[49m\n\u001b[1;32m     22\u001b[0m \u001b[43m    \u001b[49m\u001b[43mdevice\u001b[49m\u001b[38;5;241;43m=\u001b[39;49m\u001b[43mdevice\u001b[49m\u001b[43m,\u001b[49m\n\u001b[1;32m     23\u001b[0m \u001b[43m    \u001b[49m\u001b[43mbatch_size\u001b[49m\u001b[38;5;241;43m=\u001b[39;49m\u001b[43mbatch_size\u001b[49m\u001b[43m,\u001b[49m\n\u001b[1;32m     24\u001b[0m \u001b[43m    \u001b[49m\u001b[43mearly_stopper\u001b[49m\u001b[38;5;241;43m=\u001b[39;49m\u001b[43mEarlyStop\u001b[49m\u001b[43m(\u001b[49m\u001b[38;5;241;43m5\u001b[39;49m\u001b[43m,\u001b[49m\u001b[43m \u001b[49m\u001b[38;5;241;43m0.05\u001b[39;49m\u001b[43m)\u001b[49m\u001b[43m,\u001b[49m\n\u001b[1;32m     25\u001b[0m \u001b[43m\u001b[49m\u001b[43m)\u001b[49m\n\u001b[1;32m     27\u001b[0m \u001b[38;5;28;01mreturn\u001b[39;00m \u001b[38;5;28mmin\u001b[39m(val_loss), best_model\n",
      "File \u001b[0;32m~/Skrivebord/p5/zap/core/models/model_training.py:162\u001b[0m, in \u001b[0;36mblocked_training\u001b[0;34m(model, learning_rate, device, batch_size, early_stopper, features)\u001b[0m\n\u001b[1;32m    160\u001b[0m \u001b[38;5;66;03m# Train model on block\u001b[39;00m\n\u001b[1;32m    161\u001b[0m model\u001b[38;5;241m.\u001b[39mtrain()\n\u001b[0;32m--> 162\u001b[0m avg_loss \u001b[38;5;241m+\u001b[39m\u001b[38;5;241m=\u001b[39m \u001b[43mtrain_one_epoch\u001b[49m\u001b[43m(\u001b[49m\n\u001b[1;32m    163\u001b[0m \u001b[43m    \u001b[49m\u001b[43mmodel\u001b[49m\u001b[43m,\u001b[49m\u001b[43m \u001b[49m\u001b[43moptimizer\u001b[49m\u001b[43m,\u001b[49m\u001b[43m \u001b[49m\u001b[43mloss_function\u001b[49m\u001b[43m,\u001b[49m\u001b[43m \u001b[49m\u001b[43mtraining_loader\u001b[49m\n\u001b[1;32m    164\u001b[0m \u001b[43m\u001b[49m\u001b[43m)\u001b[49m\n\u001b[1;32m    166\u001b[0m \u001b[38;5;66;03m# Validate model on block\u001b[39;00m\n\u001b[1;32m    167\u001b[0m model\u001b[38;5;241m.\u001b[39meval()\n",
      "File \u001b[0;32m~/Skrivebord/p5/zap/core/models/model_training.py:33\u001b[0m, in \u001b[0;36mtrain_one_epoch\u001b[0;34m(model, optimizer, loss_function, training_loader)\u001b[0m\n\u001b[1;32m     31\u001b[0m target \u001b[38;5;241m=\u001b[39m target\u001b[38;5;241m.\u001b[39msqueeze(\u001b[38;5;241m-\u001b[39m\u001b[38;5;241m1\u001b[39m)\n\u001b[1;32m     32\u001b[0m loss \u001b[38;5;241m=\u001b[39m loss_function(predictions, target)\n\u001b[0;32m---> 33\u001b[0m \u001b[43mloss\u001b[49m\u001b[38;5;241;43m.\u001b[39;49m\u001b[43mbackward\u001b[49m\u001b[43m(\u001b[49m\u001b[43m)\u001b[49m\n\u001b[1;32m     35\u001b[0m \u001b[38;5;66;03m# Adjust learning weights\u001b[39;00m\n\u001b[1;32m     36\u001b[0m optimizer\u001b[38;5;241m.\u001b[39mstep()\n",
      "File \u001b[0;32m~/Skrivebord/p5/zap/venv/lib/python3.12/site-packages/torch/_tensor.py:581\u001b[0m, in \u001b[0;36mTensor.backward\u001b[0;34m(self, gradient, retain_graph, create_graph, inputs)\u001b[0m\n\u001b[1;32m    571\u001b[0m \u001b[38;5;28;01mif\u001b[39;00m has_torch_function_unary(\u001b[38;5;28mself\u001b[39m):\n\u001b[1;32m    572\u001b[0m     \u001b[38;5;28;01mreturn\u001b[39;00m handle_torch_function(\n\u001b[1;32m    573\u001b[0m         Tensor\u001b[38;5;241m.\u001b[39mbackward,\n\u001b[1;32m    574\u001b[0m         (\u001b[38;5;28mself\u001b[39m,),\n\u001b[0;32m   (...)\u001b[0m\n\u001b[1;32m    579\u001b[0m         inputs\u001b[38;5;241m=\u001b[39minputs,\n\u001b[1;32m    580\u001b[0m     )\n\u001b[0;32m--> 581\u001b[0m \u001b[43mtorch\u001b[49m\u001b[38;5;241;43m.\u001b[39;49m\u001b[43mautograd\u001b[49m\u001b[38;5;241;43m.\u001b[39;49m\u001b[43mbackward\u001b[49m\u001b[43m(\u001b[49m\n\u001b[1;32m    582\u001b[0m \u001b[43m    \u001b[49m\u001b[38;5;28;43mself\u001b[39;49m\u001b[43m,\u001b[49m\u001b[43m \u001b[49m\u001b[43mgradient\u001b[49m\u001b[43m,\u001b[49m\u001b[43m \u001b[49m\u001b[43mretain_graph\u001b[49m\u001b[43m,\u001b[49m\u001b[43m \u001b[49m\u001b[43mcreate_graph\u001b[49m\u001b[43m,\u001b[49m\u001b[43m \u001b[49m\u001b[43minputs\u001b[49m\u001b[38;5;241;43m=\u001b[39;49m\u001b[43minputs\u001b[49m\n\u001b[1;32m    583\u001b[0m \u001b[43m\u001b[49m\u001b[43m)\u001b[49m\n",
      "File \u001b[0;32m~/Skrivebord/p5/zap/venv/lib/python3.12/site-packages/torch/autograd/__init__.py:347\u001b[0m, in \u001b[0;36mbackward\u001b[0;34m(tensors, grad_tensors, retain_graph, create_graph, grad_variables, inputs)\u001b[0m\n\u001b[1;32m    342\u001b[0m     retain_graph \u001b[38;5;241m=\u001b[39m create_graph\n\u001b[1;32m    344\u001b[0m \u001b[38;5;66;03m# The reason we repeat the same comment below is that\u001b[39;00m\n\u001b[1;32m    345\u001b[0m \u001b[38;5;66;03m# some Python versions print out the first line of a multi-line function\u001b[39;00m\n\u001b[1;32m    346\u001b[0m \u001b[38;5;66;03m# calls in the traceback and some print out the last line\u001b[39;00m\n\u001b[0;32m--> 347\u001b[0m \u001b[43m_engine_run_backward\u001b[49m\u001b[43m(\u001b[49m\n\u001b[1;32m    348\u001b[0m \u001b[43m    \u001b[49m\u001b[43mtensors\u001b[49m\u001b[43m,\u001b[49m\n\u001b[1;32m    349\u001b[0m \u001b[43m    \u001b[49m\u001b[43mgrad_tensors_\u001b[49m\u001b[43m,\u001b[49m\n\u001b[1;32m    350\u001b[0m \u001b[43m    \u001b[49m\u001b[43mretain_graph\u001b[49m\u001b[43m,\u001b[49m\n\u001b[1;32m    351\u001b[0m \u001b[43m    \u001b[49m\u001b[43mcreate_graph\u001b[49m\u001b[43m,\u001b[49m\n\u001b[1;32m    352\u001b[0m \u001b[43m    \u001b[49m\u001b[43minputs\u001b[49m\u001b[43m,\u001b[49m\n\u001b[1;32m    353\u001b[0m \u001b[43m    \u001b[49m\u001b[43mallow_unreachable\u001b[49m\u001b[38;5;241;43m=\u001b[39;49m\u001b[38;5;28;43;01mTrue\u001b[39;49;00m\u001b[43m,\u001b[49m\n\u001b[1;32m    354\u001b[0m \u001b[43m    \u001b[49m\u001b[43maccumulate_grad\u001b[49m\u001b[38;5;241;43m=\u001b[39;49m\u001b[38;5;28;43;01mTrue\u001b[39;49;00m\u001b[43m,\u001b[49m\n\u001b[1;32m    355\u001b[0m \u001b[43m\u001b[49m\u001b[43m)\u001b[49m\n",
      "File \u001b[0;32m~/Skrivebord/p5/zap/venv/lib/python3.12/site-packages/torch/autograd/graph.py:825\u001b[0m, in \u001b[0;36m_engine_run_backward\u001b[0;34m(t_outputs, *args, **kwargs)\u001b[0m\n\u001b[1;32m    823\u001b[0m     unregister_hooks \u001b[38;5;241m=\u001b[39m _register_logging_hooks_on_whole_graph(t_outputs)\n\u001b[1;32m    824\u001b[0m \u001b[38;5;28;01mtry\u001b[39;00m:\n\u001b[0;32m--> 825\u001b[0m     \u001b[38;5;28;01mreturn\u001b[39;00m \u001b[43mVariable\u001b[49m\u001b[38;5;241;43m.\u001b[39;49m\u001b[43m_execution_engine\u001b[49m\u001b[38;5;241;43m.\u001b[39;49m\u001b[43mrun_backward\u001b[49m\u001b[43m(\u001b[49m\u001b[43m  \u001b[49m\u001b[38;5;66;43;03m# Calls into the C++ engine to run the backward pass\u001b[39;49;00m\n\u001b[1;32m    826\u001b[0m \u001b[43m        \u001b[49m\u001b[43mt_outputs\u001b[49m\u001b[43m,\u001b[49m\u001b[43m \u001b[49m\u001b[38;5;241;43m*\u001b[39;49m\u001b[43margs\u001b[49m\u001b[43m,\u001b[49m\u001b[43m \u001b[49m\u001b[38;5;241;43m*\u001b[39;49m\u001b[38;5;241;43m*\u001b[39;49m\u001b[43mkwargs\u001b[49m\n\u001b[1;32m    827\u001b[0m \u001b[43m    \u001b[49m\u001b[43m)\u001b[49m  \u001b[38;5;66;03m# Calls into the C++ engine to run the backward pass\u001b[39;00m\n\u001b[1;32m    828\u001b[0m \u001b[38;5;28;01mfinally\u001b[39;00m:\n\u001b[1;32m    829\u001b[0m     \u001b[38;5;28;01mif\u001b[39;00m attach_logging_hooks:\n",
      "\u001b[0;31mKeyboardInterrupt\u001b[0m: "
     ]
    }
   ],
   "source": [
    "best_loss = float(\"inf\")\n",
    "best_params = None\n",
    "best_model = None\n",
    "\n",
    "for params in ParameterGrid(gridsearch_params):\n",
    "    v_loss, model = train_with_params(params)\n",
    "    print(params, v_loss)\n",
    "    if v_loss < best_loss:\n",
    "        best_loss = v_loss\n",
    "        best_params = params\n",
    "        best_model = model\n",
    "\n",
    "save_model(best_model, experiment_name)\n",
    "print(\"Best Hyperparameters:\", best_params)\n",
    "print(\"Best Validation Loss:\", best_loss)"
   ]
  }
 ],
 "metadata": {
  "kernelspec": {
   "display_name": "Python 3 (ipykernel)",
   "language": "python",
   "name": "python3"
  },
  "language_info": {
   "codemirror_mode": {
    "name": "ipython",
    "version": 3
   },
   "file_extension": ".py",
   "mimetype": "text/x-python",
   "name": "python",
   "nbconvert_exporter": "python",
   "pygments_lexer": "ipython3",
   "version": "3.12.7"
  }
 },
 "nbformat": 4,
 "nbformat_minor": 5
}
