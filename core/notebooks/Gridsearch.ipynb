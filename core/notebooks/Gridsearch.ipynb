{
 "cells": [
  {
   "cell_type": "markdown",
   "id": "50b515ff",
   "metadata": {},
   "source": [
    "### Hyperparameter tuning with grid search"
   ]
  },
  {
   "cell_type": "code",
   "execution_count": 1,
   "id": "7a53ff3e-2f69-4006-b19c-664cfd80250e",
   "metadata": {
    "scrolled": true
   },
   "outputs": [],
   "source": [
    "import torch\n",
    "import torch.nn as nn\n",
    "import copy\n",
    "from torch.utils.data import Dataset, DataLoader\n",
    "from core.util.get_datasets import get_park_dataset\n",
    "from sklearn.model_selection import ParameterGrid\n",
    "from core.models.LSTM import LSTM"
   ]
  },
  {
   "cell_type": "markdown",
   "id": "ad8a7b4c-5116-49ba-8b00-8cff736e5db6",
   "metadata": {},
   "source": [
    "Set ML model, loss function and hyperparameters that that will be tested."
   ]
  },
  {
   "cell_type": "code",
   "execution_count": 2,
   "id": "fcb569a4-9faf-462b-858e-b9f1a64e4a3d",
   "metadata": {},
   "outputs": [],
   "source": [
    "param_grid = {\n",
    "    \"learning_rate\": [0.001],\n",
    "    \"batch_size\": [16],\n",
    "    \"hidden_size\": [32, 64],\n",
    "    \"num_stacked_layers\": [1, 2],\n",
    "    \"epochs\": [10],\n",
    "    \"lookback\": [24, 168],\n",
    "}\n",
    "model_used = LSTM\n",
    "loss_function = nn.HuberLoss()"
   ]
  },
  {
   "cell_type": "markdown",
   "id": "dbc9a437-5750-4504-a953-fb658163a2b8",
   "metadata": {},
   "source": [
    "Use CUDA (GPU) if available."
   ]
  },
  {
   "cell_type": "code",
   "execution_count": 3,
   "id": "a053ac44-d64a-4c3f-a03f-4a2ffd228494",
   "metadata": {},
   "outputs": [
    {
     "data": {
      "text/plain": [
       "'cpu'"
      ]
     },
     "execution_count": 3,
     "metadata": {},
     "output_type": "execute_result"
    }
   ],
   "source": [
    "device = \"cuda:0\" if torch.cuda.is_available() else \"cpu\"\n",
    "device"
   ]
  },
  {
   "cell_type": "markdown",
   "id": "fb888824-b5ef-45d6-a5dd-dd679f79d913",
   "metadata": {},
   "source": [
    "Create the datasets for train, validation and test."
   ]
  },
  {
   "cell_type": "code",
   "execution_count": 4,
   "id": "484026da-9e17-4d8f-a210-555b275b6574",
   "metadata": {},
   "outputs": [],
   "source": [
    "class TreforData(Dataset):\n",
    "    \"\"\"Initialize Trefor dataset.\"\"\"\n",
    "\n",
    "    def __init__(self, x: torch.tensor, y: torch.tensor) -> None:\n",
    "        \"\"\"Initialize dataset.\n",
    "\n",
    "        Arguments:\n",
    "            x: feature as torch\n",
    "            y: target as torch\n",
    "\n",
    "        \"\"\"\n",
    "        self.x = x.to(device)\n",
    "        self.y = y.to(device)\n",
    "\n",
    "    def __len__(self) -> int:\n",
    "        \"\"\"Return length of dataset.\"\"\"\n",
    "        return len(self.x)\n",
    "\n",
    "    def __getitem__(self, i: int) -> tuple:\n",
    "        \"\"\"Return tuple from dataset.\"\"\"\n",
    "        return self.x[i], self.y[i]"
   ]
  },
  {
   "cell_type": "markdown",
   "id": "2afd81b2-033b-4e7d-b6fc-8a108bc315cc",
   "metadata": {},
   "source": [
    "Function for training one epoch."
   ]
  },
  {
   "cell_type": "code",
   "execution_count": 5,
   "id": "1536bea4-ae30-4bae-abd4-09841edf2d3e",
   "metadata": {},
   "outputs": [],
   "source": [
    "def train_one_epoch(\n",
    "    training_loader: torch.utils.data.Dataset, optimizer: torch.optim.Adam, model: LSTM\n",
    ") -> float:\n",
    "    \"\"\"Train one epoch.\"\"\"\n",
    "    running_loss = 0.0\n",
    "    last_loss = 0.0\n",
    "\n",
    "    for i, data in enumerate(training_loader):\n",
    "        # Every data instance is an input + target\n",
    "        inputs, target = data\n",
    "\n",
    "        # Zero your gradients for every batch!\n",
    "        optimizer.zero_grad()\n",
    "\n",
    "        # Make predictions for this batch\n",
    "        predictions = model(inputs)\n",
    "\n",
    "        # Compute the loss and its gradients\n",
    "        loss = loss_function(predictions, target)\n",
    "        loss.backward()\n",
    "\n",
    "        # Adjust learning weights\n",
    "        optimizer.step()\n",
    "\n",
    "        # Gather data and report\n",
    "        running_loss += loss.item()\n",
    "        if i % 100 == 99:\n",
    "            last_loss = running_loss / 100  # loss per 100 batch\n",
    "            # print(f'  batch {i+1} loss: {last_loss}')\n",
    "            running_loss = 0.0\n",
    "    return last_loss"
   ]
  },
  {
   "cell_type": "markdown",
   "id": "855b7097-b2c0-4704-a557-e556d23e43e3",
   "metadata": {},
   "source": [
    "Train a model with specified hyperparameters"
   ]
  },
  {
   "cell_type": "code",
   "execution_count": 6,
   "id": "461439fa-36e1-4f9f-8fc6-9d0460e93a17",
   "metadata": {},
   "outputs": [],
   "source": [
    "def train_with_params(params: dict) -> (float, LSTM):\n",
    "    \"\"\"Train model with the specified hyperparameters.\"\"\"\n",
    "    # Extract hyperparameters\n",
    "    learning_rate = params[\"learning_rate\"]\n",
    "    batch_size = params[\"batch_size\"]\n",
    "    hidden_size = params[\"hidden_size\"]\n",
    "    num_stacked_layers = params[\"num_stacked_layers\"]\n",
    "    epochs = params[\"epochs\"]\n",
    "    lookback = params[\"lookback\"]\n",
    "\n",
    "    # Load the data and split into training and validation sets\n",
    "    x_train, y_train, x_val, y_val, x_test, y_test = get_park_dataset(lookback, 24)\n",
    "    x_train = torch.tensor(x_train).float()\n",
    "    y_train = torch.tensor(y_train).float()\n",
    "    x_val = torch.tensor(x_val).float()\n",
    "    y_val = torch.tensor(y_val).float()\n",
    "    x_test = torch.tensor(x_test).float()\n",
    "    y_test = torch.tensor(y_test).float()\n",
    "    train_dataset = TreforData(x_train, y_train)\n",
    "    val_dataset = TreforData(x_val, y_val)\n",
    "\n",
    "    # Create data loaders\n",
    "    training_loader = DataLoader(train_dataset, batch_size=batch_size, shuffle=False)\n",
    "    validation_loader = DataLoader(val_dataset, batch_size=batch_size, shuffle=False)\n",
    "\n",
    "    # Initialize model\n",
    "    model = model_used(\n",
    "        input_size=x_train.shape[-1],\n",
    "        hidden_size=hidden_size,\n",
    "        num_stacked_layers=num_stacked_layers,\n",
    "    ).to(device)\n",
    "    optimizer = torch.optim.Adam(model.parameters(), lr=learning_rate)\n",
    "    loss_function = nn.HuberLoss()\n",
    "\n",
    "    best_v_loss = float(\"inf\")\n",
    "    best_model = None\n",
    "\n",
    "    # Train the model\n",
    "    for epoch in range(epochs):\n",
    "        model.train(True)\n",
    "        train_one_epoch(training_loader, optimizer, model)\n",
    "\n",
    "        # Evaluate on validation set\n",
    "        model.eval()\n",
    "        running_v_loss = 0.0\n",
    "        with torch.no_grad():\n",
    "            for i, v_data in enumerate(validation_loader):\n",
    "                v_inputs, v_target = v_data\n",
    "                v_predictions = model(v_inputs)\n",
    "                v_loss = loss_function(v_predictions, v_target)\n",
    "                running_v_loss += v_loss.item()\n",
    "\n",
    "        avg_v_loss = running_v_loss / (i + 1)\n",
    "\n",
    "        # Save the best model based on validation loss\n",
    "        if avg_v_loss < best_v_loss:\n",
    "            best_v_loss = avg_v_loss\n",
    "            best_model = copy.deepcopy(model)\n",
    "\n",
    "    return best_v_loss, best_model"
   ]
  },
  {
   "cell_type": "markdown",
   "id": "7602760f",
   "metadata": {},
   "source": [
    "Iterate over all hyperparameters and train a model for each combination."
   ]
  },
  {
   "cell_type": "code",
   "execution_count": 7,
   "id": "c4816f2d-ce54-4473-9bf9-949552ab0ffb",
   "metadata": {},
   "outputs": [
    {
     "name": "stdout",
     "output_type": "stream",
     "text": [
      "{'batch_size': 16, 'epochs': 10, 'hidden_size': 32, 'learning_rate': 0.001, 'lookback': 24, 'num_stacked_layers': 1} 0.011656270244343535\n",
      "{'batch_size': 16, 'epochs': 10, 'hidden_size': 32, 'learning_rate': 0.001, 'lookback': 24, 'num_stacked_layers': 2} 0.008218861209943267\n",
      "{'batch_size': 16, 'epochs': 10, 'hidden_size': 32, 'learning_rate': 0.001, 'lookback': 168, 'num_stacked_layers': 1} 0.008944848196588081\n",
      "{'batch_size': 16, 'epochs': 10, 'hidden_size': 32, 'learning_rate': 0.001, 'lookback': 168, 'num_stacked_layers': 2} 0.007304121765608125\n",
      "{'batch_size': 16, 'epochs': 10, 'hidden_size': 64, 'learning_rate': 0.001, 'lookback': 24, 'num_stacked_layers': 1} 0.012365928589952528\n",
      "{'batch_size': 16, 'epochs': 10, 'hidden_size': 64, 'learning_rate': 0.001, 'lookback': 24, 'num_stacked_layers': 2} 0.008774734605004655\n",
      "{'batch_size': 16, 'epochs': 10, 'hidden_size': 64, 'learning_rate': 0.001, 'lookback': 168, 'num_stacked_layers': 1} 0.008452891295847163\n",
      "{'batch_size': 16, 'epochs': 10, 'hidden_size': 64, 'learning_rate': 0.001, 'lookback': 168, 'num_stacked_layers': 2} 0.0088198656311615\n",
      "Best Hyperparameters: {'batch_size': 16, 'epochs': 10, 'hidden_size': 32, 'learning_rate': 0.001, 'lookback': 168, 'num_stacked_layers': 2}\n",
      "Best Validation Loss: 0.007304121765608125\n"
     ]
    }
   ],
   "source": [
    "best_loss = float(\"inf\")\n",
    "best_params = None\n",
    "best_model = None\n",
    "\n",
    "for params in ParameterGrid(param_grid):\n",
    "    v_loss, model = train_with_params(params)\n",
    "    print(params, v_loss)\n",
    "    if v_loss < best_loss:\n",
    "        best_loss = v_loss\n",
    "        best_params = params\n",
    "        best_model = model\n",
    "\n",
    "print(\"Best Hyperparameters:\", best_params)\n",
    "print(\"Best Validation Loss:\", best_loss)"
   ]
  }
 ],
 "metadata": {
  "kernelspec": {
   "display_name": "venv",
   "language": "python",
   "name": "python3"
  },
  "language_info": {
   "codemirror_mode": {
    "name": "ipython",
    "version": 3
   },
   "file_extension": ".py",
   "mimetype": "text/x-python",
   "name": "python",
   "nbconvert_exporter": "python",
   "pygments_lexer": "ipython3",
   "version": "3.11.3"
  }
 },
 "nbformat": 4,
 "nbformat_minor": 5
}
