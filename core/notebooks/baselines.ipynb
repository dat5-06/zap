{
 "cells": [
  {
   "cell_type": "code",
   "execution_count": 1,
   "metadata": {},
   "outputs": [],
   "source": [
    "import torch\n",
    "import pandas as pd\n",
    "from scipy import stats\n",
    "from core.util.metrics import mae, rmse, smape\n",
    "from core.util.get_datasets import cross_validation\n",
    "from core.util.hyperparameter_configuration import get_hyperparameter_configuration"
   ]
  },
  {
   "cell_type": "code",
   "execution_count": 2,
   "metadata": {},
   "outputs": [],
   "source": [
    "def tensor_to_list(tensor: torch.tensor) -> tuple[list, list]:\n",
    "    \"\"\"Extract values from tensor and appends them to lists.\"\"\"\n",
    "    x = []\n",
    "    y = []\n",
    "    for i in range(len(tensor)):\n",
    "        x.append(i)\n",
    "        y.append(tensor[i][0].detach().item())\n",
    "    return (x, y)\n",
    "\n",
    "\n",
    "def fix_offset(x: list, offset: float) -> list:\n",
    "    \"\"\"Make a list appear like an extension of another.\"\"\"\n",
    "    for i in range(len(x)):\n",
    "        x[i] += offset\n",
    "    return x"
   ]
  },
  {
   "cell_type": "markdown",
   "metadata": {},
   "source": [
    "# Naive baseline\n",
    "We start by defining a linear regression naive baseline.\n",
    "\n",
    "The regression is only done on the train set whereas the loss is calculated on the test set."
   ]
  },
  {
   "cell_type": "code",
   "execution_count": 3,
   "metadata": {},
   "outputs": [],
   "source": [
    "class NBE:\n",
    "    \"\"\"A class for the linear regression naive baseline.\"\"\"\n",
    "\n",
    "    def __init__(\n",
    "        self,\n",
    "        x_train: list,\n",
    "        y_train: list,\n",
    "    ) -> None:\n",
    "        \"\"\"Conduct linear regression on the train set.\"\"\"\n",
    "        self.slope, self.intercept, _, _, _ = stats.linregress(x_train, y_train)\n",
    "        self.slope = self.slope.item()\n",
    "        self.intercept = self.intercept.item()\n",
    "\n",
    "    def print_formula(self) -> None:\n",
    "        \"\"\"Print the formula of the regression.\"\"\"\n",
    "        print(f\"nbe(x) = {self.slope} * x + {self.intercept}\")\n",
    "\n",
    "    def get_loss(self, loss_function: callable, x_test: list, y_test: list) -> float:\n",
    "        \"\"\"Calculate the loss of the baseline.\"\"\"\n",
    "\n",
    "        def regression(x: float) -> float:\n",
    "            \"\"\"Make a function for the regression.\"\"\"\n",
    "            return self.slope * x + self.intercept\n",
    "\n",
    "        # Use the regression to make predictions\n",
    "        predictions = []\n",
    "        for i in range(len(x_test)):\n",
    "            predictions.append(regression(x_test[i]))\n",
    "\n",
    "        return loss_function(y_test, predictions)"
   ]
  },
  {
   "cell_type": "markdown",
   "metadata": {},
   "source": [
    "Then we define our 24 hour lag baseline"
   ]
  },
  {
   "cell_type": "code",
   "execution_count": 4,
   "metadata": {},
   "outputs": [],
   "source": [
    "def _24hlnbe(y_test: list) -> tuple[list, list]:\n",
    "    \"\"\"Create two lists with a 24 hour shift.\"\"\"\n",
    "    target_24h = []\n",
    "    predicted_24h = []\n",
    "    for i in range(len(y_test) - 24):\n",
    "        predicted_24h.append(y_test[i])\n",
    "        target_24h.append(y_test[i + 24])\n",
    "    return (target_24h, predicted_24h)"
   ]
  },
  {
   "cell_type": "markdown",
   "metadata": {},
   "source": [
    "We load in the train and test sets in order to calculate the loss of the baseline"
   ]
  },
  {
   "cell_type": "code",
   "execution_count": 5,
   "metadata": {},
   "outputs": [],
   "source": [
    "hyperparameters = get_hyperparameter_configuration()\n",
    "horizon = hyperparameters[\"horizon\"]\n",
    "train_days = hyperparameters[\"train_days\"]\n",
    "val_days = hyperparameters[\"val_days\"]\n",
    "test_days = hyperparameters[\"test_days\"]\n",
    "LOOKBACK = 36\n",
    "\n",
    "_, y_train, _, _, _, y_test = cross_validation(\n",
    "    LOOKBACK, horizon, train_days, val_days, test_days\n",
    ")\n",
    "\n",
    "x_train, y_train = tensor_to_list(y_train)\n",
    "x_test, y_test = tensor_to_list(y_test)\n",
    "x_test = fix_offset(x_test, len(x_train))"
   ]
  },
  {
   "cell_type": "markdown",
   "metadata": {},
   "source": [
    "Using the train set we initialise the NBE and print its formula"
   ]
  },
  {
   "cell_type": "code",
   "execution_count": 6,
   "metadata": {},
   "outputs": [
    {
     "name": "stdout",
     "output_type": "stream",
     "text": [
      "nbe(x) = -3.914709153808514e-07 * x + 0.13106607374791684\n"
     ]
    }
   ],
   "source": [
    "nbe = NBE(x_train=x_train, y_train=y_train)\n",
    "nbe.print_formula()"
   ]
  },
  {
   "cell_type": "markdown",
   "metadata": {},
   "source": [
    "Create the two lists needed for the 24h lag baseline"
   ]
  },
  {
   "cell_type": "code",
   "execution_count": 7,
   "metadata": {},
   "outputs": [],
   "source": [
    "target_24h, predicted_24h = _24hlnbe(y_test)"
   ]
  },
  {
   "cell_type": "markdown",
   "metadata": {},
   "source": [
    "Finally we calculate the metrics for the baselines"
   ]
  },
  {
   "cell_type": "code",
   "execution_count": 8,
   "metadata": {},
   "outputs": [
    {
     "data": {
      "text/html": [
       "<div>\n",
       "<style scoped>\n",
       "    .dataframe tbody tr th:only-of-type {\n",
       "        vertical-align: middle;\n",
       "    }\n",
       "\n",
       "    .dataframe tbody tr th {\n",
       "        vertical-align: top;\n",
       "    }\n",
       "\n",
       "    .dataframe thead th {\n",
       "        text-align: right;\n",
       "    }\n",
       "</style>\n",
       "<table border=\"1\" class=\"dataframe\">\n",
       "  <thead>\n",
       "    <tr style=\"text-align: right;\">\n",
       "      <th></th>\n",
       "      <th>Metric</th>\n",
       "      <th>NBE</th>\n",
       "      <th>24hLNBE</th>\n",
       "    </tr>\n",
       "  </thead>\n",
       "  <tbody>\n",
       "    <tr>\n",
       "      <th>0</th>\n",
       "      <td>MAE</td>\n",
       "      <td>0.123194</td>\n",
       "      <td>0.057574</td>\n",
       "    </tr>\n",
       "    <tr>\n",
       "      <th>1</th>\n",
       "      <td>RSME</td>\n",
       "      <td>0.157893</td>\n",
       "      <td>0.094110</td>\n",
       "    </tr>\n",
       "    <tr>\n",
       "      <th>2</th>\n",
       "      <td>sMAPE</td>\n",
       "      <td>108.373413</td>\n",
       "      <td>60.343154</td>\n",
       "    </tr>\n",
       "  </tbody>\n",
       "</table>\n",
       "</div>"
      ],
      "text/plain": [
       "  Metric         NBE    24hLNBE\n",
       "0    MAE    0.123194   0.057574\n",
       "1   RSME    0.157893   0.094110\n",
       "2  sMAPE  108.373413  60.343154"
      ]
     },
     "execution_count": 8,
     "metadata": {},
     "output_type": "execute_result"
    }
   ],
   "source": [
    "loss = {\n",
    "    \"Metric\": [\"MAE\", \"RSME\", \"sMAPE\"],\n",
    "    \"NBE\": [\n",
    "        nbe.get_loss(mae, x_test, y_test),\n",
    "        nbe.get_loss(rmse, x_test, y_test),\n",
    "        nbe.get_loss(smape, x_test, y_test),\n",
    "    ],\n",
    "    \"24hLNBE\": [\n",
    "        mae(target_24h, predicted_24h),\n",
    "        rmse(target_24h, predicted_24h),\n",
    "        smape(target_24h, predicted_24h),\n",
    "    ],\n",
    "}\n",
    "pd.DataFrame(loss)"
   ]
  }
 ],
 "metadata": {
  "kernelspec": {
   "display_name": "venv",
   "language": "python",
   "name": "python3"
  },
  "language_info": {
   "codemirror_mode": {
    "name": "ipython",
    "version": 3
   },
   "file_extension": ".py",
   "mimetype": "text/x-python",
   "name": "python",
   "nbconvert_exporter": "python",
   "pygments_lexer": "ipython3",
   "version": "3.12.6"
  }
 },
 "nbformat": 4,
 "nbformat_minor": 2
}
