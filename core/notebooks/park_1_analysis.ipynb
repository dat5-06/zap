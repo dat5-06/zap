{
 "cells": [
  {
   "cell_type": "code",
   "execution_count": null,
   "id": "7a53ff3e-2f69-4006-b19c-664cfd80250e",
   "metadata": {
    "scrolled": true
   },
   "outputs": [],
   "source": [
    "import matplotlib.pyplot as plt\n",
    "import pandas as pd\n",
    "from statsmodels.tsa.seasonal import MSTL\n",
    "from core.util.io import read_csv\n",
    "from math import ceil"
   ]
  },
  {
   "cell_type": "code",
   "execution_count": null,
   "id": "9b4bfc81-26fc-467d-8fc0-1ce548707f66",
   "metadata": {},
   "outputs": [],
   "source": [
    "plt.rc(\"figure\", figsize=(16, 8))\n",
    "plt.rc(\"font\", size=13)"
   ]
  },
  {
   "cell_type": "markdown",
   "id": "f571b2a9-32da-4ad8-bafc-6f082e5aae54",
   "metadata": {},
   "source": [
    "# Park 1"
   ]
  },
  {
   "cell_type": "code",
   "execution_count": null,
   "id": "9a0d4d44-8cb1-4503-95c8-72057788e7c3",
   "metadata": {},
   "outputs": [],
   "source": [
    "data = read_csv(\"interim/trefor_park.csv\")\n",
    "data\n",
    "\n",
    "consumption_hour = list(data[\"Ladepark 1\"].dropna())\n",
    "\n",
    "consumption_hour = pd.Series(\n",
    "    consumption_hour,\n",
    "    index=pd.date_range(\"30-03-2023 07:00:00\", periods=len(consumption_hour), freq=\"h\"),\n",
    "    name=\"Consumption\",\n",
    ")\n",
    "consumption_hour.describe()"
   ]
  },
  {
   "cell_type": "code",
   "execution_count": null,
   "id": "2b78ffb2-dafd-435f-b2fc-cc75c3ca8686",
   "metadata": {},
   "outputs": [],
   "source": [
    "period_day = 24\n",
    "period_week = 24 * 7\n",
    "period_month = 24 * 30"
   ]
  },
  {
   "cell_type": "code",
   "execution_count": null,
   "id": "69e326e2-9bfb-4074-9cc9-ba110fd658d4",
   "metadata": {},
   "outputs": [],
   "source": [
    "result = MSTL(consumption_hour[:], periods=[period_day, period_week, period_month])\n",
    "\n",
    "result = result.fit()\n",
    "\n",
    "fig = result.plot()\n",
    "\n",
    "axs = fig.axes"
   ]
  },
  {
   "cell_type": "code",
   "execution_count": null,
   "id": "4321afc5-cbc3-48f3-af60-bec3c13cbc8b",
   "metadata": {},
   "outputs": [],
   "source": [
    "fig, ax = plt.subplots(figsize=[12, 2])\n",
    "\n",
    "result.seasonal[\"seasonal_24\"].iloc[\n",
    "    17 + (period_month * 3) : period_day * 10 + 17 + (period_month * 3)\n",
    "].plot(ax=ax)\n",
    "ax.set_ylabel(\"seasonal_24\")\n",
    "ax.set_title(\"Daily seasonality (Summer)\")\n",
    "ax.set(yticklabels=[])\n",
    "\n",
    "x_min, x_max = ax.get_xlim()\n",
    "for x in range(ceil(x_min), ceil(x_max), period_day):\n",
    "    ax.axvline(x=x, color=\"grey\", linestyle=\"--\")\n",
    "\n",
    "plt.savefig(\"park1_daily_summer.svg\", bbox_inches=\"tight\")\n",
    "plt.show()"
   ]
  },
  {
   "cell_type": "code",
   "execution_count": null,
   "id": "f1a1b3da-279e-41b6-a651-182996028188",
   "metadata": {},
   "outputs": [],
   "source": [
    "fig, ax = plt.subplots(figsize=[12, 2])\n",
    "\n",
    "result.seasonal[\"seasonal_168\"].iloc[\n",
    "    17 + (period_month * 3) : period_week * 10 + 17 + (period_month * 3)\n",
    "].plot(ax=ax)\n",
    "ax.set_ylabel(\"seasonal_168\")\n",
    "ax.set_title(\"Weekly seasonality (Summer)\")\n",
    "ax.set(yticklabels=[])\n",
    "\n",
    "x_min, x_max = ax.get_xlim()\n",
    "for x in range(ceil(x_min), ceil(x_max), period_week):\n",
    "    ax.axvline(x=x, color=\"grey\", linestyle=\"--\")\n",
    "\n",
    "plt.savefig(\"park1_weekly_summer.svg\", bbox_inches=\"tight\")\n",
    "plt.show()"
   ]
  },
  {
   "cell_type": "code",
   "execution_count": null,
   "id": "3ae76cb3-637e-4fe9-9dd8-a8cba27411bb",
   "metadata": {},
   "outputs": [],
   "source": [
    "fig, ax = plt.subplots(figsize=[12, 2])\n",
    "\n",
    "result.seasonal[\"seasonal_720\"].iloc[17 + 24 : period_month * 10 + 17].plot(ax=ax)\n",
    "ax.set_ylabel(\"seasonal_720\")\n",
    "ax.set_title(\"Monthly seasonality\")\n",
    "ax.set(yticklabels=[])\n",
    "\n",
    "x_min, x_max = ax.get_xlim()\n",
    "ax.axvline(x=x_min + period_month, color=\"grey\", linestyle=\"--\")\n",
    "ax.axvline(x=x_min + period_month * 2 + period_day, color=\"grey\", linestyle=\"--\")\n",
    "ax.axvline(x=x_min + period_month * 3 + period_day, color=\"grey\", linestyle=\"--\")\n",
    "ax.axvline(x=x_min + period_month * 4 + period_day * 2, color=\"grey\", linestyle=\"--\")\n",
    "ax.axvline(x=x_min + period_month * 5 + period_day * 3, color=\"grey\", linestyle=\"--\")\n",
    "ax.axvline(x=x_min + period_month * 6 + period_day * 3, color=\"grey\", linestyle=\"--\")\n",
    "ax.axvline(x=x_min + period_month * 7 + period_day * 4, color=\"grey\", linestyle=\"--\")\n",
    "ax.axvline(x=x_min + period_month * 8 + period_day * 4, color=\"grey\", linestyle=\"--\")\n",
    "ax.axvline(x=x_min + period_month * 9 + period_day * 5, color=\"grey\", linestyle=\"--\")\n",
    "\n",
    "plt.savefig(\"park1_monthly_summer.svg\", bbox_inches=\"tight\")\n",
    "plt.show()"
   ]
  },
  {
   "cell_type": "code",
   "execution_count": null,
   "id": "9b50984d-68c5-42c6-8558-c488bdf25efa",
   "metadata": {},
   "outputs": [],
   "source": [
    "fig, ax = plt.subplots(figsize=[12, 2])\n",
    "\n",
    "result.seasonal[\"seasonal_24\"].iloc[\n",
    "    17 + (period_month * 10) : period_day * 10 + 17 + 24 + (period_month * 10)\n",
    "].plot(ax=ax)\n",
    "ax.set_ylabel(\"seasonal_24\")\n",
    "ax.set_title(\"Daily seasonality (Winter)\")\n",
    "ax.set(yticklabels=[])\n",
    "\n",
    "x_min, x_max = ax.get_xlim()\n",
    "for x in range(ceil(x_min), ceil(x_max), period_day):\n",
    "    ax.axvline(x=x, color=\"grey\", linestyle=\"--\")\n",
    "\n",
    "plt.savefig(\"park1_daily_winter.svg\", bbox_inches=\"tight\")\n",
    "plt.show()"
   ]
  },
  {
   "cell_type": "code",
   "execution_count": null,
   "id": "b6dcde49-2898-4c39-9660-965f2f7bdc07",
   "metadata": {},
   "outputs": [],
   "source": [
    "fig, ax = plt.subplots(figsize=[12, 2])\n",
    "\n",
    "result.seasonal[\"seasonal_168\"].iloc[\n",
    "    17 + (period_month * 8) : period_week * 10 + 17 + (period_month * 8)\n",
    "].plot(ax=ax)\n",
    "ax.set_ylabel(\"seasonal_168\")\n",
    "ax.set_title(\"Weekly seasonality (Winter)\")\n",
    "ax.set(yticklabels=[])\n",
    "\n",
    "x_min, x_max = ax.get_xlim()\n",
    "for x in range(ceil(x_min), ceil(x_max), period_week):\n",
    "    ax.axvline(x=x, color=\"grey\", linestyle=\"--\")\n",
    "\n",
    "plt.savefig(\"park1_weekly_winter.svg\", bbox_inches=\"tight\")\n",
    "plt.show()"
   ]
  }
 ],
 "metadata": {
  "kernelspec": {
   "display_name": "Python 3 (ipykernel)",
   "language": "python",
   "name": "python3"
  },
  "language_info": {
   "codemirror_mode": {
    "name": "ipython",
    "version": 3
   },
   "file_extension": ".py",
   "mimetype": "text/x-python",
   "name": "python",
   "nbconvert_exporter": "python",
   "pygments_lexer": "ipython3",
   "version": "3.12.7"
  }
 },
 "nbformat": 4,
 "nbformat_minor": 5
}
