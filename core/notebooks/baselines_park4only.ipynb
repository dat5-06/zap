{
 "cells": [
  {
   "cell_type": "code",
   "execution_count": 1,
   "id": "51bea947-76ba-494b-8e80-ad0f4a03c37d",
   "metadata": {},
   "outputs": [],
   "source": [
    "import pandas as pd\n",
    "from core.util.metrics import mae, rmse, smape\n",
    "from core.util.naive_baselines import naive, _24hlag\n",
    "from core.util.get_datasets import split_data, denormalize_data\n",
    "from core.util.hyperparameter_configuration import get_hyperparameter_configuration"
   ]
  },
  {
   "cell_type": "code",
   "execution_count": 2,
   "id": "29d4fab5-e95c-40be-8d2d-fb71e9e4787e",
   "metadata": {},
   "outputs": [],
   "source": [
    "hyperparameters = get_hyperparameter_configuration()\n",
    "loss_function = hyperparameters[\"loss_function\"]\n",
    "horizon = hyperparameters[\"horizon\"]\n",
    "train_days = hyperparameters[\"train_days\"]\n",
    "val_days = hyperparameters[\"val_days\"]\n",
    "test_days = hyperparameters[\"test_days\"]\n",
    "lookback = 96"
   ]
  },
  {
   "cell_type": "code",
   "execution_count": 3,
   "id": "a471828f-4ebb-4371-a907-634bba7ee984",
   "metadata": {},
   "outputs": [],
   "source": [
    "_, _, _, _, x_test, y_test = split_data(\n",
    "    lookback=lookback,\n",
    "    horizon=horizon,\n",
    "    train_days=train_days,\n",
    "    val_days=val_days,\n",
    "    test_days=test_days,\n",
    "    features={},\n",
    "    park_nums=[4],\n",
    ")\n",
    "\n",
    "x_test = denormalize_data(x_test)\n",
    "y_test = denormalize_data(y_test)"
   ]
  },
  {
   "cell_type": "code",
   "execution_count": 4,
   "id": "e1ccb7cd-0743-4611-a1a9-5265df5f788a",
   "metadata": {},
   "outputs": [],
   "source": [
    "naive_prediction = naive(x_test)\n",
    "lagged_prediction = _24hlag(x_test)\n",
    "\n",
    "y_test = y_test.flatten()\n",
    "naive_prediction = naive_prediction.flatten()\n",
    "lagged_prediction = lagged_prediction.flatten()"
   ]
  },
  {
   "cell_type": "code",
   "execution_count": 5,
   "id": "7f821691-29a5-4ddf-8071-d379e5c4147f",
   "metadata": {},
   "outputs": [
    {
     "data": {
      "text/html": [
       "<div>\n",
       "<style scoped>\n",
       "    .dataframe tbody tr th:only-of-type {\n",
       "        vertical-align: middle;\n",
       "    }\n",
       "\n",
       "    .dataframe tbody tr th {\n",
       "        vertical-align: top;\n",
       "    }\n",
       "\n",
       "    .dataframe thead th {\n",
       "        text-align: right;\n",
       "    }\n",
       "</style>\n",
       "<table border=\"1\" class=\"dataframe\">\n",
       "  <thead>\n",
       "    <tr style=\"text-align: right;\">\n",
       "      <th></th>\n",
       "      <th>NBE</th>\n",
       "      <th>24hNBE</th>\n",
       "    </tr>\n",
       "  </thead>\n",
       "  <tbody>\n",
       "    <tr>\n",
       "      <th>MAE</th>\n",
       "      <td>21.213496</td>\n",
       "      <td>18.803129</td>\n",
       "    </tr>\n",
       "    <tr>\n",
       "      <th>RMSE</th>\n",
       "      <td>41.641587</td>\n",
       "      <td>49.864295</td>\n",
       "    </tr>\n",
       "    <tr>\n",
       "      <th>sMAPE</th>\n",
       "      <td>88.984226</td>\n",
       "      <td>43.620495</td>\n",
       "    </tr>\n",
       "  </tbody>\n",
       "</table>\n",
       "</div>"
      ],
      "text/plain": [
       "             NBE     24hNBE\n",
       "MAE    21.213496  18.803129\n",
       "RMSE   41.641587  49.864295\n",
       "sMAPE  88.984226  43.620495"
      ]
     },
     "execution_count": 5,
     "metadata": {},
     "output_type": "execute_result"
    }
   ],
   "source": [
    "loss = {\n",
    "    \"NBE\": [\n",
    "        mae(y_test, naive_prediction).item(),\n",
    "        rmse(y_test, naive_prediction),\n",
    "        smape(y_test, naive_prediction).item(),\n",
    "    ],\n",
    "    \"24hNBE\": [\n",
    "        mae(y_test, lagged_prediction).item(),\n",
    "        rmse(y_test, lagged_prediction),\n",
    "        smape(y_test, lagged_prediction).item(),\n",
    "    ],\n",
    "}\n",
    "\n",
    "pd.DataFrame(loss, index=[\"MAE\", \"RMSE\", \"sMAPE\"])"
   ]
  }
 ],
 "metadata": {
  "kernelspec": {
   "display_name": "Python 3 (ipykernel)",
   "language": "python",
   "name": "python3"
  },
  "language_info": {
   "codemirror_mode": {
    "name": "ipython",
    "version": 3
   },
   "file_extension": ".py",
   "mimetype": "text/x-python",
   "name": "python",
   "nbconvert_exporter": "python",
   "pygments_lexer": "ipython3",
   "version": "3.12.7"
  }
 },
 "nbformat": 4,
 "nbformat_minor": 5
}
